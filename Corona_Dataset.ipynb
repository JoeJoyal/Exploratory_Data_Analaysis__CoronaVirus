{
 "cells": [
  {
   "cell_type": "code",
   "execution_count": 48,
   "metadata": {},
   "outputs": [
    {
     "data": {
      "text/html": [
       "        <script type=\"text/javascript\">\n",
       "        window.PlotlyConfig = {MathJaxConfig: 'local'};\n",
       "        if (window.MathJax) {MathJax.Hub.Config({SVG: {font: \"STIX-Web\"}});}\n",
       "        if (typeof require !== 'undefined') {\n",
       "        require.undef(\"plotly\");\n",
       "        requirejs.config({\n",
       "            paths: {\n",
       "                'plotly': ['https://cdn.plot.ly/plotly-latest.min']\n",
       "            }\n",
       "        });\n",
       "        require(['plotly'], function(Plotly) {\n",
       "            window._Plotly = Plotly;\n",
       "        });\n",
       "        }\n",
       "        </script>\n",
       "        "
      ]
     },
     "metadata": {},
     "output_type": "display_data"
    }
   ],
   "source": [
    "#Import the Library\n",
    "import numpy as np\n",
    "import pandas as pd\n",
    "import matplotlib.pyplot as plt\n",
    "import seaborn as sns\n",
    "import cufflinks as cf\n",
    "cf.go_offline()\n",
    "import csv\n",
    "%matplotlib inline"
   ]
  },
  {
   "cell_type": "code",
   "execution_count": 3,
   "metadata": {},
   "outputs": [
    {
     "name": "stdout",
     "output_type": "stream",
     "text": [
      "Header:['', 'SlNo', 'Name', 'Age', 'Sex', 'Address', 'Contact Number', 'Passport Number', 'Traceable', 'Country of Visit', 'Province', 'Date of Arrival from Affected Country', 'Airport', 'Date of Receipt of Information', 'Block Name', '']\n",
      "\n",
      "['', '1', 'SEKAR RANGANATHAN', '31', 'Male', 'M BLOCK SFL PRIYA SUNDARSHAN APTS SRIRANGAM TRICHY-620006-91', '9994920030', 'T9264570', 'Yes', 'SOUTH KOREA', 'South Korea', '01/03/2020', 'Chennai', '01/03/2020', 'Corporation', '']\n",
      "['', '2', 'SURESH', '44', 'Male', '72 SANTHOSE NAGAR MK KOTTAI POST TRICHY TN-620011', '9941427331/9941717052', 'J3722053', 'Yes', 'SOUTH KOREA', 'South Korea', '01/03/2020', 'Chennai', '01/03/2020', 'Corporation', '']\n",
      "['', '3', 'RAMASWAMY PRAKASH', '29', 'Male', 'S/oSathsivam 32/21 Nadu Thuvankarasi TRICHY-620008', '9003757474', 'J9849153', 'Yes', '', 'CHINA', '01/03/2020', 'Chennai', '01/03/2020', 'Corporation', '']\n",
      "['', '4', 'Selvam praveen kumar', '20', 'Male', '1 reddi st beema nagar Trichy', '9443440108', 'P8438413', 'Yes', '', 'Japan', '03/03/2020', 'Trichy', '04/03/2020', 'Corporation', '']\n",
      "['', '5', 'Shanthi kumari', '44', 'Female', '53b chinnasetty Trichy', '9842131877', 'A40803232', 'Yes', '', 'South Korea', '04/03/2020', 'Trichy', '05/03/2020', 'Corporation', '']\n",
      "['', '6', 'Arumugam priyan', '30', 'Male', '13 arul Murugan garden srirangam', '9842832116', 'K3193150', 'Yes', '', 'South Korea', '04/03/2020', 'Trichy', '05/03/2020', 'Corporation', '']\n",
      "['', '7', 'Charles William Shirley William', '18', 'Female', '31st West cross Singam nagar Trichy-20', '8903647774', 'Z3949585', 'Yes', '', 'Philippines', '04/03/2020', 'Trichy', '05/03/2020', 'Corporation', '']\n",
      "['', '8', 'Sethuraman', '23', 'Male', '3rd Cross Raghavendra Garden thiruvanikovil', '9944083454', 'P8448395', 'Yes', '', 'South Korea', '05/03/2020', 'Trichy', '06/03/2020', 'Corporation', '']\n",
      "['', '9', 'Thandayuthapani seetharaman', '69', 'Male', '27/e3 3rd cross thillai nagar Trichy', '7373057007', 'L7126048', 'Yes', '', 'Indonesia 1month', '06/03/2020', 'Trichy', '07/03/2020', 'Corporation', '']\n",
      "[]\n",
      "['', '10', 'Visalakshi Seetha raman', '65', 'Female', '27/e3 3rd cross thillai nagar Trichy.', '9943892111', 'N0097214', 'Yes', '', 'Indonesia 1month', '06/03/2020', 'Trichy', '07/03/2020', 'Corporation', '']\n",
      "['', '11', 'Manilal mahendra kumar', '64', 'Male', '17/1 10th B cross thillai nagar Trichy.', '9345130251', 'N3733952', 'Yes', '', 'Indonesia 1month', '06/03/2020', 'Trichy', '07/03/2020', 'Corporation', '']\n",
      "['', '12', 'Shobana m.vola', '40', 'Female', '17/1 10th B cross thillai nagar Trichy', '9345211021', 'N3733956', 'Yes', '', 'Indonesia 1month', '06/03/2020', 'Trichy', '07/03/2020', 'Corporation', '']\n",
      "['', '13', 'Gulam kazhal sridhar', '27', 'Male', '5/40 D kandy Street beema nagar Trichy', '9994690239', 'M2974145', 'Yes', '', 'Tokyo', '07/03/2020', 'Trichy', '07/03/2020', 'Corporation', '']\n",
      "['', '14', 'Nandhini', '26', 'Female', '6 barath avenue pappakurichi road kattur Trichy.', '7502485565', 'T6586319', 'Yes', '', 'Indonesia 1month', '07/03/2020', 'Trichy', '08/03/2020', 'Corporation', '']\n",
      "['', '15', 'Ashwin chellaiya', '26', 'Female', '6 barath avenue pappakurichi road kattur Trichy', '7502485565', 'L2560071', 'Yes', '', 'Indonesia 1month', '07/03/2020', 'Trichy', '08/03/2020', 'Corporation', '']\n",
      "['', '16', 'Mookan rengaraj', '40', 'Male', '79 pillaiyar koil Street e.pudur Trichy', '9789091740', 'N1310960', 'Yes', '', 'Narita (Japan)', '08/03/2020', 'Trichy', '09/03/2020', 'Corporation', '']\n",
      "['', '17', 'Rengaraj krithigan', '2', 'Male', '79 pillaiyar koil Street e.puthur Trichy', '9789091740', 'R0256604', 'Yes', '', 'Narita', '08/03/2020', 'Trichy', '09/03/2020', 'Corporation', '']\n",
      "['', '18', 'Krishnan anandhi', '33', 'Female', '79 pillaiyar koil Street e.puthur Trichy', '9789091740', 'P1606742', 'Yes', '', 'Narita', '08/03/2020', 'Trichy', '09/03/2020', 'Corporation', '']\n",
      "['', '19', 'Rengaraj gurucharan', '6', 'Male', '79 pillaiyar koil Street e.puthur Trichy', '9789091740', 'P1606744', 'Yes', '', 'Narita', '08/03/2020', 'Trichy', '09/03/2020', 'Corporation', '']\n",
      "['', '20', 'Sanjay Balaji', '24', 'Male', '6A 1st cross v.n.nagar Trichy', '8681811611', 'M2835592', 'Yes', '', 'Italy', '08/03/2020', 'Trichy', '09/03/2020', 'Corporation', '']\n",
      "[]\n",
      "['', '21', 'Salmankan', '27', 'Male', '24/253 2nd cross ganapathy nagar v.k.t.malai Trichy', '9578312704', 'R9023607', 'Yes', '', 'Italy', '08/03/2020', 'Trichy', '09/03/2020', 'Corporation', '']\n",
      "['', '22', 'Shankar mani kanagaraj', '25', 'Male', '24 Perumal colony tvk nagar puthur Trichy', '9442302198', 'N0747789', 'Yes', '', 'Italy', '08/03/2020', 'Trichy', '09/03/2020', 'Corporation', '']\n",
      "['', '23', 'Lewin prabhu Stalin', '26', 'Male', '379 2nd Street Amman nagar extension kattur Trichy', '9600937229', 'L4660017', 'Yes', '', 'Italy', '08/03/2020', 'Trichy', '09/03/2020', 'Corporation', '']\n",
      "['', '24', 'VIGNESH NALLAIYAN RAMASAMI', '27', 'Male', '19 2ND CROSS SRI RAM NAGAR TRICHY -6200019.', '8883817317', 'L3685845', 'Yes', '', 'Italy', '09/03/2020', 'Chennai', '09/03/2020', 'Corporation', '']\n",
      "['', '25', 'Mr. MOHAMED JAVITH', '31', 'Male', 'YAKUB SHERIFF (Father) NO:155/6 INDIRA NAGAR K.K NAGAR Tamil Nadu India 620021 Tiruchirappalli', '9886251421', '', 'Yes', '', 'Saudi', '07/03/2020', 'Chennai', '10/03/2020', 'Corporation', '']\n",
      "[]\n",
      "['', '26', 'Mr. MOHAMED JAVITH', '31', 'Male', 'YAKUB SHERIFF (Father) NO:155/6 INDIRA NAGAR K.K NAGAR Tamil Nadu India 620021 Tiruchirappalli', '9886251421', '', 'Yes', '', 'Saudi', '07/03/2020', 'Chennai', '10/03/2020', 'Corporation', '']\n",
      "['', '27', 'Jagannathan Balaji', '30', 'Male', '27/31 east chitra Street Srirangam Trichy', '9524354403', 'L3674444', 'Yes', '', 'South Korea', '10/03/2020', 'Trichy', '10/03/2020', 'Corporation', '']\n",
      "['', '28', 'Balaji padmasree', '21', 'Female', '27/31 east chitra Street Srirangam Trichy', '7558180503', '', 'Yes', '', 'South Korea', '10/03/2020', 'Trichy', '10/03/2020', 'Corporation', '']\n",
      "['', '29', 'BARZAGHI ELISA', '33', 'Female', 'MRS MARY CHANDRAKANTH NO5 ANNAI AVENUE - TRICHY - 620006', '0431 4226116', 'YA5146004', 'Yes', '', 'Italy', '26/02/2020', 'Delhi', '11/03/2020', 'Corporation', '']\n",
      "['', '30', 'BARZAGHI ALBERTO', '34', 'Male', 'MRS MARY CHANDRAKANTH NO5 ANNAI AVENUE - TRICHY - 620006', '0431 4226116', 'YB0521529', 'Yes', '', 'Italy', '26/02/2020', 'Delhi', '11/03/2020', 'Corporation', '']\n",
      "[]\n",
      "['', '31', 'JAYACHANDRAN AISHWARYA', '22', 'Female', 'No.120.B-Block.SIS Apartment.Edamalaipatti pudur.Trichy -20.', '9600361390/9629153290', 'S5250285', 'Yes', '', 'Italy', '27/02/2020', 'Delhi', '12/03/2020', 'Corporation', '']\n",
      "['', '32', 'ESWARAN HARINI', '23', 'Female', 'no:72 anna salai 8th cross kailash nagar ARIYAMANGALAM kattur 620019', '9843996864', 'Z5059262', 'Yes', '', 'Italy', '27/02/2020', 'Delhi', '12/03/2020', 'Corporation', '']\n",
      "['', '33', 'MEGANATHAN MANIKANDAN', '23', 'Male', '41 Vaikasi veethi Selvanagar Ext. Karumandapam Trichy', '9840643183/8056521100', 'N9870207', 'Yes', '', 'Italy', '02/03/2020', 'Delhi', '12/03/2020', 'Corporation', '']\n",
      "['', '34', 'Kamilyahyanoor', '61', 'Male', 'B907 Sis Apartment Madurai mainroad Trichy', '9843094681', 'B8533597', 'Yes', '', 'Jalarta', '12/03/2020', 'Trichy', '13/03/2020', 'Corporation', '']\n",
      "['', '35', 'Raja Thiyagarajan', '52', 'Male', '7 Bandegana st.Trichy 620008', '9865380571', '643546409', 'USA', '', 'Washington', '13/03/2020', 'Trichy', '14/03/2020', 'Corporation', '']\n",
      "[]\n",
      "['', '36', 'Geetha Natraja Pillai', '51', 'Male', '7 Bandegana st.Trichy 620008', '9865380571/472436710', '', 'USA', '', 'Washington USA', '13/03/2020', 'Trichy', '14/03/2020', 'Corporation', '']\n",
      "['', '37', 'Gopalakrishnan', '20', 'Male', '47A attukara st palakkarai Trichy', '8903461845', 'R2921732', 'Philippines', '', 'Philippines', '13/03/2020', 'Trichy', '14/03/2020', 'Corporation', '']\n",
      "['', '38', 'PONNUSWAMY MUTHU', '42', 'Male', 'Door No. 1H 3rd Floor Kannappa App. Utkmalai Tiruchirupally 620102', '9487602134', 'P0941003', 'Japan', '', 'Japan', '27/02/2020', 'Delhi', '', 'Corporation', '']\n",
      "[]\n",
      "['', '39', 'SELVARASU CHITRA', '', 'Female', '541 2ND ST VOC NAGARTHIRUVARUMBUR  CITY - TRICHY', '', 'P1374311', 'Singapore', '', 'Singapore', '09/03/2020', 'Trichy', '14/03/2020', 'Corporation', '']\n",
      "['', '40', 'Aarthi Karunanidhi', '21', 'Female', '74C/21A Malligai solai Annamalai nagar Trichy', '9751719915', 'M6748779', 'Manila', '', 'Philippines', '14/03/2020', 'Trichy', '15/03/2020', 'Corporation', '']\n",
      "[]\n",
      "['', '41', 'John Bosco Kevin John', '20', 'Male', '92A Kalaivanan st.Kamaraj nagar Trichy', '9443145541', 'N9639978', 'Manila', '', 'Philippines', '14/03/2020', 'Trichy', '15/03/2020', 'Corporation', '']\n",
      "['', '42', 'RADHA KRISHANAN', '', 'Female', '11/52 MALAYAPPA NAGAR TRICHY', '6369124795', 'M7480866', 'SPAIN', 'SPAIN', 'SPAIN', '14/03/2020', 'Chennai', '15/03/2020', 'Corporation', '']\n",
      "['', '43', 'PRASAD PALANIAPPAN', '26', 'Male', '37/7 KOVIL ST.SUBRAMANIYAPURAM TRICHY', '8870086685', 'P8443119', 'France', 'PARIS', 'PARIS', '14/03/2020', 'Chennai', '15/03/2020', 'Corporation', '']\n",
      "[]\n",
      "['', '44', 'FYROSE MALIK', '26', 'Male', 'S/o Usman Ali 31/17 KAYTHEMAILTH COLONY MELACHINTHAMANI TRICHY', '9384974143', 'S9964666', 'Malaysia', 'MALAYSIA', 'MALAYSIA', '14/03/2020', 'Chennai', '15/03/2020', 'Corporation', '']\n",
      "['', '45', 'Savitri', '30', 'Female', 'Q16 jj nagar Srirangam Trichy 620006', '9965895390', 'T2740934', 'Taiwan', '', 'Taiwan', '16/03/2020', 'Trichy', '16/03/2020', 'Corporation', '']\n",
      "['', '46', 'Shilash', '2', 'Male', 'Q16 jj nagar Srirangam Trichy 620006', '9965895390', 'T2756157', 'Taiwan', '', 'Taiwan', '16/03/2020', 'Trichy', '16/03/2020', 'Corporation', '']\n",
      "['', '47', 'Suresh', '35', 'Male', 'Q16 jj nagar Srirangam Trichy 620006', '9965895390', 'M2700355', 'Taiwan', '', 'Taiwan', '16/03/2020', 'Trichy', '16/03/2020', 'Corporation', '']\n",
      "['', '48', 'Shobit', '3', 'Male', 'Q16 jj nagar Srirangam Trichy 620006', '9965895390', 'T2756097', 'Taiwan', '', 'Taiwan', '16/03/2020', 'Trichy', '16/03/2020', 'Corporation']\n",
      "['', '49', 'Prathiba chitralaya narasimhan', '34', 'Female', '25/ 22 3rd floor G 10 A west cross thillai nagar trichy', '9444766508', 'K7810232', 'Japan', '', 'Narita/japan', '16/03/2020', 'Trichy', '16/03/2020', 'Corporation', '']\n",
      "['', '50', 'Madava krishna saranga raja', '7', 'Male', '25/22 3rd floor G 10A west cross thillai nagar trichy', '9444766508', 'S6652262', 'Japan', '', 'Narita tokyo japan', '16/03/2020', 'Trichy', '16/03/2020', 'Corporation', '']\n",
      "['', '51', 'Neharika saranga raja', '2', 'Female', '25/22 3rd floor G 10A west cross thillai nagar trichy', '9444766508', 'N9640775', 'Japan', '', 'Narita tokyo japan', '16/03/2020', 'Trichy', '16/03/2020', 'Corporation']\n",
      "['', '52', 'SUBRAMANIYAN RAJENDRAN', '40', 'Male', '52A NIGHT SOIL DEPOT ROAD SRRANGAM CITY - TRICHY', '9894169865', 'N5569665', 'Singapore', 'Singapore', 'Singapore', '14/03/2020', 'Trichy', '16/03/2020', 'Corporation', '']\n",
      "['', '53', 'MEENAKSHI VENKATARAMANAN', '26', 'Female', 'M BLOCK SFL PRIYA SUNDARSHAN APTS SRIRANGAM TRICHY-620006', '9994920030/9994920030', 'Z4272107', 'Yes', 'SOUTH KOREA', 'South Korea', '01/03/2020', 'Chennai', '01/03/2020', 'Corporation', '']\n",
      "['', '54', 'THAPA SURBHI', '21', 'Male', 'SANGAM HOTEL TRICHY CITY - TRICHY', '7456066771', 'R7557847', 'Singapore', 'Singapore', 'Singapore', '14/03/2020', 'Trichy', '16/03/2020', 'Corporation', '']\n",
      "[]\n",
      "['', '55', 'RAMESH BABU ARYALEKSHMI', '29', 'Male', 'SANGAM HOTEL TRICHY', '9739876250', 'S9528463', 'Singapore', 'Singapore', 'Singapore', '14/03/2020', 'Trichy', '16/03/2020', 'Corporation', '']\n",
      "['', '56', 'CHAVAN HARSHADA', '24', 'Male', 'SANGAM HOTEL TRICHY', '9823217271', 'P1993612', 'Singapore', 'Singapore', 'Singapore', '14/03/2020', 'Trichy', '16/03/2020', 'Corporation', '']\n",
      "['', '57', 'DURAISAMY SRINIVAS', '34', 'Male', '10/3 7TH STREET GANDHI NAGAR THIRUVERAMBUR CITY - TRICHY', '9842192031', 'T1660493', 'Singapore', 'Singapore', 'Singapore', '14/03/2020', 'Trichy', '16/03/2020', 'Corporation', '']\n",
      "[]\n",
      "['', '58', 'GUPTA BAISHALI', '25', 'Male', 'SANGAM HOTEL TRICHY', '9874686241', 'P7941608', 'Singapore', 'Singapore', 'Singapore', '14/03/2020', 'Trichy', '16/03/2020', 'Corporation', '']\n",
      "['', '59', 'SARAVANAN KAYALVIZHI', '32', 'Male', '52 INDRAGANDHI NAGAR PONMALAI TRICHY', '9488606652', 'T6572644', 'Singapore', 'Singapore', 'Singapore', '14/03/2020', 'Trichy', '16/03/2020', 'Corporation', '']\n",
      "[]\n",
      "['', '60', 'BHARATHAM SRIDHARAN SRIRAM', '38', 'Male', '2ND EAST RANGANATHAPURAM SRIRANGA TRICHY', '9843663335', 'Z4809183', 'Singapore', 'Singapore', 'Singapore', '14/03/2020', 'Trichy', '16/03/2020', 'Corporation', '']\n",
      "['', '61', 'SHAHUL HAMEED MOHAMMED ASWAR', '28', 'Male', '29/17 A BEERANGI KULA ST TRICHY', '9940255520', 'L7460409', 'Malaysia', 'Malaysia', 'Malaysia', '14/03/2020', 'Chennai', '16/03/2020', 'Corporation', '']\n",
      "['', '62', 'Abdul kareem', '20', 'Male', '116/117 3rd cross dhanarathinam nagar varaganeri trichy', '9944979191', 'R5766205', 'Dubai', 'Dubai', 'Dubai', '17/03/2020', 'Trichy', '17/03/2020', 'Corporation', '']\n",
      "['', '63', 'USMAN ALI FYROSE MALIK', '43', 'Male', 'NO.37/17 KAYETHEMILLATH COLONY MELACHINTHAMANI  TIRUCHIRAPPALLI', '9384974143', 'S9964666', 'Malaysia', 'Kuala Lumpur', 'Kuala Lumpur', '14/03/2020', 'Trichy', '17/03/2020', 'Corporation', '']\n",
      "['', '64', 'IRUDAYA NATHAN ANTONY SEKAR', '50', 'Male', 'PLOT NO 8 AA NAGAR PONMALAIPATTY TRICHY', '9659263576', 'Z4837642', 'Malaysia', 'Kuala Lumpur', 'Kuala Lumpur', '14/03/2020', 'Trichy', '17/03/2020', 'Corporation', '']\n",
      "['', '65', 'JOHN BOSCO KEVIN JOHN', '21', 'Male', '92A KALAIVANAR KAMARAJ NAGAR AIRPORT TRICHY', '9443145541', 'N9639978', 'Malaysia', 'Kuala Lumpur', 'Kuala Lumpur', '14/03/2020', 'Trichy', '17/03/2020', 'Corporation', '']\n",
      "[]\n",
      "['', '66', 'SIVASHANKARI VENKATESAN', '24', 'Female', 'PLOT NO:40 7TH CROSS BANKERS COLORY TIRUCHIRAPALLI TAMIL NADU 620017', '9791850678', 'L2571489', 'FRANCE', 'FRANCE', 'FRANCE', '14/03/2020', 'Chennai', '17/03/2020', 'Corporation', '']\n",
      "['', '67', 'Nithin balaji', '23', 'Male', '11/15 crawford colony main road trichy', '9487555759', 'M0051176', 'Germany', 'Frankfurt/germany', 'Frankfurt/germany', '18/03/2020', 'Trichy', '18/03/2020', 'Corporation', '']\n",
      "['', '68', 'JABAMANI MOSES GNANA PRAKASH', '44', 'Male', 'B5 KRISHNA MORTHY NAGAR KK NAGAR TRICHY', '9443533019', 'T6704683', 'yes', 'Singapore', 'Singapore', '14/03/2020', 'Trichy', '18/03/2020', 'Corporation', '']\n",
      "['', '69', 'SATHIS KUMAR SUGANYA', '31', 'Female', '11 TH CROSS TRICHY', '9047346477', 'S9805133', 'yes', 'Singapore', 'Singapore', '14/03/2020', 'Trichy', '18/03/2020', 'Corporation', '']\n",
      "['', '70', 'ANBARAJAN JAYAMURUGAN', '38', 'Male', 'SAKTHI NAGAR KATTUR TRICHY', '8015128913', 'Z2486756', 'yes', 'Singapore', 'Singapore', '14/03/2020', 'Trichy', '18/03/2020', 'Corporation', '']\n",
      "['', '71', 'JAMES ROSALIND VIMALA', '81', 'Female', '3A JEYAM LOTUS RAMALINGA NAGAR TRICHY', '9965772100', 'R9006321', 'yes', 'Singapore', 'Singapore', '14/03/2020', 'Trichy', '18/03/2020', 'Corporation', '']\n",
      "['', '72', 'CHELLAN ARUMUGASAMY', '49', 'Male', '7 MUDALIYAR MANIA BALAJI NAGAR 15TH CROSS TRICHY', '9994730567', 'Z2523111', 'yes', 'Singapore', 'Singapore', '14/03/2020', 'Trichy', '18/03/2020', 'Corporation', '']\n",
      "['', '73', 'VASUDEVAN BALAJI', '46', 'Male', '60 PUTHUR AGRAHARAM  TRICHY', '2774046', 'Z3586074', 'yes', 'Singapore', 'Singapore', '14/03/2020', 'Trichy', '18/03/2020', 'Corporation']\n",
      "['', '74', 'MANICKAVASAKAM SENTHIL KUMAR', '40', 'Male', '8 JAYA MNAGAR CHOLAMAN NAGAR SOUTH EXTN  CITY - TRICHY', '944388962', 'N9866062', 'yes', 'Singapore', 'Singapore', '14/03/2020', 'Trichy', '18/03/2020', 'Corporation', '']\n",
      "['', '75', 'ANABEL SUMITA DOSS', '45', 'Female', '3A JEYAM LOTUS RAMALINGA NGR  CITY - TRICHY', '9965772100', 'P9634210', 'yes', 'Singapore', 'Singapore', '14/03/2020', 'Trichy', '18/03/2020', 'Corporation', '']\n",
      "['', '76', 'SUBRAMANIAN VASANTHA', '61', 'Female', '29/37 ANNA NAGAR  SIMCO Meter KK Nagar- TRICHY', '9791407444', 'S1560573', 'yes', 'Singapore', 'Singapore', '14/03/2020', 'Trichy', '18/03/2020', 'Corporation', '']\n",
      "[]\n",
      "['', '77', 'MOHAN KUMAR SATHYA', '27', 'Female', '29/37 ANNA NAGAR SIMCO Meter KK Nagar- TRICHY', '8012912259', 'R4257278', 'yes', 'Singapore', 'Singapore', '14/03/2020', 'Trichy', '18/03/2020', 'Corporation', '']\n",
      "['', '78', 'MOHIDEEN KHAN ZAFRULLA KHAN', '35', 'Male', '13/5JALA PAKKIRI STREET - TIRICHY', '6381158547', 'U0011453', 'yes', 'Malysia', 'Kuala Lumpur', '14/03/2020', 'BANGALORE', '18/03/2020', 'Corporation', '']\n",
      "['', '79', 'ABDUL RAHMAN FARITHA BEGUM', '38', 'Female', '1/8 VALLUVAR NAGAR AIRPORT THIRUCHIRAPPALLI TAMILNADU', '9585088110', 'Z5487291', 'yes', 'Singapore', 'Kuala Lumpur', '14/03/2020', 'TRIVANDRUM', '18/03/2020', 'Corporation', '']\n",
      "['', '80', 'MOHAMMED HANIFA SYED ABUTHAHIR', '34', 'Male', '30A ALWAR THOPE TENNUR TRICHY', '9600775447', 'Z3949260', 'yes', 'Malysia', 'Kuala Lumpur', '14/03/2020', 'Trichy', '18/03/2020', 'Corporation', '']\n",
      "['', '81', 'SUNDARRAJAN GURUPRAKASH', '28', 'Male', '10A PALAYAM BAZAAR WORAIYUR TRICHY', '9842422994', 'M1412637', 'yes', 'Malysia', 'Kuala Lumpur', '14/03/2020', 'Trichy', '18/03/2020', 'Corporation', '']\n",
      "['', '82', 'SHAMSUDEEN RABIQ ALI', '51', 'Male', '13A 3RD ST KK NAGAR CITY - TRICHY', '9894426662', 'Z3181535', 'yes', 'Malysia', 'Kuala Lumpur', '14/03/2020', 'Trichy', '18/03/2020', 'Corporation', '']\n",
      "['', '83', 'ABDUL JABBAR SYED NAZEER AHAMED', '30', 'Male', 'D 214 4THCROSS ANNANAGAR THENNUR - TRICHY', '9994756643', 'U0001939', 'yes', 'Malysia', 'Kuala Lumpur', '14/03/2020', 'Trichy', '18/03/2020', 'Corporation', '']\n",
      "['', '84', 'DAMODARAN ARUNPRASATH', '35', 'Male', '66 GANTHJI ST EAST AMBIKAPURAM PONMALI  CITY - TRICHY', '7339296062', 'K9598014', 'Singapore', 'Singapore', 'Singapore', '14/03/2020', 'Trichy', '19/03/2020', 'Corporation', '']\n",
      "['', '85', 'DURAIRAJ DEVAR ADHIMULAM', '51', 'Male', '5/101 5TH WEST STREET ANNAI INDIRA NAGAR EX-SERVICE MAN COLONY TRICHY', '8056984708', 'S9809772', 'Singapore', 'Singapore', 'Singapore', '14/03/2020', 'Trichy', '19/03/2020', 'Corporation', '']\n",
      "['', '86', 'KARUNANITHI BALAJI', '25', 'Male', '2/237 ANNASALAI 2ND ST KAILASH NAGAR KATTUR 620019 TRICHY', '9790076510', 'N5572854', 'Singapore', 'Singapore', 'Singapore', '14/03/2020', 'Trichy', '19/03/2020', 'Corporation', '']\n",
      "[]\n",
      "['', '87', 'LAISHRAM TOMBA SINGH', '42', 'Male', 'PRAKASH RECIDENCY - TIRUCHY', '9482733002', 'Z3697731', 'Singapore', 'Singapore', 'Singapore', '14/03/2020', 'Trichy', '19/03/2020', 'Corporation', '']\n",
      "['', '88', 'MOHAMED FAROOK AASHIC ROSHAN', '18', 'Male', 'CHITHITAIPATTINAM TRICHY', '9442924562', 'U2276816', 'Singapore', 'Singapore', 'Singapore', '14/03/2020', 'Trichy', '19/03/2020', 'Corporation', '']\n",
      "['', '89', 'NAGARAJAN MANOJKUMAR', '29', 'Male', '83/33 MUDALIYAR ST THIRUTHANTHONI WORIYUR TRICHY-620003', '8056950422', 'J2911523', 'Singapore', 'Singapore', 'Singapore', '14/03/2020', 'Trichy', '19/03/2020', 'Corporation', '']\n",
      "['', '90', 'NAGARAJAN MANOJKUMAR', '29', 'Male', '83/33 MUDALIYAR ST THIRUTHANTHONI WORIYUR TRICHY-620003', '8056950422', 'J2911523', 'Singapore', 'Singapore', 'Singapore', '14/03/2020', 'Trichy', '19/03/2020', 'Corporation', '']\n",
      "['', '91', 'RAMALINGAM MURUGAN', '50', 'Male', 'PLOT NO-408 EIGHTH CROSS GANGASAPURAM', '9159312092', 'U0501640', 'Singapore', 'Singapore', 'Singapore', '14/03/2020', 'Trichy', '19/03/2020', 'Corporation', '']\n",
      "['', '92', 'Abubakkar Nazeer', '61', 'Male', '159 Dhanrath Nagar Varasanan Trichy', '9751520298', 'M1106933', 'Dubai', 'Dubai', 'Dubai', '19/03/2020', 'Trichy', '19/03/2020', 'Corporation', '']\n",
      "['', '93', 'AITH ESWAR SUNDAR', '', 'Male', '14/37 SOUTH ST THIRUCHURAPALLI', '9003396150', 'S1560808', 'GERMANY', 'GERMANY', 'GERMANY', '19/03/2020', 'Chennai', '19/03/2020', 'Corporation', '']\n",
      "['', '94', 'SELVAM SATHISHKUMAR', '31', 'Male', '5A SRINIVASAPURAM TOWN STATION RD TRICHY', '9943358482', 'J3599525', 'Singapore', 'Singapore', 'Singapore', '14/03/2020', 'Trichy', '19/03/2020', 'Corporation', '']\n",
      "['', '95', 'Karuppudar Ragupathy', '69', 'Male', '25 Post office st M.K.Kottai Trichy', '9443797910', 'J0696499', 'Dubai', 'Dubai', 'Dubai', '19/03/2020', 'Trichy', '19/03/2020', 'Corporation', '']\n",
      "['', '96', 'KIRTHIGA SURNDHAR', '', 'Female', '14/37 SOUTH ST THIRUCHURAPALLI', '9003396150', 'S1545966', 'GERMANY', 'GERMANY', 'GERMANY', '19/03/2020', 'Chennai', '19/03/2020', 'Corporation', '']\n",
      "[]\n",
      "['', '97', 'MANGAPUL HUSEN', '', 'Male', '5L MAIN ROAD TRICHY', '9655609976', 'T2460722', 'DOHA', 'DOHA', 'DOHA', '19/03/2020', 'Chennai', '19/03/2020', 'Corporation', '']\n",
      "['', '98', 'Raghunanthan Sarvanan', '', 'Male', '2/277 Gandhi Salai 4thStreet Eilakkudi Kailash Nagar Trichy', '9600429946', 'L6976312', 'Germany', 'Germany', 'Germany', '19/03/2020', 'Trichy', '19/03/2020', 'Corporation', '']\n",
      "['', '99', 'Ragupathy Gunavathi', '62', 'Female', '25 Post office st M.K.Kottai Trichy', '9443797910', 'J9696500', 'Dubai', 'Dubai', 'Dubai', '19/03/2020', 'Trichy', '19/03/2020', 'Corporation', '']\n",
      "['', '100', 'SATHISH KUMAR', '', 'Male', '4/242 DHIRAVIDAR ST TRICHY', '9786590795', 'K1663232', 'DOHA', 'DOHA', 'DOHA', '19/03/2020', 'Chennai', '19/03/2020', 'Corporation', '']\n",
      "['', '101', 'Sheik Daood', '', 'Male', 'No94 Chinnaswamy nagar Trichy', '9698911145', 'L9835152', 'Dubai', 'Dubai', 'Dubai', '19/03/2020', 'Chennai', '19/03/2020', 'Corporation', '']\n",
      "['', '102', 'Sowmiya selvam', '26', 'Female', '16 Bharathi Avenue Ramalinganagar Woraiyur', '9043060450', 'J2297072', 'Singapore', 'Singapore', 'Singapore', '18/03/2020', 'Trichy', '19/03/2020', 'Corporation', '']\n",
      "['', '103', 'Subburamani Rathinam', '53', 'Male', 'Palakkarai St Kalathur Trichy', '7867959997', 'M538757', 'Dubai', 'Dubai', 'Dubai', '18/03/2020', 'Trichy', '19/03/2020', 'Corporation', '']\n",
      "['', '104', 'SURENDHAR MURUGAN', '', 'Male', '14/37 SOUTH ST THIRUCHURAPALLI', '9003396150/9003396150', 'Z5279066', 'GERMANY', 'GERMANY', 'GERMANY', '19/03/2020', 'Chennai', '19/03/2020', 'Corporation', '']\n",
      "['', '105', 'VENKATRAMAN JAGANATHAN', '48', 'Male', '13/11 CAUVERY NAGAR SUNDARARAJ NAGAR EXTENSION TRICHY', '8754391833', 'M5607029', 'Singapore', 'Singapore', 'Singapore', '14/03/2020', 'Trichy', '19/03/2020', 'Corporation', '']\n",
      "['', '106', 'Thangammal Muruganandam', '78', 'Female', '35 3rd St Ganesh nagar K.K.Nagar Trichy', '9566305157', 'K3484238', 'Dubai', 'Dubai', 'Dubai', '18/03/2020', 'Trichy', '19/03/2020', 'Corporation', '']\n",
      "['', '107', 'THOPPU AROKIYADASS', '', 'Male', '5/159 3RD CROSS ST THIRU NAGAR TRICHY', '9489326274', 'K8407655', 'DOHA', 'DOHA', 'DOHA', '19/03/2020', 'Chennai', '19/03/2020', 'Corporation', '']\n",
      "['', '108', 'VIJAYALAKSHMI BALAJI', '44', 'Female', '19A SOUTH MUTHURAJA STREET PUTHUR TRICHY', '9653465788', 'K8351217', 'Singapore', 'Singapore', 'Singapore', '14/03/2020', 'Trichy', '19/03/2020', 'Corporation', '']\n",
      "[]\n",
      "['', '109', 'Julius', '', '', 'Alager St Trichy', '9750008719', 'Z4988303', 'OMAN', 'OMAN', 'OMAN', '19/03/2020', 'APHO', '20/03/2020', 'Corporation', '']\n",
      "['', '110', 'Subbareddy', '', '', '16/32 Main Kapuram St Malapudur Trichy', '', 'N4969942', 'BRAZIL', 'BRAZIL', 'BRAZIL', '19/03/2020', 'APHO', '20/03/2020', 'Corporation', '']\n",
      "['', '111', 'Prema', '', '', '16/32 Main Kapuram St Malapudur Trichy', '', 'L6068762`', 'BRAZIL', 'BRAZIL', 'BRAZIL', '19/03/2020', 'APHO', '20/03/2020', 'Corporation', '']\n",
      "['', '112', 'Pradeepa', '', '', '20/7 Vivekandar St Ayyappa Nagar Trichy', '', 'T6738753', 'ZAMBIA', 'ZAMBIA', 'ZAMBIA', '19/03/2020', 'APHO', '20/03/2020', 'Corporation', '']\n",
      "['', '113', 'Anjana', '', '', '20/7 Ayyappa Nagar Trichy', '', 'P4795394', 'LAMBIA', 'LAMBIA', 'LAMBIA', '19/03/2020', 'APHO', '20/03/2020', 'Corporation', '']\n",
      "['', '114', 'Azarudeen', '', '', '61 Sathya Moorthy St Trichy', '', 'R7405735', 'Dubai', 'Dubai', 'Dubai', '19/03/2020', 'APHO', '20/03/2020', 'Corporation', '']\n",
      "['', '115', 'Elavan', '', '', '9/10A V N Nagar Trichy', '9943355374', 'N7888771', 'Dubai', 'Dubai', 'Dubai', '19/03/2020', 'APHO', '20/03/2020', 'Corporation', '']\n",
      "['', '116', 'Mahalakshmi', '', '', '9/10A V N Nagar Trichy', ' 9943355374', 'N7888772', 'Dubai', 'Dubai', 'Dubai', '19/03/2020', 'APHO', '20/03/2020', 'Corporation', '']\n",
      "['', '117', 'Mohamed Brahim Amanullah', '', '', '7/2 Voc Trichy', '9750638922', 'M7394905', 'Dubai', 'Dubai', 'Dubai', '19/03/2020', 'APHO', '20/03/2020', 'Corporation', '']\n",
      "['', '118', 'Gunasekaran Suresh', '', '', 'Gunasekaran Periya Krishnapurm Tiruchi', '6385924273', 'R9018046', 'Dubai', 'Dubai', 'Dubai', '19/03/2020', 'APHO', '20/03/2020', 'Corporation', '']\n",
      "['', '119', 'Murugesan Surendar', '', '', '43 Othakadai New St Cantonment Trichy', '9940870468', 'L4674118', 'Singapore', 'Singapore', 'Singapore', '16/03/2020', 'APHO', '20/03/2020', 'Corporation', '']\n",
      "[]\n",
      "['', '120', 'Sivanadian Muthukumar', '', '', 'Plot No-1 Mariyamman Avenue New Selvanagar Trichy-1', '6384846188', 'P2935778', 'Singapore', 'Singapore', 'Singapore', '16/03/2020', 'APHO', '20/03/2020', 'Corporation', '']\n",
      "['', '121', 'Arokiasami Pavul Arulraj', '', '', 'No-01 Campion Higher Secondary School Promenade Road Tiruchirapalli', '9443246570', 'P8773380', 'Bangkok', 'Bangkok', 'Bangkok', '16/03/2020', 'APHO', '20/03/2020', 'Corporation', '']\n",
      "['', '122', 'Kajamohideen Abubakar Siddiq', '', '', '31/B Alwar Thope Tennur Trichy', '9789273657', 'M3427709', 'Malysia', 'Malysia', 'Malysia', '16/03/2020', 'APHO', '20/03/2020', 'Corporation', '']\n",
      "['', '123', 'Subramanian Kalyani', '', '', 'No 2 Shruthilaya 17Th Cross Kumaran Nagar Tiruchirappalli', '9944842365', 'Z3948991', 'Canada', 'Canada', 'Canada', '16/03/2020', 'APHO', '20/03/2020', 'Corporation', '']\n",
      "['', '124', 'Subramanian Rameshkumar', '', '', '65 Srl Illam Thiyagarajan Nagar Ellkudi Kattur City - Richy Rural', '9790261020', 'N6704848', 'France', 'France', 'France', '16/03/2020', 'APHO', '20/03/2020', 'Corporation', '']\n",
      "['', '125', 'Ravisankar Shivaranjani', '', '', 'B3 Apple Green Apts No4 Kandiya Puai Street Srirangan 620006', '8940296434', 'P5246754', 'Germany', 'Germany', 'Germany', '16/03/2020', 'APHO', '20/03/2020', 'Corporation', '']\n",
      "['', '126', 'Mohamed Aarif Mohamed Ashik', '', '', 'No.35/38 Kumaran Sreet Anna Nagar Aiport Po Trichy', '9789317163', 'M1412658', 'Dubai', 'Dubai', 'Dubai', '16/03/2020', 'APHO', '20/03/2020', 'Corporation', '']\n",
      "['', '127', 'Ismath Enoon Imran Khan', '', '', 'No27/51 Pallivasal Street Anna Nagar Airpot road Tiruchirappalli', '9566331772', 'S7504356', 'Dubai', 'Dubai', 'Dubai', '16/03/2020', 'APHO', '20/03/2020', 'Corporation', '']\n",
      "['', '128', 'Subramanian Vivekanandan', '', '', '22/42 Periyar Nagar Thiruvanaikovil', '9677259553', 'J4333726', 'Dubai', 'Dubai', 'Dubai', '16/03/2020', 'APHO', '20/03/2020', 'Corporation', '']\n",
      "['', '129', 'Hussain Mohammed Sulaiman', '', '', 'No.13/20-3 Bharathi Nagar Sriram Colony Airport Tricy', '8825546481', 'L8000610', 'Dubai', 'Dubai', 'Dubai', '16/03/2020', 'APHO', '20/03/2020', 'Corporation', '']\n",
      "['', '130', 'Kosalairaman Yujesh', '', '', '88 10Cross Arunachala Nagar Crawford Trichy', '9487600828', 'P8784907', 'Malysia', 'Malysia', 'Malysia', '16/03/2020', 'APHO', '20/03/2020', 'Corporation', '']\n",
      "[]\n",
      "['', '131', 'Jum Bin Depongan Mahadir Mohamed', '', '', '4 Nehru 1St E.Pudur Trichy', '9787697004', 'N9869259', 'Malysia', 'Malysia', 'Malysia', '16/03/2020', 'APHO', '20/03/2020', 'Corporation', '']\n",
      "['', '132', 'Peter Pascal Regis Benny Joywin', '', '', '16/8 Ckvi Apartment Thiruvnaikovil Srirangam', '945101309', 'S4356324', 'Malysia', 'Malysia', 'Malysia', '16/03/2020', 'APHO', '20/03/2020', 'Corporation', '']\n",
      "['', '133', 'Shajahan Hussain', '', '', '169/71A Mulakkottai St Thennur Trichy', '9994970760', 'M6611339', 'Malysia', 'Malysia', 'Malysia', '16/03/2020', 'APHO', '20/03/2020', 'Corporation', '']\n",
      "['', '134', 'Nachiappan Lakshmi', '', '', 'No.11/8 2Nd Cross West Extension Thillanagar Trichy', '9843055922', 'M6611013', 'London', 'London', 'London', '16/03/2020', 'APHO', '20/03/2020', 'Corporation', '']\n",
      "['', '135', 'Marimuthu Keerthana', '', '', 'No 30-B Madurai Veerasamy Koil Street Puthur Trichy', '9611483131', 'Z3181809', 'London', 'London', 'London', '16/03/2020', 'APHO', '20/03/2020', 'Corporation', '']\n",
      "['', '136', 'Mohamed Ali Jailanibasha', '', '', 'No-37 B Viswas Nagar Thanjai Road Trichy-620008', '9360286280', 'P8434196', 'Dubai', 'Dubai', 'Dubai', '16/03/2020', 'APHO', '20/03/2020', 'Corporation', '']\n",
      "['', '137', 'Jaffar Sadik Yasir Arafath', '', '', 'N011/18 New Roll Mahalaxmi Nagar Varaganery Thanjavur Road Trichy 620008', '9629866776', 'J0684232', 'Dubai', 'Dubai', 'Dubai', '16/03/2020', 'APHO', '20/03/2020', 'Corporation', '']\n",
      "['', '138', 'Gopalraj Suresh Kumar', '', '', 'D-7 5Th Main Road 15Th Cross Street Srinivasa Nagar Tennur-620017', '6381481870', 'Z5821826', 'Dubai', 'Dubai', 'Dubai', '16/03/2020', 'APHO', '20/03/2020', 'Corporation', '']\n",
      "['', '139', 'Sivakumar Sudhakar', '', '', 'Plot No. 4 2Nd Street Balaji Nagar Trichy Tamil Nadu', '7680932060', 'Z5821639', 'Dubai', 'Dubai', 'Dubai', '16/03/2020', 'APHO', '20/03/2020', 'Corporation', '']\n",
      "['', '140', 'Jailani Mohamed Shafee', '', '', '8/1 Natharsha Pallivasal Street Madurai Road Tiruchirapalli', '9087820747', 'Z5489500', 'Dubai', 'Dubai', 'Dubai', '16/03/2020', 'APHO', '20/03/2020', 'Corporation', '']\n",
      "['', '141', 'Thadumiyan Rishwan Ali', '', '', '68C Indhira Gandhi Street Jeevanagar Tiruchirapalli', '7339295535', 'T2754028', 'Dubai', 'Dubai', 'Dubai', '16/03/2020', 'APHO', '20/03/2020', 'Corporation', '']\n",
      "[]\n",
      "['', '142', 'Malaiarasu Vasanth', '', '', 'No. 46/A Nochivayalpudhur Thiruvermbur  Trichy', '9944556517', 'M4581018', 'Bahrain', 'Bahrain', 'Bahrain', '16/03/2020', 'APHO', '20/03/2020', 'Corporation', '']\n",
      "['', '143', 'Vadivel Rajalakshmi', '', '', 'No8A Anna Street Malayyappa Nagar Ariyamangalam Trichy', '9944773333', 'T9350136', 'Bahrain', 'Bahrain', 'Bahrain', '16/03/2020', 'APHO', '20/03/2020', 'Corporation', '']\n",
      "['', '144', 'Gunasekaran Ravindran', '', '', 'No28.Ambethkar Nagar Kallanai Rd.Thiruvermbur Tiruchirappalli', '9943947721', 'R1929734', 'Bahrain', 'Bahrain', 'Bahrain', '16/03/2020', 'APHO', '20/03/2020', 'Corporation', '']\n",
      "['', '145', 'Natarajan Thenmozhi', '', '', '19 13Th Cross Lauzer Avenue Bankers Colony Extn Trichy', '9840248242', 'L3668334', 'Dubai', 'Dubai', 'Dubai', '16/03/2020', 'APHO', '20/03/2020', 'Corporation', '']\n",
      "['', '146', 'Ganesan Venkatraman', '', '', '8/137 Malai Kovil Raja Veethi Thiruverumbur Trichy', '9944878301', 'L2559018', 'Dubai', 'Dubai', 'Dubai', '16/03/2020', 'APHO', '20/03/2020', 'Corporation', '']\n",
      "['', '147', 'Subramanian Annadurai', '', '', ' Gounderthope Melachinthamani Trichy', '8870060348', 'N9240900', 'Dubai', 'Dubai', 'Dubai', '16/03/2020', 'APHO', '20/03/2020', 'Corporation', '']\n",
      "['', '148', 'Duraisamy Natarajan', '', '', '19 13Th Cross Lauzer Avenue Bankers Colony Exten Trichy', '98402482425', 'L3667931', 'Dubai', 'Dubai', 'Dubai', '16/03/2020', 'APHO', '20/03/2020', 'Corporation', '']\n",
      "['', '149', 'Duraisamy Ranjini', '', '', '20B Washermenpet Thennur Po Trichy', '9994314632', 'J3938322', 'Dubai', 'Dubai', 'Dubai', '16/03/2020', 'APHO', '20/03/2020', 'Corporation', '']\n",
      "['', '150', 'Mahadeva Iyer Sathish Kumar', '', '', '77A Vallalar Salai Ayyappanagar Trichy', '7639105559', 'M1131874', 'Dubai', 'Dubai', 'Dubai', '16/03/2020', 'APHO', '20/03/2020', 'Corporation', '']\n",
      "['', '151', 'Anwar Basha Khalil Irfan', '', '', '7/1 Ammayappa Nagar 6Th Cross Vayalur Road Trichy', '8778248500', 'T6090973', 'Dubai', 'Dubai', 'Dubai', '16/03/2020', 'APHO', '20/03/2020', 'Corporation', '']\n",
      "['', '152', 'Balakrishnan Saraswathy', '', '', '7/19 Rolax Illam Chinnakadai Veethi Trichy', '7502836262', 'R9012922', 'Dubai', 'Dubai', 'Dubai', '16/03/2020', 'APHO', '20/03/2020', 'Corporation', '']\n",
      "[]\n",
      "['', '153', 'Michael Samy Salvio Charles', '', '', '190 C1 15Th St Ex Service Man Colony Ponmalai Po Trichy', '9894080574', 'T0670113', 'Dubai', 'Dubai', 'Dubai', '16/03/2020', 'APHO', '20/03/2020', 'Corporation', '']\n",
      "['', '154', 'Hajnaber Ali Khan Ashfaq Abdullah', '', '', '66/67 Aalvar Thoppu Utpuram Thennur Trichy', '9791843652', 'P0942055', 'Dubai', 'Dubai', 'Dubai', '16/03/2020', 'APHO', '20/03/2020', 'Corporation', '']\n",
      "['', '155', 'Sheik Dawood Fathaullahsha', '', '', '29 Dharga St Khajamalai Trichy', '9003577314', 'P2034397', 'Dubai', 'Dubai', 'Dubai', '16/03/2020', 'APHO', '20/03/2020', 'Corporation', '']\n",
      "['', '156', 'Subramanian Mani', '', '', '65/1 Indain Bank Colony 2Nd St Trichy', '9894112999', 'Z2500831', 'Dubai', 'Dubai', 'Dubai', '16/03/2020', 'APHO', '20/03/2020', 'Corporation', '']\n",
      "['', '157', 'Nazar Basha Mohamed Meeran', '', '', '29A/24 Pookkollai Tharanallur Thanjavur Rd Trichy', '7092226908', 'P8438866', 'Dubai', 'Dubai', 'Dubai', '16/03/2020', 'APHO', '20/03/2020', 'Corporation', '']\n",
      "['', '158', 'Paramasivam Gunasekar', '', '', '43C Sathiya Ngr Thennur Trichy', '7358908669', 'S5236498', 'Dubai', 'Dubai', 'Dubai', '16/03/2020', 'APHO', '20/03/2020', 'Corporation', '']\n",
      "['', '159', 'Munisamy Poongavanam', '', '', '5 Viswas Ngr Ukt Malai Trichy', '9751957400', 'S2803163', 'Dubai', 'Dubai', 'Dubai', '16/03/2020', 'APHO', '20/03/2020', 'Corporation', '']\n",
      "['', '160', 'Balasubramanian Naveenan', '', '', '22/2C South Vellalar St Padamangalam Woraiyur Trichy', '7558162699', 'T1085664', 'Dubai', 'Dubai', 'Dubai', '16/03/2020', 'APHO', '20/03/2020', 'Corporation', '']\n",
      "['', '161', 'Dhanapal Muthamilselvi', '', '', '24E 6Th St Cross Muthumani Town Senthaneerpuram  Trichy', '7871808715', 'J9848759', 'Dubai', 'Dubai', 'Dubai', '16/03/2020', 'APHO', '20/03/2020', 'Corporation', '']\n",
      "['', '162', 'Maria Joseph Jerome', '', '', '718 Natrajan St Kk Nagar Trichy', '9443405205', 'Z3725468', 'Dubai', 'Dubai', 'Dubai', '16/03/2020', 'APHO', '20/03/2020', 'Corporation', '']\n",
      "['', '163', 'Ganesan Sathishkumar', '', '', '19 T V K Street Subramaniyapuram Tirchy', '9894388446', 'L1456201', 'Singapore', 'Singapore', 'Singapore', '16/03/2020', 'APHO', '20/03/2020', 'Corporation', '']\n",
      "[]\n",
      "['', '164', 'Annamalai Mahasree', '', '', '19 T V K Street Subramaniyapuram Trichy', '9894388446', 'N0747910', 'Singapore', 'Singapore', 'Singapore', '16/03/2020', 'APHO', '20/03/2020', 'Corporation', '']\n",
      "['', '165', 'Sathishkumar Gurubaran', '', '', '19 T V K Street Subramaniyapuram Trichy', '9894388446', 'U0004275', 'Singapore', 'Singapore', 'Singapore', '16/03/2020', 'APHO', '20/03/2020', 'Corporation', '']\n",
      "['', '166', 'Subramanian Deivasigamani', '', '', '2/187 2Nd St Kailash Nagar Kattar Trichy', '9894363161', 'N3389230', 'Singapore', 'Singapore', 'Singapore', '16/03/2020', 'APHO', '20/03/2020', 'Corporation', '']\n",
      "['', '167', 'Samy Moorthy', '', '', '40 Malaiyappan Nagar Moolai Thoppu Srirangam Trichy', '9715443341', 'K3929311', 'Singapore', 'Singapore', 'Singapore', '16/03/2020', 'APHO', '20/03/2020', 'Corporation', '']\n",
      "['', '168', 'Sitthan Siva', '', '', 'Annamalai Stores Pallivasal Back Side Jeeva Nagar Trichy', '9600252892', 'P1540597', 'Singapore', 'Singapore', 'Singapore', '16/03/2020', 'APHO', '20/03/2020', 'Corporation', '']\n",
      "['', '169', 'Sathyamoorthi Gayathri', '', '', '58 Malaiyappan Nagar Moolai Thoppu Srirangam Trichy', '8056657649', 'K2720875', 'Singapore', 'Singapore', 'Singapore', '16/03/2020', 'APHO', '20/03/2020', 'Corporation', '']\n",
      "['', '170', 'Subramanian Venkateswaran', '', '', '13/1 Plot No 59 4Th Cross Bharathi Nagar Puthur Trichy', '8939171265', 'Z4461614', 'Kuala Lumpur', 'Kuala Lumpur', 'Kuala Lumpur', '16/03/2020', 'APHO', '20/03/2020', 'Corporation']\n",
      "['', '171', 'Thangavel Shanmugam Subash Kumar', '', '', '56 Alli Street Vivekanand Nagar M K Kottai Trichy', '9698445307', 'K1958939', 'France', 'France', 'France', '16/03/2020', 'APHO', '20/03/2020', 'Corporation', '']\n",
      "['', '172', 'Sathishkumar Aegavarnan', '', '', '19 T V K Street Subramaniyapuram Trichy', '9894388446', 'S1577665', 'Singapore', 'Singapore', 'Singapore', '16/03/2020', 'APHO', '20/03/2020', 'Corporation', '']\n",
      "['', '173', 'Howrangazeeb Mustaq Ali', '', '', '29 Velters Nagar Tanjore Road Trichy', '9443456574', 'T2756291', 'Kuala Lumpur', 'Kuala Lumpur', 'Kuala Lumpur', '16/03/2020', 'APHO', '20/03/2020', 'Corporation', '']\n",
      "['', '174', 'Dhanasamy Anthony Britto', '', '', '44/43 Thiru Vk Street Sengikulandapiram Trichy', '9487740871', 'J2115923', 'Doha', 'Doha', 'Doha', '16/03/2020', 'APHO', '20/03/2020', 'Corporation', '']\n",
      "[]\n",
      "['', '175', 'KARTHIKUMAR', '', 'Male', '1/180- 9 B JEEVAN NAGAR UYYAKONDAN TIRUTCHURAPALLI', '', 'R8221541', '', 'MONROW USA', '', '20/3/2020', 'CHENNAI', '', 'Corporation', '']\n",
      "['', '176', 'MOHAN KUMAR RAMANI', '', 'Male', '1/180- 9 B JEEVAN NAGAR UYYAKONDAN TIRUTCHURAPALLI', '', 'R8221541', '', '', '', '20/3/2020', 'CHENNAI', '', 'Corporation', '']\n",
      "['', '177', 'GANESAN AKSHAAY KRISHNAN', '23', 'Male', '1A/5 11TH CROSS WEST THILLAI NAGAR TRICHY', '9655229899', 'P2434227', '', 'London', '', '17/3/2020', 'CHENNAI', '', 'Corporation', '']\n",
      "['', '178', 'MOHAMED CAAMIL', '24', 'Male', 'NO. 23 IIND ST ALPHA NAGAR KARUMANDAPAM TRICHY', '7708054321', 'M9887341', '', 'London', '', '17/3/2020', 'CHENNAI', '', 'Corporation', '']\n",
      "['', '179', 'RAJAMANI GURUKKAL KARTHICK', '31', 'Male', 'NO10 THILLAI NAGAR TRICHY 620018 TRICHY', '9944434200', 'L2571239', '', 'London', '', '17/3/2020', 'CHENNAI', '', 'Corporation', '']\n",
      "['', '180', 'RAJA CLIFTON SAM', '19', 'Male', 'TIRUCHIRAPPALLI URBAN', '9080141142', 'S2806450', '', 'BY-ROAD', '', '17/3/2020', 'HARIDASPUR', '', 'Corporation', '']\n",
      "['', '181', 'VADIVELU RENGANATHAN', '28', 'Male', '5/ASOUTH STREET VEEREASWARN TRICHY', '985656584', 'J0697441', '', 'Dubai', '', '17/3/2020', 'MUMBAI', '', 'Corporation', '']\n",
      "['', '182', 'SOMASUNDARAM UMAYAL', '71', 'Female', '56 RAJA PLAZA 10TH CROSS WEST ST THILLAI NAGAR', '9894764600', 'U6854499', '', 'Dubai', '', '17/3/2020', 'Trichy', '', 'Corporation', '']\n",
      "['', '183', 'SHREYA LAKSHMI', '12', 'Female', '1A RAMAMURTHI NAGAR ICHIKAMALAIPATTI SATHANOOR PO TRICHY', '9741292763', 'P3455129', '', 'Dubai', '', '17/3/2020', 'Trichy', '', 'Corporation', '']\n",
      "['', '184', 'SHAJAHAN ZAHIR ABBAS', '35', 'Male', '28/D24 7TH CROSS THILLAI NAGAR CITY - TRICHY', '9443702167', 'L2556042', '', 'Dubai', '', '17/3/2020', 'Trichy', '', 'Corporation', '']\n",
      "['', '185', 'NARAYANASAMY THULASIPRABU', '31', 'Male', 'MAIN ROAD KOTTAPALAYAM  TRICHY', '7397695952', 'P2853524', '', 'Dubai', '', '17/3/2020', 'Trichy', '', 'Corporation', '']\n",
      "[]\n",
      "['', '186', 'XAVIER SRINIVASAN JOTHIKENNEDY', '58', 'Male', '81 ST MARYS THYOPPU KILETHAR STREET TEPPAKULAM TRICHY', '9443649139', 'S2806586', '', 'Dubai', '', '17/3/2020', 'Trichy', '', 'Corporation', '']\n",
      "['', '187', 'JOTHI KENNEDY ROSALINE CHITRA', '53', 'Female', '81A MARIS THOPPU KILEDHAR STREET TRTICHY', '9994370529', 'N6948505', '', 'Dubai', '', '17/3/2020', 'Trichy', '', 'Corporation', '']\n",
      "['', '188', 'ANANTHAPADMANABHA USHA', '44', 'Female', '1A RAMAMURTHI NAGAR ICHIKAMALAIPATTI SATHANOOR PO Trichy', '9741292763', 'L9520208', '', 'Dubai', '', '17/3/2020', 'Trichy', '', 'Corporation', '']\n",
      "['', '189', 'ELIAS JOEL MART', '32', 'Male', '18/112 HEEBER ROAD BEEMANAGAR TRICHY', '9894782269', 'S2805755', '', 'Dubai', '', '17/3/2020', '', 'Trichy', 'Corporation', '']\n",
      "['', '190', 'MANICKAM KAMALAM', '64', 'Female', '28 BAJANAIKUDA ST HIRUDAYAPURAM PALAKARAI - TIRUCHY', '04312302830', 'J9857470', '', 'Dubai', '', '17/3/2020', 'Trichy', '', 'Corporation', '']\n",
      "['', '191', 'RAVI GEETHA VENKATESH', '27', 'Male', '23 8TH CROSS SRIKEERTI HOUSE RAMALINGA NAGAR SOUTH EXTN TRICHY', '9791660907', 'J3936999', '', 'Dubai', '', '17/3/2020', 'Trichy', '', 'Corporation', '']\n",
      "['', '192', 'AKBAR ALI ABDUL JAPPAR', '48', 'Male', '23/1 PALAKARAI CITY - TRICHY', '9688210393', 'L3682565', '', 'Dubai', '', '17/3/2020', '', 'Trichy', 'Corporation', '']\n",
      "['', '193', 'ANANDAN KRISHNAN', '47', 'Male', '41/ A RAGAMALIA BUILDING PATTABIRAMAN ST THENNUR TRICHY', '8668058076', 'T9363033', '', 'Dubai', '', '17/3/2020', 'Trichy', '', 'Corporation', '']\n",
      "['', '194', 'SUBRAMANIAN PADMANABAN', '42', 'Male', '49/11 KEELA PADAYACHI ST PALAKARAI CITY - TRICHY', '8124383805', 'P3103506', '', 'Dubai', '', '17/3/2020', 'Trichy', '', 'Corporation', '']\n",
      "['', '195', 'MURUGAPPA SOMASUNDARAM', '75', 'Male', '56 RAJA PLAZA 10TH CROSS WEST ST THILLAI NAGAR CITY - TRICHY', '9443851982', 'J3611493', '', 'Dubai', '', '17/3/2020', 'Trichy', '', 'Corporation', '']\n",
      "['', '196', 'PERIAYASAMY MURUGESAN', '49', 'Male', '2/43-B ADHITHIRAVIDAR ST NANAI KANNAM CITY - TRICHY', '9787432483', 'S0803064', '', 'Sharjah', '', '17/3/2020', 'Trichy', '', 'Corporation', '']\n",
      "[]\n",
      "['', '197', 'MOHAMED YASIR MOHAMED SAFIULLAH', '29', 'Male', '14TH CROSS KUMARAN NAGAR TRICHY', '9500619685', 'K2726880', '', 'Sharjah', '', '17/3/2020', 'Trichy', '', 'Corporation', ' ']\n",
      "['', '198', 'ABDUL AZIZ ELIAS AHAMED', '67', 'Male', '49 GENERAL BAZAR STREET TENNUR TRICHY', '9500305662', 'T3943391', '', 'Sharjah', '', '17/3/2020', 'Trichy', '', 'Corporation', '']\n",
      "['', '199', 'SULTHAN LIYAKATHALIKHAN', '62', 'Male', 'NO10 NEW NO 26 MEENKARA STREET THENNUR TRICHY', '9842040561', 'J2279347', '', 'Sharjah', '', '17/3/2020', 'Trichy', '', 'Corporation', '']\n",
      "['', '200', 'KRISHAN KUMAR SANJANA', '6', 'Female', 'NO38 BHARATHI NAGAR 4TH CROSS CRAWFORD TRICHY', '9486031670', 'N4380639', '', 'Sharjah', '', '17/3/2020', 'Trichy', '', 'Corporation', '']\n",
      "['', '201', 'KRISHAN KUMAR ARADHANA', '8', 'Female', 'NO38 BHARATHI NAGAR 4TH CROSS CRAWFORD TRICHY', '9486031670', 'R5754440', '', 'Sharjah', '', '17/3/2020', 'Trichy', '', 'Corporation', '']\n",
      "['', '202', 'ABDUL RAHIM LALU AHAMED', '46', 'Male', 'TF4-4C EB ROAD MAHARANI THEATER TRICHY', '9994554402', 'Z4978752', '', 'Sharjah', '', '17/3/2020', 'Trichy', '', 'Corporation', '']\n",
      "['', '203', 'SHAJAUDDIN MOHAMED JAILANI MOHAMED', '28', 'Male', '69 POONTHOTTAM ST PALAKKARAI PO TRICHY', '9842438032', 'J2283582', '', 'Sharjah', '', '17/3/2020', 'Trichy', '', 'Corporation', '']\n",
      "['', '204', 'POWNRAJ SENTHIL KUMAR', '40', 'Male', 'S V S ILLAM 2ND CAUVERY NAGAR MELACHINTHAMANI TRICHY', '9790236343', 'T4594817', '', 'Sharjah', '', '17/3/2020', 'Trichy', '', 'Corporation', '']\n",
      "['', '205', 'SAHUL HAMEED RAJAMOHAMMED', '28', 'Male', '14 28 KENNADY ST ARIYAMANGALAM TRICHY', '9789583454', 'M0051427', '', 'Sharjah', '', '17/3/2020', 'Trichy', '', 'Corporation', '']\n",
      "['', '206', 'KRISHAN KUMAR SHASHIREKHA', '36', 'Female', 'NO38 BHARATHI NAGAR 4TH CROSS CRAWFORD TRICHY', '9486031670', 'J8406730', '', 'Sharjah', '', '17/3/2020', 'Trichy', '', 'Corporation', '']\n",
      "['', '207', 'LIYAKATHALIKHAN PARISHA BEGUM', '53', 'Female', '10 MEENKARA STREET THENNUR TRICHY', '9842040561', 'J2279348', '', 'Sharjah', '', '17/3/2020', 'Trichy', '', 'Corporation', '']\n",
      "[]\n",
      "['', '208', 'FARITHULLA FATHIMA RIZWANA', '32', 'Female', '27 SANKAR NAGAR SANTIYAGO NAGAR EXTN UDAYANPATTI KK KK NAGAR PO TRICHY', '8608761159', 'R397O874', '', 'Sharjah', '', '17/3/2020', 'Trichy', '', 'Corporation', '']\n",
      "['', '209', 'FARITHULLA FARSHAD MUSTHAFA', '7', 'Male', 'SANKAR NAGAR SANTIYAGO NAGAR EXTN UDAYANPATTI KK KK NAGAR PO TRICHY', '8608161159', 'N5176235', '', 'Sharjah', '', '17/3/2020', 'Trichy', '', 'Corporation', '']\n",
      "['', '210', 'KAMASHIYA SIVAKUMAR', '53', 'Male', 'NO A3 SS APARTMENT AMMAYAPPA NAGAR - TRICHY', '9443412122', 'S2802409', '', 'Singapore', '', '17/3/2020', 'Trichy', '', 'Corporation', '']\n",
      "['', '211', 'SIVAKUMAR DHANALAKSHMI', '49', 'Female', 'NO A3 SS APARTMENT AMMAYAPPA NAGAR- TRICHY', '9443412122', 'S2802785', '', 'Singapore', '', '17/3/2020', 'Trichy', '', 'Corporation', '']\n",
      "['', '212', 'SAROJA ALRAJ', '62', 'Female', '159 12TH STREET EXSERVICEMEN COLONY PONMALAI  CITY - TRICHY', '9941354822', 'K3185661', '', 'Singapore', '', '17/3/2020', 'Trichy', '', 'Corporation', '']\n",
      "['', '213', 'SELVARAJU KARTHIKEYAN', '28', 'Male', '1/440 HOSPITAL ROAD KOTTAPALAYAM CITY - TRICHY', '9443598337', 'T3871067', '', 'Singapore', '', '17/3/2020', 'Trichy', '', 'Corporation', '']\n",
      "['', '214', 'MURUGESAN DARVIN', '27', 'Male', 'NO 105/B 5TH ST PERIYAR SALAI DHEERAN NAGAR CITY - TRICHY', '8675172378', 'P1380736', '', 'Doha', '', '17/3/2020', 'CHENNAI', '', 'Corporation', '']\n",
      "['', '215', 'SAMPATH MAHESWARAN', '32', 'Male', '45/3 F TYPE PONMALAI RAILWAY COLONY CITY - TRICHY', '9790707246', 'M1394596', '', 'Singapore', '', '17/3/2020', 'Trichy', '', 'Corporation', '']\n",
      "['', '216', 'SELVARAJ ANAND', '33', 'Male', 'G5 HI TECHKAPPARTMENT MAHALASMI NAGAR CITY - TRICHY', '9994048813', 'P6310391', '', 'Singapore', '', '17/3/2020', 'Trichy', '', 'Corporation', '']\n",
      "['', '217', 'GOVINDARAJ SANJEEV KUMAR', '21', 'Male', '59A INDIRA ST KEELAMBIKAPURAM CITY - TRICHY', '9080880082', 'R3493731', '', 'Singapore', '', '17/3/2020', 'CHENNAI', '', 'Corporation', '']\n",
      "['', '218', 'MOHAMED ABDUL KADER MOHAMED MARZOOK', '49', 'Male', 'HNO-100 DNM STORE KAYITHE MILLATH ROAD PALAKKARAI - PO TIRUCHIRAPPALLI', '9944146329', 'Z3946779', '', 'Colombo', '', '17/3/2020', 'CHENNAI', '', 'Corporation', '']\n",
      "[]\n",
      "['', '219', 'ABDULKASIM MOHAMED IQBAL', '35', 'Male', '19 ABULKALAM ASATH ST KAMARAJAR NAGAR ARIYAMANGALAM CITY - TRICHY', '7448781236', 'T5526451', '', 'Colombo', '', '17/3/2020', 'Trichy', '', 'Corporation', '']\n",
      "['', '220', 'MOHAMED HUSSAIN ABDUL WAHAB', '58', 'Male', '39 ALWAR THOPPEST PALAKARAI  CITY - TRICHY', '9746066230', 'Z5487439', '', 'Colombo', '', '17/3/2020', 'Trichy', '', 'Corporation', '']\n",
      "['', '221', 'ALIAR MOHAMED YUSUF KHAJAIZUDEEN', '33', 'Male', '113 JAIL ST PALAKKARAI CITY - TRICHY', '9994647317', 'N3034109', '', 'Colombo', '', '17/3/2020', 'Trichy', '', 'Corporation', '']\n",
      "['', '222', 'JAMES SAM JOHN ASER', '31', 'Male', '11/A5 NORTH ST MANNARPURAM CITY - TRICHY', '9003333562', 'P3101725', '', 'Colombo', '', '17/3/2020', 'Trichy', '', 'Corporation', '']\n",
      "['', '223', 'RAVI SATHYAVATHY', '50', 'Female', '10/1 RAMACHANDRAPURAM TENNUR CITY - TRICHY', '9715053030', 'M4579769', '', 'Colombo', '', '17/3/2020', 'Trichy', '', 'Corporation', '']\n",
      "['', '224', 'NARAYANASAMY SENTHILKUMAR', '48', 'Male', '3/5 NEHRUJI STREET MELA AMBIKA PUARAM CITY - TRICHY\"', '9994396870', 'Z5487815', '', 'Colombo', '', '17/3/2020', 'Trichy', '', 'Corporation', '']\n",
      "['', '225', 'KANDASAMY NEHRU', '52', 'Male', '49 ANAGALAMMAN KOIL STREET SEMBATTU CITY - TRICHY', '9442671086', 'K8705396', '', 'Colombo', '', '17/3/2020', 'Trichy', '', 'Corporation', '']\n",
      "['', '226', 'KUMBAKKONAM SRINIVASAN VENKATARAMAN', '47', 'Male', '19/34 SRI SUNDARA RAJ ACOLONY 2ND STREET CONTONMENT CITY - TRICHY', '8870298555', 'Z5822081', '', 'Colombo', '', '17/3/2020', 'Trichy', '', 'Corporation', '']\n",
      "['', '227', 'RAVI AISHWARYA', '24', 'Female', '10/1 RAMACHANDRAPURAM TENNUR CITY - TRICHY', '7339288842', 'T6578478', '', 'Colombo', '', '17/3/2020', 'Trichy', '', 'Corporation', '']\n",
      "['', '228', 'KANNAN KENNETH PRADEEP', '22', 'Male', '29/53 GREENS 3RD STREET BHARTI NAGAR CRAWFORD TRICHY TAMILNADU', '9597467858', 'S4936861', '', 'Hanoi', '', '17/3/2020', 'DELHI', '', 'Corporation', '']\n",
      "['', '229', 'MURUKESAN VENKATASWARAN', '46', 'Male', 'PLOT 26 SHRINIVAS DR NO 21 A I B E A NAGAR THIAGIGAL ROAD  CITY - TRICHY', '9860842691', 'Z5184421', '', 'Muscat', '', '17/3/2020', 'MUMBAI', '', 'Corporation', '']\n",
      "[]\n",
      "['', '230', 'GOPAL KANNAN', '', 'Male', 'NETHAJI ST TIRUCHY', '8220470368', '', 'SINGAPURE', '', '20/3/2020', 'CHENNAI', '', 'Corporation', '']\n",
      "['', '231', 'PRINCEANDEEN SATHEESH', '', 'Male', 'AMMAIYAPPAN NAGAR PUTHUR TIRUCHIRAPPALLI TAMIL NADU 620017', '', 'K9335097', 'DUBAI', '', '20/3/2020', 'CHENNAI', '', 'Corporation', '']\n",
      "['', '232', 'AMEER BASHA SHAGUL HAMEED', '', 'Male', '233 CHINNASAMY NAGAR TRICHY TAMIL NADU 620017', '', 'J1270921', 'DUBAI', '', '20/3/2020', 'CHENNAI', '', 'Corporation', '']\n",
      "['', '233', 'GODWIN IMMANUEL', '', 'Male', 'G20/76 ANNAI NAGAR 4 TH STREET PALAKARAJ TRICHY TAMIL NADU 620001', '', 'L6071978', 'DUBAI', '', '20/3/2020', 'CHENNAI', '', 'Corporation', '']\n",
      "['', '234', 'ASRAP ALI', '', 'Male', 'NETHAJI ST TIRUCHY', ' 8220470368', '', '', 'QATAR', '', '20/3/2020', 'CHENNAI', '', 'Corporation', '']\n",
      "['', '235', 'Venkatachalam Renukadevi', '', '', 'As Per Ppt Adress City - Trichy', '9842917070', 'K7813261', 'Dubai', 'Dubai', 'Dubai', '16/03/2020', 'APHO', '20/03/2020', 'Corporation', '']\n",
      "['', '236', 'Venkatachalam Rajamanikandan', '', '', 'As Per Ppt City - Trichy', '9865311540', 'N9523875', 'Dubai', 'Dubai', 'Dubai', '16/03/2020', 'APHO', '20/03/2020', 'Corporation', '']\n",
      "['', '237', 'Mohamed Ali Mohamed Farook', '', '', '1/2 5Th Cross Nmk Colony Tvs Toll Gate Trichy', '9942637834', 'L1433254', 'Doha', 'Doha', 'Doha', '16/03/2020', 'APHO', '20/03/2020', 'Corporation', '']\n",
      "['', '238', 'Velladurai Kalidasan', '', '', '34 Nallathanni Keni St E Pudur Po Tiruchi City - Trichy', '7305735194', 'T5514792', 'Singapore', 'Singapore', 'Singapore', '16/03/2020', 'APHO', '20/03/2020', 'Corporation', '']\n",
      "['', '239', 'Abdul Rahman Hareaf Jasser', '', '', '47/1 Alwarthoppu Inside Tennur City - Trichy', '9095555151', 'U4359813', 'Singapore', 'Singapore', 'Singapore', '16/03/2020', 'APHO', '20/03/2020', 'Corporation', '']\n",
      "['', '240', 'Subbaiah Kanakasundaram', '', '', 'Thirumalai Samuthiram K Sathanoor Po Kk Nagar Trichy', '8754848030', 'M8985831', 'Singapore', 'Singapore', 'Singapore', '16/03/2020', 'APHO', '20/03/2020', 'Corporation', '']\n",
      "[]\n",
      "['', '241', 'Packrisamy Kani Murugan', '', '', '12B Nmk Colony 1St Cross St Tvs Tollgate Trichy', '9080198121', 'T6707798', 'Singapore', 'Singapore', 'Singapore', '16/03/2020', 'APHO', '20/03/2020', 'Corporation', '']\n",
      "['', '242', 'MOHAMED IBRAHIM BARKATH ALI', '41', 'Male', '3/B NATHARSHA PALLIVASAL STREET TIRUCHIRAPPALLI URBAN 620008 TIRUCHIRAPALLI', '9942863372', 'S8422529', 'Dubai Intl', 'Dubai Intl', 'Dubai Intl', '15/03/2020', 'APHO', '20/03/2020', 'Corporation', '']\n",
      "['', '243', 'KARIKALI SUNDARARAJU GIRIPRASANTH', '19', 'Male', 'HAOSE NO. 1/23 NORTH(VADUKAR) STREET KARIKALI MUSIRI TK TIRUCHIRAPPALLI RURAL 621210 TIRUCHIRAPPALLI RURAL', '9940833206', 'S2803382', 'Malysia', 'Malysia', 'Malysia', '15/03/2020', 'APHO', '20/03/2020', 'Corporation', '']\n",
      "['', '244', 'ABDUL WAHAB ZAKIR HUSSAIN', '52', 'Male', '13E 45 KRISHNAN KOVIL ST BEENAGAR CITY - THRICHY', '8508051016', 'U2051498', 'Malysia', 'Malysia', 'Malysia', '15/03/2020', 'APHO', '20/03/2020', 'Corporation', '']\n",
      "['', '245', 'ARIYATHAS TOMMY DENOLD', '37', 'Male', '3 NEHRU NAGAR BHARRATHINAGAR K SATHANUR TRICHY', '7708839504', 'R7405634', 'Malysia', 'Malysia', 'Malysia', '15/03/2020', 'APHO', '20/03/2020', 'Corporation', '']\n",
      "['', '246', 'Alamelumangai', '67', 'Female', '72 Crawford Colony main road e.puthur Trichy', '9524685151', 'S1569014', 'Abudhabi UAE', 'Abudhabi UAE', 'Abudhabi UAE', '20/03/2020', 'APHO', '20/03/2020', 'Corporation', '']\n",
      "['', '247', 'Malathi Jayaram', '66', 'Female', 'C1 C62A 10thcross thillai nagar Trichy', '9442026513', 'L6464413', 'Abudhabi', 'Abudhabi', 'Abudhabi', '21/03/2020', 'APHO', '20/03/2020', 'Corporation', '']\n",
      "['', '248', 'Nilakanta Jayaram', '74', 'Male', 'C1 C62A 10thcross thillai nagar Trichy', '9442026513', 'L4674667', 'Abudhabi', 'Abudhabi', 'Abudhabi', '21/03/2020', 'APHO', '20/03/2020', 'Corporation', '']\n",
      "['', '249', 'Sambandam', '70', 'Male', '72 Crawford Colony main road e.puthur Trichy', '9524685151', 'S1569295', 'Dubai', 'Dubai', 'Dubai', '21/03/2020', 'APHO', '20/03/2020', 'Corporation', '']\n",
      "['', '250', 'Razia', '61', 'Male', '10A padugai main road Ramachandra nagar e.puthur Trichy', '9965108956', 'K1948968', 'Dubai', 'Dubai', 'Dubai', '20/03/2020', 'APHO', '20/03/2020', 'Corporation', '']\n",
      "['', '251', 'Basha', '55', 'Male', '4th Muslim Street Crawford Trichy', '9787653709', 'L6620795', 'Dubai', 'Dubai', 'Dubai', '21/03/2020', 'APHO', '20/03/2020', 'Corporation', '']\n",
      "[]\n",
      "['', '252', 'Mustafa ahamed', '66', 'Male', '10A padugai main road Ramachandra nagar e.puthur Trichy', '9965108956', 'K1951794', 'Dubai', 'Dubai', 'Dubai', '20/03/2020', 'APHO', '20/03/2020', 'Corporation', '']\n",
      "['', '253', 'SHAHUPATTANI SHAHUL HAMEED', '61', 'Male', '42/59-159 KUTHBISHNAGAR TENNUR CITY - TRICHY', '9444182078', 'Z5488691', 'Singapore', 'Singapore', 'Singapore', '16/03/2020', 'APHO', '20/03/2020', 'Corporation', '']\n",
      "['', '254', 'JOHNSON GREGORY JOYNAR', '22', 'Female', 'JAYALAKSHMI NAGAR K.K.NAGAR 1ST ST CITY - TIRUCHY', '9884683052', 'M3118007', 'Singapore', 'Singapore', 'Singapore', '16/03/2020', 'APHO', '20/03/2020', 'Corporation', '']\n",
      "['', '255', 'MALLIGA KRISHNAMOORTHY', '58', 'Female', 'MALLIGAI ST EZHIL NAGAR CITY - TRICHYT', '9994561643', 'P0611629', 'Singapore', 'Singapore', 'Singapore', '16/03/2020', 'APHO', '20/03/2020', 'Corporation', '']\n",
      "['', '256', 'HOHAMED AYOOB MOHAMMED YASEER ARAFATH', '31', 'Male', '12 IBRAHIM NAGAR TRICHY CITY - TRICHY', '9443141965', 'R3507185', 'SriLankan', 'SriLankan', 'SriLankan', '16/03/2020', 'APHO', '20/03/2020', 'Corporation', '']\n",
      "['', '257', 'SARANGARAJA NEHARIKA', '4', 'Female', '25/22 3RD FLOOR G 10 A WEST CR9SS THILLAINAGAR  CITY - THIRCHY', '9176091863', 'N9640775', 'SriLankan', 'SriLankan', 'SriLankan', '16/03/2020', 'APHO', '20/03/2020', 'Corporation', '']\n",
      "['', '258', 'SYED MUSTHAFA ABDUL RASHEED', '34', 'Male', '17/6 ABDUL KALAM AZAD ST ARIYAMANGALAM CITY - TRICHY', '7502279300', 'P8442788', 'SriLankan', 'SriLankan', 'SriLankan', '16/03/2020', 'APHO', '20/03/2020', 'Corporation', '']\n",
      "['', '259', 'NARASIMHAN PRATHIBHA CHITRALAYA', '35', 'Female', '25/22 3RD FLOOR G 10 A WEST CR9SS  THILLAINAGAR  CITY - TRICHY', '9176091863', 'K7810232', 'SriLankan', 'SriLankan', 'SriLankan', '16/03/2020', 'APHO', '20/03/2020', 'Corporation', '']\n",
      "['', '260', 'KRISHNAN VENUGOPAL', '69', 'Male', '7/3 THAYUMANAVAR ST AYYAPPANAGAR K SATHANUR CITY - TRICHY', '9443837831', 'L3667760', 'SriLankan', 'SriLankan', 'SriLankan', '16/03/2020', 'APHO', '20/03/2020', 'Corporation', '']\n",
      "['', '261', 'SARANGARAJA MADHAV KRISHNA', '7', 'Male', '25/22 3RD FLOOR G 10 A WEST CROSS  THILLAINAGAR  CITY - THIRCHY', '9176091863', 'S6652262', 'SriLankan', 'SriLankan', 'SriLankan', '16/03/2020', 'APHO', '20/03/2020', 'Corporation', '']\n",
      "['', '262', 'SIVAKUMAR SAGARIKKA', '19', 'Female', 'C112 5TH CROSS OPP TO NILGIRIS THILLAINAGAR TRICKY TAMIL NADU 620018 CITY - TRICHY', '9790064242', 'S1548637', 'London Heathrow', 'London Heathrow', 'London Heathrow', '16/03/2020', 'APHO', '20/03/2020', 'Corporation', '']\n",
      "[]\n",
      "['', '263', 'RATNAM PAUL MOSES CHRISTUDOSS', '42', 'Male', '55KONAKACAI ROAD WORAIYUP  CITY - TRICHY\"', '9842450961', 'P8779930', 'Muscat ', 'Muscat ', 'Muscat ', '16/03/2020', 'APHO', '20/03/2020', 'Corporation', '']\n",
      "['', '264', 'DEJOVIDANGA GURUKKAL SIVASUBRAMANIAN', '30', 'Male', 'OLD NO.3 NEW NO.1 PERIYACHETTY STREET TRITURAPALLI.621601 CITY - TRITURAPALLI', '9443835638', 'J0691149', 'Muscat', 'Muscat', 'Muscat', '16/03/2020', 'APHO', '20/03/2020', 'Corporation', '']\n",
      "['', '265', 'MATHARSA NASAR', '38', 'Male', 'GROUND FLOOR G3 TRV ENCLAVE 25/41 PUTHUR AGRAHARAM CITY - TIRICHIRAPPALI', '9597718948', 'K2090122', 'Muscat', 'Muscat', 'Muscat', '16/03/2020', 'APHO', '20/03/2020', 'Corporation', '']\n",
      "['', '266', 'SRINIVASAN RAMANUJAM', '47', 'Male', 'GROUND FLOOR G3 T.R.V ENCLAVE 25/41 PUTHUR AGRAHARAM CITY - THIRICHIRAPPALI', '9578859233', 'Z2914051', 'Muscat', 'Muscat', 'Muscat', '16/03/2020', 'APHO', '20/03/2020', 'Corporation', '']\n",
      "['', '267', 'MICHAEL ANTONY DEVASAGAYAM RAVINDRAN', '64', 'Male', '54C MARUTHAM COLONY PUTHUR CITY - TRICHY', '9994466500', 'Z3553938', 'Muscat', 'Muscat', 'Muscat', '16/03/2020', 'APHO', '20/03/2020', 'Corporation', '']\n",
      "['', '268', 'LEO PHILOMEN NIRMAL', '66', 'Male', '3 BETHEL GARDENS JOSEPH AVENUE TSA NAGAR CRAWFORT TRICHI TAMILNADU CITY - TRICHI TAMILNADU', '9443151748', 'S8428805', 'Muscat', 'Muscat', 'Muscat', '16/03/2020', 'APHO', '20/03/2020', 'Corporation', '']\n",
      "['', '269', 'Hajumohidem', '47', 'Male', '1/228 Barathi st Trichy', '8870345699', 'K0858439', 'Sharjah', 'Sharjah', 'Sharjah', '19/03/2020', 'APHO', '20/03/2020', 'Corporation', '']\n",
      "['', '270', 'PARAMASIVAM PRAKASH', '27', 'Male', 'ANNA NAGAR SANGILIYANNDAPURAM CITY - TRICHY', '9894731270', 'J9849113', 'Singapore', 'Singapore', 'Singapore', '17/03/2020', 'APHO', '20/03/2020', 'Corporation', '']\n",
      "['', '271', 'JOSEPH SAVARIYAR VINCENTRAJ', '20', 'Male', 'NO 47KARU MARIYAMMAN KOIL STREET TRICHI RURAL TN 620022 CITY - TRICY RURAL', '9786876814', 'N6945672', 'Maldives', 'Maldives', 'Maldives', '17/03/2020', 'APHO', '20/03/2020', 'Corporation', '']\n",
      "['', '272', 'RAJU VIJAYALAKSHMI', '52', 'Female', 'NO:16 SECOND STREET GUKULNAGAR KATTUR POST THIRUVERUMBUR TK TIRUCHIRAPALLI RURAL PIN 620019', '9443179398/9443179398', 'T6079783', 'Malysia', 'Malysia', 'Malysia', '17/03/2020', 'APHO', '20/03/2020', 'Corporation', '']\n",
      "['', '273', 'KAJA MOHIDEEN SHEIK MOHAMED', '34', 'Male', '28/18 AMBARSHA PALLIVASAL ST PALAKARAI CITY - TRICHY', '9750778442', 'M1106448', 'Malysia', 'Malysia', 'Malysia', '17/03/2020', 'APHO', '20/03/2020', 'Corporation', '']\n",
      "[]\n",
      "['', '274', 'UMAPATHY JAYA SUTHA', '44', 'Female', '4/239 SAKTHI NAGAR TRICHY', '9942147313', 'U2280177', 'Malysia', 'Malysia', 'Malysia', '17/03/2020', 'APHO', '20/03/2020', 'Corporation', '']\n",
      "['', '275', 'NATARAJAN SHYAMALA', '40', 'Female', 'G1 KANNIKA NIWAS NO6 VARADHACHARY STREET TRICHY TN 6 TRICHY', '9442775228', 'L4557669', 'New Delhi', 'New Delhi', 'New Delhi', '17/03/2020', 'APHO', '20/03/2020', 'Corporation', '']\n",
      "['', '276', 'GOVINDAN ARUN', '37', 'Male', 'G1 KANNIKA NIWAS NO 6 VARADHACHARY STREET TRICHY TN 6  CITY - TRICHY', '9442775228', 'L4558884', 'New Delhi', 'New Delhi', 'New Delhi', '17/03/2020', 'APHO', '20/03/2020', 'Corporation', '']\n"
     ]
    }
   ],
   "source": [
    "#Read the corona.txt file\n",
    "fname =\"corona2.txt\"\n",
    "\n",
    "with open(fname,'r')as f:\n",
    "    data_reader =csv.reader(f, delimiter=',')\n",
    "    header =next(data_reader)\n",
    "    print(\"Header:\"+str(header)+\"\\n\")\n",
    "    \n",
    "    for line in data_reader:\n",
    "        print(line)"
   ]
  },
  {
   "cell_type": "code",
   "execution_count": 4,
   "metadata": {},
   "outputs": [],
   "source": [
    "#Create the dataframe\n",
    "df =pd.read_csv(\"corona2.txt\")"
   ]
  },
  {
   "cell_type": "code",
   "execution_count": 17,
   "metadata": {
    "collapsed": true
   },
   "outputs": [
    {
     "data": {
      "text/html": [
       "<div>\n",
       "<style scoped>\n",
       "    .dataframe tbody tr th:only-of-type {\n",
       "        vertical-align: middle;\n",
       "    }\n",
       "\n",
       "    .dataframe tbody tr th {\n",
       "        vertical-align: top;\n",
       "    }\n",
       "\n",
       "    .dataframe thead th {\n",
       "        text-align: right;\n",
       "    }\n",
       "</style>\n",
       "<table border=\"1\" class=\"dataframe\">\n",
       "  <thead>\n",
       "    <tr style=\"text-align: right;\">\n",
       "      <th></th>\n",
       "      <th>SlNo</th>\n",
       "      <th>Name</th>\n",
       "      <th>Age</th>\n",
       "      <th>Sex</th>\n",
       "      <th>Address</th>\n",
       "      <th>Contact Number</th>\n",
       "      <th>Passport Number</th>\n",
       "      <th>Traceable</th>\n",
       "      <th>Country of Visit</th>\n",
       "      <th>Province</th>\n",
       "      <th>Date of Arrival from Affected Country</th>\n",
       "      <th>Airport</th>\n",
       "      <th>Date of Receipt of Information</th>\n",
       "      <th>Block Name</th>\n",
       "      <th>Unnamed: 15</th>\n",
       "    </tr>\n",
       "  </thead>\n",
       "  <tbody>\n",
       "    <tr>\n",
       "      <th>0</th>\n",
       "      <td>1</td>\n",
       "      <td>SEKAR RANGANATHAN</td>\n",
       "      <td>31.0</td>\n",
       "      <td>Male</td>\n",
       "      <td>M BLOCK SFL PRIYA SUNDARSHAN APTS SRIRANGAM TR...</td>\n",
       "      <td>9994920030</td>\n",
       "      <td>T9264570</td>\n",
       "      <td>Yes</td>\n",
       "      <td>SOUTH KOREA</td>\n",
       "      <td>South Korea</td>\n",
       "      <td>01/03/2020</td>\n",
       "      <td>Chennai</td>\n",
       "      <td>01/03/2020</td>\n",
       "      <td>Corporation</td>\n",
       "      <td>NaN</td>\n",
       "    </tr>\n",
       "    <tr>\n",
       "      <th>1</th>\n",
       "      <td>2</td>\n",
       "      <td>SURESH</td>\n",
       "      <td>44.0</td>\n",
       "      <td>Male</td>\n",
       "      <td>72 SANTHOSE NAGAR MK KOTTAI POST TRICHY TN-620011</td>\n",
       "      <td>9941427331/9941717052</td>\n",
       "      <td>J3722053</td>\n",
       "      <td>Yes</td>\n",
       "      <td>SOUTH KOREA</td>\n",
       "      <td>South Korea</td>\n",
       "      <td>01/03/2020</td>\n",
       "      <td>Chennai</td>\n",
       "      <td>01/03/2020</td>\n",
       "      <td>Corporation</td>\n",
       "      <td>NaN</td>\n",
       "    </tr>\n",
       "    <tr>\n",
       "      <th>2</th>\n",
       "      <td>3</td>\n",
       "      <td>RAMASWAMY PRAKASH</td>\n",
       "      <td>29.0</td>\n",
       "      <td>Male</td>\n",
       "      <td>S/oSathsivam 32/21 Nadu Thuvankarasi TRICHY-62...</td>\n",
       "      <td>9003757474</td>\n",
       "      <td>J9849153</td>\n",
       "      <td>Yes</td>\n",
       "      <td>NaN</td>\n",
       "      <td>CHINA</td>\n",
       "      <td>01/03/2020</td>\n",
       "      <td>Chennai</td>\n",
       "      <td>01/03/2020</td>\n",
       "      <td>Corporation</td>\n",
       "      <td>NaN</td>\n",
       "    </tr>\n",
       "    <tr>\n",
       "      <th>3</th>\n",
       "      <td>4</td>\n",
       "      <td>Selvam praveen kumar</td>\n",
       "      <td>20.0</td>\n",
       "      <td>Male</td>\n",
       "      <td>1 reddi st beema nagar Trichy</td>\n",
       "      <td>9443440108</td>\n",
       "      <td>P8438413</td>\n",
       "      <td>Yes</td>\n",
       "      <td>NaN</td>\n",
       "      <td>Japan</td>\n",
       "      <td>03/03/2020</td>\n",
       "      <td>Trichy</td>\n",
       "      <td>04/03/2020</td>\n",
       "      <td>Corporation</td>\n",
       "      <td>NaN</td>\n",
       "    </tr>\n",
       "    <tr>\n",
       "      <th>4</th>\n",
       "      <td>5</td>\n",
       "      <td>Shanthi kumari</td>\n",
       "      <td>44.0</td>\n",
       "      <td>Female</td>\n",
       "      <td>53b chinnasetty Trichy</td>\n",
       "      <td>9842131877</td>\n",
       "      <td>A40803232</td>\n",
       "      <td>Yes</td>\n",
       "      <td>NaN</td>\n",
       "      <td>South Korea</td>\n",
       "      <td>04/03/2020</td>\n",
       "      <td>Trichy</td>\n",
       "      <td>05/03/2020</td>\n",
       "      <td>Corporation</td>\n",
       "      <td>NaN</td>\n",
       "    </tr>\n",
       "    <tr>\n",
       "      <th>5</th>\n",
       "      <td>6</td>\n",
       "      <td>Arumugam priyan</td>\n",
       "      <td>30.0</td>\n",
       "      <td>Male</td>\n",
       "      <td>13 arul Murugan garden srirangam</td>\n",
       "      <td>9842832116</td>\n",
       "      <td>K3193150</td>\n",
       "      <td>Yes</td>\n",
       "      <td>NaN</td>\n",
       "      <td>South Korea</td>\n",
       "      <td>04/03/2020</td>\n",
       "      <td>Trichy</td>\n",
       "      <td>05/03/2020</td>\n",
       "      <td>Corporation</td>\n",
       "      <td>NaN</td>\n",
       "    </tr>\n",
       "    <tr>\n",
       "      <th>6</th>\n",
       "      <td>7</td>\n",
       "      <td>Charles William Shirley William</td>\n",
       "      <td>18.0</td>\n",
       "      <td>Female</td>\n",
       "      <td>31st West cross Singam nagar Trichy-20</td>\n",
       "      <td>8903647774</td>\n",
       "      <td>Z3949585</td>\n",
       "      <td>Yes</td>\n",
       "      <td>NaN</td>\n",
       "      <td>Philippines</td>\n",
       "      <td>04/03/2020</td>\n",
       "      <td>Trichy</td>\n",
       "      <td>05/03/2020</td>\n",
       "      <td>Corporation</td>\n",
       "      <td>NaN</td>\n",
       "    </tr>\n",
       "    <tr>\n",
       "      <th>7</th>\n",
       "      <td>8</td>\n",
       "      <td>Sethuraman</td>\n",
       "      <td>23.0</td>\n",
       "      <td>Male</td>\n",
       "      <td>3rd Cross Raghavendra Garden thiruvanikovil</td>\n",
       "      <td>9944083454</td>\n",
       "      <td>P8448395</td>\n",
       "      <td>Yes</td>\n",
       "      <td>NaN</td>\n",
       "      <td>South Korea</td>\n",
       "      <td>05/03/2020</td>\n",
       "      <td>Trichy</td>\n",
       "      <td>06/03/2020</td>\n",
       "      <td>Corporation</td>\n",
       "      <td>NaN</td>\n",
       "    </tr>\n",
       "    <tr>\n",
       "      <th>8</th>\n",
       "      <td>9</td>\n",
       "      <td>Thandayuthapani seetharaman</td>\n",
       "      <td>69.0</td>\n",
       "      <td>Male</td>\n",
       "      <td>27/e3 3rd cross thillai nagar Trichy</td>\n",
       "      <td>7373057007</td>\n",
       "      <td>L7126048</td>\n",
       "      <td>Yes</td>\n",
       "      <td>NaN</td>\n",
       "      <td>Indonesia 1month</td>\n",
       "      <td>06/03/2020</td>\n",
       "      <td>Trichy</td>\n",
       "      <td>07/03/2020</td>\n",
       "      <td>Corporation</td>\n",
       "      <td>NaN</td>\n",
       "    </tr>\n",
       "    <tr>\n",
       "      <th>9</th>\n",
       "      <td>10</td>\n",
       "      <td>Visalakshi Seetha raman</td>\n",
       "      <td>65.0</td>\n",
       "      <td>Female</td>\n",
       "      <td>27/e3 3rd cross thillai nagar Trichy.</td>\n",
       "      <td>9943892111</td>\n",
       "      <td>N0097214</td>\n",
       "      <td>Yes</td>\n",
       "      <td>NaN</td>\n",
       "      <td>Indonesia 1month</td>\n",
       "      <td>06/03/2020</td>\n",
       "      <td>Trichy</td>\n",
       "      <td>07/03/2020</td>\n",
       "      <td>Corporation</td>\n",
       "      <td>NaN</td>\n",
       "    </tr>\n",
       "    <tr>\n",
       "      <th>10</th>\n",
       "      <td>11</td>\n",
       "      <td>Manilal mahendra kumar</td>\n",
       "      <td>64.0</td>\n",
       "      <td>Male</td>\n",
       "      <td>17/1 10th B cross thillai nagar Trichy.</td>\n",
       "      <td>9345130251</td>\n",
       "      <td>N3733952</td>\n",
       "      <td>Yes</td>\n",
       "      <td>NaN</td>\n",
       "      <td>Indonesia 1month</td>\n",
       "      <td>06/03/2020</td>\n",
       "      <td>Trichy</td>\n",
       "      <td>07/03/2020</td>\n",
       "      <td>Corporation</td>\n",
       "      <td>NaN</td>\n",
       "    </tr>\n",
       "    <tr>\n",
       "      <th>11</th>\n",
       "      <td>12</td>\n",
       "      <td>Shobana m.vola</td>\n",
       "      <td>40.0</td>\n",
       "      <td>Female</td>\n",
       "      <td>17/1 10th B cross thillai nagar Trichy</td>\n",
       "      <td>9345211021</td>\n",
       "      <td>N3733956</td>\n",
       "      <td>Yes</td>\n",
       "      <td>NaN</td>\n",
       "      <td>Indonesia 1month</td>\n",
       "      <td>06/03/2020</td>\n",
       "      <td>Trichy</td>\n",
       "      <td>07/03/2020</td>\n",
       "      <td>Corporation</td>\n",
       "      <td>NaN</td>\n",
       "    </tr>\n",
       "    <tr>\n",
       "      <th>12</th>\n",
       "      <td>13</td>\n",
       "      <td>Gulam kazhal sridhar</td>\n",
       "      <td>27.0</td>\n",
       "      <td>Male</td>\n",
       "      <td>5/40 D kandy Street beema nagar Trichy</td>\n",
       "      <td>9994690239</td>\n",
       "      <td>M2974145</td>\n",
       "      <td>Yes</td>\n",
       "      <td>NaN</td>\n",
       "      <td>Tokyo</td>\n",
       "      <td>07/03/2020</td>\n",
       "      <td>Trichy</td>\n",
       "      <td>07/03/2020</td>\n",
       "      <td>Corporation</td>\n",
       "      <td>NaN</td>\n",
       "    </tr>\n",
       "    <tr>\n",
       "      <th>13</th>\n",
       "      <td>14</td>\n",
       "      <td>Nandhini</td>\n",
       "      <td>26.0</td>\n",
       "      <td>Female</td>\n",
       "      <td>6 barath avenue pappakurichi road kattur Trichy.</td>\n",
       "      <td>7502485565</td>\n",
       "      <td>T6586319</td>\n",
       "      <td>Yes</td>\n",
       "      <td>NaN</td>\n",
       "      <td>Indonesia 1month</td>\n",
       "      <td>07/03/2020</td>\n",
       "      <td>Trichy</td>\n",
       "      <td>08/03/2020</td>\n",
       "      <td>Corporation</td>\n",
       "      <td>NaN</td>\n",
       "    </tr>\n",
       "    <tr>\n",
       "      <th>14</th>\n",
       "      <td>15</td>\n",
       "      <td>Ashwin chellaiya</td>\n",
       "      <td>26.0</td>\n",
       "      <td>Female</td>\n",
       "      <td>6 barath avenue pappakurichi road kattur Trichy</td>\n",
       "      <td>7502485565</td>\n",
       "      <td>L2560071</td>\n",
       "      <td>Yes</td>\n",
       "      <td>NaN</td>\n",
       "      <td>Indonesia 1month</td>\n",
       "      <td>07/03/2020</td>\n",
       "      <td>Trichy</td>\n",
       "      <td>08/03/2020</td>\n",
       "      <td>Corporation</td>\n",
       "      <td>NaN</td>\n",
       "    </tr>\n",
       "    <tr>\n",
       "      <th>15</th>\n",
       "      <td>16</td>\n",
       "      <td>Mookan rengaraj</td>\n",
       "      <td>40.0</td>\n",
       "      <td>Male</td>\n",
       "      <td>79 pillaiyar koil Street e.pudur Trichy</td>\n",
       "      <td>9789091740</td>\n",
       "      <td>N1310960</td>\n",
       "      <td>Yes</td>\n",
       "      <td>NaN</td>\n",
       "      <td>Narita (Japan)</td>\n",
       "      <td>08/03/2020</td>\n",
       "      <td>Trichy</td>\n",
       "      <td>09/03/2020</td>\n",
       "      <td>Corporation</td>\n",
       "      <td>NaN</td>\n",
       "    </tr>\n",
       "    <tr>\n",
       "      <th>16</th>\n",
       "      <td>17</td>\n",
       "      <td>Rengaraj krithigan</td>\n",
       "      <td>2.0</td>\n",
       "      <td>Male</td>\n",
       "      <td>79 pillaiyar koil Street e.puthur Trichy</td>\n",
       "      <td>9789091740</td>\n",
       "      <td>R0256604</td>\n",
       "      <td>Yes</td>\n",
       "      <td>NaN</td>\n",
       "      <td>Narita</td>\n",
       "      <td>08/03/2020</td>\n",
       "      <td>Trichy</td>\n",
       "      <td>09/03/2020</td>\n",
       "      <td>Corporation</td>\n",
       "      <td>NaN</td>\n",
       "    </tr>\n",
       "    <tr>\n",
       "      <th>17</th>\n",
       "      <td>18</td>\n",
       "      <td>Krishnan anandhi</td>\n",
       "      <td>33.0</td>\n",
       "      <td>Female</td>\n",
       "      <td>79 pillaiyar koil Street e.puthur Trichy</td>\n",
       "      <td>9789091740</td>\n",
       "      <td>P1606742</td>\n",
       "      <td>Yes</td>\n",
       "      <td>NaN</td>\n",
       "      <td>Narita</td>\n",
       "      <td>08/03/2020</td>\n",
       "      <td>Trichy</td>\n",
       "      <td>09/03/2020</td>\n",
       "      <td>Corporation</td>\n",
       "      <td>NaN</td>\n",
       "    </tr>\n",
       "    <tr>\n",
       "      <th>18</th>\n",
       "      <td>19</td>\n",
       "      <td>Rengaraj gurucharan</td>\n",
       "      <td>6.0</td>\n",
       "      <td>Male</td>\n",
       "      <td>79 pillaiyar koil Street e.puthur Trichy</td>\n",
       "      <td>9789091740</td>\n",
       "      <td>P1606744</td>\n",
       "      <td>Yes</td>\n",
       "      <td>NaN</td>\n",
       "      <td>Narita</td>\n",
       "      <td>08/03/2020</td>\n",
       "      <td>Trichy</td>\n",
       "      <td>09/03/2020</td>\n",
       "      <td>Corporation</td>\n",
       "      <td>NaN</td>\n",
       "    </tr>\n",
       "    <tr>\n",
       "      <th>19</th>\n",
       "      <td>20</td>\n",
       "      <td>Sanjay Balaji</td>\n",
       "      <td>24.0</td>\n",
       "      <td>Male</td>\n",
       "      <td>6A 1st cross v.n.nagar Trichy</td>\n",
       "      <td>8681811611</td>\n",
       "      <td>M2835592</td>\n",
       "      <td>Yes</td>\n",
       "      <td>NaN</td>\n",
       "      <td>Italy</td>\n",
       "      <td>08/03/2020</td>\n",
       "      <td>Trichy</td>\n",
       "      <td>09/03/2020</td>\n",
       "      <td>Corporation</td>\n",
       "      <td>NaN</td>\n",
       "    </tr>\n",
       "    <tr>\n",
       "      <th>20</th>\n",
       "      <td>21</td>\n",
       "      <td>Salmankan</td>\n",
       "      <td>27.0</td>\n",
       "      <td>Male</td>\n",
       "      <td>24/253 2nd cross ganapathy nagar v.k.t.malai T...</td>\n",
       "      <td>9578312704</td>\n",
       "      <td>R9023607</td>\n",
       "      <td>Yes</td>\n",
       "      <td>NaN</td>\n",
       "      <td>Italy</td>\n",
       "      <td>08/03/2020</td>\n",
       "      <td>Trichy</td>\n",
       "      <td>09/03/2020</td>\n",
       "      <td>Corporation</td>\n",
       "      <td>NaN</td>\n",
       "    </tr>\n",
       "    <tr>\n",
       "      <th>21</th>\n",
       "      <td>22</td>\n",
       "      <td>Shankar mani kanagaraj</td>\n",
       "      <td>25.0</td>\n",
       "      <td>Male</td>\n",
       "      <td>24 Perumal colony tvk nagar puthur Trichy</td>\n",
       "      <td>9442302198</td>\n",
       "      <td>N0747789</td>\n",
       "      <td>Yes</td>\n",
       "      <td>NaN</td>\n",
       "      <td>Italy</td>\n",
       "      <td>08/03/2020</td>\n",
       "      <td>Trichy</td>\n",
       "      <td>09/03/2020</td>\n",
       "      <td>Corporation</td>\n",
       "      <td>NaN</td>\n",
       "    </tr>\n",
       "    <tr>\n",
       "      <th>22</th>\n",
       "      <td>23</td>\n",
       "      <td>Lewin prabhu Stalin</td>\n",
       "      <td>26.0</td>\n",
       "      <td>Male</td>\n",
       "      <td>379 2nd Street Amman nagar extension kattur Tr...</td>\n",
       "      <td>9600937229</td>\n",
       "      <td>L4660017</td>\n",
       "      <td>Yes</td>\n",
       "      <td>NaN</td>\n",
       "      <td>Italy</td>\n",
       "      <td>08/03/2020</td>\n",
       "      <td>Trichy</td>\n",
       "      <td>09/03/2020</td>\n",
       "      <td>Corporation</td>\n",
       "      <td>NaN</td>\n",
       "    </tr>\n",
       "    <tr>\n",
       "      <th>23</th>\n",
       "      <td>24</td>\n",
       "      <td>VIGNESH NALLAIYAN RAMASAMI</td>\n",
       "      <td>27.0</td>\n",
       "      <td>Male</td>\n",
       "      <td>19 2ND CROSS SRI RAM NAGAR TRICHY -6200019.</td>\n",
       "      <td>8883817317</td>\n",
       "      <td>L3685845</td>\n",
       "      <td>Yes</td>\n",
       "      <td>NaN</td>\n",
       "      <td>Italy</td>\n",
       "      <td>09/03/2020</td>\n",
       "      <td>Chennai</td>\n",
       "      <td>09/03/2020</td>\n",
       "      <td>Corporation</td>\n",
       "      <td>NaN</td>\n",
       "    </tr>\n",
       "    <tr>\n",
       "      <th>24</th>\n",
       "      <td>25</td>\n",
       "      <td>Mr. MOHAMED JAVITH</td>\n",
       "      <td>31.0</td>\n",
       "      <td>Male</td>\n",
       "      <td>YAKUB SHERIFF (Father) NO:155/6 INDIRA NAGAR K...</td>\n",
       "      <td>9886251421</td>\n",
       "      <td>NaN</td>\n",
       "      <td>Yes</td>\n",
       "      <td>NaN</td>\n",
       "      <td>Saudi</td>\n",
       "      <td>07/03/2020</td>\n",
       "      <td>Chennai</td>\n",
       "      <td>10/03/2020</td>\n",
       "      <td>Corporation</td>\n",
       "      <td>NaN</td>\n",
       "    </tr>\n",
       "    <tr>\n",
       "      <th>25</th>\n",
       "      <td>26</td>\n",
       "      <td>Mr. MOHAMED JAVITH</td>\n",
       "      <td>31.0</td>\n",
       "      <td>Male</td>\n",
       "      <td>YAKUB SHERIFF (Father) NO:155/6 INDIRA NAGAR K...</td>\n",
       "      <td>9886251421</td>\n",
       "      <td>NaN</td>\n",
       "      <td>Yes</td>\n",
       "      <td>NaN</td>\n",
       "      <td>Saudi</td>\n",
       "      <td>07/03/2020</td>\n",
       "      <td>Chennai</td>\n",
       "      <td>10/03/2020</td>\n",
       "      <td>Corporation</td>\n",
       "      <td>NaN</td>\n",
       "    </tr>\n",
       "    <tr>\n",
       "      <th>26</th>\n",
       "      <td>27</td>\n",
       "      <td>Jagannathan Balaji</td>\n",
       "      <td>30.0</td>\n",
       "      <td>Male</td>\n",
       "      <td>27/31 east chitra Street Srirangam Trichy</td>\n",
       "      <td>9524354403</td>\n",
       "      <td>L3674444</td>\n",
       "      <td>Yes</td>\n",
       "      <td>NaN</td>\n",
       "      <td>South Korea</td>\n",
       "      <td>10/03/2020</td>\n",
       "      <td>Trichy</td>\n",
       "      <td>10/03/2020</td>\n",
       "      <td>Corporation</td>\n",
       "      <td>NaN</td>\n",
       "    </tr>\n",
       "    <tr>\n",
       "      <th>27</th>\n",
       "      <td>28</td>\n",
       "      <td>Balaji padmasree</td>\n",
       "      <td>21.0</td>\n",
       "      <td>Female</td>\n",
       "      <td>27/31 east chitra Street Srirangam Trichy</td>\n",
       "      <td>7558180503</td>\n",
       "      <td>NaN</td>\n",
       "      <td>Yes</td>\n",
       "      <td>NaN</td>\n",
       "      <td>South Korea</td>\n",
       "      <td>10/03/2020</td>\n",
       "      <td>Trichy</td>\n",
       "      <td>10/03/2020</td>\n",
       "      <td>Corporation</td>\n",
       "      <td>NaN</td>\n",
       "    </tr>\n",
       "    <tr>\n",
       "      <th>28</th>\n",
       "      <td>29</td>\n",
       "      <td>BARZAGHI ELISA</td>\n",
       "      <td>33.0</td>\n",
       "      <td>Female</td>\n",
       "      <td>MRS MARY CHANDRAKANTH NO5 ANNAI AVENUE - TRICH...</td>\n",
       "      <td>0431 4226116</td>\n",
       "      <td>YA5146004</td>\n",
       "      <td>Yes</td>\n",
       "      <td>NaN</td>\n",
       "      <td>Italy</td>\n",
       "      <td>26/02/2020</td>\n",
       "      <td>Delhi</td>\n",
       "      <td>11/03/2020</td>\n",
       "      <td>Corporation</td>\n",
       "      <td>NaN</td>\n",
       "    </tr>\n",
       "    <tr>\n",
       "      <th>29</th>\n",
       "      <td>30</td>\n",
       "      <td>BARZAGHI ALBERTO</td>\n",
       "      <td>34.0</td>\n",
       "      <td>Male</td>\n",
       "      <td>MRS MARY CHANDRAKANTH NO5 ANNAI AVENUE - TRICH...</td>\n",
       "      <td>0431 4226116</td>\n",
       "      <td>YB0521529</td>\n",
       "      <td>Yes</td>\n",
       "      <td>NaN</td>\n",
       "      <td>Italy</td>\n",
       "      <td>26/02/2020</td>\n",
       "      <td>Delhi</td>\n",
       "      <td>11/03/2020</td>\n",
       "      <td>Corporation</td>\n",
       "      <td>NaN</td>\n",
       "    </tr>\n",
       "    <tr>\n",
       "      <th>...</th>\n",
       "      <td>...</td>\n",
       "      <td>...</td>\n",
       "      <td>...</td>\n",
       "      <td>...</td>\n",
       "      <td>...</td>\n",
       "      <td>...</td>\n",
       "      <td>...</td>\n",
       "      <td>...</td>\n",
       "      <td>...</td>\n",
       "      <td>...</td>\n",
       "      <td>...</td>\n",
       "      <td>...</td>\n",
       "      <td>...</td>\n",
       "      <td>...</td>\n",
       "      <td>...</td>\n",
       "    </tr>\n",
       "    <tr>\n",
       "      <th>246</th>\n",
       "      <td>247</td>\n",
       "      <td>Malathi Jayaram</td>\n",
       "      <td>66.0</td>\n",
       "      <td>Female</td>\n",
       "      <td>C1 C62A 10thcross thillai nagar Trichy</td>\n",
       "      <td>9442026513</td>\n",
       "      <td>L6464413</td>\n",
       "      <td>Abudhabi</td>\n",
       "      <td>Abudhabi</td>\n",
       "      <td>Abudhabi</td>\n",
       "      <td>21/03/2020</td>\n",
       "      <td>APHO</td>\n",
       "      <td>20/03/2020</td>\n",
       "      <td>Corporation</td>\n",
       "      <td>NaN</td>\n",
       "    </tr>\n",
       "    <tr>\n",
       "      <th>247</th>\n",
       "      <td>248</td>\n",
       "      <td>Nilakanta Jayaram</td>\n",
       "      <td>74.0</td>\n",
       "      <td>Male</td>\n",
       "      <td>C1 C62A 10thcross thillai nagar Trichy</td>\n",
       "      <td>9442026513</td>\n",
       "      <td>L4674667</td>\n",
       "      <td>Abudhabi</td>\n",
       "      <td>Abudhabi</td>\n",
       "      <td>Abudhabi</td>\n",
       "      <td>21/03/2020</td>\n",
       "      <td>APHO</td>\n",
       "      <td>20/03/2020</td>\n",
       "      <td>Corporation</td>\n",
       "      <td>NaN</td>\n",
       "    </tr>\n",
       "    <tr>\n",
       "      <th>248</th>\n",
       "      <td>249</td>\n",
       "      <td>Sambandam</td>\n",
       "      <td>70.0</td>\n",
       "      <td>Male</td>\n",
       "      <td>72 Crawford Colony main road e.puthur Trichy</td>\n",
       "      <td>9524685151</td>\n",
       "      <td>S1569295</td>\n",
       "      <td>Dubai</td>\n",
       "      <td>Dubai</td>\n",
       "      <td>Dubai</td>\n",
       "      <td>21/03/2020</td>\n",
       "      <td>APHO</td>\n",
       "      <td>20/03/2020</td>\n",
       "      <td>Corporation</td>\n",
       "      <td>NaN</td>\n",
       "    </tr>\n",
       "    <tr>\n",
       "      <th>249</th>\n",
       "      <td>250</td>\n",
       "      <td>Razia</td>\n",
       "      <td>61.0</td>\n",
       "      <td>Male</td>\n",
       "      <td>10A padugai main road Ramachandra nagar e.puth...</td>\n",
       "      <td>9965108956</td>\n",
       "      <td>K1948968</td>\n",
       "      <td>Dubai</td>\n",
       "      <td>Dubai</td>\n",
       "      <td>Dubai</td>\n",
       "      <td>20/03/2020</td>\n",
       "      <td>APHO</td>\n",
       "      <td>20/03/2020</td>\n",
       "      <td>Corporation</td>\n",
       "      <td>NaN</td>\n",
       "    </tr>\n",
       "    <tr>\n",
       "      <th>250</th>\n",
       "      <td>251</td>\n",
       "      <td>Basha</td>\n",
       "      <td>55.0</td>\n",
       "      <td>Male</td>\n",
       "      <td>4th Muslim Street Crawford Trichy</td>\n",
       "      <td>9787653709</td>\n",
       "      <td>L6620795</td>\n",
       "      <td>Dubai</td>\n",
       "      <td>Dubai</td>\n",
       "      <td>Dubai</td>\n",
       "      <td>21/03/2020</td>\n",
       "      <td>APHO</td>\n",
       "      <td>20/03/2020</td>\n",
       "      <td>Corporation</td>\n",
       "      <td>NaN</td>\n",
       "    </tr>\n",
       "    <tr>\n",
       "      <th>251</th>\n",
       "      <td>252</td>\n",
       "      <td>Mustafa ahamed</td>\n",
       "      <td>66.0</td>\n",
       "      <td>Male</td>\n",
       "      <td>10A padugai main road Ramachandra nagar e.puth...</td>\n",
       "      <td>9965108956</td>\n",
       "      <td>K1951794</td>\n",
       "      <td>Dubai</td>\n",
       "      <td>Dubai</td>\n",
       "      <td>Dubai</td>\n",
       "      <td>20/03/2020</td>\n",
       "      <td>APHO</td>\n",
       "      <td>20/03/2020</td>\n",
       "      <td>Corporation</td>\n",
       "      <td>NaN</td>\n",
       "    </tr>\n",
       "    <tr>\n",
       "      <th>252</th>\n",
       "      <td>253</td>\n",
       "      <td>SHAHUPATTANI SHAHUL HAMEED</td>\n",
       "      <td>61.0</td>\n",
       "      <td>Male</td>\n",
       "      <td>42/59-159 KUTHBISHNAGAR TENNUR CITY - TRICHY</td>\n",
       "      <td>9444182078</td>\n",
       "      <td>Z5488691</td>\n",
       "      <td>Singapore</td>\n",
       "      <td>Singapore</td>\n",
       "      <td>Singapore</td>\n",
       "      <td>16/03/2020</td>\n",
       "      <td>APHO</td>\n",
       "      <td>20/03/2020</td>\n",
       "      <td>Corporation</td>\n",
       "      <td>NaN</td>\n",
       "    </tr>\n",
       "    <tr>\n",
       "      <th>253</th>\n",
       "      <td>254</td>\n",
       "      <td>JOHNSON GREGORY JOYNAR</td>\n",
       "      <td>22.0</td>\n",
       "      <td>Female</td>\n",
       "      <td>JAYALAKSHMI NAGAR K.K.NAGAR 1ST ST CITY - TIRUCHY</td>\n",
       "      <td>9884683052</td>\n",
       "      <td>M3118007</td>\n",
       "      <td>Singapore</td>\n",
       "      <td>Singapore</td>\n",
       "      <td>Singapore</td>\n",
       "      <td>16/03/2020</td>\n",
       "      <td>APHO</td>\n",
       "      <td>20/03/2020</td>\n",
       "      <td>Corporation</td>\n",
       "      <td>NaN</td>\n",
       "    </tr>\n",
       "    <tr>\n",
       "      <th>254</th>\n",
       "      <td>255</td>\n",
       "      <td>MALLIGA KRISHNAMOORTHY</td>\n",
       "      <td>58.0</td>\n",
       "      <td>Female</td>\n",
       "      <td>MALLIGAI ST EZHIL NAGAR CITY - TRICHYT</td>\n",
       "      <td>9994561643</td>\n",
       "      <td>P0611629</td>\n",
       "      <td>Singapore</td>\n",
       "      <td>Singapore</td>\n",
       "      <td>Singapore</td>\n",
       "      <td>16/03/2020</td>\n",
       "      <td>APHO</td>\n",
       "      <td>20/03/2020</td>\n",
       "      <td>Corporation</td>\n",
       "      <td>NaN</td>\n",
       "    </tr>\n",
       "    <tr>\n",
       "      <th>255</th>\n",
       "      <td>256</td>\n",
       "      <td>HOHAMED AYOOB MOHAMMED YASEER ARAFATH</td>\n",
       "      <td>31.0</td>\n",
       "      <td>Male</td>\n",
       "      <td>12 IBRAHIM NAGAR TRICHY CITY - TRICHY</td>\n",
       "      <td>9443141965</td>\n",
       "      <td>R3507185</td>\n",
       "      <td>SriLankan</td>\n",
       "      <td>SriLankan</td>\n",
       "      <td>SriLankan</td>\n",
       "      <td>16/03/2020</td>\n",
       "      <td>APHO</td>\n",
       "      <td>20/03/2020</td>\n",
       "      <td>Corporation</td>\n",
       "      <td>NaN</td>\n",
       "    </tr>\n",
       "    <tr>\n",
       "      <th>256</th>\n",
       "      <td>257</td>\n",
       "      <td>SARANGARAJA NEHARIKA</td>\n",
       "      <td>4.0</td>\n",
       "      <td>Female</td>\n",
       "      <td>25/22 3RD FLOOR G 10 A WEST CR9SS THILLAINAGAR...</td>\n",
       "      <td>9176091863</td>\n",
       "      <td>N9640775</td>\n",
       "      <td>SriLankan</td>\n",
       "      <td>SriLankan</td>\n",
       "      <td>SriLankan</td>\n",
       "      <td>16/03/2020</td>\n",
       "      <td>APHO</td>\n",
       "      <td>20/03/2020</td>\n",
       "      <td>Corporation</td>\n",
       "      <td>NaN</td>\n",
       "    </tr>\n",
       "    <tr>\n",
       "      <th>257</th>\n",
       "      <td>258</td>\n",
       "      <td>SYED MUSTHAFA ABDUL RASHEED</td>\n",
       "      <td>34.0</td>\n",
       "      <td>Male</td>\n",
       "      <td>17/6 ABDUL KALAM AZAD ST ARIYAMANGALAM CITY - ...</td>\n",
       "      <td>7502279300</td>\n",
       "      <td>P8442788</td>\n",
       "      <td>SriLankan</td>\n",
       "      <td>SriLankan</td>\n",
       "      <td>SriLankan</td>\n",
       "      <td>16/03/2020</td>\n",
       "      <td>APHO</td>\n",
       "      <td>20/03/2020</td>\n",
       "      <td>Corporation</td>\n",
       "      <td>NaN</td>\n",
       "    </tr>\n",
       "    <tr>\n",
       "      <th>258</th>\n",
       "      <td>259</td>\n",
       "      <td>NARASIMHAN PRATHIBHA CHITRALAYA</td>\n",
       "      <td>35.0</td>\n",
       "      <td>Female</td>\n",
       "      <td>25/22 3RD FLOOR G 10 A WEST CR9SS  THILLAINAGA...</td>\n",
       "      <td>9176091863</td>\n",
       "      <td>K7810232</td>\n",
       "      <td>SriLankan</td>\n",
       "      <td>SriLankan</td>\n",
       "      <td>SriLankan</td>\n",
       "      <td>16/03/2020</td>\n",
       "      <td>APHO</td>\n",
       "      <td>20/03/2020</td>\n",
       "      <td>Corporation</td>\n",
       "      <td>NaN</td>\n",
       "    </tr>\n",
       "    <tr>\n",
       "      <th>259</th>\n",
       "      <td>260</td>\n",
       "      <td>KRISHNAN VENUGOPAL</td>\n",
       "      <td>69.0</td>\n",
       "      <td>Male</td>\n",
       "      <td>7/3 THAYUMANAVAR ST AYYAPPANAGAR K SATHANUR CI...</td>\n",
       "      <td>9443837831</td>\n",
       "      <td>L3667760</td>\n",
       "      <td>SriLankan</td>\n",
       "      <td>SriLankan</td>\n",
       "      <td>SriLankan</td>\n",
       "      <td>16/03/2020</td>\n",
       "      <td>APHO</td>\n",
       "      <td>20/03/2020</td>\n",
       "      <td>Corporation</td>\n",
       "      <td>NaN</td>\n",
       "    </tr>\n",
       "    <tr>\n",
       "      <th>260</th>\n",
       "      <td>261</td>\n",
       "      <td>SARANGARAJA MADHAV KRISHNA</td>\n",
       "      <td>7.0</td>\n",
       "      <td>Male</td>\n",
       "      <td>25/22 3RD FLOOR G 10 A WEST CROSS  THILLAINAGA...</td>\n",
       "      <td>9176091863</td>\n",
       "      <td>S6652262</td>\n",
       "      <td>SriLankan</td>\n",
       "      <td>SriLankan</td>\n",
       "      <td>SriLankan</td>\n",
       "      <td>16/03/2020</td>\n",
       "      <td>APHO</td>\n",
       "      <td>20/03/2020</td>\n",
       "      <td>Corporation</td>\n",
       "      <td>NaN</td>\n",
       "    </tr>\n",
       "    <tr>\n",
       "      <th>261</th>\n",
       "      <td>262</td>\n",
       "      <td>SIVAKUMAR SAGARIKKA</td>\n",
       "      <td>19.0</td>\n",
       "      <td>Female</td>\n",
       "      <td>C112 5TH CROSS OPP TO NILGIRIS THILLAINAGAR TR...</td>\n",
       "      <td>9790064242</td>\n",
       "      <td>S1548637</td>\n",
       "      <td>London Heathrow</td>\n",
       "      <td>London Heathrow</td>\n",
       "      <td>London Heathrow</td>\n",
       "      <td>16/03/2020</td>\n",
       "      <td>APHO</td>\n",
       "      <td>20/03/2020</td>\n",
       "      <td>Corporation</td>\n",
       "      <td>NaN</td>\n",
       "    </tr>\n",
       "    <tr>\n",
       "      <th>262</th>\n",
       "      <td>263</td>\n",
       "      <td>RATNAM PAUL MOSES CHRISTUDOSS</td>\n",
       "      <td>42.0</td>\n",
       "      <td>Male</td>\n",
       "      <td>55KONAKACAI ROAD WORAIYUP  CITY - TRICHY\"</td>\n",
       "      <td>9842450961</td>\n",
       "      <td>P8779930</td>\n",
       "      <td>Muscat</td>\n",
       "      <td>Muscat</td>\n",
       "      <td>Muscat</td>\n",
       "      <td>16/03/2020</td>\n",
       "      <td>APHO</td>\n",
       "      <td>20/03/2020</td>\n",
       "      <td>Corporation</td>\n",
       "      <td>NaN</td>\n",
       "    </tr>\n",
       "    <tr>\n",
       "      <th>263</th>\n",
       "      <td>264</td>\n",
       "      <td>DEJOVIDANGA GURUKKAL SIVASUBRAMANIAN</td>\n",
       "      <td>30.0</td>\n",
       "      <td>Male</td>\n",
       "      <td>OLD NO.3 NEW NO.1 PERIYACHETTY STREET TRITURAP...</td>\n",
       "      <td>9443835638</td>\n",
       "      <td>J0691149</td>\n",
       "      <td>Muscat</td>\n",
       "      <td>Muscat</td>\n",
       "      <td>Muscat</td>\n",
       "      <td>16/03/2020</td>\n",
       "      <td>APHO</td>\n",
       "      <td>20/03/2020</td>\n",
       "      <td>Corporation</td>\n",
       "      <td>NaN</td>\n",
       "    </tr>\n",
       "    <tr>\n",
       "      <th>264</th>\n",
       "      <td>265</td>\n",
       "      <td>MATHARSA NASAR</td>\n",
       "      <td>38.0</td>\n",
       "      <td>Male</td>\n",
       "      <td>GROUND FLOOR G3 TRV ENCLAVE 25/41 PUTHUR AGRAH...</td>\n",
       "      <td>9597718948</td>\n",
       "      <td>K2090122</td>\n",
       "      <td>Muscat</td>\n",
       "      <td>Muscat</td>\n",
       "      <td>Muscat</td>\n",
       "      <td>16/03/2020</td>\n",
       "      <td>APHO</td>\n",
       "      <td>20/03/2020</td>\n",
       "      <td>Corporation</td>\n",
       "      <td>NaN</td>\n",
       "    </tr>\n",
       "    <tr>\n",
       "      <th>265</th>\n",
       "      <td>266</td>\n",
       "      <td>SRINIVASAN RAMANUJAM</td>\n",
       "      <td>47.0</td>\n",
       "      <td>Male</td>\n",
       "      <td>GROUND FLOOR G3 T.R.V ENCLAVE 25/41 PUTHUR AGR...</td>\n",
       "      <td>9578859233</td>\n",
       "      <td>Z2914051</td>\n",
       "      <td>Muscat</td>\n",
       "      <td>Muscat</td>\n",
       "      <td>Muscat</td>\n",
       "      <td>16/03/2020</td>\n",
       "      <td>APHO</td>\n",
       "      <td>20/03/2020</td>\n",
       "      <td>Corporation</td>\n",
       "      <td>NaN</td>\n",
       "    </tr>\n",
       "    <tr>\n",
       "      <th>266</th>\n",
       "      <td>267</td>\n",
       "      <td>MICHAEL ANTONY DEVASAGAYAM RAVINDRAN</td>\n",
       "      <td>64.0</td>\n",
       "      <td>Male</td>\n",
       "      <td>54C MARUTHAM COLONY PUTHUR CITY - TRICHY</td>\n",
       "      <td>9994466500</td>\n",
       "      <td>Z3553938</td>\n",
       "      <td>Muscat</td>\n",
       "      <td>Muscat</td>\n",
       "      <td>Muscat</td>\n",
       "      <td>16/03/2020</td>\n",
       "      <td>APHO</td>\n",
       "      <td>20/03/2020</td>\n",
       "      <td>Corporation</td>\n",
       "      <td>NaN</td>\n",
       "    </tr>\n",
       "    <tr>\n",
       "      <th>267</th>\n",
       "      <td>268</td>\n",
       "      <td>LEO PHILOMEN NIRMAL</td>\n",
       "      <td>66.0</td>\n",
       "      <td>Male</td>\n",
       "      <td>3 BETHEL GARDENS JOSEPH AVENUE TSA NAGAR CRAWF...</td>\n",
       "      <td>9443151748</td>\n",
       "      <td>S8428805</td>\n",
       "      <td>Muscat</td>\n",
       "      <td>Muscat</td>\n",
       "      <td>Muscat</td>\n",
       "      <td>16/03/2020</td>\n",
       "      <td>APHO</td>\n",
       "      <td>20/03/2020</td>\n",
       "      <td>Corporation</td>\n",
       "      <td>NaN</td>\n",
       "    </tr>\n",
       "    <tr>\n",
       "      <th>268</th>\n",
       "      <td>269</td>\n",
       "      <td>Hajumohidem</td>\n",
       "      <td>47.0</td>\n",
       "      <td>Male</td>\n",
       "      <td>1/228 Barathi st Trichy</td>\n",
       "      <td>8870345699</td>\n",
       "      <td>K0858439</td>\n",
       "      <td>Sharjah</td>\n",
       "      <td>Sharjah</td>\n",
       "      <td>Sharjah</td>\n",
       "      <td>19/03/2020</td>\n",
       "      <td>APHO</td>\n",
       "      <td>20/03/2020</td>\n",
       "      <td>Corporation</td>\n",
       "      <td>NaN</td>\n",
       "    </tr>\n",
       "    <tr>\n",
       "      <th>269</th>\n",
       "      <td>270</td>\n",
       "      <td>PARAMASIVAM PRAKASH</td>\n",
       "      <td>27.0</td>\n",
       "      <td>Male</td>\n",
       "      <td>ANNA NAGAR SANGILIYANNDAPURAM CITY - TRICHY</td>\n",
       "      <td>9894731270</td>\n",
       "      <td>J9849113</td>\n",
       "      <td>Singapore</td>\n",
       "      <td>Singapore</td>\n",
       "      <td>Singapore</td>\n",
       "      <td>17/03/2020</td>\n",
       "      <td>APHO</td>\n",
       "      <td>20/03/2020</td>\n",
       "      <td>Corporation</td>\n",
       "      <td>NaN</td>\n",
       "    </tr>\n",
       "    <tr>\n",
       "      <th>270</th>\n",
       "      <td>271</td>\n",
       "      <td>JOSEPH SAVARIYAR VINCENTRAJ</td>\n",
       "      <td>20.0</td>\n",
       "      <td>Male</td>\n",
       "      <td>NO 47KARU MARIYAMMAN KOIL STREET TRICHI RURAL ...</td>\n",
       "      <td>9786876814</td>\n",
       "      <td>N6945672</td>\n",
       "      <td>Maldives</td>\n",
       "      <td>Maldives</td>\n",
       "      <td>Maldives</td>\n",
       "      <td>17/03/2020</td>\n",
       "      <td>APHO</td>\n",
       "      <td>20/03/2020</td>\n",
       "      <td>Corporation</td>\n",
       "      <td>NaN</td>\n",
       "    </tr>\n",
       "    <tr>\n",
       "      <th>271</th>\n",
       "      <td>272</td>\n",
       "      <td>RAJU VIJAYALAKSHMI</td>\n",
       "      <td>52.0</td>\n",
       "      <td>Female</td>\n",
       "      <td>NO:16 SECOND STREET GUKULNAGAR KATTUR POST THI...</td>\n",
       "      <td>9443179398/9443179398</td>\n",
       "      <td>T6079783</td>\n",
       "      <td>Malysia</td>\n",
       "      <td>Malysia</td>\n",
       "      <td>Malysia</td>\n",
       "      <td>17/03/2020</td>\n",
       "      <td>APHO</td>\n",
       "      <td>20/03/2020</td>\n",
       "      <td>Corporation</td>\n",
       "      <td>NaN</td>\n",
       "    </tr>\n",
       "    <tr>\n",
       "      <th>272</th>\n",
       "      <td>273</td>\n",
       "      <td>KAJA MOHIDEEN SHEIK MOHAMED</td>\n",
       "      <td>34.0</td>\n",
       "      <td>Male</td>\n",
       "      <td>28/18 AMBARSHA PALLIVASAL ST PALAKARAI CITY - ...</td>\n",
       "      <td>9750778442</td>\n",
       "      <td>M1106448</td>\n",
       "      <td>Malysia</td>\n",
       "      <td>Malysia</td>\n",
       "      <td>Malysia</td>\n",
       "      <td>17/03/2020</td>\n",
       "      <td>APHO</td>\n",
       "      <td>20/03/2020</td>\n",
       "      <td>Corporation</td>\n",
       "      <td>NaN</td>\n",
       "    </tr>\n",
       "    <tr>\n",
       "      <th>273</th>\n",
       "      <td>274</td>\n",
       "      <td>UMAPATHY JAYA SUTHA</td>\n",
       "      <td>44.0</td>\n",
       "      <td>Female</td>\n",
       "      <td>4/239 SAKTHI NAGAR TRICHY</td>\n",
       "      <td>9942147313</td>\n",
       "      <td>U2280177</td>\n",
       "      <td>Malysia</td>\n",
       "      <td>Malysia</td>\n",
       "      <td>Malysia</td>\n",
       "      <td>17/03/2020</td>\n",
       "      <td>APHO</td>\n",
       "      <td>20/03/2020</td>\n",
       "      <td>Corporation</td>\n",
       "      <td>NaN</td>\n",
       "    </tr>\n",
       "    <tr>\n",
       "      <th>274</th>\n",
       "      <td>275</td>\n",
       "      <td>NATARAJAN SHYAMALA</td>\n",
       "      <td>40.0</td>\n",
       "      <td>Female</td>\n",
       "      <td>G1 KANNIKA NIWAS NO6 VARADHACHARY STREET TRICH...</td>\n",
       "      <td>9442775228</td>\n",
       "      <td>L4557669</td>\n",
       "      <td>New Delhi</td>\n",
       "      <td>New Delhi</td>\n",
       "      <td>New Delhi</td>\n",
       "      <td>17/03/2020</td>\n",
       "      <td>APHO</td>\n",
       "      <td>20/03/2020</td>\n",
       "      <td>Corporation</td>\n",
       "      <td>NaN</td>\n",
       "    </tr>\n",
       "    <tr>\n",
       "      <th>275</th>\n",
       "      <td>276</td>\n",
       "      <td>GOVINDAN ARUN</td>\n",
       "      <td>37.0</td>\n",
       "      <td>Male</td>\n",
       "      <td>G1 KANNIKA NIWAS NO 6 VARADHACHARY STREET TRIC...</td>\n",
       "      <td>9442775228</td>\n",
       "      <td>L4558884</td>\n",
       "      <td>New Delhi</td>\n",
       "      <td>New Delhi</td>\n",
       "      <td>New Delhi</td>\n",
       "      <td>17/03/2020</td>\n",
       "      <td>APHO</td>\n",
       "      <td>20/03/2020</td>\n",
       "      <td>Corporation</td>\n",
       "      <td>NaN</td>\n",
       "    </tr>\n",
       "  </tbody>\n",
       "</table>\n",
       "<p>276 rows × 15 columns</p>\n",
       "</div>"
      ],
      "text/plain": [
       "     SlNo                                   Name   Age     Sex  \\\n",
       "0       1                      SEKAR RANGANATHAN  31.0    Male   \n",
       "1       2                                 SURESH  44.0    Male   \n",
       "2       3                      RAMASWAMY PRAKASH  29.0    Male   \n",
       "3       4                   Selvam praveen kumar  20.0    Male   \n",
       "4       5                         Shanthi kumari  44.0  Female   \n",
       "5       6                        Arumugam priyan  30.0    Male   \n",
       "6       7        Charles William Shirley William  18.0  Female   \n",
       "7       8                             Sethuraman  23.0    Male   \n",
       "8       9            Thandayuthapani seetharaman  69.0    Male   \n",
       "9      10                Visalakshi Seetha raman  65.0  Female   \n",
       "10     11                 Manilal mahendra kumar  64.0    Male   \n",
       "11     12                         Shobana m.vola  40.0  Female   \n",
       "12     13                   Gulam kazhal sridhar  27.0    Male   \n",
       "13     14                               Nandhini  26.0  Female   \n",
       "14     15                       Ashwin chellaiya  26.0  Female   \n",
       "15     16                        Mookan rengaraj  40.0    Male   \n",
       "16     17                     Rengaraj krithigan   2.0    Male   \n",
       "17     18                       Krishnan anandhi  33.0  Female   \n",
       "18     19                    Rengaraj gurucharan   6.0    Male   \n",
       "19     20                          Sanjay Balaji  24.0    Male   \n",
       "20     21                              Salmankan  27.0    Male   \n",
       "21     22                 Shankar mani kanagaraj  25.0    Male   \n",
       "22     23                    Lewin prabhu Stalin  26.0    Male   \n",
       "23     24             VIGNESH NALLAIYAN RAMASAMI  27.0    Male   \n",
       "24     25                     Mr. MOHAMED JAVITH  31.0    Male   \n",
       "25     26                     Mr. MOHAMED JAVITH  31.0    Male   \n",
       "26     27                     Jagannathan Balaji  30.0    Male   \n",
       "27     28                       Balaji padmasree  21.0  Female   \n",
       "28     29                         BARZAGHI ELISA  33.0  Female   \n",
       "29     30                       BARZAGHI ALBERTO  34.0    Male   \n",
       "..    ...                                    ...   ...     ...   \n",
       "246   247                        Malathi Jayaram  66.0  Female   \n",
       "247   248                      Nilakanta Jayaram  74.0    Male   \n",
       "248   249                              Sambandam  70.0    Male   \n",
       "249   250                                  Razia  61.0    Male   \n",
       "250   251                                  Basha  55.0    Male   \n",
       "251   252                         Mustafa ahamed  66.0    Male   \n",
       "252   253             SHAHUPATTANI SHAHUL HAMEED  61.0    Male   \n",
       "253   254                 JOHNSON GREGORY JOYNAR  22.0  Female   \n",
       "254   255                 MALLIGA KRISHNAMOORTHY  58.0  Female   \n",
       "255   256  HOHAMED AYOOB MOHAMMED YASEER ARAFATH  31.0    Male   \n",
       "256   257                   SARANGARAJA NEHARIKA   4.0  Female   \n",
       "257   258            SYED MUSTHAFA ABDUL RASHEED  34.0    Male   \n",
       "258   259        NARASIMHAN PRATHIBHA CHITRALAYA  35.0  Female   \n",
       "259   260                     KRISHNAN VENUGOPAL  69.0    Male   \n",
       "260   261             SARANGARAJA MADHAV KRISHNA   7.0    Male   \n",
       "261   262                    SIVAKUMAR SAGARIKKA  19.0  Female   \n",
       "262   263          RATNAM PAUL MOSES CHRISTUDOSS  42.0    Male   \n",
       "263   264   DEJOVIDANGA GURUKKAL SIVASUBRAMANIAN  30.0    Male   \n",
       "264   265                         MATHARSA NASAR  38.0    Male   \n",
       "265   266                   SRINIVASAN RAMANUJAM  47.0    Male   \n",
       "266   267   MICHAEL ANTONY DEVASAGAYAM RAVINDRAN  64.0    Male   \n",
       "267   268                    LEO PHILOMEN NIRMAL  66.0    Male   \n",
       "268   269                            Hajumohidem  47.0    Male   \n",
       "269   270                    PARAMASIVAM PRAKASH  27.0    Male   \n",
       "270   271            JOSEPH SAVARIYAR VINCENTRAJ  20.0    Male   \n",
       "271   272                     RAJU VIJAYALAKSHMI  52.0  Female   \n",
       "272   273            KAJA MOHIDEEN SHEIK MOHAMED  34.0    Male   \n",
       "273   274                    UMAPATHY JAYA SUTHA  44.0  Female   \n",
       "274   275                     NATARAJAN SHYAMALA  40.0  Female   \n",
       "275   276                          GOVINDAN ARUN  37.0    Male   \n",
       "\n",
       "                                               Address         Contact Number  \\\n",
       "0    M BLOCK SFL PRIYA SUNDARSHAN APTS SRIRANGAM TR...             9994920030   \n",
       "1    72 SANTHOSE NAGAR MK KOTTAI POST TRICHY TN-620011  9941427331/9941717052   \n",
       "2    S/oSathsivam 32/21 Nadu Thuvankarasi TRICHY-62...             9003757474   \n",
       "3                        1 reddi st beema nagar Trichy             9443440108   \n",
       "4                               53b chinnasetty Trichy             9842131877   \n",
       "5                     13 arul Murugan garden srirangam             9842832116   \n",
       "6               31st West cross Singam nagar Trichy-20             8903647774   \n",
       "7          3rd Cross Raghavendra Garden thiruvanikovil             9944083454   \n",
       "8                 27/e3 3rd cross thillai nagar Trichy             7373057007   \n",
       "9                27/e3 3rd cross thillai nagar Trichy.             9943892111   \n",
       "10             17/1 10th B cross thillai nagar Trichy.             9345130251   \n",
       "11              17/1 10th B cross thillai nagar Trichy             9345211021   \n",
       "12              5/40 D kandy Street beema nagar Trichy             9994690239   \n",
       "13    6 barath avenue pappakurichi road kattur Trichy.             7502485565   \n",
       "14     6 barath avenue pappakurichi road kattur Trichy             7502485565   \n",
       "15             79 pillaiyar koil Street e.pudur Trichy             9789091740   \n",
       "16            79 pillaiyar koil Street e.puthur Trichy             9789091740   \n",
       "17            79 pillaiyar koil Street e.puthur Trichy             9789091740   \n",
       "18            79 pillaiyar koil Street e.puthur Trichy             9789091740   \n",
       "19                       6A 1st cross v.n.nagar Trichy             8681811611   \n",
       "20   24/253 2nd cross ganapathy nagar v.k.t.malai T...             9578312704   \n",
       "21           24 Perumal colony tvk nagar puthur Trichy             9442302198   \n",
       "22   379 2nd Street Amman nagar extension kattur Tr...             9600937229   \n",
       "23         19 2ND CROSS SRI RAM NAGAR TRICHY -6200019.             8883817317   \n",
       "24   YAKUB SHERIFF (Father) NO:155/6 INDIRA NAGAR K...             9886251421   \n",
       "25   YAKUB SHERIFF (Father) NO:155/6 INDIRA NAGAR K...             9886251421   \n",
       "26           27/31 east chitra Street Srirangam Trichy             9524354403   \n",
       "27           27/31 east chitra Street Srirangam Trichy             7558180503   \n",
       "28   MRS MARY CHANDRAKANTH NO5 ANNAI AVENUE - TRICH...           0431 4226116   \n",
       "29   MRS MARY CHANDRAKANTH NO5 ANNAI AVENUE - TRICH...           0431 4226116   \n",
       "..                                                 ...                    ...   \n",
       "246             C1 C62A 10thcross thillai nagar Trichy             9442026513   \n",
       "247             C1 C62A 10thcross thillai nagar Trichy             9442026513   \n",
       "248       72 Crawford Colony main road e.puthur Trichy             9524685151   \n",
       "249  10A padugai main road Ramachandra nagar e.puth...             9965108956   \n",
       "250                  4th Muslim Street Crawford Trichy             9787653709   \n",
       "251  10A padugai main road Ramachandra nagar e.puth...             9965108956   \n",
       "252       42/59-159 KUTHBISHNAGAR TENNUR CITY - TRICHY             9444182078   \n",
       "253  JAYALAKSHMI NAGAR K.K.NAGAR 1ST ST CITY - TIRUCHY             9884683052   \n",
       "254             MALLIGAI ST EZHIL NAGAR CITY - TRICHYT             9994561643   \n",
       "255              12 IBRAHIM NAGAR TRICHY CITY - TRICHY             9443141965   \n",
       "256  25/22 3RD FLOOR G 10 A WEST CR9SS THILLAINAGAR...             9176091863   \n",
       "257  17/6 ABDUL KALAM AZAD ST ARIYAMANGALAM CITY - ...             7502279300   \n",
       "258  25/22 3RD FLOOR G 10 A WEST CR9SS  THILLAINAGA...             9176091863   \n",
       "259  7/3 THAYUMANAVAR ST AYYAPPANAGAR K SATHANUR CI...             9443837831   \n",
       "260  25/22 3RD FLOOR G 10 A WEST CROSS  THILLAINAGA...             9176091863   \n",
       "261  C112 5TH CROSS OPP TO NILGIRIS THILLAINAGAR TR...             9790064242   \n",
       "262          55KONAKACAI ROAD WORAIYUP  CITY - TRICHY\"             9842450961   \n",
       "263  OLD NO.3 NEW NO.1 PERIYACHETTY STREET TRITURAP...             9443835638   \n",
       "264  GROUND FLOOR G3 TRV ENCLAVE 25/41 PUTHUR AGRAH...             9597718948   \n",
       "265  GROUND FLOOR G3 T.R.V ENCLAVE 25/41 PUTHUR AGR...             9578859233   \n",
       "266           54C MARUTHAM COLONY PUTHUR CITY - TRICHY             9994466500   \n",
       "267  3 BETHEL GARDENS JOSEPH AVENUE TSA NAGAR CRAWF...             9443151748   \n",
       "268                            1/228 Barathi st Trichy             8870345699   \n",
       "269        ANNA NAGAR SANGILIYANNDAPURAM CITY - TRICHY             9894731270   \n",
       "270  NO 47KARU MARIYAMMAN KOIL STREET TRICHI RURAL ...             9786876814   \n",
       "271  NO:16 SECOND STREET GUKULNAGAR KATTUR POST THI...  9443179398/9443179398   \n",
       "272  28/18 AMBARSHA PALLIVASAL ST PALAKARAI CITY - ...             9750778442   \n",
       "273                          4/239 SAKTHI NAGAR TRICHY             9942147313   \n",
       "274  G1 KANNIKA NIWAS NO6 VARADHACHARY STREET TRICH...             9442775228   \n",
       "275  G1 KANNIKA NIWAS NO 6 VARADHACHARY STREET TRIC...             9442775228   \n",
       "\n",
       "    Passport Number        Traceable Country of Visit          Province  \\\n",
       "0          T9264570              Yes      SOUTH KOREA       South Korea   \n",
       "1          J3722053              Yes      SOUTH KOREA       South Korea   \n",
       "2          J9849153              Yes              NaN             CHINA   \n",
       "3          P8438413              Yes              NaN             Japan   \n",
       "4         A40803232              Yes              NaN       South Korea   \n",
       "5          K3193150              Yes              NaN       South Korea   \n",
       "6          Z3949585              Yes              NaN       Philippines   \n",
       "7          P8448395              Yes              NaN       South Korea   \n",
       "8          L7126048              Yes              NaN  Indonesia 1month   \n",
       "9          N0097214              Yes              NaN  Indonesia 1month   \n",
       "10         N3733952              Yes              NaN  Indonesia 1month   \n",
       "11         N3733956              Yes              NaN  Indonesia 1month   \n",
       "12         M2974145              Yes              NaN             Tokyo   \n",
       "13         T6586319              Yes              NaN  Indonesia 1month   \n",
       "14         L2560071              Yes              NaN  Indonesia 1month   \n",
       "15         N1310960              Yes              NaN    Narita (Japan)   \n",
       "16         R0256604              Yes              NaN            Narita   \n",
       "17         P1606742              Yes              NaN            Narita   \n",
       "18         P1606744              Yes              NaN            Narita   \n",
       "19         M2835592              Yes              NaN             Italy   \n",
       "20         R9023607              Yes              NaN             Italy   \n",
       "21         N0747789              Yes              NaN             Italy   \n",
       "22         L4660017              Yes              NaN             Italy   \n",
       "23         L3685845              Yes              NaN             Italy   \n",
       "24              NaN              Yes              NaN             Saudi   \n",
       "25              NaN              Yes              NaN             Saudi   \n",
       "26         L3674444              Yes              NaN       South Korea   \n",
       "27              NaN              Yes              NaN       South Korea   \n",
       "28        YA5146004              Yes              NaN             Italy   \n",
       "29        YB0521529              Yes              NaN             Italy   \n",
       "..              ...              ...              ...               ...   \n",
       "246        L6464413         Abudhabi         Abudhabi          Abudhabi   \n",
       "247        L4674667         Abudhabi         Abudhabi          Abudhabi   \n",
       "248        S1569295            Dubai            Dubai             Dubai   \n",
       "249        K1948968            Dubai            Dubai             Dubai   \n",
       "250        L6620795            Dubai            Dubai             Dubai   \n",
       "251        K1951794            Dubai            Dubai             Dubai   \n",
       "252        Z5488691        Singapore        Singapore         Singapore   \n",
       "253        M3118007        Singapore        Singapore         Singapore   \n",
       "254        P0611629        Singapore        Singapore         Singapore   \n",
       "255        R3507185        SriLankan        SriLankan         SriLankan   \n",
       "256        N9640775        SriLankan        SriLankan         SriLankan   \n",
       "257        P8442788        SriLankan        SriLankan         SriLankan   \n",
       "258        K7810232        SriLankan        SriLankan         SriLankan   \n",
       "259        L3667760        SriLankan        SriLankan         SriLankan   \n",
       "260        S6652262        SriLankan        SriLankan         SriLankan   \n",
       "261        S1548637  London Heathrow  London Heathrow   London Heathrow   \n",
       "262        P8779930          Muscat           Muscat            Muscat    \n",
       "263        J0691149           Muscat           Muscat            Muscat   \n",
       "264        K2090122           Muscat           Muscat            Muscat   \n",
       "265        Z2914051           Muscat           Muscat            Muscat   \n",
       "266        Z3553938           Muscat           Muscat            Muscat   \n",
       "267        S8428805           Muscat           Muscat            Muscat   \n",
       "268        K0858439          Sharjah          Sharjah           Sharjah   \n",
       "269        J9849113        Singapore        Singapore         Singapore   \n",
       "270        N6945672         Maldives         Maldives          Maldives   \n",
       "271        T6079783          Malysia          Malysia           Malysia   \n",
       "272        M1106448          Malysia          Malysia           Malysia   \n",
       "273        U2280177          Malysia          Malysia           Malysia   \n",
       "274        L4557669        New Delhi        New Delhi         New Delhi   \n",
       "275        L4558884        New Delhi        New Delhi         New Delhi   \n",
       "\n",
       "    Date of Arrival from Affected Country  Airport  \\\n",
       "0                              01/03/2020  Chennai   \n",
       "1                              01/03/2020  Chennai   \n",
       "2                              01/03/2020  Chennai   \n",
       "3                              03/03/2020   Trichy   \n",
       "4                              04/03/2020   Trichy   \n",
       "5                              04/03/2020   Trichy   \n",
       "6                              04/03/2020   Trichy   \n",
       "7                              05/03/2020   Trichy   \n",
       "8                              06/03/2020   Trichy   \n",
       "9                              06/03/2020   Trichy   \n",
       "10                             06/03/2020   Trichy   \n",
       "11                             06/03/2020   Trichy   \n",
       "12                             07/03/2020   Trichy   \n",
       "13                             07/03/2020   Trichy   \n",
       "14                             07/03/2020   Trichy   \n",
       "15                             08/03/2020   Trichy   \n",
       "16                             08/03/2020   Trichy   \n",
       "17                             08/03/2020   Trichy   \n",
       "18                             08/03/2020   Trichy   \n",
       "19                             08/03/2020   Trichy   \n",
       "20                             08/03/2020   Trichy   \n",
       "21                             08/03/2020   Trichy   \n",
       "22                             08/03/2020   Trichy   \n",
       "23                             09/03/2020  Chennai   \n",
       "24                             07/03/2020  Chennai   \n",
       "25                             07/03/2020  Chennai   \n",
       "26                             10/03/2020   Trichy   \n",
       "27                             10/03/2020   Trichy   \n",
       "28                             26/02/2020    Delhi   \n",
       "29                             26/02/2020    Delhi   \n",
       "..                                    ...      ...   \n",
       "246                            21/03/2020     APHO   \n",
       "247                            21/03/2020     APHO   \n",
       "248                            21/03/2020     APHO   \n",
       "249                            20/03/2020     APHO   \n",
       "250                            21/03/2020     APHO   \n",
       "251                            20/03/2020     APHO   \n",
       "252                            16/03/2020     APHO   \n",
       "253                            16/03/2020     APHO   \n",
       "254                            16/03/2020     APHO   \n",
       "255                            16/03/2020     APHO   \n",
       "256                            16/03/2020     APHO   \n",
       "257                            16/03/2020     APHO   \n",
       "258                            16/03/2020     APHO   \n",
       "259                            16/03/2020     APHO   \n",
       "260                            16/03/2020     APHO   \n",
       "261                            16/03/2020     APHO   \n",
       "262                            16/03/2020     APHO   \n",
       "263                            16/03/2020     APHO   \n",
       "264                            16/03/2020     APHO   \n",
       "265                            16/03/2020     APHO   \n",
       "266                            16/03/2020     APHO   \n",
       "267                            16/03/2020     APHO   \n",
       "268                            19/03/2020     APHO   \n",
       "269                            17/03/2020     APHO   \n",
       "270                            17/03/2020     APHO   \n",
       "271                            17/03/2020     APHO   \n",
       "272                            17/03/2020     APHO   \n",
       "273                            17/03/2020     APHO   \n",
       "274                            17/03/2020     APHO   \n",
       "275                            17/03/2020     APHO   \n",
       "\n",
       "    Date of Receipt of Information   Block Name Unnamed: 15  \n",
       "0                       01/03/2020  Corporation         NaN  \n",
       "1                       01/03/2020  Corporation         NaN  \n",
       "2                       01/03/2020  Corporation         NaN  \n",
       "3                       04/03/2020  Corporation         NaN  \n",
       "4                       05/03/2020  Corporation         NaN  \n",
       "5                       05/03/2020  Corporation         NaN  \n",
       "6                       05/03/2020  Corporation         NaN  \n",
       "7                       06/03/2020  Corporation         NaN  \n",
       "8                       07/03/2020  Corporation         NaN  \n",
       "9                       07/03/2020  Corporation         NaN  \n",
       "10                      07/03/2020  Corporation         NaN  \n",
       "11                      07/03/2020  Corporation         NaN  \n",
       "12                      07/03/2020  Corporation         NaN  \n",
       "13                      08/03/2020  Corporation         NaN  \n",
       "14                      08/03/2020  Corporation         NaN  \n",
       "15                      09/03/2020  Corporation         NaN  \n",
       "16                      09/03/2020  Corporation         NaN  \n",
       "17                      09/03/2020  Corporation         NaN  \n",
       "18                      09/03/2020  Corporation         NaN  \n",
       "19                      09/03/2020  Corporation         NaN  \n",
       "20                      09/03/2020  Corporation         NaN  \n",
       "21                      09/03/2020  Corporation         NaN  \n",
       "22                      09/03/2020  Corporation         NaN  \n",
       "23                      09/03/2020  Corporation         NaN  \n",
       "24                      10/03/2020  Corporation         NaN  \n",
       "25                      10/03/2020  Corporation         NaN  \n",
       "26                      10/03/2020  Corporation         NaN  \n",
       "27                      10/03/2020  Corporation         NaN  \n",
       "28                      11/03/2020  Corporation         NaN  \n",
       "29                      11/03/2020  Corporation         NaN  \n",
       "..                             ...          ...         ...  \n",
       "246                     20/03/2020  Corporation         NaN  \n",
       "247                     20/03/2020  Corporation         NaN  \n",
       "248                     20/03/2020  Corporation         NaN  \n",
       "249                     20/03/2020  Corporation         NaN  \n",
       "250                     20/03/2020  Corporation         NaN  \n",
       "251                     20/03/2020  Corporation         NaN  \n",
       "252                     20/03/2020  Corporation         NaN  \n",
       "253                     20/03/2020  Corporation         NaN  \n",
       "254                     20/03/2020  Corporation         NaN  \n",
       "255                     20/03/2020  Corporation         NaN  \n",
       "256                     20/03/2020  Corporation         NaN  \n",
       "257                     20/03/2020  Corporation         NaN  \n",
       "258                     20/03/2020  Corporation         NaN  \n",
       "259                     20/03/2020  Corporation         NaN  \n",
       "260                     20/03/2020  Corporation         NaN  \n",
       "261                     20/03/2020  Corporation         NaN  \n",
       "262                     20/03/2020  Corporation         NaN  \n",
       "263                     20/03/2020  Corporation         NaN  \n",
       "264                     20/03/2020  Corporation         NaN  \n",
       "265                     20/03/2020  Corporation         NaN  \n",
       "266                     20/03/2020  Corporation         NaN  \n",
       "267                     20/03/2020  Corporation         NaN  \n",
       "268                     20/03/2020  Corporation         NaN  \n",
       "269                     20/03/2020  Corporation         NaN  \n",
       "270                     20/03/2020  Corporation         NaN  \n",
       "271                     20/03/2020  Corporation         NaN  \n",
       "272                     20/03/2020  Corporation         NaN  \n",
       "273                     20/03/2020  Corporation         NaN  \n",
       "274                     20/03/2020  Corporation         NaN  \n",
       "275                     20/03/2020  Corporation         NaN  \n",
       "\n",
       "[276 rows x 15 columns]"
      ]
     },
     "execution_count": 17,
     "metadata": {},
     "output_type": "execute_result"
    }
   ],
   "source": [
    "#df.drop('Unnamed: 0',axis=1,inplace=False)"
   ]
  },
  {
   "cell_type": "code",
   "execution_count": 5,
   "metadata": {},
   "outputs": [],
   "source": [
    "#Remove the dummy datas\n",
    "del df['Unnamed: 0']\n",
    "del df['Unnamed: 15']"
   ]
  },
  {
   "cell_type": "code",
   "execution_count": 6,
   "metadata": {},
   "outputs": [
    {
     "data": {
      "text/html": [
       "<div>\n",
       "<style scoped>\n",
       "    .dataframe tbody tr th:only-of-type {\n",
       "        vertical-align: middle;\n",
       "    }\n",
       "\n",
       "    .dataframe tbody tr th {\n",
       "        vertical-align: top;\n",
       "    }\n",
       "\n",
       "    .dataframe thead th {\n",
       "        text-align: right;\n",
       "    }\n",
       "</style>\n",
       "<table border=\"1\" class=\"dataframe\">\n",
       "  <thead>\n",
       "    <tr style=\"text-align: right;\">\n",
       "      <th></th>\n",
       "      <th>SlNo</th>\n",
       "      <th>Name</th>\n",
       "      <th>Age</th>\n",
       "      <th>Sex</th>\n",
       "      <th>Address</th>\n",
       "      <th>Contact Number</th>\n",
       "      <th>Passport Number</th>\n",
       "      <th>Traceable</th>\n",
       "      <th>Country of Visit</th>\n",
       "      <th>Province</th>\n",
       "      <th>Date of Arrival from Affected Country</th>\n",
       "      <th>Airport</th>\n",
       "      <th>Date of Receipt of Information</th>\n",
       "      <th>Block Name</th>\n",
       "    </tr>\n",
       "  </thead>\n",
       "  <tbody>\n",
       "    <tr>\n",
       "      <th>0</th>\n",
       "      <td>1</td>\n",
       "      <td>SEKAR RANGANATHAN</td>\n",
       "      <td>31.0</td>\n",
       "      <td>Male</td>\n",
       "      <td>M BLOCK SFL PRIYA SUNDARSHAN APTS SRIRANGAM TR...</td>\n",
       "      <td>9994920030</td>\n",
       "      <td>T9264570</td>\n",
       "      <td>Yes</td>\n",
       "      <td>SOUTH KOREA</td>\n",
       "      <td>South Korea</td>\n",
       "      <td>01/03/2020</td>\n",
       "      <td>Chennai</td>\n",
       "      <td>01/03/2020</td>\n",
       "      <td>Corporation</td>\n",
       "    </tr>\n",
       "    <tr>\n",
       "      <th>1</th>\n",
       "      <td>2</td>\n",
       "      <td>SURESH</td>\n",
       "      <td>44.0</td>\n",
       "      <td>Male</td>\n",
       "      <td>72 SANTHOSE NAGAR MK KOTTAI POST TRICHY TN-620011</td>\n",
       "      <td>9941427331/9941717052</td>\n",
       "      <td>J3722053</td>\n",
       "      <td>Yes</td>\n",
       "      <td>SOUTH KOREA</td>\n",
       "      <td>South Korea</td>\n",
       "      <td>01/03/2020</td>\n",
       "      <td>Chennai</td>\n",
       "      <td>01/03/2020</td>\n",
       "      <td>Corporation</td>\n",
       "    </tr>\n",
       "    <tr>\n",
       "      <th>2</th>\n",
       "      <td>3</td>\n",
       "      <td>RAMASWAMY PRAKASH</td>\n",
       "      <td>29.0</td>\n",
       "      <td>Male</td>\n",
       "      <td>S/oSathsivam 32/21 Nadu Thuvankarasi TRICHY-62...</td>\n",
       "      <td>9003757474</td>\n",
       "      <td>J9849153</td>\n",
       "      <td>Yes</td>\n",
       "      <td>NaN</td>\n",
       "      <td>CHINA</td>\n",
       "      <td>01/03/2020</td>\n",
       "      <td>Chennai</td>\n",
       "      <td>01/03/2020</td>\n",
       "      <td>Corporation</td>\n",
       "    </tr>\n",
       "  </tbody>\n",
       "</table>\n",
       "</div>"
      ],
      "text/plain": [
       "   SlNo               Name   Age   Sex  \\\n",
       "0     1  SEKAR RANGANATHAN  31.0  Male   \n",
       "1     2             SURESH  44.0  Male   \n",
       "2     3  RAMASWAMY PRAKASH  29.0  Male   \n",
       "\n",
       "                                             Address         Contact Number  \\\n",
       "0  M BLOCK SFL PRIYA SUNDARSHAN APTS SRIRANGAM TR...             9994920030   \n",
       "1  72 SANTHOSE NAGAR MK KOTTAI POST TRICHY TN-620011  9941427331/9941717052   \n",
       "2  S/oSathsivam 32/21 Nadu Thuvankarasi TRICHY-62...             9003757474   \n",
       "\n",
       "  Passport Number Traceable Country of Visit     Province  \\\n",
       "0        T9264570       Yes      SOUTH KOREA  South Korea   \n",
       "1        J3722053       Yes      SOUTH KOREA  South Korea   \n",
       "2        J9849153       Yes              NaN        CHINA   \n",
       "\n",
       "  Date of Arrival from Affected Country  Airport  \\\n",
       "0                            01/03/2020  Chennai   \n",
       "1                            01/03/2020  Chennai   \n",
       "2                            01/03/2020  Chennai   \n",
       "\n",
       "  Date of Receipt of Information   Block Name  \n",
       "0                     01/03/2020  Corporation  \n",
       "1                     01/03/2020  Corporation  \n",
       "2                     01/03/2020  Corporation  "
      ]
     },
     "execution_count": 6,
     "metadata": {},
     "output_type": "execute_result"
    }
   ],
   "source": [
    "df.head(3)"
   ]
  },
  {
   "cell_type": "code",
   "execution_count": 7,
   "metadata": {},
   "outputs": [
    {
     "data": {
      "text/html": [
       "<div>\n",
       "<style scoped>\n",
       "    .dataframe tbody tr th:only-of-type {\n",
       "        vertical-align: middle;\n",
       "    }\n",
       "\n",
       "    .dataframe tbody tr th {\n",
       "        vertical-align: top;\n",
       "    }\n",
       "\n",
       "    .dataframe thead th {\n",
       "        text-align: right;\n",
       "    }\n",
       "</style>\n",
       "<table border=\"1\" class=\"dataframe\">\n",
       "  <thead>\n",
       "    <tr style=\"text-align: right;\">\n",
       "      <th></th>\n",
       "      <th>SlNo</th>\n",
       "      <th>Name</th>\n",
       "      <th>Age</th>\n",
       "      <th>Sex</th>\n",
       "      <th>Address</th>\n",
       "      <th>Contact Number</th>\n",
       "      <th>Passport Number</th>\n",
       "      <th>Traceable</th>\n",
       "      <th>Country of Visit</th>\n",
       "      <th>Province</th>\n",
       "      <th>Date of Arrival from Affected Country</th>\n",
       "      <th>Airport</th>\n",
       "      <th>Date of Receipt of Information</th>\n",
       "      <th>Block Name</th>\n",
       "    </tr>\n",
       "  </thead>\n",
       "  <tbody>\n",
       "    <tr>\n",
       "      <th>0</th>\n",
       "      <td>False</td>\n",
       "      <td>False</td>\n",
       "      <td>False</td>\n",
       "      <td>False</td>\n",
       "      <td>False</td>\n",
       "      <td>False</td>\n",
       "      <td>False</td>\n",
       "      <td>False</td>\n",
       "      <td>False</td>\n",
       "      <td>False</td>\n",
       "      <td>False</td>\n",
       "      <td>False</td>\n",
       "      <td>False</td>\n",
       "      <td>False</td>\n",
       "    </tr>\n",
       "    <tr>\n",
       "      <th>1</th>\n",
       "      <td>False</td>\n",
       "      <td>False</td>\n",
       "      <td>False</td>\n",
       "      <td>False</td>\n",
       "      <td>False</td>\n",
       "      <td>False</td>\n",
       "      <td>False</td>\n",
       "      <td>False</td>\n",
       "      <td>False</td>\n",
       "      <td>False</td>\n",
       "      <td>False</td>\n",
       "      <td>False</td>\n",
       "      <td>False</td>\n",
       "      <td>False</td>\n",
       "    </tr>\n",
       "    <tr>\n",
       "      <th>2</th>\n",
       "      <td>False</td>\n",
       "      <td>False</td>\n",
       "      <td>False</td>\n",
       "      <td>False</td>\n",
       "      <td>False</td>\n",
       "      <td>False</td>\n",
       "      <td>False</td>\n",
       "      <td>False</td>\n",
       "      <td>True</td>\n",
       "      <td>False</td>\n",
       "      <td>False</td>\n",
       "      <td>False</td>\n",
       "      <td>False</td>\n",
       "      <td>False</td>\n",
       "    </tr>\n",
       "    <tr>\n",
       "      <th>3</th>\n",
       "      <td>False</td>\n",
       "      <td>False</td>\n",
       "      <td>False</td>\n",
       "      <td>False</td>\n",
       "      <td>False</td>\n",
       "      <td>False</td>\n",
       "      <td>False</td>\n",
       "      <td>False</td>\n",
       "      <td>True</td>\n",
       "      <td>False</td>\n",
       "      <td>False</td>\n",
       "      <td>False</td>\n",
       "      <td>False</td>\n",
       "      <td>False</td>\n",
       "    </tr>\n",
       "    <tr>\n",
       "      <th>4</th>\n",
       "      <td>False</td>\n",
       "      <td>False</td>\n",
       "      <td>False</td>\n",
       "      <td>False</td>\n",
       "      <td>False</td>\n",
       "      <td>False</td>\n",
       "      <td>False</td>\n",
       "      <td>False</td>\n",
       "      <td>True</td>\n",
       "      <td>False</td>\n",
       "      <td>False</td>\n",
       "      <td>False</td>\n",
       "      <td>False</td>\n",
       "      <td>False</td>\n",
       "    </tr>\n",
       "    <tr>\n",
       "      <th>5</th>\n",
       "      <td>False</td>\n",
       "      <td>False</td>\n",
       "      <td>False</td>\n",
       "      <td>False</td>\n",
       "      <td>False</td>\n",
       "      <td>False</td>\n",
       "      <td>False</td>\n",
       "      <td>False</td>\n",
       "      <td>True</td>\n",
       "      <td>False</td>\n",
       "      <td>False</td>\n",
       "      <td>False</td>\n",
       "      <td>False</td>\n",
       "      <td>False</td>\n",
       "    </tr>\n",
       "    <tr>\n",
       "      <th>6</th>\n",
       "      <td>False</td>\n",
       "      <td>False</td>\n",
       "      <td>False</td>\n",
       "      <td>False</td>\n",
       "      <td>False</td>\n",
       "      <td>False</td>\n",
       "      <td>False</td>\n",
       "      <td>False</td>\n",
       "      <td>True</td>\n",
       "      <td>False</td>\n",
       "      <td>False</td>\n",
       "      <td>False</td>\n",
       "      <td>False</td>\n",
       "      <td>False</td>\n",
       "    </tr>\n",
       "    <tr>\n",
       "      <th>7</th>\n",
       "      <td>False</td>\n",
       "      <td>False</td>\n",
       "      <td>False</td>\n",
       "      <td>False</td>\n",
       "      <td>False</td>\n",
       "      <td>False</td>\n",
       "      <td>False</td>\n",
       "      <td>False</td>\n",
       "      <td>True</td>\n",
       "      <td>False</td>\n",
       "      <td>False</td>\n",
       "      <td>False</td>\n",
       "      <td>False</td>\n",
       "      <td>False</td>\n",
       "    </tr>\n",
       "    <tr>\n",
       "      <th>8</th>\n",
       "      <td>False</td>\n",
       "      <td>False</td>\n",
       "      <td>False</td>\n",
       "      <td>False</td>\n",
       "      <td>False</td>\n",
       "      <td>False</td>\n",
       "      <td>False</td>\n",
       "      <td>False</td>\n",
       "      <td>True</td>\n",
       "      <td>False</td>\n",
       "      <td>False</td>\n",
       "      <td>False</td>\n",
       "      <td>False</td>\n",
       "      <td>False</td>\n",
       "    </tr>\n",
       "    <tr>\n",
       "      <th>9</th>\n",
       "      <td>False</td>\n",
       "      <td>False</td>\n",
       "      <td>False</td>\n",
       "      <td>False</td>\n",
       "      <td>False</td>\n",
       "      <td>False</td>\n",
       "      <td>False</td>\n",
       "      <td>False</td>\n",
       "      <td>True</td>\n",
       "      <td>False</td>\n",
       "      <td>False</td>\n",
       "      <td>False</td>\n",
       "      <td>False</td>\n",
       "      <td>False</td>\n",
       "    </tr>\n",
       "    <tr>\n",
       "      <th>10</th>\n",
       "      <td>False</td>\n",
       "      <td>False</td>\n",
       "      <td>False</td>\n",
       "      <td>False</td>\n",
       "      <td>False</td>\n",
       "      <td>False</td>\n",
       "      <td>False</td>\n",
       "      <td>False</td>\n",
       "      <td>True</td>\n",
       "      <td>False</td>\n",
       "      <td>False</td>\n",
       "      <td>False</td>\n",
       "      <td>False</td>\n",
       "      <td>False</td>\n",
       "    </tr>\n",
       "    <tr>\n",
       "      <th>11</th>\n",
       "      <td>False</td>\n",
       "      <td>False</td>\n",
       "      <td>False</td>\n",
       "      <td>False</td>\n",
       "      <td>False</td>\n",
       "      <td>False</td>\n",
       "      <td>False</td>\n",
       "      <td>False</td>\n",
       "      <td>True</td>\n",
       "      <td>False</td>\n",
       "      <td>False</td>\n",
       "      <td>False</td>\n",
       "      <td>False</td>\n",
       "      <td>False</td>\n",
       "    </tr>\n",
       "    <tr>\n",
       "      <th>12</th>\n",
       "      <td>False</td>\n",
       "      <td>False</td>\n",
       "      <td>False</td>\n",
       "      <td>False</td>\n",
       "      <td>False</td>\n",
       "      <td>False</td>\n",
       "      <td>False</td>\n",
       "      <td>False</td>\n",
       "      <td>True</td>\n",
       "      <td>False</td>\n",
       "      <td>False</td>\n",
       "      <td>False</td>\n",
       "      <td>False</td>\n",
       "      <td>False</td>\n",
       "    </tr>\n",
       "    <tr>\n",
       "      <th>13</th>\n",
       "      <td>False</td>\n",
       "      <td>False</td>\n",
       "      <td>False</td>\n",
       "      <td>False</td>\n",
       "      <td>False</td>\n",
       "      <td>False</td>\n",
       "      <td>False</td>\n",
       "      <td>False</td>\n",
       "      <td>True</td>\n",
       "      <td>False</td>\n",
       "      <td>False</td>\n",
       "      <td>False</td>\n",
       "      <td>False</td>\n",
       "      <td>False</td>\n",
       "    </tr>\n",
       "    <tr>\n",
       "      <th>14</th>\n",
       "      <td>False</td>\n",
       "      <td>False</td>\n",
       "      <td>False</td>\n",
       "      <td>False</td>\n",
       "      <td>False</td>\n",
       "      <td>False</td>\n",
       "      <td>False</td>\n",
       "      <td>False</td>\n",
       "      <td>True</td>\n",
       "      <td>False</td>\n",
       "      <td>False</td>\n",
       "      <td>False</td>\n",
       "      <td>False</td>\n",
       "      <td>False</td>\n",
       "    </tr>\n",
       "    <tr>\n",
       "      <th>15</th>\n",
       "      <td>False</td>\n",
       "      <td>False</td>\n",
       "      <td>False</td>\n",
       "      <td>False</td>\n",
       "      <td>False</td>\n",
       "      <td>False</td>\n",
       "      <td>False</td>\n",
       "      <td>False</td>\n",
       "      <td>True</td>\n",
       "      <td>False</td>\n",
       "      <td>False</td>\n",
       "      <td>False</td>\n",
       "      <td>False</td>\n",
       "      <td>False</td>\n",
       "    </tr>\n",
       "    <tr>\n",
       "      <th>16</th>\n",
       "      <td>False</td>\n",
       "      <td>False</td>\n",
       "      <td>False</td>\n",
       "      <td>False</td>\n",
       "      <td>False</td>\n",
       "      <td>False</td>\n",
       "      <td>False</td>\n",
       "      <td>False</td>\n",
       "      <td>True</td>\n",
       "      <td>False</td>\n",
       "      <td>False</td>\n",
       "      <td>False</td>\n",
       "      <td>False</td>\n",
       "      <td>False</td>\n",
       "    </tr>\n",
       "    <tr>\n",
       "      <th>17</th>\n",
       "      <td>False</td>\n",
       "      <td>False</td>\n",
       "      <td>False</td>\n",
       "      <td>False</td>\n",
       "      <td>False</td>\n",
       "      <td>False</td>\n",
       "      <td>False</td>\n",
       "      <td>False</td>\n",
       "      <td>True</td>\n",
       "      <td>False</td>\n",
       "      <td>False</td>\n",
       "      <td>False</td>\n",
       "      <td>False</td>\n",
       "      <td>False</td>\n",
       "    </tr>\n",
       "    <tr>\n",
       "      <th>18</th>\n",
       "      <td>False</td>\n",
       "      <td>False</td>\n",
       "      <td>False</td>\n",
       "      <td>False</td>\n",
       "      <td>False</td>\n",
       "      <td>False</td>\n",
       "      <td>False</td>\n",
       "      <td>False</td>\n",
       "      <td>True</td>\n",
       "      <td>False</td>\n",
       "      <td>False</td>\n",
       "      <td>False</td>\n",
       "      <td>False</td>\n",
       "      <td>False</td>\n",
       "    </tr>\n",
       "    <tr>\n",
       "      <th>19</th>\n",
       "      <td>False</td>\n",
       "      <td>False</td>\n",
       "      <td>False</td>\n",
       "      <td>False</td>\n",
       "      <td>False</td>\n",
       "      <td>False</td>\n",
       "      <td>False</td>\n",
       "      <td>False</td>\n",
       "      <td>True</td>\n",
       "      <td>False</td>\n",
       "      <td>False</td>\n",
       "      <td>False</td>\n",
       "      <td>False</td>\n",
       "      <td>False</td>\n",
       "    </tr>\n",
       "    <tr>\n",
       "      <th>20</th>\n",
       "      <td>False</td>\n",
       "      <td>False</td>\n",
       "      <td>False</td>\n",
       "      <td>False</td>\n",
       "      <td>False</td>\n",
       "      <td>False</td>\n",
       "      <td>False</td>\n",
       "      <td>False</td>\n",
       "      <td>True</td>\n",
       "      <td>False</td>\n",
       "      <td>False</td>\n",
       "      <td>False</td>\n",
       "      <td>False</td>\n",
       "      <td>False</td>\n",
       "    </tr>\n",
       "    <tr>\n",
       "      <th>21</th>\n",
       "      <td>False</td>\n",
       "      <td>False</td>\n",
       "      <td>False</td>\n",
       "      <td>False</td>\n",
       "      <td>False</td>\n",
       "      <td>False</td>\n",
       "      <td>False</td>\n",
       "      <td>False</td>\n",
       "      <td>True</td>\n",
       "      <td>False</td>\n",
       "      <td>False</td>\n",
       "      <td>False</td>\n",
       "      <td>False</td>\n",
       "      <td>False</td>\n",
       "    </tr>\n",
       "    <tr>\n",
       "      <th>22</th>\n",
       "      <td>False</td>\n",
       "      <td>False</td>\n",
       "      <td>False</td>\n",
       "      <td>False</td>\n",
       "      <td>False</td>\n",
       "      <td>False</td>\n",
       "      <td>False</td>\n",
       "      <td>False</td>\n",
       "      <td>True</td>\n",
       "      <td>False</td>\n",
       "      <td>False</td>\n",
       "      <td>False</td>\n",
       "      <td>False</td>\n",
       "      <td>False</td>\n",
       "    </tr>\n",
       "    <tr>\n",
       "      <th>23</th>\n",
       "      <td>False</td>\n",
       "      <td>False</td>\n",
       "      <td>False</td>\n",
       "      <td>False</td>\n",
       "      <td>False</td>\n",
       "      <td>False</td>\n",
       "      <td>False</td>\n",
       "      <td>False</td>\n",
       "      <td>True</td>\n",
       "      <td>False</td>\n",
       "      <td>False</td>\n",
       "      <td>False</td>\n",
       "      <td>False</td>\n",
       "      <td>False</td>\n",
       "    </tr>\n",
       "    <tr>\n",
       "      <th>24</th>\n",
       "      <td>False</td>\n",
       "      <td>False</td>\n",
       "      <td>False</td>\n",
       "      <td>False</td>\n",
       "      <td>False</td>\n",
       "      <td>False</td>\n",
       "      <td>True</td>\n",
       "      <td>False</td>\n",
       "      <td>True</td>\n",
       "      <td>False</td>\n",
       "      <td>False</td>\n",
       "      <td>False</td>\n",
       "      <td>False</td>\n",
       "      <td>False</td>\n",
       "    </tr>\n",
       "    <tr>\n",
       "      <th>25</th>\n",
       "      <td>False</td>\n",
       "      <td>False</td>\n",
       "      <td>False</td>\n",
       "      <td>False</td>\n",
       "      <td>False</td>\n",
       "      <td>False</td>\n",
       "      <td>True</td>\n",
       "      <td>False</td>\n",
       "      <td>True</td>\n",
       "      <td>False</td>\n",
       "      <td>False</td>\n",
       "      <td>False</td>\n",
       "      <td>False</td>\n",
       "      <td>False</td>\n",
       "    </tr>\n",
       "    <tr>\n",
       "      <th>26</th>\n",
       "      <td>False</td>\n",
       "      <td>False</td>\n",
       "      <td>False</td>\n",
       "      <td>False</td>\n",
       "      <td>False</td>\n",
       "      <td>False</td>\n",
       "      <td>False</td>\n",
       "      <td>False</td>\n",
       "      <td>True</td>\n",
       "      <td>False</td>\n",
       "      <td>False</td>\n",
       "      <td>False</td>\n",
       "      <td>False</td>\n",
       "      <td>False</td>\n",
       "    </tr>\n",
       "    <tr>\n",
       "      <th>27</th>\n",
       "      <td>False</td>\n",
       "      <td>False</td>\n",
       "      <td>False</td>\n",
       "      <td>False</td>\n",
       "      <td>False</td>\n",
       "      <td>False</td>\n",
       "      <td>True</td>\n",
       "      <td>False</td>\n",
       "      <td>True</td>\n",
       "      <td>False</td>\n",
       "      <td>False</td>\n",
       "      <td>False</td>\n",
       "      <td>False</td>\n",
       "      <td>False</td>\n",
       "    </tr>\n",
       "    <tr>\n",
       "      <th>28</th>\n",
       "      <td>False</td>\n",
       "      <td>False</td>\n",
       "      <td>False</td>\n",
       "      <td>False</td>\n",
       "      <td>False</td>\n",
       "      <td>False</td>\n",
       "      <td>False</td>\n",
       "      <td>False</td>\n",
       "      <td>True</td>\n",
       "      <td>False</td>\n",
       "      <td>False</td>\n",
       "      <td>False</td>\n",
       "      <td>False</td>\n",
       "      <td>False</td>\n",
       "    </tr>\n",
       "    <tr>\n",
       "      <th>29</th>\n",
       "      <td>False</td>\n",
       "      <td>False</td>\n",
       "      <td>False</td>\n",
       "      <td>False</td>\n",
       "      <td>False</td>\n",
       "      <td>False</td>\n",
       "      <td>False</td>\n",
       "      <td>False</td>\n",
       "      <td>True</td>\n",
       "      <td>False</td>\n",
       "      <td>False</td>\n",
       "      <td>False</td>\n",
       "      <td>False</td>\n",
       "      <td>False</td>\n",
       "    </tr>\n",
       "    <tr>\n",
       "      <th>...</th>\n",
       "      <td>...</td>\n",
       "      <td>...</td>\n",
       "      <td>...</td>\n",
       "      <td>...</td>\n",
       "      <td>...</td>\n",
       "      <td>...</td>\n",
       "      <td>...</td>\n",
       "      <td>...</td>\n",
       "      <td>...</td>\n",
       "      <td>...</td>\n",
       "      <td>...</td>\n",
       "      <td>...</td>\n",
       "      <td>...</td>\n",
       "      <td>...</td>\n",
       "    </tr>\n",
       "    <tr>\n",
       "      <th>246</th>\n",
       "      <td>False</td>\n",
       "      <td>False</td>\n",
       "      <td>False</td>\n",
       "      <td>False</td>\n",
       "      <td>False</td>\n",
       "      <td>False</td>\n",
       "      <td>False</td>\n",
       "      <td>False</td>\n",
       "      <td>False</td>\n",
       "      <td>False</td>\n",
       "      <td>False</td>\n",
       "      <td>False</td>\n",
       "      <td>False</td>\n",
       "      <td>False</td>\n",
       "    </tr>\n",
       "    <tr>\n",
       "      <th>247</th>\n",
       "      <td>False</td>\n",
       "      <td>False</td>\n",
       "      <td>False</td>\n",
       "      <td>False</td>\n",
       "      <td>False</td>\n",
       "      <td>False</td>\n",
       "      <td>False</td>\n",
       "      <td>False</td>\n",
       "      <td>False</td>\n",
       "      <td>False</td>\n",
       "      <td>False</td>\n",
       "      <td>False</td>\n",
       "      <td>False</td>\n",
       "      <td>False</td>\n",
       "    </tr>\n",
       "    <tr>\n",
       "      <th>248</th>\n",
       "      <td>False</td>\n",
       "      <td>False</td>\n",
       "      <td>False</td>\n",
       "      <td>False</td>\n",
       "      <td>False</td>\n",
       "      <td>False</td>\n",
       "      <td>False</td>\n",
       "      <td>False</td>\n",
       "      <td>False</td>\n",
       "      <td>False</td>\n",
       "      <td>False</td>\n",
       "      <td>False</td>\n",
       "      <td>False</td>\n",
       "      <td>False</td>\n",
       "    </tr>\n",
       "    <tr>\n",
       "      <th>249</th>\n",
       "      <td>False</td>\n",
       "      <td>False</td>\n",
       "      <td>False</td>\n",
       "      <td>False</td>\n",
       "      <td>False</td>\n",
       "      <td>False</td>\n",
       "      <td>False</td>\n",
       "      <td>False</td>\n",
       "      <td>False</td>\n",
       "      <td>False</td>\n",
       "      <td>False</td>\n",
       "      <td>False</td>\n",
       "      <td>False</td>\n",
       "      <td>False</td>\n",
       "    </tr>\n",
       "    <tr>\n",
       "      <th>250</th>\n",
       "      <td>False</td>\n",
       "      <td>False</td>\n",
       "      <td>False</td>\n",
       "      <td>False</td>\n",
       "      <td>False</td>\n",
       "      <td>False</td>\n",
       "      <td>False</td>\n",
       "      <td>False</td>\n",
       "      <td>False</td>\n",
       "      <td>False</td>\n",
       "      <td>False</td>\n",
       "      <td>False</td>\n",
       "      <td>False</td>\n",
       "      <td>False</td>\n",
       "    </tr>\n",
       "    <tr>\n",
       "      <th>251</th>\n",
       "      <td>False</td>\n",
       "      <td>False</td>\n",
       "      <td>False</td>\n",
       "      <td>False</td>\n",
       "      <td>False</td>\n",
       "      <td>False</td>\n",
       "      <td>False</td>\n",
       "      <td>False</td>\n",
       "      <td>False</td>\n",
       "      <td>False</td>\n",
       "      <td>False</td>\n",
       "      <td>False</td>\n",
       "      <td>False</td>\n",
       "      <td>False</td>\n",
       "    </tr>\n",
       "    <tr>\n",
       "      <th>252</th>\n",
       "      <td>False</td>\n",
       "      <td>False</td>\n",
       "      <td>False</td>\n",
       "      <td>False</td>\n",
       "      <td>False</td>\n",
       "      <td>False</td>\n",
       "      <td>False</td>\n",
       "      <td>False</td>\n",
       "      <td>False</td>\n",
       "      <td>False</td>\n",
       "      <td>False</td>\n",
       "      <td>False</td>\n",
       "      <td>False</td>\n",
       "      <td>False</td>\n",
       "    </tr>\n",
       "    <tr>\n",
       "      <th>253</th>\n",
       "      <td>False</td>\n",
       "      <td>False</td>\n",
       "      <td>False</td>\n",
       "      <td>False</td>\n",
       "      <td>False</td>\n",
       "      <td>False</td>\n",
       "      <td>False</td>\n",
       "      <td>False</td>\n",
       "      <td>False</td>\n",
       "      <td>False</td>\n",
       "      <td>False</td>\n",
       "      <td>False</td>\n",
       "      <td>False</td>\n",
       "      <td>False</td>\n",
       "    </tr>\n",
       "    <tr>\n",
       "      <th>254</th>\n",
       "      <td>False</td>\n",
       "      <td>False</td>\n",
       "      <td>False</td>\n",
       "      <td>False</td>\n",
       "      <td>False</td>\n",
       "      <td>False</td>\n",
       "      <td>False</td>\n",
       "      <td>False</td>\n",
       "      <td>False</td>\n",
       "      <td>False</td>\n",
       "      <td>False</td>\n",
       "      <td>False</td>\n",
       "      <td>False</td>\n",
       "      <td>False</td>\n",
       "    </tr>\n",
       "    <tr>\n",
       "      <th>255</th>\n",
       "      <td>False</td>\n",
       "      <td>False</td>\n",
       "      <td>False</td>\n",
       "      <td>False</td>\n",
       "      <td>False</td>\n",
       "      <td>False</td>\n",
       "      <td>False</td>\n",
       "      <td>False</td>\n",
       "      <td>False</td>\n",
       "      <td>False</td>\n",
       "      <td>False</td>\n",
       "      <td>False</td>\n",
       "      <td>False</td>\n",
       "      <td>False</td>\n",
       "    </tr>\n",
       "    <tr>\n",
       "      <th>256</th>\n",
       "      <td>False</td>\n",
       "      <td>False</td>\n",
       "      <td>False</td>\n",
       "      <td>False</td>\n",
       "      <td>False</td>\n",
       "      <td>False</td>\n",
       "      <td>False</td>\n",
       "      <td>False</td>\n",
       "      <td>False</td>\n",
       "      <td>False</td>\n",
       "      <td>False</td>\n",
       "      <td>False</td>\n",
       "      <td>False</td>\n",
       "      <td>False</td>\n",
       "    </tr>\n",
       "    <tr>\n",
       "      <th>257</th>\n",
       "      <td>False</td>\n",
       "      <td>False</td>\n",
       "      <td>False</td>\n",
       "      <td>False</td>\n",
       "      <td>False</td>\n",
       "      <td>False</td>\n",
       "      <td>False</td>\n",
       "      <td>False</td>\n",
       "      <td>False</td>\n",
       "      <td>False</td>\n",
       "      <td>False</td>\n",
       "      <td>False</td>\n",
       "      <td>False</td>\n",
       "      <td>False</td>\n",
       "    </tr>\n",
       "    <tr>\n",
       "      <th>258</th>\n",
       "      <td>False</td>\n",
       "      <td>False</td>\n",
       "      <td>False</td>\n",
       "      <td>False</td>\n",
       "      <td>False</td>\n",
       "      <td>False</td>\n",
       "      <td>False</td>\n",
       "      <td>False</td>\n",
       "      <td>False</td>\n",
       "      <td>False</td>\n",
       "      <td>False</td>\n",
       "      <td>False</td>\n",
       "      <td>False</td>\n",
       "      <td>False</td>\n",
       "    </tr>\n",
       "    <tr>\n",
       "      <th>259</th>\n",
       "      <td>False</td>\n",
       "      <td>False</td>\n",
       "      <td>False</td>\n",
       "      <td>False</td>\n",
       "      <td>False</td>\n",
       "      <td>False</td>\n",
       "      <td>False</td>\n",
       "      <td>False</td>\n",
       "      <td>False</td>\n",
       "      <td>False</td>\n",
       "      <td>False</td>\n",
       "      <td>False</td>\n",
       "      <td>False</td>\n",
       "      <td>False</td>\n",
       "    </tr>\n",
       "    <tr>\n",
       "      <th>260</th>\n",
       "      <td>False</td>\n",
       "      <td>False</td>\n",
       "      <td>False</td>\n",
       "      <td>False</td>\n",
       "      <td>False</td>\n",
       "      <td>False</td>\n",
       "      <td>False</td>\n",
       "      <td>False</td>\n",
       "      <td>False</td>\n",
       "      <td>False</td>\n",
       "      <td>False</td>\n",
       "      <td>False</td>\n",
       "      <td>False</td>\n",
       "      <td>False</td>\n",
       "    </tr>\n",
       "    <tr>\n",
       "      <th>261</th>\n",
       "      <td>False</td>\n",
       "      <td>False</td>\n",
       "      <td>False</td>\n",
       "      <td>False</td>\n",
       "      <td>False</td>\n",
       "      <td>False</td>\n",
       "      <td>False</td>\n",
       "      <td>False</td>\n",
       "      <td>False</td>\n",
       "      <td>False</td>\n",
       "      <td>False</td>\n",
       "      <td>False</td>\n",
       "      <td>False</td>\n",
       "      <td>False</td>\n",
       "    </tr>\n",
       "    <tr>\n",
       "      <th>262</th>\n",
       "      <td>False</td>\n",
       "      <td>False</td>\n",
       "      <td>False</td>\n",
       "      <td>False</td>\n",
       "      <td>False</td>\n",
       "      <td>False</td>\n",
       "      <td>False</td>\n",
       "      <td>False</td>\n",
       "      <td>False</td>\n",
       "      <td>False</td>\n",
       "      <td>False</td>\n",
       "      <td>False</td>\n",
       "      <td>False</td>\n",
       "      <td>False</td>\n",
       "    </tr>\n",
       "    <tr>\n",
       "      <th>263</th>\n",
       "      <td>False</td>\n",
       "      <td>False</td>\n",
       "      <td>False</td>\n",
       "      <td>False</td>\n",
       "      <td>False</td>\n",
       "      <td>False</td>\n",
       "      <td>False</td>\n",
       "      <td>False</td>\n",
       "      <td>False</td>\n",
       "      <td>False</td>\n",
       "      <td>False</td>\n",
       "      <td>False</td>\n",
       "      <td>False</td>\n",
       "      <td>False</td>\n",
       "    </tr>\n",
       "    <tr>\n",
       "      <th>264</th>\n",
       "      <td>False</td>\n",
       "      <td>False</td>\n",
       "      <td>False</td>\n",
       "      <td>False</td>\n",
       "      <td>False</td>\n",
       "      <td>False</td>\n",
       "      <td>False</td>\n",
       "      <td>False</td>\n",
       "      <td>False</td>\n",
       "      <td>False</td>\n",
       "      <td>False</td>\n",
       "      <td>False</td>\n",
       "      <td>False</td>\n",
       "      <td>False</td>\n",
       "    </tr>\n",
       "    <tr>\n",
       "      <th>265</th>\n",
       "      <td>False</td>\n",
       "      <td>False</td>\n",
       "      <td>False</td>\n",
       "      <td>False</td>\n",
       "      <td>False</td>\n",
       "      <td>False</td>\n",
       "      <td>False</td>\n",
       "      <td>False</td>\n",
       "      <td>False</td>\n",
       "      <td>False</td>\n",
       "      <td>False</td>\n",
       "      <td>False</td>\n",
       "      <td>False</td>\n",
       "      <td>False</td>\n",
       "    </tr>\n",
       "    <tr>\n",
       "      <th>266</th>\n",
       "      <td>False</td>\n",
       "      <td>False</td>\n",
       "      <td>False</td>\n",
       "      <td>False</td>\n",
       "      <td>False</td>\n",
       "      <td>False</td>\n",
       "      <td>False</td>\n",
       "      <td>False</td>\n",
       "      <td>False</td>\n",
       "      <td>False</td>\n",
       "      <td>False</td>\n",
       "      <td>False</td>\n",
       "      <td>False</td>\n",
       "      <td>False</td>\n",
       "    </tr>\n",
       "    <tr>\n",
       "      <th>267</th>\n",
       "      <td>False</td>\n",
       "      <td>False</td>\n",
       "      <td>False</td>\n",
       "      <td>False</td>\n",
       "      <td>False</td>\n",
       "      <td>False</td>\n",
       "      <td>False</td>\n",
       "      <td>False</td>\n",
       "      <td>False</td>\n",
       "      <td>False</td>\n",
       "      <td>False</td>\n",
       "      <td>False</td>\n",
       "      <td>False</td>\n",
       "      <td>False</td>\n",
       "    </tr>\n",
       "    <tr>\n",
       "      <th>268</th>\n",
       "      <td>False</td>\n",
       "      <td>False</td>\n",
       "      <td>False</td>\n",
       "      <td>False</td>\n",
       "      <td>False</td>\n",
       "      <td>False</td>\n",
       "      <td>False</td>\n",
       "      <td>False</td>\n",
       "      <td>False</td>\n",
       "      <td>False</td>\n",
       "      <td>False</td>\n",
       "      <td>False</td>\n",
       "      <td>False</td>\n",
       "      <td>False</td>\n",
       "    </tr>\n",
       "    <tr>\n",
       "      <th>269</th>\n",
       "      <td>False</td>\n",
       "      <td>False</td>\n",
       "      <td>False</td>\n",
       "      <td>False</td>\n",
       "      <td>False</td>\n",
       "      <td>False</td>\n",
       "      <td>False</td>\n",
       "      <td>False</td>\n",
       "      <td>False</td>\n",
       "      <td>False</td>\n",
       "      <td>False</td>\n",
       "      <td>False</td>\n",
       "      <td>False</td>\n",
       "      <td>False</td>\n",
       "    </tr>\n",
       "    <tr>\n",
       "      <th>270</th>\n",
       "      <td>False</td>\n",
       "      <td>False</td>\n",
       "      <td>False</td>\n",
       "      <td>False</td>\n",
       "      <td>False</td>\n",
       "      <td>False</td>\n",
       "      <td>False</td>\n",
       "      <td>False</td>\n",
       "      <td>False</td>\n",
       "      <td>False</td>\n",
       "      <td>False</td>\n",
       "      <td>False</td>\n",
       "      <td>False</td>\n",
       "      <td>False</td>\n",
       "    </tr>\n",
       "    <tr>\n",
       "      <th>271</th>\n",
       "      <td>False</td>\n",
       "      <td>False</td>\n",
       "      <td>False</td>\n",
       "      <td>False</td>\n",
       "      <td>False</td>\n",
       "      <td>False</td>\n",
       "      <td>False</td>\n",
       "      <td>False</td>\n",
       "      <td>False</td>\n",
       "      <td>False</td>\n",
       "      <td>False</td>\n",
       "      <td>False</td>\n",
       "      <td>False</td>\n",
       "      <td>False</td>\n",
       "    </tr>\n",
       "    <tr>\n",
       "      <th>272</th>\n",
       "      <td>False</td>\n",
       "      <td>False</td>\n",
       "      <td>False</td>\n",
       "      <td>False</td>\n",
       "      <td>False</td>\n",
       "      <td>False</td>\n",
       "      <td>False</td>\n",
       "      <td>False</td>\n",
       "      <td>False</td>\n",
       "      <td>False</td>\n",
       "      <td>False</td>\n",
       "      <td>False</td>\n",
       "      <td>False</td>\n",
       "      <td>False</td>\n",
       "    </tr>\n",
       "    <tr>\n",
       "      <th>273</th>\n",
       "      <td>False</td>\n",
       "      <td>False</td>\n",
       "      <td>False</td>\n",
       "      <td>False</td>\n",
       "      <td>False</td>\n",
       "      <td>False</td>\n",
       "      <td>False</td>\n",
       "      <td>False</td>\n",
       "      <td>False</td>\n",
       "      <td>False</td>\n",
       "      <td>False</td>\n",
       "      <td>False</td>\n",
       "      <td>False</td>\n",
       "      <td>False</td>\n",
       "    </tr>\n",
       "    <tr>\n",
       "      <th>274</th>\n",
       "      <td>False</td>\n",
       "      <td>False</td>\n",
       "      <td>False</td>\n",
       "      <td>False</td>\n",
       "      <td>False</td>\n",
       "      <td>False</td>\n",
       "      <td>False</td>\n",
       "      <td>False</td>\n",
       "      <td>False</td>\n",
       "      <td>False</td>\n",
       "      <td>False</td>\n",
       "      <td>False</td>\n",
       "      <td>False</td>\n",
       "      <td>False</td>\n",
       "    </tr>\n",
       "    <tr>\n",
       "      <th>275</th>\n",
       "      <td>False</td>\n",
       "      <td>False</td>\n",
       "      <td>False</td>\n",
       "      <td>False</td>\n",
       "      <td>False</td>\n",
       "      <td>False</td>\n",
       "      <td>False</td>\n",
       "      <td>False</td>\n",
       "      <td>False</td>\n",
       "      <td>False</td>\n",
       "      <td>False</td>\n",
       "      <td>False</td>\n",
       "      <td>False</td>\n",
       "      <td>False</td>\n",
       "    </tr>\n",
       "  </tbody>\n",
       "</table>\n",
       "<p>276 rows × 14 columns</p>\n",
       "</div>"
      ],
      "text/plain": [
       "      SlNo   Name    Age    Sex  Address  Contact Number  Passport Number  \\\n",
       "0    False  False  False  False    False           False            False   \n",
       "1    False  False  False  False    False           False            False   \n",
       "2    False  False  False  False    False           False            False   \n",
       "3    False  False  False  False    False           False            False   \n",
       "4    False  False  False  False    False           False            False   \n",
       "5    False  False  False  False    False           False            False   \n",
       "6    False  False  False  False    False           False            False   \n",
       "7    False  False  False  False    False           False            False   \n",
       "8    False  False  False  False    False           False            False   \n",
       "9    False  False  False  False    False           False            False   \n",
       "10   False  False  False  False    False           False            False   \n",
       "11   False  False  False  False    False           False            False   \n",
       "12   False  False  False  False    False           False            False   \n",
       "13   False  False  False  False    False           False            False   \n",
       "14   False  False  False  False    False           False            False   \n",
       "15   False  False  False  False    False           False            False   \n",
       "16   False  False  False  False    False           False            False   \n",
       "17   False  False  False  False    False           False            False   \n",
       "18   False  False  False  False    False           False            False   \n",
       "19   False  False  False  False    False           False            False   \n",
       "20   False  False  False  False    False           False            False   \n",
       "21   False  False  False  False    False           False            False   \n",
       "22   False  False  False  False    False           False            False   \n",
       "23   False  False  False  False    False           False            False   \n",
       "24   False  False  False  False    False           False             True   \n",
       "25   False  False  False  False    False           False             True   \n",
       "26   False  False  False  False    False           False            False   \n",
       "27   False  False  False  False    False           False             True   \n",
       "28   False  False  False  False    False           False            False   \n",
       "29   False  False  False  False    False           False            False   \n",
       "..     ...    ...    ...    ...      ...             ...              ...   \n",
       "246  False  False  False  False    False           False            False   \n",
       "247  False  False  False  False    False           False            False   \n",
       "248  False  False  False  False    False           False            False   \n",
       "249  False  False  False  False    False           False            False   \n",
       "250  False  False  False  False    False           False            False   \n",
       "251  False  False  False  False    False           False            False   \n",
       "252  False  False  False  False    False           False            False   \n",
       "253  False  False  False  False    False           False            False   \n",
       "254  False  False  False  False    False           False            False   \n",
       "255  False  False  False  False    False           False            False   \n",
       "256  False  False  False  False    False           False            False   \n",
       "257  False  False  False  False    False           False            False   \n",
       "258  False  False  False  False    False           False            False   \n",
       "259  False  False  False  False    False           False            False   \n",
       "260  False  False  False  False    False           False            False   \n",
       "261  False  False  False  False    False           False            False   \n",
       "262  False  False  False  False    False           False            False   \n",
       "263  False  False  False  False    False           False            False   \n",
       "264  False  False  False  False    False           False            False   \n",
       "265  False  False  False  False    False           False            False   \n",
       "266  False  False  False  False    False           False            False   \n",
       "267  False  False  False  False    False           False            False   \n",
       "268  False  False  False  False    False           False            False   \n",
       "269  False  False  False  False    False           False            False   \n",
       "270  False  False  False  False    False           False            False   \n",
       "271  False  False  False  False    False           False            False   \n",
       "272  False  False  False  False    False           False            False   \n",
       "273  False  False  False  False    False           False            False   \n",
       "274  False  False  False  False    False           False            False   \n",
       "275  False  False  False  False    False           False            False   \n",
       "\n",
       "     Traceable  Country of Visit  Province  \\\n",
       "0        False             False     False   \n",
       "1        False             False     False   \n",
       "2        False              True     False   \n",
       "3        False              True     False   \n",
       "4        False              True     False   \n",
       "5        False              True     False   \n",
       "6        False              True     False   \n",
       "7        False              True     False   \n",
       "8        False              True     False   \n",
       "9        False              True     False   \n",
       "10       False              True     False   \n",
       "11       False              True     False   \n",
       "12       False              True     False   \n",
       "13       False              True     False   \n",
       "14       False              True     False   \n",
       "15       False              True     False   \n",
       "16       False              True     False   \n",
       "17       False              True     False   \n",
       "18       False              True     False   \n",
       "19       False              True     False   \n",
       "20       False              True     False   \n",
       "21       False              True     False   \n",
       "22       False              True     False   \n",
       "23       False              True     False   \n",
       "24       False              True     False   \n",
       "25       False              True     False   \n",
       "26       False              True     False   \n",
       "27       False              True     False   \n",
       "28       False              True     False   \n",
       "29       False              True     False   \n",
       "..         ...               ...       ...   \n",
       "246      False             False     False   \n",
       "247      False             False     False   \n",
       "248      False             False     False   \n",
       "249      False             False     False   \n",
       "250      False             False     False   \n",
       "251      False             False     False   \n",
       "252      False             False     False   \n",
       "253      False             False     False   \n",
       "254      False             False     False   \n",
       "255      False             False     False   \n",
       "256      False             False     False   \n",
       "257      False             False     False   \n",
       "258      False             False     False   \n",
       "259      False             False     False   \n",
       "260      False             False     False   \n",
       "261      False             False     False   \n",
       "262      False             False     False   \n",
       "263      False             False     False   \n",
       "264      False             False     False   \n",
       "265      False             False     False   \n",
       "266      False             False     False   \n",
       "267      False             False     False   \n",
       "268      False             False     False   \n",
       "269      False             False     False   \n",
       "270      False             False     False   \n",
       "271      False             False     False   \n",
       "272      False             False     False   \n",
       "273      False             False     False   \n",
       "274      False             False     False   \n",
       "275      False             False     False   \n",
       "\n",
       "     Date of Arrival from Affected Country  Airport  \\\n",
       "0                                    False    False   \n",
       "1                                    False    False   \n",
       "2                                    False    False   \n",
       "3                                    False    False   \n",
       "4                                    False    False   \n",
       "5                                    False    False   \n",
       "6                                    False    False   \n",
       "7                                    False    False   \n",
       "8                                    False    False   \n",
       "9                                    False    False   \n",
       "10                                   False    False   \n",
       "11                                   False    False   \n",
       "12                                   False    False   \n",
       "13                                   False    False   \n",
       "14                                   False    False   \n",
       "15                                   False    False   \n",
       "16                                   False    False   \n",
       "17                                   False    False   \n",
       "18                                   False    False   \n",
       "19                                   False    False   \n",
       "20                                   False    False   \n",
       "21                                   False    False   \n",
       "22                                   False    False   \n",
       "23                                   False    False   \n",
       "24                                   False    False   \n",
       "25                                   False    False   \n",
       "26                                   False    False   \n",
       "27                                   False    False   \n",
       "28                                   False    False   \n",
       "29                                   False    False   \n",
       "..                                     ...      ...   \n",
       "246                                  False    False   \n",
       "247                                  False    False   \n",
       "248                                  False    False   \n",
       "249                                  False    False   \n",
       "250                                  False    False   \n",
       "251                                  False    False   \n",
       "252                                  False    False   \n",
       "253                                  False    False   \n",
       "254                                  False    False   \n",
       "255                                  False    False   \n",
       "256                                  False    False   \n",
       "257                                  False    False   \n",
       "258                                  False    False   \n",
       "259                                  False    False   \n",
       "260                                  False    False   \n",
       "261                                  False    False   \n",
       "262                                  False    False   \n",
       "263                                  False    False   \n",
       "264                                  False    False   \n",
       "265                                  False    False   \n",
       "266                                  False    False   \n",
       "267                                  False    False   \n",
       "268                                  False    False   \n",
       "269                                  False    False   \n",
       "270                                  False    False   \n",
       "271                                  False    False   \n",
       "272                                  False    False   \n",
       "273                                  False    False   \n",
       "274                                  False    False   \n",
       "275                                  False    False   \n",
       "\n",
       "     Date of Receipt of Information  Block Name  \n",
       "0                             False       False  \n",
       "1                             False       False  \n",
       "2                             False       False  \n",
       "3                             False       False  \n",
       "4                             False       False  \n",
       "5                             False       False  \n",
       "6                             False       False  \n",
       "7                             False       False  \n",
       "8                             False       False  \n",
       "9                             False       False  \n",
       "10                            False       False  \n",
       "11                            False       False  \n",
       "12                            False       False  \n",
       "13                            False       False  \n",
       "14                            False       False  \n",
       "15                            False       False  \n",
       "16                            False       False  \n",
       "17                            False       False  \n",
       "18                            False       False  \n",
       "19                            False       False  \n",
       "20                            False       False  \n",
       "21                            False       False  \n",
       "22                            False       False  \n",
       "23                            False       False  \n",
       "24                            False       False  \n",
       "25                            False       False  \n",
       "26                            False       False  \n",
       "27                            False       False  \n",
       "28                            False       False  \n",
       "29                            False       False  \n",
       "..                              ...         ...  \n",
       "246                           False       False  \n",
       "247                           False       False  \n",
       "248                           False       False  \n",
       "249                           False       False  \n",
       "250                           False       False  \n",
       "251                           False       False  \n",
       "252                           False       False  \n",
       "253                           False       False  \n",
       "254                           False       False  \n",
       "255                           False       False  \n",
       "256                           False       False  \n",
       "257                           False       False  \n",
       "258                           False       False  \n",
       "259                           False       False  \n",
       "260                           False       False  \n",
       "261                           False       False  \n",
       "262                           False       False  \n",
       "263                           False       False  \n",
       "264                           False       False  \n",
       "265                           False       False  \n",
       "266                           False       False  \n",
       "267                           False       False  \n",
       "268                           False       False  \n",
       "269                           False       False  \n",
       "270                           False       False  \n",
       "271                           False       False  \n",
       "272                           False       False  \n",
       "273                           False       False  \n",
       "274                           False       False  \n",
       "275                           False       False  \n",
       "\n",
       "[276 rows x 14 columns]"
      ]
     },
     "execution_count": 7,
     "metadata": {},
     "output_type": "execute_result"
    }
   ],
   "source": [
    "df.isnull()"
   ]
  },
  {
   "cell_type": "code",
   "execution_count": 8,
   "metadata": {},
   "outputs": [
    {
     "data": {
      "text/plain": [
       "<matplotlib.axes._subplots.AxesSubplot at 0x1ffa227fac8>"
      ]
     },
     "execution_count": 8,
     "metadata": {},
     "output_type": "execute_result"
    },
    {
     "data": {
      "image/png": "[encoded data removed]",
      "text/plain": [
       "<Figure size 432x288 with 1 Axes>"
      ]
     },
     "metadata": {
      "needs_background": "light"
     },
     "output_type": "display_data"
    }
   ],
   "source": [
    "sns.heatmap(df.isnull(),yticklabels=False,cbar=False,cmap='viridis')"
   ]
  },
  {
   "cell_type": "code",
   "execution_count": 9,
   "metadata": {},
   "outputs": [
    {
     "data": {
      "text/plain": [
       "array(['01/03/2020', '03/03/2020', '04/03/2020', '05/03/2020',\n",
       "       '06/03/2020', '07/03/2020', '08/03/2020', '09/03/2020',\n",
       "       '10/03/2020', '26/02/2020', '27/02/2020', '02/03/2020',\n",
       "       '12/03/2020', '13/03/2020', '14/03/2020', '16/03/2020',\n",
       "       '17/03/2020', '18/03/2020', '19/03/2020', '20/3/2020', '17/3/2020',\n",
       "       'CHENNAI', '15/03/2020', '20/03/2020', '21/03/2020'], dtype=object)"
      ]
     },
     "execution_count": 9,
     "metadata": {},
     "output_type": "execute_result"
    }
   ],
   "source": [
    "df['Date of Arrival from Affected Country'].unique()"
   ]
  },
  {
   "cell_type": "code",
   "execution_count": 11,
   "metadata": {},
   "outputs": [
    {
     "data": {
      "text/plain": [
       "SlNo                                       int64\n",
       "Name                                      object\n",
       "Age                                      float64\n",
       "Sex                                       object\n",
       "Address                                   object\n",
       "Contact Number                            object\n",
       "Passport Number                           object\n",
       "Traceable                                 object\n",
       "Country of Visit                          object\n",
       "Province                                  object\n",
       "Date of Arrival from Affected Country     object\n",
       "Airport                                   object\n",
       "Date of Receipt of Information            object\n",
       "Block Name                                object\n",
       "dtype: object"
      ]
     },
     "execution_count": 11,
     "metadata": {},
     "output_type": "execute_result"
    }
   ],
   "source": [
    "df.dtypes"
   ]
  },
  {
   "cell_type": "code",
   "execution_count": 12,
   "metadata": {},
   "outputs": [
    {
     "data": {
      "text/plain": [
       "(276, SlNo                                     276\n",
       " Name                                     276\n",
       " Age                                      186\n",
       " Sex                                      203\n",
       " Address                                  276\n",
       " Contact Number                           265\n",
       " Passport Number                          270\n",
       " Traceable                                220\n",
       " Country of Visit                         225\n",
       " Province                                 220\n",
       " Date of Arrival from Affected Country    276\n",
       " Airport                                  270\n",
       " Date of Receipt of Information           221\n",
       " Block Name                               272\n",
       " dtype: int64)"
      ]
     },
     "execution_count": 12,
     "metadata": {},
     "output_type": "execute_result"
    }
   ],
   "source": [
    "len(df),df.count()"
   ]
  },
  {
   "cell_type": "code",
   "execution_count": 13,
   "metadata": {},
   "outputs": [
    {
     "name": "stdout",
     "output_type": "stream",
     "text": [
      "<class 'pandas.core.frame.DataFrame'>\n",
      "RangeIndex: 276 entries, 0 to 275\n",
      "Data columns (total 14 columns):\n",
      "SlNo                                     276 non-null int64\n",
      "Name                                     276 non-null object\n",
      "Age                                      186 non-null float64\n",
      "Sex                                      203 non-null object\n",
      "Address                                  276 non-null object\n",
      "Contact Number                           265 non-null object\n",
      "Passport Number                          270 non-null object\n",
      "Traceable                                220 non-null object\n",
      "Country of Visit                         225 non-null object\n",
      "Province                                 220 non-null object\n",
      "Date of Arrival from Affected Country    276 non-null object\n",
      "Airport                                  270 non-null object\n",
      "Date of Receipt of Information           221 non-null object\n",
      "Block Name                               272 non-null object\n",
      "dtypes: float64(1), int64(1), object(12)\n",
      "memory usage: 30.3+ KB\n"
     ]
    }
   ],
   "source": [
    "df.info()"
   ]
  },
  {
   "cell_type": "code",
   "execution_count": 14,
   "metadata": {},
   "outputs": [
    {
     "data": {
      "text/html": [
       "<div>\n",
       "<style scoped>\n",
       "    .dataframe tbody tr th:only-of-type {\n",
       "        vertical-align: middle;\n",
       "    }\n",
       "\n",
       "    .dataframe tbody tr th {\n",
       "        vertical-align: top;\n",
       "    }\n",
       "\n",
       "    .dataframe thead th {\n",
       "        text-align: right;\n",
       "    }\n",
       "</style>\n",
       "<table border=\"1\" class=\"dataframe\">\n",
       "  <thead>\n",
       "    <tr style=\"text-align: right;\">\n",
       "      <th></th>\n",
       "      <th>SlNo</th>\n",
       "      <th>Age</th>\n",
       "    </tr>\n",
       "  </thead>\n",
       "  <tbody>\n",
       "    <tr>\n",
       "      <th>count</th>\n",
       "      <td>276.000000</td>\n",
       "      <td>186.000000</td>\n",
       "    </tr>\n",
       "    <tr>\n",
       "      <th>mean</th>\n",
       "      <td>138.500000</td>\n",
       "      <td>37.333333</td>\n",
       "    </tr>\n",
       "    <tr>\n",
       "      <th>std</th>\n",
       "      <td>79.818544</td>\n",
       "      <td>16.944318</td>\n",
       "    </tr>\n",
       "    <tr>\n",
       "      <th>min</th>\n",
       "      <td>1.000000</td>\n",
       "      <td>2.000000</td>\n",
       "    </tr>\n",
       "    <tr>\n",
       "      <th>25%</th>\n",
       "      <td>69.750000</td>\n",
       "      <td>26.000000</td>\n",
       "    </tr>\n",
       "    <tr>\n",
       "      <th>50%</th>\n",
       "      <td>138.500000</td>\n",
       "      <td>34.000000</td>\n",
       "    </tr>\n",
       "    <tr>\n",
       "      <th>75%</th>\n",
       "      <td>207.250000</td>\n",
       "      <td>49.000000</td>\n",
       "    </tr>\n",
       "    <tr>\n",
       "      <th>max</th>\n",
       "      <td>276.000000</td>\n",
       "      <td>81.000000</td>\n",
       "    </tr>\n",
       "  </tbody>\n",
       "</table>\n",
       "</div>"
      ],
      "text/plain": [
       "             SlNo         Age\n",
       "count  276.000000  186.000000\n",
       "mean   138.500000   37.333333\n",
       "std     79.818544   16.944318\n",
       "min      1.000000    2.000000\n",
       "25%     69.750000   26.000000\n",
       "50%    138.500000   34.000000\n",
       "75%    207.250000   49.000000\n",
       "max    276.000000   81.000000"
      ]
     },
     "execution_count": 14,
     "metadata": {},
     "output_type": "execute_result"
    }
   ],
   "source": [
    "df.describe()"
   ]
  },
  {
   "cell_type": "code",
   "execution_count": 15,
   "metadata": {},
   "outputs": [
    {
     "data": {
      "text/plain": [
       "SlNo                                                                        1\n",
       "Name                                                  ABDUL AZIZ ELIAS AHAMED\n",
       "Age                                                                         2\n",
       "Address                                   Gounderthope Melachinthamani Trichy\n",
       "Date of Arrival from Affected Country                              01/03/2020\n",
       "dtype: object"
      ]
     },
     "execution_count": 15,
     "metadata": {},
     "output_type": "execute_result"
    }
   ],
   "source": [
    "df.min()"
   ]
  },
  {
   "cell_type": "code",
   "execution_count": 16,
   "metadata": {},
   "outputs": [
    {
     "data": {
      "text/plain": [
       "SlNo                                                                                   276\n",
       "Name                                                        XAVIER SRINIVASAN JOTHIKENNEDY\n",
       "Age                                                                                     81\n",
       "Address                                  no:72 anna salai 8th cross kailash nagar ARIYA...\n",
       "Date of Arrival from Affected Country                                              CHENNAI\n",
       "dtype: object"
      ]
     },
     "execution_count": 16,
     "metadata": {},
     "output_type": "execute_result"
    }
   ],
   "source": [
    "df.max()"
   ]
  },
  {
   "cell_type": "code",
   "execution_count": 17,
   "metadata": {},
   "outputs": [
    {
     "data": {
      "text/html": [
       "<div>\n",
       "<style scoped>\n",
       "    .dataframe tbody tr th:only-of-type {\n",
       "        vertical-align: middle;\n",
       "    }\n",
       "\n",
       "    .dataframe tbody tr th {\n",
       "        vertical-align: top;\n",
       "    }\n",
       "\n",
       "    .dataframe thead th {\n",
       "        text-align: right;\n",
       "    }\n",
       "</style>\n",
       "<table border=\"1\" class=\"dataframe\">\n",
       "  <thead>\n",
       "    <tr style=\"text-align: right;\">\n",
       "      <th></th>\n",
       "      <th>SlNo</th>\n",
       "      <th>Age</th>\n",
       "    </tr>\n",
       "  </thead>\n",
       "  <tbody>\n",
       "    <tr>\n",
       "      <th>SlNo</th>\n",
       "      <td>1.000000</td>\n",
       "      <td>0.245839</td>\n",
       "    </tr>\n",
       "    <tr>\n",
       "      <th>Age</th>\n",
       "      <td>0.245839</td>\n",
       "      <td>1.000000</td>\n",
       "    </tr>\n",
       "  </tbody>\n",
       "</table>\n",
       "</div>"
      ],
      "text/plain": [
       "          SlNo       Age\n",
       "SlNo  1.000000  0.245839\n",
       "Age   0.245839  1.000000"
      ]
     },
     "execution_count": 17,
     "metadata": {},
     "output_type": "execute_result"
    }
   ],
   "source": [
    "df.corr()"
   ]
  },
  {
   "cell_type": "code",
   "execution_count": 286,
   "metadata": {
    "scrolled": true
   },
   "outputs": [
    {
     "data": {
      "text/plain": [
       "SlNo\n",
       "1      False\n",
       "2      False\n",
       "3      False\n",
       "4      False\n",
       "5      False\n",
       "6      False\n",
       "7      False\n",
       "8      False\n",
       "9      False\n",
       "10     False\n",
       "11     False\n",
       "12     False\n",
       "13     False\n",
       "14     False\n",
       "15     False\n",
       "16     False\n",
       "17     False\n",
       "18     False\n",
       "19     False\n",
       "20     False\n",
       "21     False\n",
       "22     False\n",
       "23     False\n",
       "24     False\n",
       "25     False\n",
       "26     False\n",
       "27     False\n",
       "28     False\n",
       "29     False\n",
       "30     False\n",
       "       ...  \n",
       "247    False\n",
       "248    False\n",
       "249    False\n",
       "250    False\n",
       "251    False\n",
       "252    False\n",
       "253    False\n",
       "254    False\n",
       "255    False\n",
       "256    False\n",
       "257    False\n",
       "258    False\n",
       "259    False\n",
       "260    False\n",
       "261    False\n",
       "262    False\n",
       "263    False\n",
       "264    False\n",
       "265    False\n",
       "266    False\n",
       "267    False\n",
       "268    False\n",
       "269    False\n",
       "270    False\n",
       "271    False\n",
       "272    False\n",
       "273    False\n",
       "274    False\n",
       "275    False\n",
       "276    False\n",
       "Name: Age, Length: 276, dtype: bool"
      ]
     },
     "execution_count": 286,
     "metadata": {},
     "output_type": "execute_result"
    }
   ],
   "source": [
    "df['Age'].isna()"
   ]
  },
  {
   "cell_type": "code",
   "execution_count": 18,
   "metadata": {},
   "outputs": [],
   "source": [
    "sample=df['Age'].dropna()"
   ]
  },
  {
   "cell_type": "code",
   "execution_count": 19,
   "metadata": {},
   "outputs": [],
   "source": [
    "Age=sample.astype('int')"
   ]
  },
  {
   "cell_type": "code",
   "execution_count": 20,
   "metadata": {},
   "outputs": [
    {
     "data": {
      "text/plain": [
       "dtype('int32')"
      ]
     },
     "execution_count": 20,
     "metadata": {},
     "output_type": "execute_result"
    }
   ],
   "source": [
    "Age.dtype"
   ]
  },
  {
   "cell_type": "code",
   "execution_count": 22,
   "metadata": {},
   "outputs": [
    {
     "data": {
      "image/png": "[encoded data removed]",
      "text/plain": [
       "<Figure size 432x288 with 1 Axes>"
      ]
     },
     "metadata": {
      "needs_background": "light"
     },
     "output_type": "display_data"
    }
   ],
   "source": [
    "plt.hist(df['Age'],bins=30)\n",
    "plt.title('Histrogram')\n",
    "plt.show()"
   ]
  },
  {
   "cell_type": "code",
   "execution_count": 23,
   "metadata": {},
   "outputs": [
    {
     "data": {
      "text/plain": [
       "<matplotlib.axes._subplots.AxesSubplot at 0x1ffa2549320>"
      ]
     },
     "execution_count": 23,
     "metadata": {},
     "output_type": "execute_result"
    },
    {
     "data": {
      "image/png": "[encoded data removed]",
      "text/plain": [
       "<Figure size 432x288 with 1 Axes>"
      ]
     },
     "metadata": {
      "needs_background": "light"
     },
     "output_type": "display_data"
    }
   ],
   "source": [
    "sns.distplot(df['Age'].dropna(),kde=False,color='darkred',bins=40)"
   ]
  },
  {
   "cell_type": "code",
   "execution_count": 24,
   "metadata": {},
   "outputs": [
    {
     "data": {
      "text/plain": [
       "<matplotlib.axes._subplots.AxesSubplot at 0x1ffa26199e8>"
      ]
     },
     "execution_count": 24,
     "metadata": {},
     "output_type": "execute_result"
    },
    {
     "data": {
      "image/png": "[encoded data removed]",
      "text/plain": [
       "<Figure size 432x288 with 1 Axes>"
      ]
     },
     "metadata": {
      "needs_background": "light"
     },
     "output_type": "display_data"
    }
   ],
   "source": [
    "df['Age'].hist(bins=40,color='darkred',alpha=0.3)"
   ]
  },
  {
   "cell_type": "code",
   "execution_count": 50,
   "metadata": {},
   "outputs": [
    {
     "data": {
      "application/vnd.plotly.v1+json": {
       "config": {
        "linkText": "Export to plot.ly",
        "plotlyServerURL": "https://plot.ly",
        "showLink": true
       },
       "data": [
        {
         "histfunc": "count",
         "histnorm": "",
         "marker": {
          "color": "rgba(139, 0, 0, 1.0)",
          "line": {
           "color": "#4D5663",
           "width": 1.3
          }
         },
         "name": "Age",
         "nbinsx": 40,
         "opacity": 0.8,
         "orientation": "v",
         "type": "histogram",
         "x": [
          31,
          44,
          29,
          20,
          44,
          30,
          18,
          23,
          69,
          65,
          64,
          40,
          27,
          26,
          26,
          40,
          2,
          33,
          6,
          24,
          27,
          25,
          26,
          27,
          31,
          31,
          30,
          21,
          33,
          34,
          22,
          23,
          23,
          61,
          52,
          51,
          20,
          42,
          null,
          21,
          20,
          null,
          26,
          26,
          30,
          2,
          35,
          3,
          34,
          7,
          2,
          40,
          26,
          21,
          29,
          24,
          34,
          25,
          32,
          38,
          28,
          20,
          43,
          50,
          21,
          24,
          23,
          44,
          31,
          38,
          81,
          49,
          46,
          40,
          45,
          61,
          27,
          35,
          38,
          34,
          28,
          51,
          30,
          35,
          51,
          25,
          42,
          18,
          29,
          29,
          50,
          61,
          null,
          31,
          69,
          null,
          null,
          null,
          62,
          null,
          null,
          26,
          53,
          null,
          48,
          78,
          null,
          44,
          null,
          null,
          null,
          null,
          null,
          null,
          null,
          null,
          null,
          null,
          null,
          null,
          null,
          null,
          null,
          null,
          null,
          null,
          null,
          null,
          null,
          null,
          null,
          null,
          null,
          null,
          null,
          null,
          null,
          null,
          null,
          null,
          null,
          null,
          null,
          null,
          null,
          null,
          null,
          null,
          null,
          null,
          null,
          null,
          null,
          null,
          null,
          null,
          null,
          null,
          null,
          null,
          null,
          null,
          null,
          null,
          null,
          null,
          null,
          null,
          null,
          null,
          null,
          null,
          null,
          null,
          null,
          null,
          23,
          24,
          31,
          19,
          28,
          71,
          12,
          35,
          31,
          58,
          53,
          44,
          32,
          64,
          27,
          48,
          47,
          42,
          75,
          49,
          29,
          67,
          62,
          6,
          8,
          46,
          28,
          40,
          28,
          36,
          53,
          32,
          7,
          53,
          49,
          62,
          28,
          27,
          32,
          33,
          21,
          49,
          35,
          58,
          33,
          31,
          50,
          48,
          52,
          47,
          24,
          22,
          46,
          null,
          null,
          null,
          null,
          null,
          null,
          null,
          null,
          null,
          null,
          null,
          null,
          41,
          19,
          52,
          37,
          67,
          66,
          74,
          70,
          61,
          55,
          66,
          61,
          22,
          58,
          31,
          4,
          34,
          35,
          69,
          7,
          19,
          42,
          30,
          38,
          47,
          64,
          66,
          47,
          27,
          20,
          52,
          34,
          44,
          40,
          37
         ]
        }
       ],
       "layout": {
        "barmode": "overlay",
        "legend": {
         "bgcolor": "#F5F6F9",
         "font": {
          "color": "#4D5663"
         }
        },
        "paper_bgcolor": "#F5F6F9",
        "plot_bgcolor": "#F5F6F9",
        "template": {
         "data": {
          "bar": [
           {
            "error_x": {
             "color": "#2a3f5f"
            },
            "error_y": {
             "color": "#2a3f5f"
            },
            "marker": {
             "line": {
              "color": "#E5ECF6",
              "width": 0.5
             }
            },
            "type": "bar"
           }
          ],
          "barpolar": [
           {
            "marker": {
             "line": {
              "color": "#E5ECF6",
              "width": 0.5
             }
            },
            "type": "barpolar"
           }
          ],
          "carpet": [
           {
            "aaxis": {
             "endlinecolor": "#2a3f5f",
             "gridcolor": "white",
             "linecolor": "white",
             "minorgridcolor": "white",
             "startlinecolor": "#2a3f5f"
            },
            "baxis": {
             "endlinecolor": "#2a3f5f",
             "gridcolor": "white",
             "linecolor": "white",
             "minorgridcolor": "white",
             "startlinecolor": "#2a3f5f"
            },
            "type": "carpet"
           }
          ],
          "choropleth": [
           {
            "colorbar": {
             "outlinewidth": 0,
             "ticks": ""
            },
            "type": "choropleth"
           }
          ],
          "contour": [
           {
            "colorbar": {
             "outlinewidth": 0,
             "ticks": ""
            },
            "colorscale": [
             [
              0,
              "#0d0887"
             ],
             [
              0.1111111111111111,
              "#46039f"
             ],
             [
              0.2222222222222222,
              "#7201a8"
             ],
             [
              0.3333333333333333,
              "#9c179e"
             ],
             [
              0.4444444444444444,
              "#bd3786"
             ],
             [
              0.5555555555555556,
              "#d8576b"
             ],
             [
              0.6666666666666666,
              "#ed7953"
             ],
             [
              0.7777777777777778,
              "#fb9f3a"
             ],
             [
              0.8888888888888888,
              "#fdca26"
             ],
             [
              1,
              "#f0f921"
             ]
            ],
            "type": "contour"
           }
          ],
          "contourcarpet": [
           {
            "colorbar": {
             "outlinewidth": 0,
             "ticks": ""
            },
            "type": "contourcarpet"
           }
          ],
          "heatmap": [
           {
            "colorbar": {
             "outlinewidth": 0,
             "ticks": ""
            },
            "colorscale": [
             [
              0,
              "#0d0887"
             ],
             [
              0.1111111111111111,
              "#46039f"
             ],
             [
              0.2222222222222222,
              "#7201a8"
             ],
             [
              0.3333333333333333,
              "#9c179e"
             ],
             [
              0.4444444444444444,
              "#bd3786"
             ],
             [
              0.5555555555555556,
              "#d8576b"
             ],
             [
              0.6666666666666666,
              "#ed7953"
             ],
             [
              0.7777777777777778,
              "#fb9f3a"
             ],
             [
              0.8888888888888888,
              "#fdca26"
             ],
             [
              1,
              "#f0f921"
             ]
            ],
            "type": "heatmap"
           }
          ],
          "heatmapgl": [
           {
            "colorbar": {
             "outlinewidth": 0,
             "ticks": ""
            },
            "colorscale": [
             [
              0,
              "#0d0887"
             ],
             [
              0.1111111111111111,
              "#46039f"
             ],
             [
              0.2222222222222222,
              "#7201a8"
             ],
             [
              0.3333333333333333,
              "#9c179e"
             ],
             [
              0.4444444444444444,
              "#bd3786"
             ],
             [
              0.5555555555555556,
              "#d8576b"
             ],
             [
              0.6666666666666666,
              "#ed7953"
             ],
             [
              0.7777777777777778,
              "#fb9f3a"
             ],
             [
              0.8888888888888888,
              "#fdca26"
             ],
             [
              1,
              "#f0f921"
             ]
            ],
            "type": "heatmapgl"
           }
          ],
          "histogram": [
           {
            "marker": {
             "colorbar": {
              "outlinewidth": 0,
              "ticks": ""
             }
            },
            "type": "histogram"
           }
          ],
          "histogram2d": [
           {
            "colorbar": {
             "outlinewidth": 0,
             "ticks": ""
            },
            "colorscale": [
             [
              0,
              "#0d0887"
             ],
             [
              0.1111111111111111,
              "#46039f"
             ],
             [
              0.2222222222222222,
              "#7201a8"
             ],
             [
              0.3333333333333333,
              "#9c179e"
             ],
             [
              0.4444444444444444,
              "#bd3786"
             ],
             [
              0.5555555555555556,
              "#d8576b"
             ],
             [
              0.6666666666666666,
              "#ed7953"
             ],
             [
              0.7777777777777778,
              "#fb9f3a"
             ],
             [
              0.8888888888888888,
              "#fdca26"
             ],
             [
              1,
              "#f0f921"
             ]
            ],
            "type": "histogram2d"
           }
          ],
          "histogram2dcontour": [
           {
            "colorbar": {
             "outlinewidth": 0,
             "ticks": ""
            },
            "colorscale": [
             [
              0,
              "#0d0887"
             ],
             [
              0.1111111111111111,
              "#46039f"
             ],
             [
              0.2222222222222222,
              "#7201a8"
             ],
             [
              0.3333333333333333,
              "#9c179e"
             ],
             [
              0.4444444444444444,
              "#bd3786"
             ],
             [
              0.5555555555555556,
              "#d8576b"
             ],
             [
              0.6666666666666666,
              "#ed7953"
             ],
             [
              0.7777777777777778,
              "#fb9f3a"
             ],
             [
              0.8888888888888888,
              "#fdca26"
             ],
             [
              1,
              "#f0f921"
             ]
            ],
            "type": "histogram2dcontour"
           }
          ],
          "mesh3d": [
           {
            "colorbar": {
             "outlinewidth": 0,
             "ticks": ""
            },
            "type": "mesh3d"
           }
          ],
          "parcoords": [
           {
            "line": {
             "colorbar": {
              "outlinewidth": 0,
              "ticks": ""
             }
            },
            "type": "parcoords"
           }
          ],
          "pie": [
           {
            "automargin": true,
            "type": "pie"
           }
          ],
          "scatter": [
           {
            "marker": {
             "colorbar": {
              "outlinewidth": 0,
              "ticks": ""
             }
            },
            "type": "scatter"
           }
          ],
          "scatter3d": [
           {
            "line": {
             "colorbar": {
              "outlinewidth": 0,
              "ticks": ""
             }
            },
            "marker": {
             "colorbar": {
              "outlinewidth": 0,
              "ticks": ""
             }
            },
            "type": "scatter3d"
           }
          ],
          "scattercarpet": [
           {
            "marker": {
             "colorbar": {
              "outlinewidth": 0,
              "ticks": ""
             }
            },
            "type": "scattercarpet"
           }
          ],
          "scattergeo": [
           {
            "marker": {
             "colorbar": {
              "outlinewidth": 0,
              "ticks": ""
             }
            },
            "type": "scattergeo"
           }
          ],
          "scattergl": [
           {
            "marker": {
             "colorbar": {
              "outlinewidth": 0,
              "ticks": ""
             }
            },
            "type": "scattergl"
           }
          ],
          "scattermapbox": [
           {
            "marker": {
             "colorbar": {
              "outlinewidth": 0,
              "ticks": ""
             }
            },
            "type": "scattermapbox"
           }
          ],
          "scatterpolar": [
           {
            "marker": {
             "colorbar": {
              "outlinewidth": 0,
              "ticks": ""
             }
            },
            "type": "scatterpolar"
           }
          ],
          "scatterpolargl": [
           {
            "marker": {
             "colorbar": {
              "outlinewidth": 0,
              "ticks": ""
             }
            },
            "type": "scatterpolargl"
           }
          ],
          "scatterternary": [
           {
            "marker": {
             "colorbar": {
              "outlinewidth": 0,
              "ticks": ""
             }
            },
            "type": "scatterternary"
           }
          ],
          "surface": [
           {
            "colorbar": {
             "outlinewidth": 0,
             "ticks": ""
            },
            "colorscale": [
             [
              0,
              "#0d0887"
             ],
             [
              0.1111111111111111,
              "#46039f"
             ],
             [
              0.2222222222222222,
              "#7201a8"
             ],
             [
              0.3333333333333333,
              "#9c179e"
             ],
             [
              0.4444444444444444,
              "#bd3786"
             ],
             [
              0.5555555555555556,
              "#d8576b"
             ],
             [
              0.6666666666666666,
              "#ed7953"
             ],
             [
              0.7777777777777778,
              "#fb9f3a"
             ],
             [
              0.8888888888888888,
              "#fdca26"
             ],
             [
              1,
              "#f0f921"
             ]
            ],
            "type": "surface"
           }
          ],
          "table": [
           {
            "cells": {
             "fill": {
              "color": "#EBF0F8"
             },
             "line": {
              "color": "white"
             }
            },
            "header": {
             "fill": {
              "color": "#C8D4E3"
             },
             "line": {
              "color": "white"
             }
            },
            "type": "table"
           }
          ]
         },
         "layout": {
          "annotationdefaults": {
           "arrowcolor": "#2a3f5f",
           "arrowhead": 0,
           "arrowwidth": 1
          },
          "coloraxis": {
           "colorbar": {
            "outlinewidth": 0,
            "ticks": ""
           }
          },
          "colorscale": {
           "diverging": [
            [
             0,
             "#8e0152"
            ],
            [
             0.1,
             "#c51b7d"
            ],
            [
             0.2,
             "#de77ae"
            ],
            [
             0.3,
             "#f1b6da"
            ],
            [
             0.4,
             "#fde0ef"
            ],
            [
             0.5,
             "#f7f7f7"
            ],
            [
             0.6,
             "#e6f5d0"
            ],
            [
             0.7,
             "#b8e186"
            ],
            [
             0.8,
             "#7fbc41"
            ],
            [
             0.9,
             "#4d9221"
            ],
            [
             1,
             "#276419"
            ]
           ],
           "sequential": [
            [
             0,
             "#0d0887"
            ],
            [
             0.1111111111111111,
             "#46039f"
            ],
            [
             0.2222222222222222,
             "#7201a8"
            ],
            [
             0.3333333333333333,
             "#9c179e"
            ],
            [
             0.4444444444444444,
             "#bd3786"
            ],
            [
             0.5555555555555556,
             "#d8576b"
            ],
            [
             0.6666666666666666,
             "#ed7953"
            ],
            [
             0.7777777777777778,
             "#fb9f3a"
            ],
            [
             0.8888888888888888,
             "#fdca26"
            ],
            [
             1,
             "#f0f921"
            ]
           ],
           "sequentialminus": [
            [
             0,
             "#0d0887"
            ],
            [
             0.1111111111111111,
             "#46039f"
            ],
            [
             0.2222222222222222,
             "#7201a8"
            ],
            [
             0.3333333333333333,
             "#9c179e"
            ],
            [
             0.4444444444444444,
             "#bd3786"
            ],
            [
             0.5555555555555556,
             "#d8576b"
            ],
            [
             0.6666666666666666,
             "#ed7953"
            ],
            [
             0.7777777777777778,
             "#fb9f3a"
            ],
            [
             0.8888888888888888,
             "#fdca26"
            ],
            [
             1,
             "#f0f921"
            ]
           ]
          },
          "colorway": [
           "#636efa",
           "#EF553B",
           "#00cc96",
           "#ab63fa",
           "#FFA15A",
           "#19d3f3",
           "#FF6692",
           "#B6E880",
           "#FF97FF",
           "#FECB52"
          ],
          "font": {
           "color": "#2a3f5f"
          },
          "geo": {
           "bgcolor": "white",
           "lakecolor": "white",
           "landcolor": "#E5ECF6",
           "showlakes": true,
           "showland": true,
           "subunitcolor": "white"
          },
          "hoverlabel": {
           "align": "left"
          },
          "hovermode": "closest",
          "mapbox": {
           "style": "light"
          },
          "paper_bgcolor": "white",
          "plot_bgcolor": "#E5ECF6",
          "polar": {
           "angularaxis": {
            "gridcolor": "white",
            "linecolor": "white",
            "ticks": ""
           },
           "bgcolor": "#E5ECF6",
           "radialaxis": {
            "gridcolor": "white",
            "linecolor": "white",
            "ticks": ""
           }
          },
          "scene": {
           "xaxis": {
            "backgroundcolor": "#E5ECF6",
            "gridcolor": "white",
            "gridwidth": 2,
            "linecolor": "white",
            "showbackground": true,
            "ticks": "",
            "zerolinecolor": "white"
           },
           "yaxis": {
            "backgroundcolor": "#E5ECF6",
            "gridcolor": "white",
            "gridwidth": 2,
            "linecolor": "white",
            "showbackground": true,
            "ticks": "",
            "zerolinecolor": "white"
           },
           "zaxis": {
            "backgroundcolor": "#E5ECF6",
            "gridcolor": "white",
            "gridwidth": 2,
            "linecolor": "white",
            "showbackground": true,
            "ticks": "",
            "zerolinecolor": "white"
           }
          },
          "shapedefaults": {
           "line": {
            "color": "#2a3f5f"
           }
          },
          "ternary": {
           "aaxis": {
            "gridcolor": "white",
            "linecolor": "white",
            "ticks": ""
           },
           "baxis": {
            "gridcolor": "white",
            "linecolor": "white",
            "ticks": ""
           },
           "bgcolor": "#E5ECF6",
           "caxis": {
            "gridcolor": "white",
            "linecolor": "white",
            "ticks": ""
           }
          },
          "title": {
           "x": 0.05
          },
          "xaxis": {
           "automargin": true,
           "gridcolor": "white",
           "linecolor": "white",
           "ticks": "",
           "title": {
            "standoff": 15
           },
           "zerolinecolor": "white",
           "zerolinewidth": 2
          },
          "yaxis": {
           "automargin": true,
           "gridcolor": "white",
           "linecolor": "white",
           "ticks": "",
           "title": {
            "standoff": 15
           },
           "zerolinecolor": "white",
           "zerolinewidth": 2
          }
         }
        },
        "title": {
         "font": {
          "color": "#4D5663"
         }
        },
        "xaxis": {
         "gridcolor": "#E1E5ED",
         "showgrid": true,
         "tickfont": {
          "color": "#4D5663"
         },
         "title": {
          "font": {
           "color": "#4D5663"
          },
          "text": ""
         },
         "zerolinecolor": "#E1E5ED"
        },
        "yaxis": {
         "gridcolor": "#E1E5ED",
         "showgrid": true,
         "tickfont": {
          "color": "#4D5663"
         },
         "title": {
          "font": {
           "color": "#4D5663"
          },
          "text": ""
         },
         "zerolinecolor": "#E1E5ED"
        }
       }
      },
      "text/html": [
       "<div>\n",
       "        \n",
       "        \n",
       "            <div id=\"5160bae5-4b5c-4e94-bf75-0d56d5ded295\" class=\"plotly-graph-div\" style=\"height:525px; width:100%;\"></div>\n",
       "            <script type=\"text/javascript\">\n",
       "                require([\"plotly\"], function(Plotly) {\n",
       "                    window.PLOTLYENV=window.PLOTLYENV || {};\n",
       "                    window.PLOTLYENV.BASE_URL='https://plot.ly';\n",
       "                    \n",
       "                if (document.getElementById(\"5160bae5-4b5c-4e94-bf75-0d56d5ded295\")) {\n",
       "                    Plotly.newPlot(\n",
       "                        '5160bae5-4b5c-4e94-bf75-0d56d5ded295',\n",
       "                        [{\"histfunc\": \"count\", \"histnorm\": \"\", \"marker\": {\"color\": \"rgba(139, 0, 0, 1.0)\", \"line\": {\"color\": \"#4D5663\", \"width\": 1.3}}, \"name\": \"Age\", \"nbinsx\": 40, \"opacity\": 0.8, \"orientation\": \"v\", \"type\": \"histogram\", \"x\": [31.0, 44.0, 29.0, 20.0, 44.0, 30.0, 18.0, 23.0, 69.0, 65.0, 64.0, 40.0, 27.0, 26.0, 26.0, 40.0, 2.0, 33.0, 6.0, 24.0, 27.0, 25.0, 26.0, 27.0, 31.0, 31.0, 30.0, 21.0, 33.0, 34.0, 22.0, 23.0, 23.0, 61.0, 52.0, 51.0, 20.0, 42.0, null, 21.0, 20.0, null, 26.0, 26.0, 30.0, 2.0, 35.0, 3.0, 34.0, 7.0, 2.0, 40.0, 26.0, 21.0, 29.0, 24.0, 34.0, 25.0, 32.0, 38.0, 28.0, 20.0, 43.0, 50.0, 21.0, 24.0, 23.0, 44.0, 31.0, 38.0, 81.0, 49.0, 46.0, 40.0, 45.0, 61.0, 27.0, 35.0, 38.0, 34.0, 28.0, 51.0, 30.0, 35.0, 51.0, 25.0, 42.0, 18.0, 29.0, 29.0, 50.0, 61.0, null, 31.0, 69.0, null, null, null, 62.0, null, null, 26.0, 53.0, null, 48.0, 78.0, null, 44.0, null, null, null, null, null, null, null, null, null, null, null, null, null, null, null, null, null, null, null, null, null, null, null, null, null, null, null, null, null, null, null, null, null, null, null, null, null, null, null, null, null, null, null, null, null, null, null, null, null, null, null, null, null, null, null, null, null, null, null, null, null, null, null, null, null, null, null, null, 23.0, 24.0, 31.0, 19.0, 28.0, 71.0, 12.0, 35.0, 31.0, 58.0, 53.0, 44.0, 32.0, 64.0, 27.0, 48.0, 47.0, 42.0, 75.0, 49.0, 29.0, 67.0, 62.0, 6.0, 8.0, 46.0, 28.0, 40.0, 28.0, 36.0, 53.0, 32.0, 7.0, 53.0, 49.0, 62.0, 28.0, 27.0, 32.0, 33.0, 21.0, 49.0, 35.0, 58.0, 33.0, 31.0, 50.0, 48.0, 52.0, 47.0, 24.0, 22.0, 46.0, null, null, null, null, null, null, null, null, null, null, null, null, 41.0, 19.0, 52.0, 37.0, 67.0, 66.0, 74.0, 70.0, 61.0, 55.0, 66.0, 61.0, 22.0, 58.0, 31.0, 4.0, 34.0, 35.0, 69.0, 7.0, 19.0, 42.0, 30.0, 38.0, 47.0, 64.0, 66.0, 47.0, 27.0, 20.0, 52.0, 34.0, 44.0, 40.0, 37.0]}],\n",
       "                        {\"barmode\": \"overlay\", \"legend\": {\"bgcolor\": \"#F5F6F9\", \"font\": {\"color\": \"#4D5663\"}}, \"paper_bgcolor\": \"#F5F6F9\", \"plot_bgcolor\": \"#F5F6F9\", \"template\": {\"data\": {\"bar\": [{\"error_x\": {\"color\": \"#2a3f5f\"}, \"error_y\": {\"color\": \"#2a3f5f\"}, \"marker\": {\"line\": {\"color\": \"#E5ECF6\", \"width\": 0.5}}, \"type\": \"bar\"}], \"barpolar\": [{\"marker\": {\"line\": {\"color\": \"#E5ECF6\", \"width\": 0.5}}, \"type\": \"barpolar\"}], \"carpet\": [{\"aaxis\": {\"endlinecolor\": \"#2a3f5f\", \"gridcolor\": \"white\", \"linecolor\": \"white\", \"minorgridcolor\": \"white\", \"startlinecolor\": \"#2a3f5f\"}, \"baxis\": {\"endlinecolor\": \"#2a3f5f\", \"gridcolor\": \"white\", \"linecolor\": \"white\", \"minorgridcolor\": \"white\", \"startlinecolor\": \"#2a3f5f\"}, \"type\": \"carpet\"}], \"choropleth\": [{\"colorbar\": {\"outlinewidth\": 0, \"ticks\": \"\"}, \"type\": \"choropleth\"}], \"contour\": [{\"colorbar\": {\"outlinewidth\": 0, \"ticks\": \"\"}, \"colorscale\": [[0.0, \"#0d0887\"], [0.1111111111111111, \"#46039f\"], [0.2222222222222222, \"#7201a8\"], [0.3333333333333333, \"#9c179e\"], [0.4444444444444444, \"#bd3786\"], [0.5555555555555556, \"#d8576b\"], [0.6666666666666666, \"#ed7953\"], [0.7777777777777778, \"#fb9f3a\"], [0.8888888888888888, \"#fdca26\"], [1.0, \"#f0f921\"]], \"type\": \"contour\"}], \"contourcarpet\": [{\"colorbar\": {\"outlinewidth\": 0, \"ticks\": \"\"}, \"type\": \"contourcarpet\"}], \"heatmap\": [{\"colorbar\": {\"outlinewidth\": 0, \"ticks\": \"\"}, \"colorscale\": [[0.0, \"#0d0887\"], [0.1111111111111111, \"#46039f\"], [0.2222222222222222, \"#7201a8\"], [0.3333333333333333, \"#9c179e\"], [0.4444444444444444, \"#bd3786\"], [0.5555555555555556, \"#d8576b\"], [0.6666666666666666, \"#ed7953\"], [0.7777777777777778, \"#fb9f3a\"], [0.8888888888888888, \"#fdca26\"], [1.0, \"#f0f921\"]], \"type\": \"heatmap\"}], \"heatmapgl\": [{\"colorbar\": {\"outlinewidth\": 0, \"ticks\": \"\"}, \"colorscale\": [[0.0, \"#0d0887\"], [0.1111111111111111, \"#46039f\"], [0.2222222222222222, \"#7201a8\"], [0.3333333333333333, \"#9c179e\"], [0.4444444444444444, \"#bd3786\"], [0.5555555555555556, \"#d8576b\"], [0.6666666666666666, \"#ed7953\"], [0.7777777777777778, \"#fb9f3a\"], [0.8888888888888888, \"#fdca26\"], [1.0, \"#f0f921\"]], \"type\": \"heatmapgl\"}], \"histogram\": [{\"marker\": {\"colorbar\": {\"outlinewidth\": 0, \"ticks\": \"\"}}, \"type\": \"histogram\"}], \"histogram2d\": [{\"colorbar\": {\"outlinewidth\": 0, \"ticks\": \"\"}, \"colorscale\": [[0.0, \"#0d0887\"], [0.1111111111111111, \"#46039f\"], [0.2222222222222222, \"#7201a8\"], [0.3333333333333333, \"#9c179e\"], [0.4444444444444444, \"#bd3786\"], [0.5555555555555556, \"#d8576b\"], [0.6666666666666666, \"#ed7953\"], [0.7777777777777778, \"#fb9f3a\"], [0.8888888888888888, \"#fdca26\"], [1.0, \"#f0f921\"]], \"type\": \"histogram2d\"}], \"histogram2dcontour\": [{\"colorbar\": {\"outlinewidth\": 0, \"ticks\": \"\"}, \"colorscale\": [[0.0, \"#0d0887\"], [0.1111111111111111, \"#46039f\"], [0.2222222222222222, \"#7201a8\"], [0.3333333333333333, \"#9c179e\"], [0.4444444444444444, \"#bd3786\"], [0.5555555555555556, \"#d8576b\"], [0.6666666666666666, \"#ed7953\"], [0.7777777777777778, \"#fb9f3a\"], [0.8888888888888888, \"#fdca26\"], [1.0, \"#f0f921\"]], \"type\": \"histogram2dcontour\"}], \"mesh3d\": [{\"colorbar\": {\"outlinewidth\": 0, \"ticks\": \"\"}, \"type\": \"mesh3d\"}], \"parcoords\": [{\"line\": {\"colorbar\": {\"outlinewidth\": 0, \"ticks\": \"\"}}, \"type\": \"parcoords\"}], \"pie\": [{\"automargin\": true, \"type\": \"pie\"}], \"scatter\": [{\"marker\": {\"colorbar\": {\"outlinewidth\": 0, \"ticks\": \"\"}}, \"type\": \"scatter\"}], \"scatter3d\": [{\"line\": {\"colorbar\": {\"outlinewidth\": 0, \"ticks\": \"\"}}, \"marker\": {\"colorbar\": {\"outlinewidth\": 0, \"ticks\": \"\"}}, \"type\": \"scatter3d\"}], \"scattercarpet\": [{\"marker\": {\"colorbar\": {\"outlinewidth\": 0, \"ticks\": \"\"}}, \"type\": \"scattercarpet\"}], \"scattergeo\": [{\"marker\": {\"colorbar\": {\"outlinewidth\": 0, \"ticks\": \"\"}}, \"type\": \"scattergeo\"}], \"scattergl\": [{\"marker\": {\"colorbar\": {\"outlinewidth\": 0, \"ticks\": \"\"}}, \"type\": \"scattergl\"}], \"scattermapbox\": [{\"marker\": {\"colorbar\": {\"outlinewidth\": 0, \"ticks\": \"\"}}, \"type\": \"scattermapbox\"}], \"scatterpolar\": [{\"marker\": {\"colorbar\": {\"outlinewidth\": 0, \"ticks\": \"\"}}, \"type\": \"scatterpolar\"}], \"scatterpolargl\": [{\"marker\": {\"colorbar\": {\"outlinewidth\": 0, \"ticks\": \"\"}}, \"type\": \"scatterpolargl\"}], \"scatterternary\": [{\"marker\": {\"colorbar\": {\"outlinewidth\": 0, \"ticks\": \"\"}}, \"type\": \"scatterternary\"}], \"surface\": [{\"colorbar\": {\"outlinewidth\": 0, \"ticks\": \"\"}, \"colorscale\": [[0.0, \"#0d0887\"], [0.1111111111111111, \"#46039f\"], [0.2222222222222222, \"#7201a8\"], [0.3333333333333333, \"#9c179e\"], [0.4444444444444444, \"#bd3786\"], [0.5555555555555556, \"#d8576b\"], [0.6666666666666666, \"#ed7953\"], [0.7777777777777778, \"#fb9f3a\"], [0.8888888888888888, \"#fdca26\"], [1.0, \"#f0f921\"]], \"type\": \"surface\"}], \"table\": [{\"cells\": {\"fill\": {\"color\": \"#EBF0F8\"}, \"line\": {\"color\": \"white\"}}, \"header\": {\"fill\": {\"color\": \"#C8D4E3\"}, \"line\": {\"color\": \"white\"}}, \"type\": \"table\"}]}, \"layout\": {\"annotationdefaults\": {\"arrowcolor\": \"#2a3f5f\", \"arrowhead\": 0, \"arrowwidth\": 1}, \"coloraxis\": {\"colorbar\": {\"outlinewidth\": 0, \"ticks\": \"\"}}, \"colorscale\": {\"diverging\": [[0, \"#8e0152\"], [0.1, \"#c51b7d\"], [0.2, \"#de77ae\"], [0.3, \"#f1b6da\"], [0.4, \"#fde0ef\"], [0.5, \"#f7f7f7\"], [0.6, \"#e6f5d0\"], [0.7, \"#b8e186\"], [0.8, \"#7fbc41\"], [0.9, \"#4d9221\"], [1, \"#276419\"]], \"sequential\": [[0.0, \"#0d0887\"], [0.1111111111111111, \"#46039f\"], [0.2222222222222222, \"#7201a8\"], [0.3333333333333333, \"#9c179e\"], [0.4444444444444444, \"#bd3786\"], [0.5555555555555556, \"#d8576b\"], [0.6666666666666666, \"#ed7953\"], [0.7777777777777778, \"#fb9f3a\"], [0.8888888888888888, \"#fdca26\"], [1.0, \"#f0f921\"]], \"sequentialminus\": [[0.0, \"#0d0887\"], [0.1111111111111111, \"#46039f\"], [0.2222222222222222, \"#7201a8\"], [0.3333333333333333, \"#9c179e\"], [0.4444444444444444, \"#bd3786\"], [0.5555555555555556, \"#d8576b\"], [0.6666666666666666, \"#ed7953\"], [0.7777777777777778, \"#fb9f3a\"], [0.8888888888888888, \"#fdca26\"], [1.0, \"#f0f921\"]]}, \"colorway\": [\"#636efa\", \"#EF553B\", \"#00cc96\", \"#ab63fa\", \"#FFA15A\", \"#19d3f3\", \"#FF6692\", \"#B6E880\", \"#FF97FF\", \"#FECB52\"], \"font\": {\"color\": \"#2a3f5f\"}, \"geo\": {\"bgcolor\": \"white\", \"lakecolor\": \"white\", \"landcolor\": \"#E5ECF6\", \"showlakes\": true, \"showland\": true, \"subunitcolor\": \"white\"}, \"hoverlabel\": {\"align\": \"left\"}, \"hovermode\": \"closest\", \"mapbox\": {\"style\": \"light\"}, \"paper_bgcolor\": \"white\", \"plot_bgcolor\": \"#E5ECF6\", \"polar\": {\"angularaxis\": {\"gridcolor\": \"white\", \"linecolor\": \"white\", \"ticks\": \"\"}, \"bgcolor\": \"#E5ECF6\", \"radialaxis\": {\"gridcolor\": \"white\", \"linecolor\": \"white\", \"ticks\": \"\"}}, \"scene\": {\"xaxis\": {\"backgroundcolor\": \"#E5ECF6\", \"gridcolor\": \"white\", \"gridwidth\": 2, \"linecolor\": \"white\", \"showbackground\": true, \"ticks\": \"\", \"zerolinecolor\": \"white\"}, \"yaxis\": {\"backgroundcolor\": \"#E5ECF6\", \"gridcolor\": \"white\", \"gridwidth\": 2, \"linecolor\": \"white\", \"showbackground\": true, \"ticks\": \"\", \"zerolinecolor\": \"white\"}, \"zaxis\": {\"backgroundcolor\": \"#E5ECF6\", \"gridcolor\": \"white\", \"gridwidth\": 2, \"linecolor\": \"white\", \"showbackground\": true, \"ticks\": \"\", \"zerolinecolor\": \"white\"}}, \"shapedefaults\": {\"line\": {\"color\": \"#2a3f5f\"}}, \"ternary\": {\"aaxis\": {\"gridcolor\": \"white\", \"linecolor\": \"white\", \"ticks\": \"\"}, \"baxis\": {\"gridcolor\": \"white\", \"linecolor\": \"white\", \"ticks\": \"\"}, \"bgcolor\": \"#E5ECF6\", \"caxis\": {\"gridcolor\": \"white\", \"linecolor\": \"white\", \"ticks\": \"\"}}, \"title\": {\"x\": 0.05}, \"xaxis\": {\"automargin\": true, \"gridcolor\": \"white\", \"linecolor\": \"white\", \"ticks\": \"\", \"title\": {\"standoff\": 15}, \"zerolinecolor\": \"white\", \"zerolinewidth\": 2}, \"yaxis\": {\"automargin\": true, \"gridcolor\": \"white\", \"linecolor\": \"white\", \"ticks\": \"\", \"title\": {\"standoff\": 15}, \"zerolinecolor\": \"white\", \"zerolinewidth\": 2}}}, \"title\": {\"font\": {\"color\": \"#4D5663\"}}, \"xaxis\": {\"gridcolor\": \"#E1E5ED\", \"showgrid\": true, \"tickfont\": {\"color\": \"#4D5663\"}, \"title\": {\"font\": {\"color\": \"#4D5663\"}, \"text\": \"\"}, \"zerolinecolor\": \"#E1E5ED\"}, \"yaxis\": {\"gridcolor\": \"#E1E5ED\", \"showgrid\": true, \"tickfont\": {\"color\": \"#4D5663\"}, \"title\": {\"font\": {\"color\": \"#4D5663\"}, \"text\": \"\"}, \"zerolinecolor\": \"#E1E5ED\"}},\n",
       "                        {\"showLink\": true, \"linkText\": \"Export to plot.ly\", \"plotlyServerURL\": \"https://plot.ly\", \"responsive\": true}\n",
       "                    ).then(function(){\n",
       "                            \n",
       "var gd = document.getElementById('5160bae5-4b5c-4e94-bf75-0d56d5ded295');\n",
       "var x = new MutationObserver(function (mutations, observer) {{\n",
       "        var display = window.getComputedStyle(gd).display;\n",
       "        if (!display || display === 'none') {{\n",
       "            console.log([gd, 'removed!']);\n",
       "            Plotly.purge(gd);\n",
       "            observer.disconnect();\n",
       "        }}\n",
       "}});\n",
       "\n",
       "// Listen for the removal of the full notebook cells\n",
       "var notebookContainer = gd.closest('#notebook-container');\n",
       "if (notebookContainer) {{\n",
       "    x.observe(notebookContainer, {childList: true});\n",
       "}}\n",
       "\n",
       "// Listen for the clearing of the current output cell\n",
       "var outputEl = gd.closest('.output');\n",
       "if (outputEl) {{\n",
       "    x.observe(outputEl, {childList: true});\n",
       "}}\n",
       "\n",
       "                        })\n",
       "                };\n",
       "                });\n",
       "            </script>\n",
       "        </div>"
      ]
     },
     "metadata": {},
     "output_type": "display_data"
    }
   ],
   "source": [
    "df['Age'].iplot(kind='hist',bins=40,color=\"darkred\")"
   ]
  },
  {
   "cell_type": "code",
   "execution_count": 25,
   "metadata": {},
   "outputs": [
    {
     "data": {
      "text/plain": [
       "Male      149\n",
       "Female     54\n",
       "Name: Sex, dtype: int64"
      ]
     },
     "execution_count": 25,
     "metadata": {},
     "output_type": "execute_result"
    }
   ],
   "source": [
    "df['Sex'].value_counts()"
   ]
  },
  {
   "cell_type": "code",
   "execution_count": 26,
   "metadata": {},
   "outputs": [
    {
     "data": {
      "text/plain": [
       "203"
      ]
     },
     "execution_count": 26,
     "metadata": {},
     "output_type": "execute_result"
    }
   ],
   "source": [
    "df['Sex'].count()"
   ]
  },
  {
   "cell_type": "code",
   "execution_count": 27,
   "metadata": {},
   "outputs": [
    {
     "data": {
      "text/plain": [
       "<matplotlib.axes._subplots.AxesSubplot at 0x1ffa26ea9e8>"
      ]
     },
     "execution_count": 27,
     "metadata": {},
     "output_type": "execute_result"
    },
    {
     "data": {
      "image/png": "[encoded data removed]",
      "text/plain": [
       "<Figure size 432x288 with 1 Axes>"
      ]
     },
     "metadata": {},
     "output_type": "display_data"
    }
   ],
   "source": [
    "sns.set_style(\"whitegrid\")\n",
    "sns.countplot('Sex',data=df)"
   ]
  },
  {
   "cell_type": "code",
   "execution_count": 28,
   "metadata": {},
   "outputs": [
    {
     "data": {
      "text/plain": [
       "<matplotlib.axes._subplots.AxesSubplot at 0x1ffa27445c0>"
      ]
     },
     "execution_count": 28,
     "metadata": {},
     "output_type": "execute_result"
    },
    {
     "data": {
      "image/png": "[encoded data removed]",
      "text/plain": [
       "<Figure size 432x288 with 1 Axes>"
      ]
     },
     "metadata": {},
     "output_type": "display_data"
    }
   ],
   "source": [
    "sns.countplot(y='Sex',data=df)"
   ]
  },
  {
   "cell_type": "code",
   "execution_count": 29,
   "metadata": {},
   "outputs": [
    {
     "data": {
      "text/plain": [
       "0      False\n",
       "1      False\n",
       "2       True\n",
       "3       True\n",
       "4       True\n",
       "5       True\n",
       "6       True\n",
       "7       True\n",
       "8       True\n",
       "9       True\n",
       "10      True\n",
       "11      True\n",
       "12      True\n",
       "13      True\n",
       "14      True\n",
       "15      True\n",
       "16      True\n",
       "17      True\n",
       "18      True\n",
       "19      True\n",
       "20      True\n",
       "21      True\n",
       "22      True\n",
       "23      True\n",
       "24      True\n",
       "25      True\n",
       "26      True\n",
       "27      True\n",
       "28      True\n",
       "29      True\n",
       "       ...  \n",
       "246    False\n",
       "247    False\n",
       "248    False\n",
       "249    False\n",
       "250    False\n",
       "251    False\n",
       "252    False\n",
       "253    False\n",
       "254    False\n",
       "255    False\n",
       "256    False\n",
       "257    False\n",
       "258    False\n",
       "259    False\n",
       "260    False\n",
       "261    False\n",
       "262    False\n",
       "263    False\n",
       "264    False\n",
       "265    False\n",
       "266    False\n",
       "267    False\n",
       "268    False\n",
       "269    False\n",
       "270    False\n",
       "271    False\n",
       "272    False\n",
       "273    False\n",
       "274    False\n",
       "275    False\n",
       "Name: Country of Visit, Length: 276, dtype: bool"
      ]
     },
     "execution_count": 29,
     "metadata": {},
     "output_type": "execute_result"
    }
   ],
   "source": [
    "df['Country of Visit'].isna()"
   ]
  },
  {
   "cell_type": "code",
   "execution_count": 34,
   "metadata": {},
   "outputs": [
    {
     "data": {
      "text/plain": [
       "0            SOUTH KOREA\n",
       "1            SOUTH KOREA\n",
       "41                 SPAIN\n",
       "42                 PARIS\n",
       "43              MALAYSIA\n",
       "51             Singapore\n",
       "52           SOUTH KOREA\n",
       "53             Singapore\n",
       "54             Singapore\n",
       "55             Singapore\n",
       "56             Singapore\n",
       "57             Singapore\n",
       "58             Singapore\n",
       "59             Singapore\n",
       "60              Malaysia\n",
       "61                 Dubai\n",
       "62          Kuala Lumpur\n",
       "63          Kuala Lumpur\n",
       "64          Kuala Lumpur\n",
       "65                FRANCE\n",
       "66     Frankfurt/germany\n",
       "67             Singapore\n",
       "68             Singapore\n",
       "69             Singapore\n",
       "70             Singapore\n",
       "71             Singapore\n",
       "72             Singapore\n",
       "73             Singapore\n",
       "74             Singapore\n",
       "75             Singapore\n",
       "             ...        \n",
       "246             Abudhabi\n",
       "247             Abudhabi\n",
       "248                Dubai\n",
       "249                Dubai\n",
       "250                Dubai\n",
       "251                Dubai\n",
       "252            Singapore\n",
       "253            Singapore\n",
       "254            Singapore\n",
       "255            SriLankan\n",
       "256            SriLankan\n",
       "257            SriLankan\n",
       "258            SriLankan\n",
       "259            SriLankan\n",
       "260            SriLankan\n",
       "261      London Heathrow\n",
       "262              Muscat \n",
       "263               Muscat\n",
       "264               Muscat\n",
       "265               Muscat\n",
       "266               Muscat\n",
       "267               Muscat\n",
       "268              Sharjah\n",
       "269            Singapore\n",
       "270             Maldives\n",
       "271              Malysia\n",
       "272              Malysia\n",
       "273              Malysia\n",
       "274            New Delhi\n",
       "275            New Delhi\n",
       "Name: Country of Visit, Length: 225, dtype: object"
      ]
     },
     "execution_count": 34,
     "metadata": {},
     "output_type": "execute_result"
    }
   ],
   "source": [
    "df['Country of Visit'].dropna()"
   ]
  },
  {
   "cell_type": "code",
   "execution_count": 35,
   "metadata": {},
   "outputs": [
    {
     "data": {
      "text/plain": [
       "0          SOUTH KOREA\n",
       "1          SOUTH KOREA\n",
       "2              Missing\n",
       "3              Missing\n",
       "4              Missing\n",
       "5              Missing\n",
       "6              Missing\n",
       "7              Missing\n",
       "8              Missing\n",
       "9              Missing\n",
       "10             Missing\n",
       "11             Missing\n",
       "12             Missing\n",
       "13             Missing\n",
       "14             Missing\n",
       "15             Missing\n",
       "16             Missing\n",
       "17             Missing\n",
       "18             Missing\n",
       "19             Missing\n",
       "20             Missing\n",
       "21             Missing\n",
       "22             Missing\n",
       "23             Missing\n",
       "24             Missing\n",
       "25             Missing\n",
       "26             Missing\n",
       "27             Missing\n",
       "28             Missing\n",
       "29             Missing\n",
       "            ...       \n",
       "246           Abudhabi\n",
       "247           Abudhabi\n",
       "248              Dubai\n",
       "249              Dubai\n",
       "250              Dubai\n",
       "251              Dubai\n",
       "252          Singapore\n",
       "253          Singapore\n",
       "254          Singapore\n",
       "255          SriLankan\n",
       "256          SriLankan\n",
       "257          SriLankan\n",
       "258          SriLankan\n",
       "259          SriLankan\n",
       "260          SriLankan\n",
       "261    London Heathrow\n",
       "262            Muscat \n",
       "263             Muscat\n",
       "264             Muscat\n",
       "265             Muscat\n",
       "266             Muscat\n",
       "267             Muscat\n",
       "268            Sharjah\n",
       "269          Singapore\n",
       "270           Maldives\n",
       "271            Malysia\n",
       "272            Malysia\n",
       "273            Malysia\n",
       "274          New Delhi\n",
       "275          New Delhi\n",
       "Name: Country of Visit, Length: 276, dtype: object"
      ]
     },
     "execution_count": 35,
     "metadata": {},
     "output_type": "execute_result"
    }
   ],
   "source": [
    "df['Country of Visit'].fillna('Missing')"
   ]
  },
  {
   "cell_type": "code",
   "execution_count": 36,
   "metadata": {},
   "outputs": [
    {
     "data": {
      "text/plain": [
       "225"
      ]
     },
     "execution_count": 36,
     "metadata": {},
     "output_type": "execute_result"
    }
   ],
   "source": [
    "df['Country of Visit'].count()"
   ]
  },
  {
   "cell_type": "code",
   "execution_count": 37,
   "metadata": {},
   "outputs": [
    {
     "data": {
      "text/plain": [
       "Dubai                61\n",
       "Singapore            56\n",
       "Malysia              16\n",
       "Sharjah              15\n",
       "Colombo              10\n",
       "Muscat                6\n",
       "SriLankan             6\n",
       "London                5\n",
       "Kuala Lumpur          5\n",
       "Doha                  3\n",
       "DOHA                  3\n",
       "GERMANY               3\n",
       "Bahrain               3\n",
       "SOUTH KOREA           3\n",
       "France                2\n",
       "Abudhabi              2\n",
       "New Delhi             2\n",
       "Germany               2\n",
       "BRAZIL                2\n",
       "ZAMBIA                1\n",
       "Muscat                1\n",
       "MONROW USA            1\n",
       "Maldives              1\n",
       "MALAYSIA              1\n",
       "Frankfurt/germany     1\n",
       "Canada                1\n",
       "SPAIN                 1\n",
       "Bangkok               1\n",
       "London Heathrow       1\n",
       "LAMBIA                1\n",
       "Hanoi                 1\n",
       "FRANCE                1\n",
       "QATAR                 1\n",
       "OMAN                  1\n",
       "PARIS                 1\n",
       "Dubai Intl            1\n",
       "BY-ROAD               1\n",
       "Abudhabi UAE          1\n",
       "Malaysia              1\n",
       "Name: Country of Visit, dtype: int64"
      ]
     },
     "execution_count": 37,
     "metadata": {},
     "output_type": "execute_result"
    }
   ],
   "source": [
    "df['Country of Visit'].value_counts()"
   ]
  },
  {
   "cell_type": "code",
   "execution_count": 38,
   "metadata": {},
   "outputs": [
    {
     "data": {
      "text/plain": [
       "Trichy        122\n",
       "APHO          108\n",
       "Chennai        19\n",
       "CHENNAI         9\n",
       "Delhi           6\n",
       "MUMBAI          2\n",
       "BANGALORE       1\n",
       "TRIVANDRUM      1\n",
       "HARIDASPUR      1\n",
       "DELHI           1\n",
       "Name: Airport, dtype: int64"
      ]
     },
     "execution_count": 38,
     "metadata": {},
     "output_type": "execute_result"
    }
   ],
   "source": [
    "df['Airport'].value_counts()"
   ]
  },
  {
   "cell_type": "code",
   "execution_count": 49,
   "metadata": {},
   "outputs": [
    {
     "data": {
      "application/vnd.plotly.v1+json": {
       "config": {
        "linkText": "Export to plot.ly",
        "plotlyServerURL": "https://plot.ly",
        "showLink": true
       },
       "data": [
        {
         "histfunc": "count",
         "histnorm": "",
         "marker": {
          "color": "rgba(139, 0, 0, 1.0)",
          "line": {
           "color": "#4D5663",
           "width": 1.3
          }
         },
         "name": "Airport",
         "nbinsx": 40,
         "opacity": 0.8,
         "orientation": "v",
         "type": "histogram",
         "x": [
          "Chennai",
          "Chennai",
          "Chennai",
          "Trichy",
          "Trichy",
          "Trichy",
          "Trichy",
          "Trichy",
          "Trichy",
          "Trichy",
          "Trichy",
          "Trichy",
          "Trichy",
          "Trichy",
          "Trichy",
          "Trichy",
          "Trichy",
          "Trichy",
          "Trichy",
          "Trichy",
          "Trichy",
          "Trichy",
          "Trichy",
          "Chennai",
          "Chennai",
          "Chennai",
          "Trichy",
          "Trichy",
          "Delhi",
          "Delhi",
          "Delhi",
          "Delhi",
          "Delhi",
          "Trichy",
          "Trichy",
          "Trichy",
          "Trichy",
          "Delhi",
          "Trichy",
          "Trichy",
          "Trichy",
          "Chennai",
          "Chennai",
          "Chennai",
          "Trichy",
          "Trichy",
          "Trichy",
          "Trichy",
          "Trichy",
          "Trichy",
          "Trichy",
          "Trichy",
          "Chennai",
          "Trichy",
          "Trichy",
          "Trichy",
          "Trichy",
          "Trichy",
          "Trichy",
          "Trichy",
          "Chennai",
          "Trichy",
          "Trichy",
          "Trichy",
          "Trichy",
          "Chennai",
          "Trichy",
          "Trichy",
          "Trichy",
          "Trichy",
          "Trichy",
          "Trichy",
          "Trichy",
          "Trichy",
          "Trichy",
          "Trichy",
          "Trichy",
          "BANGALORE",
          "TRIVANDRUM",
          "Trichy",
          "Trichy",
          "Trichy",
          "Trichy",
          "Trichy",
          "Trichy",
          "Trichy",
          "Trichy",
          "Trichy",
          "Trichy",
          "Trichy",
          "Trichy",
          "Trichy",
          "Chennai",
          "Trichy",
          "Trichy",
          "Chennai",
          "Chennai",
          "Trichy",
          "Trichy",
          "Chennai",
          "Chennai",
          "Trichy",
          "Trichy",
          "Chennai",
          "Trichy",
          "Trichy",
          "Chennai",
          "Trichy",
          "APHO",
          "APHO",
          "APHO",
          "APHO",
          "APHO",
          "APHO",
          "APHO",
          "APHO",
          "APHO",
          "APHO",
          "APHO",
          "APHO",
          "APHO",
          "APHO",
          "APHO",
          "APHO",
          "APHO",
          "APHO",
          "APHO",
          "APHO",
          "APHO",
          "APHO",
          "APHO",
          "APHO",
          "APHO",
          "APHO",
          "APHO",
          "APHO",
          "APHO",
          "APHO",
          "APHO",
          "APHO",
          "APHO",
          "APHO",
          "APHO",
          "APHO",
          "APHO",
          "APHO",
          "APHO",
          "APHO",
          "APHO",
          "APHO",
          "APHO",
          "APHO",
          "APHO",
          "APHO",
          "APHO",
          "APHO",
          "APHO",
          "APHO",
          "APHO",
          "APHO",
          "APHO",
          "APHO",
          "APHO",
          "APHO",
          "APHO",
          "APHO",
          "APHO",
          "APHO",
          "APHO",
          "APHO",
          "APHO",
          "APHO",
          "APHO",
          "APHO",
          "CHENNAI",
          "CHENNAI",
          "CHENNAI",
          "CHENNAI",
          "CHENNAI",
          "HARIDASPUR",
          "MUMBAI",
          "Trichy",
          "Trichy",
          "Trichy",
          "Trichy",
          "Trichy",
          "Trichy",
          "Trichy",
          null,
          "Trichy",
          "Trichy",
          null,
          "Trichy",
          "Trichy",
          "Trichy",
          "Trichy",
          "Trichy",
          "Trichy",
          "Trichy",
          "Trichy",
          "Trichy",
          "Trichy",
          "Trichy",
          "Trichy",
          "Trichy",
          "Trichy",
          "Trichy",
          "Trichy",
          "Trichy",
          "Trichy",
          "Trichy",
          "Trichy",
          "Trichy",
          "CHENNAI",
          "Trichy",
          "Trichy",
          "CHENNAI",
          "CHENNAI",
          "Trichy",
          "Trichy",
          "Trichy",
          "Trichy",
          "Trichy",
          "Trichy",
          "Trichy",
          "Trichy",
          "Trichy",
          "DELHI",
          "MUMBAI",
          null,
          null,
          null,
          null,
          "CHENNAI",
          "APHO",
          "APHO",
          "APHO",
          "APHO",
          "APHO",
          "APHO",
          "APHO",
          "APHO",
          "APHO",
          "APHO",
          "APHO",
          "APHO",
          "APHO",
          "APHO",
          "APHO",
          "APHO",
          "APHO",
          "APHO",
          "APHO",
          "APHO",
          "APHO",
          "APHO",
          "APHO",
          "APHO",
          "APHO",
          "APHO",
          "APHO",
          "APHO",
          "APHO",
          "APHO",
          "APHO",
          "APHO",
          "APHO",
          "APHO",
          "APHO",
          "APHO",
          "APHO",
          "APHO",
          "APHO",
          "APHO",
          "APHO",
          "APHO"
         ]
        }
       ],
       "layout": {
        "barmode": "overlay",
        "legend": {
         "bgcolor": "#F5F6F9",
         "font": {
          "color": "#4D5663"
         }
        },
        "paper_bgcolor": "#F5F6F9",
        "plot_bgcolor": "#F5F6F9",
        "template": {
         "data": {
          "bar": [
           {
            "error_x": {
             "color": "#2a3f5f"
            },
            "error_y": {
             "color": "#2a3f5f"
            },
            "marker": {
             "line": {
              "color": "#E5ECF6",
              "width": 0.5
             }
            },
            "type": "bar"
           }
          ],
          "barpolar": [
           {
            "marker": {
             "line": {
              "color": "#E5ECF6",
              "width": 0.5
             }
            },
            "type": "barpolar"
           }
          ],
          "carpet": [
           {
            "aaxis": {
             "endlinecolor": "#2a3f5f",
             "gridcolor": "white",
             "linecolor": "white",
             "minorgridcolor": "white",
             "startlinecolor": "#2a3f5f"
            },
            "baxis": {
             "endlinecolor": "#2a3f5f",
             "gridcolor": "white",
             "linecolor": "white",
             "minorgridcolor": "white",
             "startlinecolor": "#2a3f5f"
            },
            "type": "carpet"
           }
          ],
          "choropleth": [
           {
            "colorbar": {
             "outlinewidth": 0,
             "ticks": ""
            },
            "type": "choropleth"
           }
          ],
          "contour": [
           {
            "colorbar": {
             "outlinewidth": 0,
             "ticks": ""
            },
            "colorscale": [
             [
              0,
              "#0d0887"
             ],
             [
              0.1111111111111111,
              "#46039f"
             ],
             [
              0.2222222222222222,
              "#7201a8"
             ],
             [
              0.3333333333333333,
              "#9c179e"
             ],
             [
              0.4444444444444444,
              "#bd3786"
             ],
             [
              0.5555555555555556,
              "#d8576b"
             ],
             [
              0.6666666666666666,
              "#ed7953"
             ],
             [
              0.7777777777777778,
              "#fb9f3a"
             ],
             [
              0.8888888888888888,
              "#fdca26"
             ],
             [
              1,
              "#f0f921"
             ]
            ],
            "type": "contour"
           }
          ],
          "contourcarpet": [
           {
            "colorbar": {
             "outlinewidth": 0,
             "ticks": ""
            },
            "type": "contourcarpet"
           }
          ],
          "heatmap": [
           {
            "colorbar": {
             "outlinewidth": 0,
             "ticks": ""
            },
            "colorscale": [
             [
              0,
              "#0d0887"
             ],
             [
              0.1111111111111111,
              "#46039f"
             ],
             [
              0.2222222222222222,
              "#7201a8"
             ],
             [
              0.3333333333333333,
              "#9c179e"
             ],
             [
              0.4444444444444444,
              "#bd3786"
             ],
             [
              0.5555555555555556,
              "#d8576b"
             ],
             [
              0.6666666666666666,
              "#ed7953"
             ],
             [
              0.7777777777777778,
              "#fb9f3a"
             ],
             [
              0.8888888888888888,
              "#fdca26"
             ],
             [
              1,
              "#f0f921"
             ]
            ],
            "type": "heatmap"
           }
          ],
          "heatmapgl": [
           {
            "colorbar": {
             "outlinewidth": 0,
             "ticks": ""
            },
            "colorscale": [
             [
              0,
              "#0d0887"
             ],
             [
              0.1111111111111111,
              "#46039f"
             ],
             [
              0.2222222222222222,
              "#7201a8"
             ],
             [
              0.3333333333333333,
              "#9c179e"
             ],
             [
              0.4444444444444444,
              "#bd3786"
             ],
             [
              0.5555555555555556,
              "#d8576b"
             ],
             [
              0.6666666666666666,
              "#ed7953"
             ],
             [
              0.7777777777777778,
              "#fb9f3a"
             ],
             [
              0.8888888888888888,
              "#fdca26"
             ],
             [
              1,
              "#f0f921"
             ]
            ],
            "type": "heatmapgl"
           }
          ],
          "histogram": [
           {
            "marker": {
             "colorbar": {
              "outlinewidth": 0,
              "ticks": ""
             }
            },
            "type": "histogram"
           }
          ],
          "histogram2d": [
           {
            "colorbar": {
             "outlinewidth": 0,
             "ticks": ""
            },
            "colorscale": [
             [
              0,
              "#0d0887"
             ],
             [
              0.1111111111111111,
              "#46039f"
             ],
             [
              0.2222222222222222,
              "#7201a8"
             ],
             [
              0.3333333333333333,
              "#9c179e"
             ],
             [
              0.4444444444444444,
              "#bd3786"
             ],
             [
              0.5555555555555556,
              "#d8576b"
             ],
             [
              0.6666666666666666,
              "#ed7953"
             ],
             [
              0.7777777777777778,
              "#fb9f3a"
             ],
             [
              0.8888888888888888,
              "#fdca26"
             ],
             [
              1,
              "#f0f921"
             ]
            ],
            "type": "histogram2d"
           }
          ],
          "histogram2dcontour": [
           {
            "colorbar": {
             "outlinewidth": 0,
             "ticks": ""
            },
            "colorscale": [
             [
              0,
              "#0d0887"
             ],
             [
              0.1111111111111111,
              "#46039f"
             ],
             [
              0.2222222222222222,
              "#7201a8"
             ],
             [
              0.3333333333333333,
              "#9c179e"
             ],
             [
              0.4444444444444444,
              "#bd3786"
             ],
             [
              0.5555555555555556,
              "#d8576b"
             ],
             [
              0.6666666666666666,
              "#ed7953"
             ],
             [
              0.7777777777777778,
              "#fb9f3a"
             ],
             [
              0.8888888888888888,
              "#fdca26"
             ],
             [
              1,
              "#f0f921"
             ]
            ],
            "type": "histogram2dcontour"
           }
          ],
          "mesh3d": [
           {
            "colorbar": {
             "outlinewidth": 0,
             "ticks": ""
            },
            "type": "mesh3d"
           }
          ],
          "parcoords": [
           {
            "line": {
             "colorbar": {
              "outlinewidth": 0,
              "ticks": ""
             }
            },
            "type": "parcoords"
           }
          ],
          "pie": [
           {
            "automargin": true,
            "type": "pie"
           }
          ],
          "scatter": [
           {
            "marker": {
             "colorbar": {
              "outlinewidth": 0,
              "ticks": ""
             }
            },
            "type": "scatter"
           }
          ],
          "scatter3d": [
           {
            "line": {
             "colorbar": {
              "outlinewidth": 0,
              "ticks": ""
             }
            },
            "marker": {
             "colorbar": {
              "outlinewidth": 0,
              "ticks": ""
             }
            },
            "type": "scatter3d"
           }
          ],
          "scattercarpet": [
           {
            "marker": {
             "colorbar": {
              "outlinewidth": 0,
              "ticks": ""
             }
            },
            "type": "scattercarpet"
           }
          ],
          "scattergeo": [
           {
            "marker": {
             "colorbar": {
              "outlinewidth": 0,
              "ticks": ""
             }
            },
            "type": "scattergeo"
           }
          ],
          "scattergl": [
           {
            "marker": {
             "colorbar": {
              "outlinewidth": 0,
              "ticks": ""
             }
            },
            "type": "scattergl"
           }
          ],
          "scattermapbox": [
           {
            "marker": {
             "colorbar": {
              "outlinewidth": 0,
              "ticks": ""
             }
            },
            "type": "scattermapbox"
           }
          ],
          "scatterpolar": [
           {
            "marker": {
             "colorbar": {
              "outlinewidth": 0,
              "ticks": ""
             }
            },
            "type": "scatterpolar"
           }
          ],
          "scatterpolargl": [
           {
            "marker": {
             "colorbar": {
              "outlinewidth": 0,
              "ticks": ""
             }
            },
            "type": "scatterpolargl"
           }
          ],
          "scatterternary": [
           {
            "marker": {
             "colorbar": {
              "outlinewidth": 0,
              "ticks": ""
             }
            },
            "type": "scatterternary"
           }
          ],
          "surface": [
           {
            "colorbar": {
             "outlinewidth": 0,
             "ticks": ""
            },
            "colorscale": [
             [
              0,
              "#0d0887"
             ],
             [
              0.1111111111111111,
              "#46039f"
             ],
             [
              0.2222222222222222,
              "#7201a8"
             ],
             [
              0.3333333333333333,
              "#9c179e"
             ],
             [
              0.4444444444444444,
              "#bd3786"
             ],
             [
              0.5555555555555556,
              "#d8576b"
             ],
             [
              0.6666666666666666,
              "#ed7953"
             ],
             [
              0.7777777777777778,
              "#fb9f3a"
             ],
             [
              0.8888888888888888,
              "#fdca26"
             ],
             [
              1,
              "#f0f921"
             ]
            ],
            "type": "surface"
           }
          ],
          "table": [
           {
            "cells": {
             "fill": {
              "color": "#EBF0F8"
             },
             "line": {
              "color": "white"
             }
            },
            "header": {
             "fill": {
              "color": "#C8D4E3"
             },
             "line": {
              "color": "white"
             }
            },
            "type": "table"
           }
          ]
         },
         "layout": {
          "annotationdefaults": {
           "arrowcolor": "#2a3f5f",
           "arrowhead": 0,
           "arrowwidth": 1
          },
          "coloraxis": {
           "colorbar": {
            "outlinewidth": 0,
            "ticks": ""
           }
          },
          "colorscale": {
           "diverging": [
            [
             0,
             "#8e0152"
            ],
            [
             0.1,
             "#c51b7d"
            ],
            [
             0.2,
             "#de77ae"
            ],
            [
             0.3,
             "#f1b6da"
            ],
            [
             0.4,
             "#fde0ef"
            ],
            [
             0.5,
             "#f7f7f7"
            ],
            [
             0.6,
             "#e6f5d0"
            ],
            [
             0.7,
             "#b8e186"
            ],
            [
             0.8,
             "#7fbc41"
            ],
            [
             0.9,
             "#4d9221"
            ],
            [
             1,
             "#276419"
            ]
           ],
           "sequential": [
            [
             0,
             "#0d0887"
            ],
            [
             0.1111111111111111,
             "#46039f"
            ],
            [
             0.2222222222222222,
             "#7201a8"
            ],
            [
             0.3333333333333333,
             "#9c179e"
            ],
            [
             0.4444444444444444,
             "#bd3786"
            ],
            [
             0.5555555555555556,
             "#d8576b"
            ],
            [
             0.6666666666666666,
             "#ed7953"
            ],
            [
             0.7777777777777778,
             "#fb9f3a"
            ],
            [
             0.8888888888888888,
             "#fdca26"
            ],
            [
             1,
             "#f0f921"
            ]
           ],
           "sequentialminus": [
            [
             0,
             "#0d0887"
            ],
            [
             0.1111111111111111,
             "#46039f"
            ],
            [
             0.2222222222222222,
             "#7201a8"
            ],
            [
             0.3333333333333333,
             "#9c179e"
            ],
            [
             0.4444444444444444,
             "#bd3786"
            ],
            [
             0.5555555555555556,
             "#d8576b"
            ],
            [
             0.6666666666666666,
             "#ed7953"
            ],
            [
             0.7777777777777778,
             "#fb9f3a"
            ],
            [
             0.8888888888888888,
             "#fdca26"
            ],
            [
             1,
             "#f0f921"
            ]
           ]
          },
          "colorway": [
           "#636efa",
           "#EF553B",
           "#00cc96",
           "#ab63fa",
           "#FFA15A",
           "#19d3f3",
           "#FF6692",
           "#B6E880",
           "#FF97FF",
           "#FECB52"
          ],
          "font": {
           "color": "#2a3f5f"
          },
          "geo": {
           "bgcolor": "white",
           "lakecolor": "white",
           "landcolor": "#E5ECF6",
           "showlakes": true,
           "showland": true,
           "subunitcolor": "white"
          },
          "hoverlabel": {
           "align": "left"
          },
          "hovermode": "closest",
          "mapbox": {
           "style": "light"
          },
          "paper_bgcolor": "white",
          "plot_bgcolor": "#E5ECF6",
          "polar": {
           "angularaxis": {
            "gridcolor": "white",
            "linecolor": "white",
            "ticks": ""
           },
           "bgcolor": "#E5ECF6",
           "radialaxis": {
            "gridcolor": "white",
            "linecolor": "white",
            "ticks": ""
           }
          },
          "scene": {
           "xaxis": {
            "backgroundcolor": "#E5ECF6",
            "gridcolor": "white",
            "gridwidth": 2,
            "linecolor": "white",
            "showbackground": true,
            "ticks": "",
            "zerolinecolor": "white"
           },
           "yaxis": {
            "backgroundcolor": "#E5ECF6",
            "gridcolor": "white",
            "gridwidth": 2,
            "linecolor": "white",
            "showbackground": true,
            "ticks": "",
            "zerolinecolor": "white"
           },
           "zaxis": {
            "backgroundcolor": "#E5ECF6",
            "gridcolor": "white",
            "gridwidth": 2,
            "linecolor": "white",
            "showbackground": true,
            "ticks": "",
            "zerolinecolor": "white"
           }
          },
          "shapedefaults": {
           "line": {
            "color": "#2a3f5f"
           }
          },
          "ternary": {
           "aaxis": {
            "gridcolor": "white",
            "linecolor": "white",
            "ticks": ""
           },
           "baxis": {
            "gridcolor": "white",
            "linecolor": "white",
            "ticks": ""
           },
           "bgcolor": "#E5ECF6",
           "caxis": {
            "gridcolor": "white",
            "linecolor": "white",
            "ticks": ""
           }
          },
          "title": {
           "x": 0.05
          },
          "xaxis": {
           "automargin": true,
           "gridcolor": "white",
           "linecolor": "white",
           "ticks": "",
           "title": {
            "standoff": 15
           },
           "zerolinecolor": "white",
           "zerolinewidth": 2
          },
          "yaxis": {
           "automargin": true,
           "gridcolor": "white",
           "linecolor": "white",
           "ticks": "",
           "title": {
            "standoff": 15
           },
           "zerolinecolor": "white",
           "zerolinewidth": 2
          }
         }
        },
        "title": {
         "font": {
          "color": "#4D5663"
         }
        },
        "xaxis": {
         "gridcolor": "#E1E5ED",
         "showgrid": true,
         "tickfont": {
          "color": "#4D5663"
         },
         "title": {
          "font": {
           "color": "#4D5663"
          },
          "text": ""
         },
         "zerolinecolor": "#E1E5ED"
        },
        "yaxis": {
         "gridcolor": "#E1E5ED",
         "showgrid": true,
         "tickfont": {
          "color": "#4D5663"
         },
         "title": {
          "font": {
           "color": "#4D5663"
          },
          "text": ""
         },
         "zerolinecolor": "#E1E5ED"
        }
       }
      },
      "text/html": [
       "<div>\n",
       "        \n",
       "        \n",
       "            <div id=\"f7512e13-5af8-463f-ae7a-4906ebb7af28\" class=\"plotly-graph-div\" style=\"height:525px; width:100%;\"></div>\n",
       "            <script type=\"text/javascript\">\n",
       "                require([\"plotly\"], function(Plotly) {\n",
       "                    window.PLOTLYENV=window.PLOTLYENV || {};\n",
       "                    window.PLOTLYENV.BASE_URL='https://plot.ly';\n",
       "                    \n",
       "                if (document.getElementById(\"f7512e13-5af8-463f-ae7a-4906ebb7af28\")) {\n",
       "                    Plotly.newPlot(\n",
       "                        'f7512e13-5af8-463f-ae7a-4906ebb7af28',\n",
       "                        [{\"histfunc\": \"count\", \"histnorm\": \"\", \"marker\": {\"color\": \"rgba(139, 0, 0, 1.0)\", \"line\": {\"color\": \"#4D5663\", \"width\": 1.3}}, \"name\": \"Airport\", \"nbinsx\": 40, \"opacity\": 0.8, \"orientation\": \"v\", \"type\": \"histogram\", \"x\": [\"Chennai\", \"Chennai\", \"Chennai\", \"Trichy\", \"Trichy\", \"Trichy\", \"Trichy\", \"Trichy\", \"Trichy\", \"Trichy\", \"Trichy\", \"Trichy\", \"Trichy\", \"Trichy\", \"Trichy\", \"Trichy\", \"Trichy\", \"Trichy\", \"Trichy\", \"Trichy\", \"Trichy\", \"Trichy\", \"Trichy\", \"Chennai\", \"Chennai\", \"Chennai\", \"Trichy\", \"Trichy\", \"Delhi\", \"Delhi\", \"Delhi\", \"Delhi\", \"Delhi\", \"Trichy\", \"Trichy\", \"Trichy\", \"Trichy\", \"Delhi\", \"Trichy\", \"Trichy\", \"Trichy\", \"Chennai\", \"Chennai\", \"Chennai\", \"Trichy\", \"Trichy\", \"Trichy\", \"Trichy\", \"Trichy\", \"Trichy\", \"Trichy\", \"Trichy\", \"Chennai\", \"Trichy\", \"Trichy\", \"Trichy\", \"Trichy\", \"Trichy\", \"Trichy\", \"Trichy\", \"Chennai\", \"Trichy\", \"Trichy\", \"Trichy\", \"Trichy\", \"Chennai\", \"Trichy\", \"Trichy\", \"Trichy\", \"Trichy\", \"Trichy\", \"Trichy\", \"Trichy\", \"Trichy\", \"Trichy\", \"Trichy\", \"Trichy\", \"BANGALORE\", \"TRIVANDRUM\", \"Trichy\", \"Trichy\", \"Trichy\", \"Trichy\", \"Trichy\", \"Trichy\", \"Trichy\", \"Trichy\", \"Trichy\", \"Trichy\", \"Trichy\", \"Trichy\", \"Trichy\", \"Chennai\", \"Trichy\", \"Trichy\", \"Chennai\", \"Chennai\", \"Trichy\", \"Trichy\", \"Chennai\", \"Chennai\", \"Trichy\", \"Trichy\", \"Chennai\", \"Trichy\", \"Trichy\", \"Chennai\", \"Trichy\", \"APHO\", \"APHO\", \"APHO\", \"APHO\", \"APHO\", \"APHO\", \"APHO\", \"APHO\", \"APHO\", \"APHO\", \"APHO\", \"APHO\", \"APHO\", \"APHO\", \"APHO\", \"APHO\", \"APHO\", \"APHO\", \"APHO\", \"APHO\", \"APHO\", \"APHO\", \"APHO\", \"APHO\", \"APHO\", \"APHO\", \"APHO\", \"APHO\", \"APHO\", \"APHO\", \"APHO\", \"APHO\", \"APHO\", \"APHO\", \"APHO\", \"APHO\", \"APHO\", \"APHO\", \"APHO\", \"APHO\", \"APHO\", \"APHO\", \"APHO\", \"APHO\", \"APHO\", \"APHO\", \"APHO\", \"APHO\", \"APHO\", \"APHO\", \"APHO\", \"APHO\", \"APHO\", \"APHO\", \"APHO\", \"APHO\", \"APHO\", \"APHO\", \"APHO\", \"APHO\", \"APHO\", \"APHO\", \"APHO\", \"APHO\", \"APHO\", \"APHO\", \"CHENNAI\", \"CHENNAI\", \"CHENNAI\", \"CHENNAI\", \"CHENNAI\", \"HARIDASPUR\", \"MUMBAI\", \"Trichy\", \"Trichy\", \"Trichy\", \"Trichy\", \"Trichy\", \"Trichy\", \"Trichy\", null, \"Trichy\", \"Trichy\", null, \"Trichy\", \"Trichy\", \"Trichy\", \"Trichy\", \"Trichy\", \"Trichy\", \"Trichy\", \"Trichy\", \"Trichy\", \"Trichy\", \"Trichy\", \"Trichy\", \"Trichy\", \"Trichy\", \"Trichy\", \"Trichy\", \"Trichy\", \"Trichy\", \"Trichy\", \"Trichy\", \"Trichy\", \"CHENNAI\", \"Trichy\", \"Trichy\", \"CHENNAI\", \"CHENNAI\", \"Trichy\", \"Trichy\", \"Trichy\", \"Trichy\", \"Trichy\", \"Trichy\", \"Trichy\", \"Trichy\", \"Trichy\", \"DELHI\", \"MUMBAI\", null, null, null, null, \"CHENNAI\", \"APHO\", \"APHO\", \"APHO\", \"APHO\", \"APHO\", \"APHO\", \"APHO\", \"APHO\", \"APHO\", \"APHO\", \"APHO\", \"APHO\", \"APHO\", \"APHO\", \"APHO\", \"APHO\", \"APHO\", \"APHO\", \"APHO\", \"APHO\", \"APHO\", \"APHO\", \"APHO\", \"APHO\", \"APHO\", \"APHO\", \"APHO\", \"APHO\", \"APHO\", \"APHO\", \"APHO\", \"APHO\", \"APHO\", \"APHO\", \"APHO\", \"APHO\", \"APHO\", \"APHO\", \"APHO\", \"APHO\", \"APHO\", \"APHO\"]}],\n",
       "                        {\"barmode\": \"overlay\", \"legend\": {\"bgcolor\": \"#F5F6F9\", \"font\": {\"color\": \"#4D5663\"}}, \"paper_bgcolor\": \"#F5F6F9\", \"plot_bgcolor\": \"#F5F6F9\", \"template\": {\"data\": {\"bar\": [{\"error_x\": {\"color\": \"#2a3f5f\"}, \"error_y\": {\"color\": \"#2a3f5f\"}, \"marker\": {\"line\": {\"color\": \"#E5ECF6\", \"width\": 0.5}}, \"type\": \"bar\"}], \"barpolar\": [{\"marker\": {\"line\": {\"color\": \"#E5ECF6\", \"width\": 0.5}}, \"type\": \"barpolar\"}], \"carpet\": [{\"aaxis\": {\"endlinecolor\": \"#2a3f5f\", \"gridcolor\": \"white\", \"linecolor\": \"white\", \"minorgridcolor\": \"white\", \"startlinecolor\": \"#2a3f5f\"}, \"baxis\": {\"endlinecolor\": \"#2a3f5f\", \"gridcolor\": \"white\", \"linecolor\": \"white\", \"minorgridcolor\": \"white\", \"startlinecolor\": \"#2a3f5f\"}, \"type\": \"carpet\"}], \"choropleth\": [{\"colorbar\": {\"outlinewidth\": 0, \"ticks\": \"\"}, \"type\": \"choropleth\"}], \"contour\": [{\"colorbar\": {\"outlinewidth\": 0, \"ticks\": \"\"}, \"colorscale\": [[0.0, \"#0d0887\"], [0.1111111111111111, \"#46039f\"], [0.2222222222222222, \"#7201a8\"], [0.3333333333333333, \"#9c179e\"], [0.4444444444444444, \"#bd3786\"], [0.5555555555555556, \"#d8576b\"], [0.6666666666666666, \"#ed7953\"], [0.7777777777777778, \"#fb9f3a\"], [0.8888888888888888, \"#fdca26\"], [1.0, \"#f0f921\"]], \"type\": \"contour\"}], \"contourcarpet\": [{\"colorbar\": {\"outlinewidth\": 0, \"ticks\": \"\"}, \"type\": \"contourcarpet\"}], \"heatmap\": [{\"colorbar\": {\"outlinewidth\": 0, \"ticks\": \"\"}, \"colorscale\": [[0.0, \"#0d0887\"], [0.1111111111111111, \"#46039f\"], [0.2222222222222222, \"#7201a8\"], [0.3333333333333333, \"#9c179e\"], [0.4444444444444444, \"#bd3786\"], [0.5555555555555556, \"#d8576b\"], [0.6666666666666666, \"#ed7953\"], [0.7777777777777778, \"#fb9f3a\"], [0.8888888888888888, \"#fdca26\"], [1.0, \"#f0f921\"]], \"type\": \"heatmap\"}], \"heatmapgl\": [{\"colorbar\": {\"outlinewidth\": 0, \"ticks\": \"\"}, \"colorscale\": [[0.0, \"#0d0887\"], [0.1111111111111111, \"#46039f\"], [0.2222222222222222, \"#7201a8\"], [0.3333333333333333, \"#9c179e\"], [0.4444444444444444, \"#bd3786\"], [0.5555555555555556, \"#d8576b\"], [0.6666666666666666, \"#ed7953\"], [0.7777777777777778, \"#fb9f3a\"], [0.8888888888888888, \"#fdca26\"], [1.0, \"#f0f921\"]], \"type\": \"heatmapgl\"}], \"histogram\": [{\"marker\": {\"colorbar\": {\"outlinewidth\": 0, \"ticks\": \"\"}}, \"type\": \"histogram\"}], \"histogram2d\": [{\"colorbar\": {\"outlinewidth\": 0, \"ticks\": \"\"}, \"colorscale\": [[0.0, \"#0d0887\"], [0.1111111111111111, \"#46039f\"], [0.2222222222222222, \"#7201a8\"], [0.3333333333333333, \"#9c179e\"], [0.4444444444444444, \"#bd3786\"], [0.5555555555555556, \"#d8576b\"], [0.6666666666666666, \"#ed7953\"], [0.7777777777777778, \"#fb9f3a\"], [0.8888888888888888, \"#fdca26\"], [1.0, \"#f0f921\"]], \"type\": \"histogram2d\"}], \"histogram2dcontour\": [{\"colorbar\": {\"outlinewidth\": 0, \"ticks\": \"\"}, \"colorscale\": [[0.0, \"#0d0887\"], [0.1111111111111111, \"#46039f\"], [0.2222222222222222, \"#7201a8\"], [0.3333333333333333, \"#9c179e\"], [0.4444444444444444, \"#bd3786\"], [0.5555555555555556, \"#d8576b\"], [0.6666666666666666, \"#ed7953\"], [0.7777777777777778, \"#fb9f3a\"], [0.8888888888888888, \"#fdca26\"], [1.0, \"#f0f921\"]], \"type\": \"histogram2dcontour\"}], \"mesh3d\": [{\"colorbar\": {\"outlinewidth\": 0, \"ticks\": \"\"}, \"type\": \"mesh3d\"}], \"parcoords\": [{\"line\": {\"colorbar\": {\"outlinewidth\": 0, \"ticks\": \"\"}}, \"type\": \"parcoords\"}], \"pie\": [{\"automargin\": true, \"type\": \"pie\"}], \"scatter\": [{\"marker\": {\"colorbar\": {\"outlinewidth\": 0, \"ticks\": \"\"}}, \"type\": \"scatter\"}], \"scatter3d\": [{\"line\": {\"colorbar\": {\"outlinewidth\": 0, \"ticks\": \"\"}}, \"marker\": {\"colorbar\": {\"outlinewidth\": 0, \"ticks\": \"\"}}, \"type\": \"scatter3d\"}], \"scattercarpet\": [{\"marker\": {\"colorbar\": {\"outlinewidth\": 0, \"ticks\": \"\"}}, \"type\": \"scattercarpet\"}], \"scattergeo\": [{\"marker\": {\"colorbar\": {\"outlinewidth\": 0, \"ticks\": \"\"}}, \"type\": \"scattergeo\"}], \"scattergl\": [{\"marker\": {\"colorbar\": {\"outlinewidth\": 0, \"ticks\": \"\"}}, \"type\": \"scattergl\"}], \"scattermapbox\": [{\"marker\": {\"colorbar\": {\"outlinewidth\": 0, \"ticks\": \"\"}}, \"type\": \"scattermapbox\"}], \"scatterpolar\": [{\"marker\": {\"colorbar\": {\"outlinewidth\": 0, \"ticks\": \"\"}}, \"type\": \"scatterpolar\"}], \"scatterpolargl\": [{\"marker\": {\"colorbar\": {\"outlinewidth\": 0, \"ticks\": \"\"}}, \"type\": \"scatterpolargl\"}], \"scatterternary\": [{\"marker\": {\"colorbar\": {\"outlinewidth\": 0, \"ticks\": \"\"}}, \"type\": \"scatterternary\"}], \"surface\": [{\"colorbar\": {\"outlinewidth\": 0, \"ticks\": \"\"}, \"colorscale\": [[0.0, \"#0d0887\"], [0.1111111111111111, \"#46039f\"], [0.2222222222222222, \"#7201a8\"], [0.3333333333333333, \"#9c179e\"], [0.4444444444444444, \"#bd3786\"], [0.5555555555555556, \"#d8576b\"], [0.6666666666666666, \"#ed7953\"], [0.7777777777777778, \"#fb9f3a\"], [0.8888888888888888, \"#fdca26\"], [1.0, \"#f0f921\"]], \"type\": \"surface\"}], \"table\": [{\"cells\": {\"fill\": {\"color\": \"#EBF0F8\"}, \"line\": {\"color\": \"white\"}}, \"header\": {\"fill\": {\"color\": \"#C8D4E3\"}, \"line\": {\"color\": \"white\"}}, \"type\": \"table\"}]}, \"layout\": {\"annotationdefaults\": {\"arrowcolor\": \"#2a3f5f\", \"arrowhead\": 0, \"arrowwidth\": 1}, \"coloraxis\": {\"colorbar\": {\"outlinewidth\": 0, \"ticks\": \"\"}}, \"colorscale\": {\"diverging\": [[0, \"#8e0152\"], [0.1, \"#c51b7d\"], [0.2, \"#de77ae\"], [0.3, \"#f1b6da\"], [0.4, \"#fde0ef\"], [0.5, \"#f7f7f7\"], [0.6, \"#e6f5d0\"], [0.7, \"#b8e186\"], [0.8, \"#7fbc41\"], [0.9, \"#4d9221\"], [1, \"#276419\"]], \"sequential\": [[0.0, \"#0d0887\"], [0.1111111111111111, \"#46039f\"], [0.2222222222222222, \"#7201a8\"], [0.3333333333333333, \"#9c179e\"], [0.4444444444444444, \"#bd3786\"], [0.5555555555555556, \"#d8576b\"], [0.6666666666666666, \"#ed7953\"], [0.7777777777777778, \"#fb9f3a\"], [0.8888888888888888, \"#fdca26\"], [1.0, \"#f0f921\"]], \"sequentialminus\": [[0.0, \"#0d0887\"], [0.1111111111111111, \"#46039f\"], [0.2222222222222222, \"#7201a8\"], [0.3333333333333333, \"#9c179e\"], [0.4444444444444444, \"#bd3786\"], [0.5555555555555556, \"#d8576b\"], [0.6666666666666666, \"#ed7953\"], [0.7777777777777778, \"#fb9f3a\"], [0.8888888888888888, \"#fdca26\"], [1.0, \"#f0f921\"]]}, \"colorway\": [\"#636efa\", \"#EF553B\", \"#00cc96\", \"#ab63fa\", \"#FFA15A\", \"#19d3f3\", \"#FF6692\", \"#B6E880\", \"#FF97FF\", \"#FECB52\"], \"font\": {\"color\": \"#2a3f5f\"}, \"geo\": {\"bgcolor\": \"white\", \"lakecolor\": \"white\", \"landcolor\": \"#E5ECF6\", \"showlakes\": true, \"showland\": true, \"subunitcolor\": \"white\"}, \"hoverlabel\": {\"align\": \"left\"}, \"hovermode\": \"closest\", \"mapbox\": {\"style\": \"light\"}, \"paper_bgcolor\": \"white\", \"plot_bgcolor\": \"#E5ECF6\", \"polar\": {\"angularaxis\": {\"gridcolor\": \"white\", \"linecolor\": \"white\", \"ticks\": \"\"}, \"bgcolor\": \"#E5ECF6\", \"radialaxis\": {\"gridcolor\": \"white\", \"linecolor\": \"white\", \"ticks\": \"\"}}, \"scene\": {\"xaxis\": {\"backgroundcolor\": \"#E5ECF6\", \"gridcolor\": \"white\", \"gridwidth\": 2, \"linecolor\": \"white\", \"showbackground\": true, \"ticks\": \"\", \"zerolinecolor\": \"white\"}, \"yaxis\": {\"backgroundcolor\": \"#E5ECF6\", \"gridcolor\": \"white\", \"gridwidth\": 2, \"linecolor\": \"white\", \"showbackground\": true, \"ticks\": \"\", \"zerolinecolor\": \"white\"}, \"zaxis\": {\"backgroundcolor\": \"#E5ECF6\", \"gridcolor\": \"white\", \"gridwidth\": 2, \"linecolor\": \"white\", \"showbackground\": true, \"ticks\": \"\", \"zerolinecolor\": \"white\"}}, \"shapedefaults\": {\"line\": {\"color\": \"#2a3f5f\"}}, \"ternary\": {\"aaxis\": {\"gridcolor\": \"white\", \"linecolor\": \"white\", \"ticks\": \"\"}, \"baxis\": {\"gridcolor\": \"white\", \"linecolor\": \"white\", \"ticks\": \"\"}, \"bgcolor\": \"#E5ECF6\", \"caxis\": {\"gridcolor\": \"white\", \"linecolor\": \"white\", \"ticks\": \"\"}}, \"title\": {\"x\": 0.05}, \"xaxis\": {\"automargin\": true, \"gridcolor\": \"white\", \"linecolor\": \"white\", \"ticks\": \"\", \"title\": {\"standoff\": 15}, \"zerolinecolor\": \"white\", \"zerolinewidth\": 2}, \"yaxis\": {\"automargin\": true, \"gridcolor\": \"white\", \"linecolor\": \"white\", \"ticks\": \"\", \"title\": {\"standoff\": 15}, \"zerolinecolor\": \"white\", \"zerolinewidth\": 2}}}, \"title\": {\"font\": {\"color\": \"#4D5663\"}}, \"xaxis\": {\"gridcolor\": \"#E1E5ED\", \"showgrid\": true, \"tickfont\": {\"color\": \"#4D5663\"}, \"title\": {\"font\": {\"color\": \"#4D5663\"}, \"text\": \"\"}, \"zerolinecolor\": \"#E1E5ED\"}, \"yaxis\": {\"gridcolor\": \"#E1E5ED\", \"showgrid\": true, \"tickfont\": {\"color\": \"#4D5663\"}, \"title\": {\"font\": {\"color\": \"#4D5663\"}, \"text\": \"\"}, \"zerolinecolor\": \"#E1E5ED\"}},\n",
       "                        {\"showLink\": true, \"linkText\": \"Export to plot.ly\", \"plotlyServerURL\": \"https://plot.ly\", \"responsive\": true}\n",
       "                    ).then(function(){\n",
       "                            \n",
       "var gd = document.getElementById('f7512e13-5af8-463f-ae7a-4906ebb7af28');\n",
       "var x = new MutationObserver(function (mutations, observer) {{\n",
       "        var display = window.getComputedStyle(gd).display;\n",
       "        if (!display || display === 'none') {{\n",
       "            console.log([gd, 'removed!']);\n",
       "            Plotly.purge(gd);\n",
       "            observer.disconnect();\n",
       "        }}\n",
       "}});\n",
       "\n",
       "// Listen for the removal of the full notebook cells\n",
       "var notebookContainer = gd.closest('#notebook-container');\n",
       "if (notebookContainer) {{\n",
       "    x.observe(notebookContainer, {childList: true});\n",
       "}}\n",
       "\n",
       "// Listen for the clearing of the current output cell\n",
       "var outputEl = gd.closest('.output');\n",
       "if (outputEl) {{\n",
       "    x.observe(outputEl, {childList: true});\n",
       "}}\n",
       "\n",
       "                        })\n",
       "                };\n",
       "                });\n",
       "            </script>\n",
       "        </div>"
      ]
     },
     "metadata": {},
     "output_type": "display_data"
    }
   ],
   "source": [
    "df['Airport'].iplot(kind='hist',bins=40,color=\"darkred\")"
   ]
  },
  {
   "cell_type": "code",
   "execution_count": 51,
   "metadata": {},
   "outputs": [
    {
     "data": {
      "image/png": "[encoded data removed]",
      "text/plain": [
       "<Figure size 432x288 with 1 Axes>"
      ]
     },
     "metadata": {},
     "output_type": "display_data"
    }
   ],
   "source": [
    "#This pie chart under the traceable person's connectivity with cities.\n",
    "#Airport Health Organization\n",
    "labels = \"Trichy\",\"APHO\",\"Chennai\",\"Delhi\",\"MUMABAI\"\n",
    "sizes = [122,108,19,6,3]\n",
    "colors = [\"lightskyblue\",\"lightcoral\",\"gold\",\"red\",\"Green\"]\n",
    "explode =(0,0,0.4,0.4,0.4)\n",
    "plt.pie(sizes,labels=labels,explode=explode,colors=colors,\n",
    "       autopct=\"%1.1f%%\",shadow=False)\n",
    "\n",
    "plt.axis('equal')\n",
    "plt.show()"
   ]
  },
  {
   "cell_type": "code",
   "execution_count": 52,
   "metadata": {},
   "outputs": [],
   "source": [
    "import cufflinks as cf"
   ]
  },
  {
   "cell_type": "code",
   "execution_count": 53,
   "metadata": {},
   "outputs": [
    {
     "data": {
      "text/plain": [
       "'0.17.3'"
      ]
     },
     "execution_count": 53,
     "metadata": {},
     "output_type": "execute_result"
    }
   ],
   "source": [
    "cf.__version__"
   ]
  },
  {
   "cell_type": "markdown",
   "metadata": {},
   "source": [
    "https://plotly.com/python/cufflinks/"
   ]
  }
 ],
 "metadata": {
  "kernelspec": {
   "display_name": "Python 3",
   "language": "python",
   "name": "python3"
  },
  "language_info": {
   "codemirror_mode": {
    "name": "ipython",
    "version": 3
   },
   "file_extension": ".py",
   "mimetype": "text/x-python",
   "name": "python",
   "nbconvert_exporter": "python",
   "pygments_lexer": "ipython3",
   "version": "3.7.3"
  }
 },
 "nbformat": 4,
 "nbformat_minor": 2
}
