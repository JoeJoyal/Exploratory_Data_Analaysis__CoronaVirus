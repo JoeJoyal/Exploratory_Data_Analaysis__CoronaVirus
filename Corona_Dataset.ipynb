{
 "cells": [
  {
   "cell_type": "code",
   "execution_count": 267,
   "metadata": {},
   "outputs": [],
   "source": [
    "#Import the Library\n",
    "import numpy as np\n",
    "import pandas as pd\n",
    "import matplotlib.pyplot as plt\n",
    "import seaborn as sns\n",
    "%matplotlib inline"
   ]
  },
  {
   "cell_type": "code",
   "execution_count": 268,
   "metadata": {},
   "outputs": [
    {
     "name": "stdout",
     "output_type": "stream",
     "text": [
      "Header:['', 'SlNo', 'Name', 'Age', 'Sex', 'Address', 'Contact Number', 'Passport Number', 'Traceable', 'Country of Visit', 'Province', 'Date of Arrival from Affected Country', 'Airport', 'Date of Receipt of Information', 'Block Name', '']\n",
      "\n",
      "['', '1', 'SEKAR RANGANATHAN', '31', 'Male', 'M BLOCK SFL PRIYA SUNDARSHAN APTS SRIRANGAM TRICHY-620006-91', '9994920030', 'T9264570', 'Yes', 'SOUTH KOREA', 'South Korea', '01/03/2020', 'Chennai', '01/03/2020', 'Corporation', '']\n",
      "['', '2', 'SURESH', '44', 'Male', '72 SANTHOSE NAGAR MK KOTTAI POST TRICHY TN-620011', '9941427331/9941717052', 'J3722053', 'Yes', 'SOUTH KOREA', 'South Korea', '01/03/2020', 'Chennai', '01/03/2020', 'Corporation', '']\n",
      "['', '3', 'RAMASWAMY PRAKASH', '29', 'Male', 'S/oSathsivam 32/21 Nadu Thuvankarasi TRICHY-620008', '9003757474', 'J9849153', 'Yes', '', 'CHINA', '01/03/2020', 'Chennai', '01/03/2020', 'Corporation', '']\n",
      "['', '4', 'Selvam praveen kumar', '20', 'Male', '1 reddi st beema nagar Trichy', '9443440108', 'P8438413', 'Yes', '', 'Japan', '03/03/2020', 'Trichy', '04/03/2020', 'Corporation', '']\n",
      "['', '5', 'Shanthi kumari', '44', 'Female', '53b chinnasetty Trichy', '9842131877', 'A40803232', 'Yes', '', 'South Korea', '04/03/2020', 'Trichy', '05/03/2020', 'Corporation', '']\n",
      "['', '6', 'Arumugam priyan', '30', 'Male', '13 arul Murugan garden srirangam', '9842832116', 'K3193150', 'Yes', '', 'South Korea', '04/03/2020', 'Trichy', '05/03/2020', 'Corporation', '']\n",
      "['', '7', 'Charles William Shirley William', '18', 'Female', '31st West cross Singam nagar Trichy-20', '8903647774', 'Z3949585', 'Yes', '', 'Philippines', '04/03/2020', 'Trichy', '05/03/2020', 'Corporation', '']\n",
      "['', '8', 'Sethuraman', '23', 'Male', '3rd Cross Raghavendra Garden thiruvanikovil', '9944083454', 'P8448395', 'Yes', '', 'South Korea', '05/03/2020', 'Trichy', '06/03/2020', 'Corporation', '']\n",
      "['', '9', 'Thandayuthapani seetharaman', '69', 'Male', '27/e3 3rd cross thillai nagar Trichy', '7373057007', 'L7126048', 'Yes', '', 'Indonesia 1month', '06/03/2020', 'Trichy', '07/03/2020', 'Corporation', '']\n",
      "[]\n",
      "['', '10', 'Visalakshi Seetha raman', '65', 'Female', '27/e3 3rd cross thillai nagar Trichy.', '9943892111', 'N0097214', 'Yes', '', 'Indonesia 1month', '06/03/2020', 'Trichy', '07/03/2020', 'Corporation', '']\n",
      "['', '11', 'Manilal mahendra kumar', '64', 'Male', '17/1 10th B cross thillai nagar Trichy.', '9345130251', 'N3733952', 'Yes', '', 'Indonesia 1month', '06/03/2020', 'Trichy', '07/03/2020', 'Corporation', '']\n",
      "['', '12', 'Shobana m.vola', '40', 'Female', '17/1 10th B cross thillai nagar Trichy', '9345211021', 'N3733956', 'Yes', '', 'Indonesia 1month', '06/03/2020', 'Trichy', '07/03/2020', 'Corporation', '']\n",
      "['', '13', 'Gulam kazhal sridhar', '27', 'Male', '5/40 D kandy Street beema nagar Trichy', '9994690239', 'M2974145', 'Yes', '', 'Tokyo', '07/03/2020', 'Trichy', '07/03/2020', 'Corporation', '']\n",
      "['', '14', 'Nandhini', '26', 'Female', '6 barath avenue pappakurichi road kattur Trichy.', '7502485565', 'T6586319', 'Yes', '', 'Indonesia 1month', '07/03/2020', 'Trichy', '08/03/2020', 'Corporation', '']\n",
      "['', '15', 'Ashwin chellaiya', '26', 'Female', '6 barath avenue pappakurichi road kattur Trichy', '7502485565', 'L2560071', 'Yes', '', 'Indonesia 1month', '07/03/2020', 'Trichy', '08/03/2020', 'Corporation', '']\n",
      "['', '16', 'Mookan rengaraj', '40', 'Male', '79 pillaiyar koil Street e.pudur Trichy', '9789091740', 'N1310960', 'Yes', '', 'Narita (Japan)', '08/03/2020', 'Trichy', '09/03/2020', 'Corporation', '']\n",
      "['', '17', 'Rengaraj krithigan', '2', 'Male', '79 pillaiyar koil Street e.puthur Trichy', '9789091740', 'R0256604', 'Yes', '', 'Narita', '08/03/2020', 'Trichy', '09/03/2020', 'Corporation', '']\n",
      "['', '18', 'Krishnan anandhi', '33', 'Female', '79 pillaiyar koil Street e.puthur Trichy', '9789091740', 'P1606742', 'Yes', '', 'Narita', '08/03/2020', 'Trichy', '09/03/2020', 'Corporation', '']\n",
      "['', '19', 'Rengaraj gurucharan', '6', 'Male', '79 pillaiyar koil Street e.puthur Trichy', '9789091740', 'P1606744', 'Yes', '', 'Narita', '08/03/2020', 'Trichy', '09/03/2020', 'Corporation', '']\n",
      "['', '20', 'Sanjay Balaji', '24', 'Male', '6A 1st cross v.n.nagar Trichy', '8681811611', 'M2835592', 'Yes', '', 'Italy', '08/03/2020', 'Trichy', '09/03/2020', 'Corporation', '']\n",
      "[]\n",
      "['', '21', 'Salmankan', '27', 'Male', '24/253 2nd cross ganapathy nagar v.k.t.malai Trichy', '9578312704', 'R9023607', 'Yes', '', 'Italy', '08/03/2020', 'Trichy', '09/03/2020', 'Corporation', '']\n",
      "['', '22', 'Shankar mani kanagaraj', '25', 'Male', '24 Perumal colony tvk nagar puthur Trichy', '9442302198', 'N0747789', 'Yes', '', 'Italy', '08/03/2020', 'Trichy', '09/03/2020', 'Corporation', '']\n",
      "['', '23', 'Lewin prabhu Stalin', '26', 'Male', '379 2nd Street Amman nagar extension kattur Trichy', '9600937229', 'L4660017', 'Yes', '', 'Italy', '08/03/2020', 'Trichy', '09/03/2020', 'Corporation', '']\n",
      "['', '24', 'VIGNESH NALLAIYAN RAMASAMI', '27', 'Male', '19 2ND CROSS SRI RAM NAGAR TRICHY -6200019.', '8883817317', 'L3685845', 'Yes', '', 'Italy', '09/03/2020', 'Chennai', '09/03/2020', 'Corporation', '']\n",
      "['', '25', 'Mr. MOHAMED JAVITH', '31', 'Male', 'YAKUB SHERIFF (Father) NO:155/6 INDIRA NAGAR K.K NAGAR Tamil Nadu India 620021 Tiruchirappalli', '9886251421', '', 'Yes', '', 'Saudi', '07/03/2020', 'Chennai', '10/03/2020', 'Corporation', '']\n",
      "[]\n",
      "['', '26', 'Mr. MOHAMED JAVITH', '31', 'Male', 'YAKUB SHERIFF (Father) NO:155/6 INDIRA NAGAR K.K NAGAR Tamil Nadu India 620021 Tiruchirappalli', '9886251421', '', 'Yes', '', 'Saudi', '07/03/2020', 'Chennai', '10/03/2020', 'Corporation', '']\n",
      "['', '27', 'Jagannathan Balaji', '30', 'Male', '27/31 east chitra Street Srirangam Trichy', '9524354403', 'L3674444', 'Yes', '', 'South Korea', '10/03/2020', 'Trichy', '10/03/2020', 'Corporation', '']\n",
      "['', '28', 'Balaji padmasree', '21', 'Female', '27/31 east chitra Street Srirangam Trichy', '7558180503', '', 'Yes', '', 'South Korea', '10/03/2020', 'Trichy', '10/03/2020', 'Corporation', '']\n",
      "['', '29', 'BARZAGHI ELISA', '33', 'Female', 'MRS MARY CHANDRAKANTH NO5 ANNAI AVENUE - TRICHY - 620006', '0431 4226116', 'YA5146004', 'Yes', '', 'Italy', '26/02/2020', 'Delhi', '11/03/2020', 'Corporation', '']\n",
      "['', '30', 'BARZAGHI ALBERTO', '34', 'Male', 'MRS MARY CHANDRAKANTH NO5 ANNAI AVENUE - TRICHY - 620006', '0431 4226116', 'YB0521529', 'Yes', '', 'Italy', '26/02/2020', 'Delhi', '11/03/2020', 'Corporation', '']\n",
      "[]\n",
      "['', '31', 'JAYACHANDRAN AISHWARYA', '22', 'Female', 'No.120.B-Block.SIS Apartment.Edamalaipatti pudur.Trichy -20.', '9600361390/9629153290', 'S5250285', 'Yes', '', 'Italy', '27/02/2020', 'Delhi', '12/03/2020', 'Corporation', '']\n",
      "['', '32', 'ESWARAN HARINI', '23', 'Female', 'no:72 anna salai 8th cross kailash nagar ARIYAMANGALAM kattur 620019', '9843996864', 'Z5059262', 'Yes', '', 'Italy', '27/02/2020', 'Delhi', '12/03/2020', 'Corporation', '']\n",
      "['', '33', 'MEGANATHAN MANIKANDAN', '23', 'Male', '41 Vaikasi veethi Selvanagar Ext. Karumandapam Trichy', '9840643183/8056521100', 'N9870207', 'Yes', '', 'Italy', '02/03/2020', 'Delhi', '12/03/2020', 'Corporation', '']\n",
      "['', '34', 'Kamilyahyanoor', '61', 'Male', 'B907 Sis Apartment Madurai mainroad Trichy', '9843094681', 'B8533597', 'Yes', '', 'Jalarta', '12/03/2020', 'Trichy', '13/03/2020', 'Corporation', '']\n",
      "['', '35', 'Raja Thiyagarajan', '52', 'Male', '7 Bandegana st.Trichy 620008', '9865380571', '643546409', 'USA', '', 'Washington', '13/03/2020', 'Trichy', '14/03/2020', 'Corporation', '']\n",
      "[]\n",
      "['', '36', 'Geetha Natraja Pillai', '51', 'Male', '7 Bandegana st.Trichy 620008', '9865380571/472436710', '', 'USA', '', 'Washington USA', '13/03/2020', 'Trichy', '14/03/2020', 'Corporation', '']\n",
      "['', '37', 'Gopalakrishnan', '20', 'Male', '47A attukara st palakkarai Trichy', '8903461845', 'R2921732', 'Philippines', '', 'Philippines', '13/03/2020', 'Trichy', '14/03/2020', 'Corporation', '']\n",
      "['', '38', 'PONNUSWAMY MUTHU', '42', 'Male', 'Door No. 1H 3rd Floor Kannappa App. Utkmalai Tiruchirupally 620102', '9487602134', 'P0941003', 'Japan', '', 'Japan', '27/02/2020', 'Delhi', '', 'Corporation', '']\n",
      "[]\n",
      "['', '39', 'SELVARASU CHITRA', '', 'Female', '541 2ND ST VOC NAGARTHIRUVARUMBUR  CITY - TRICHY', '', 'P1374311', 'Singapore', '', 'Singapore', '09/03/2020', 'Trichy', '14/03/2020', 'Corporation', '']\n",
      "['', '40', 'Aarthi Karunanidhi', '21', 'Female', '74C/21A Malligai solai Annamalai nagar Trichy', '9751719915', 'M6748779', 'Manila', '', 'Philippines', '14/03/2020', 'Trichy', '15/03/2020', 'Corporation', '']\n",
      "[]\n",
      "['', '41', 'John Bosco Kevin John', '20', 'Male', '92A Kalaivanan st.Kamaraj nagar Trichy', '9443145541', 'N9639978', 'Manila', '', 'Philippines', '14/03/2020', 'Trichy', '15/03/2020', 'Corporation', '']\n",
      "['', '42', 'RADHA KRISHANAN', '', 'Female', '11/52 MALAYAPPA NAGAR TRICHY', '6369124795', 'M7480866', 'SPAIN', 'SPAIN', 'SPAIN', '14/03/2020', 'Chennai', '15/03/2020', 'Corporation', '']\n",
      "['', '43', 'PRASAD PALANIAPPAN', '26', 'Male', '37/7 KOVIL ST.SUBRAMANIYAPURAM TRICHY', '8870086685', 'P8443119', 'France', 'PARIS', 'PARIS', '14/03/2020', 'Chennai', '15/03/2020', 'Corporation', '']\n",
      "[]\n",
      "['', '44', 'FYROSE MALIK', '26', 'Male', 'S/o Usman Ali 31/17 KAYTHEMAILTH COLONY MELACHINTHAMANI TRICHY', '9384974143', 'S9964666', 'Malaysia', 'MALAYSIA', 'MALAYSIA', '14/03/2020', 'Chennai', '15/03/2020', 'Corporation', '']\n",
      "['', '45', 'Savitri', '30', 'Female', 'Q16 jj nagar Srirangam Trichy 620006', '9965895390', 'T2740934', 'Taiwan', '', 'Taiwan', '16/03/2020', 'Trichy', '16/03/2020', 'Corporation', '']\n",
      "['', '46', 'Shilash', '2', 'Male', 'Q16 jj nagar Srirangam Trichy 620006', '9965895390', 'T2756157', 'Taiwan', '', 'Taiwan', '16/03/2020', 'Trichy', '16/03/2020', 'Corporation', '']\n",
      "['', '47', 'Suresh', '35', 'Male', 'Q16 jj nagar Srirangam Trichy 620006', '9965895390', 'M2700355', 'Taiwan', '', 'Taiwan', '16/03/2020', 'Trichy', '16/03/2020', 'Corporation', '']\n",
      "['', '48', 'Shobit', '3', 'Male', 'Q16 jj nagar Srirangam Trichy 620006', '9965895390', 'T2756097', 'Taiwan', '', 'Taiwan', '16/03/2020', 'Trichy', '16/03/2020', 'Corporation']\n",
      "['', '49', 'Prathiba chitralaya narasimhan', '34', 'Female', '25/ 22 3rd floor G 10 A west cross thillai nagar trichy', '9444766508', 'K7810232', 'Japan', '', 'Narita/japan', '16/03/2020', 'Trichy', '16/03/2020', 'Corporation', '']\n",
      "['', '50', 'Madava krishna saranga raja', '7', 'Male', '25/22 3rd floor G 10A west cross thillai nagar trichy', '9444766508', 'S6652262', 'Japan', '', 'Narita tokyo japan', '16/03/2020', 'Trichy', '16/03/2020', 'Corporation', '']\n",
      "['', '51', 'Neharika saranga raja', '2', 'Female', '25/22 3rd floor G 10A west cross thillai nagar trichy', '9444766508', 'N9640775', 'Japan', '', 'Narita tokyo japan', '16/03/2020', 'Trichy', '16/03/2020', 'Corporation']\n",
      "['', '52', 'SUBRAMANIYAN RAJENDRAN', '40', 'Male', '52A NIGHT SOIL DEPOT ROAD SRRANGAM CITY - TRICHY', '9894169865', 'N5569665', 'Singapore', 'Singapore', 'Singapore', '14/03/2020', 'Trichy', '16/03/2020', 'Corporation', '']\n",
      "['', '53', 'MEENAKSHI VENKATARAMANAN', '26', 'Female', 'M BLOCK SFL PRIYA SUNDARSHAN APTS SRIRANGAM TRICHY-620006', '9994920030/9994920030', 'Z4272107', 'Yes', 'SOUTH KOREA', 'South Korea', '01/03/2020', 'Chennai', '01/03/2020', 'Corporation', '']\n",
      "['', '54', 'THAPA SURBHI', '21', 'Male', 'SANGAM HOTEL TRICHY CITY - TRICHY', '7456066771', 'R7557847', 'Singapore', 'Singapore', 'Singapore', '14/03/2020', 'Trichy', '16/03/2020', 'Corporation', '']\n",
      "[]\n",
      "['', '55', 'RAMESH BABU ARYALEKSHMI', '29', 'Male', 'SANGAM HOTEL TRICHY', '9739876250', 'S9528463', 'Singapore', 'Singapore', 'Singapore', '14/03/2020', 'Trichy', '16/03/2020', 'Corporation', '']\n",
      "['', '56', 'CHAVAN HARSHADA', '24', 'Male', 'SANGAM HOTEL TRICHY', '9823217271', 'P1993612', 'Singapore', 'Singapore', 'Singapore', '14/03/2020', 'Trichy', '16/03/2020', 'Corporation', '']\n",
      "['', '57', 'DURAISAMY SRINIVAS', '34', 'Male', '10/3 7TH STREET GANDHI NAGAR THIRUVERAMBUR CITY - TRICHY', '9842192031', 'T1660493', 'Singapore', 'Singapore', 'Singapore', '14/03/2020', 'Trichy', '16/03/2020', 'Corporation', '']\n",
      "[]\n",
      "['', '58', 'GUPTA BAISHALI', '25', 'Male', 'SANGAM HOTEL TRICHY', '9874686241', 'P7941608', 'Singapore', 'Singapore', 'Singapore', '14/03/2020', 'Trichy', '16/03/2020', 'Corporation', '']\n",
      "['', '59', 'SARAVANAN KAYALVIZHI', '32', 'Male', '52 INDRAGANDHI NAGAR PONMALAI TRICHY', '9488606652', 'T6572644', 'Singapore', 'Singapore', 'Singapore', '14/03/2020', 'Trichy', '16/03/2020', 'Corporation', '']\n",
      "[]\n",
      "['', '60', 'BHARATHAM SRIDHARAN SRIRAM', '38', 'Male', '2ND EAST RANGANATHAPURAM SRIRANGA TRICHY', '9843663335', 'Z4809183', 'Singapore', 'Singapore', 'Singapore', '14/03/2020', 'Trichy', '16/03/2020', 'Corporation', '']\n",
      "['', '61', 'SHAHUL HAMEED MOHAMMED ASWAR', '28', 'Male', '29/17 A BEERANGI KULA ST TRICHY', '9940255520', 'L7460409', 'Malaysia', 'Malaysia', 'Malaysia', '14/03/2020', 'Chennai', '16/03/2020', 'Corporation', '']\n",
      "['', '62', 'Abdul kareem', '20', 'Male', '116/117 3rd cross dhanarathinam nagar varaganeri trichy', '9944979191', 'R5766205', 'Dubai', 'Dubai', 'Dubai', '17/03/2020', 'Trichy', '17/03/2020', 'Corporation', '']\n",
      "['', '63', 'USMAN ALI FYROSE MALIK', '43', 'Male', 'NO.37/17 KAYETHEMILLATH COLONY MELACHINTHAMANI  TIRUCHIRAPPALLI', '9384974143', 'S9964666', 'Malaysia', 'Kuala Lumpur', 'Kuala Lumpur', '14/03/2020', 'Trichy', '17/03/2020', 'Corporation', '']\n",
      "['', '64', 'IRUDAYA NATHAN ANTONY SEKAR', '50', 'Male', 'PLOT NO 8 AA NAGAR PONMALAIPATTY TRICHY', '9659263576', 'Z4837642', 'Malaysia', 'Kuala Lumpur', 'Kuala Lumpur', '14/03/2020', 'Trichy', '17/03/2020', 'Corporation', '']\n",
      "['', '65', 'JOHN BOSCO KEVIN JOHN', '21', 'Male', '92A KALAIVANAR KAMARAJ NAGAR AIRPORT TRICHY', '9443145541', 'N9639978', 'Malaysia', 'Kuala Lumpur', 'Kuala Lumpur', '14/03/2020', 'Trichy', '17/03/2020', 'Corporation', '']\n",
      "[]\n",
      "['', '66', 'SIVASHANKARI VENKATESAN', '24', 'Female', 'PLOT NO:40 7TH CROSS BANKERS COLORY TIRUCHIRAPALLI TAMIL NADU 620017', '9791850678', 'L2571489', 'FRANCE', 'FRANCE', 'FRANCE', '14/03/2020', 'Chennai', '17/03/2020', 'Corporation', '']\n",
      "['', '67', 'Nithin balaji', '23', 'Male', '11/15 crawford colony main road trichy', '9487555759', 'M0051176', 'Germany', 'Frankfurt/germany', 'Frankfurt/germany', '18/03/2020', 'Trichy', '18/03/2020', 'Corporation', '']\n",
      "['', '68', 'JABAMANI MOSES GNANA PRAKASH', '44', 'Male', 'B5 KRISHNA MORTHY NAGAR KK NAGAR TRICHY', '9443533019', 'T6704683', 'yes', 'Singapore', 'Singapore', '14/03/2020', 'Trichy', '18/03/2020', 'Corporation', '']\n",
      "['', '69', 'SATHIS KUMAR SUGANYA', '31', 'Female', '11 TH CROSS TRICHY', '9047346477', 'S9805133', 'yes', 'Singapore', 'Singapore', '14/03/2020', 'Trichy', '18/03/2020', 'Corporation', '']\n",
      "['', '70', 'ANBARAJAN JAYAMURUGAN', '38', 'Male', 'SAKTHI NAGAR KATTUR TRICHY', '8015128913', 'Z2486756', 'yes', 'Singapore', 'Singapore', '14/03/2020', 'Trichy', '18/03/2020', 'Corporation', '']\n",
      "['', '71', 'JAMES ROSALIND VIMALA', '81', 'Female', '3A JEYAM LOTUS RAMALINGA NAGAR TRICHY', '9965772100', 'R9006321', 'yes', 'Singapore', 'Singapore', '14/03/2020', 'Trichy', '18/03/2020', 'Corporation', '']\n",
      "['', '72', 'CHELLAN ARUMUGASAMY', '49', 'Male', '7 MUDALIYAR MANIA BALAJI NAGAR 15TH CROSS TRICHY', '9994730567', 'Z2523111', 'yes', 'Singapore', 'Singapore', '14/03/2020', 'Trichy', '18/03/2020', 'Corporation', '']\n",
      "['', '73', 'VASUDEVAN BALAJI', '46', 'Male', '60 PUTHUR AGRAHARAM  TRICHY', '2774046', 'Z3586074', 'yes', 'Singapore', 'Singapore', '14/03/2020', 'Trichy', '18/03/2020', 'Corporation']\n",
      "['', '74', 'MANICKAVASAKAM SENTHIL KUMAR', '40', 'Male', '8 JAYA MNAGAR CHOLAMAN NAGAR SOUTH EXTN  CITY - TRICHY', '944388962', 'N9866062', 'yes', 'Singapore', 'Singapore', '14/03/2020', 'Trichy', '18/03/2020', 'Corporation', '']\n",
      "['', '75', 'ANABEL SUMITA DOSS', '45', 'Female', '3A JEYAM LOTUS RAMALINGA NGR  CITY - TRICHY', '9965772100', 'P9634210', 'yes', 'Singapore', 'Singapore', '14/03/2020', 'Trichy', '18/03/2020', 'Corporation', '']\n",
      "['', '76', 'SUBRAMANIAN VASANTHA', '61', 'Female', '29/37 ANNA NAGAR  SIMCO Meter KK Nagar- TRICHY', '9791407444', 'S1560573', 'yes', 'Singapore', 'Singapore', '14/03/2020', 'Trichy', '18/03/2020', 'Corporation', '']\n",
      "[]\n",
      "['', '77', 'MOHAN KUMAR SATHYA', '27', 'Female', '29/37 ANNA NAGAR SIMCO Meter KK Nagar- TRICHY', '8012912259', 'R4257278', 'yes', 'Singapore', 'Singapore', '14/03/2020', 'Trichy', '18/03/2020', 'Corporation', '']\n",
      "['', '78', 'MOHIDEEN KHAN ZAFRULLA KHAN', '35', 'Male', '13/5JALA PAKKIRI STREET - TIRICHY', '6381158547', 'U0011453', 'yes', 'Malysia', 'Kuala Lumpur', '14/03/2020', 'BANGALORE', '18/03/2020', 'Corporation', '']\n",
      "['', '79', 'ABDUL RAHMAN FARITHA BEGUM', '38', 'Female', '1/8 VALLUVAR NAGAR AIRPORT THIRUCHIRAPPALLI TAMILNADU', '9585088110', 'Z5487291', 'yes', 'Singapore', 'Kuala Lumpur', '14/03/2020', 'TRIVANDRUM', '18/03/2020', 'Corporation', '']\n",
      "['', '80', 'MOHAMMED HANIFA SYED ABUTHAHIR', '34', 'Male', '30A ALWAR THOPE TENNUR TRICHY', '9600775447', 'Z3949260', 'yes', 'Malysia', 'Kuala Lumpur', '14/03/2020', 'Trichy', '18/03/2020', 'Corporation', '']\n",
      "['', '81', 'SUNDARRAJAN GURUPRAKASH', '28', 'Male', '10A PALAYAM BAZAAR WORAIYUR TRICHY', '9842422994', 'M1412637', 'yes', 'Malysia', 'Kuala Lumpur', '14/03/2020', 'Trichy', '18/03/2020', 'Corporation', '']\n",
      "['', '82', 'SHAMSUDEEN RABIQ ALI', '51', 'Male', '13A 3RD ST KK NAGAR CITY - TRICHY', '9894426662', 'Z3181535', 'yes', 'Malysia', 'Kuala Lumpur', '14/03/2020', 'Trichy', '18/03/2020', 'Corporation', '']\n",
      "['', '83', 'ABDUL JABBAR SYED NAZEER AHAMED', '30', 'Male', 'D 214 4THCROSS ANNANAGAR THENNUR - TRICHY', '9994756643', 'U0001939', 'yes', 'Malysia', 'Kuala Lumpur', '14/03/2020', 'Trichy', '18/03/2020', 'Corporation', '']\n",
      "['', '84', 'DAMODARAN ARUNPRASATH', '35', 'Male', '66 GANTHJI ST EAST AMBIKAPURAM PONMALI  CITY - TRICHY', '7339296062', 'K9598014', 'Singapore', 'Singapore', 'Singapore', '14/03/2020', 'Trichy', '19/03/2020', 'Corporation', '']\n",
      "['', '85', 'DURAIRAJ DEVAR ADHIMULAM', '51', 'Male', '5/101 5TH WEST STREET ANNAI INDIRA NAGAR EX-SERVICE MAN COLONY TRICHY', '8056984708', 'S9809772', 'Singapore', 'Singapore', 'Singapore', '14/03/2020', 'Trichy', '19/03/2020', 'Corporation', '']\n",
      "['', '86', 'KARUNANITHI BALAJI', '25', 'Male', '2/237 ANNASALAI 2ND ST KAILASH NAGAR KATTUR 620019 TRICHY', '9790076510', 'N5572854', 'Singapore', 'Singapore', 'Singapore', '14/03/2020', 'Trichy', '19/03/2020', 'Corporation', '']\n",
      "[]\n",
      "['', '87', 'LAISHRAM TOMBA SINGH', '42', 'Male', 'PRAKASH RECIDENCY - TIRUCHY', '9482733002', 'Z3697731', 'Singapore', 'Singapore', 'Singapore', '14/03/2020', 'Trichy', '19/03/2020', 'Corporation', '']\n",
      "['', '88', 'MOHAMED FAROOK AASHIC ROSHAN', '18', 'Male', 'CHITHITAIPATTINAM TRICHY', '9442924562', 'U2276816', 'Singapore', 'Singapore', 'Singapore', '14/03/2020', 'Trichy', '19/03/2020', 'Corporation', '']\n",
      "['', '89', 'NAGARAJAN MANOJKUMAR', '29', 'Male', '83/33 MUDALIYAR ST THIRUTHANTHONI WORIYUR TRICHY-620003', '8056950422', 'J2911523', 'Singapore', 'Singapore', 'Singapore', '14/03/2020', 'Trichy', '19/03/2020', 'Corporation', '']\n",
      "['', '90', 'NAGARAJAN MANOJKUMAR', '29', 'Male', '83/33 MUDALIYAR ST THIRUTHANTHONI WORIYUR TRICHY-620003', '8056950422', 'J2911523', 'Singapore', 'Singapore', 'Singapore', '14/03/2020', 'Trichy', '19/03/2020', 'Corporation', '']\n",
      "['', '91', 'RAMALINGAM MURUGAN', '50', 'Male', 'PLOT NO-408 EIGHTH CROSS GANGASAPURAM', '9159312092', 'U0501640', 'Singapore', 'Singapore', 'Singapore', '14/03/2020', 'Trichy', '19/03/2020', 'Corporation', '']\n",
      "['', '92', 'Abubakkar Nazeer', '61', 'Male', '159 Dhanrath Nagar Varasanan Trichy', '9751520298', 'M1106933', 'Dubai', 'Dubai', 'Dubai', '19/03/2020', 'Trichy', '19/03/2020', 'Corporation', '']\n",
      "['', '93', 'AITH ESWAR SUNDAR', '', 'Male', '14/37 SOUTH ST THIRUCHURAPALLI', '9003396150', 'S1560808', 'GERMANY', 'GERMANY', 'GERMANY', '19/03/2020', 'Chennai', '19/03/2020', 'Corporation', '']\n",
      "['', '94', 'SELVAM SATHISHKUMAR', '31', 'Male', '5A SRINIVASAPURAM TOWN STATION RD TRICHY', '9943358482', 'J3599525', 'Singapore', 'Singapore', 'Singapore', '14/03/2020', 'Trichy', '19/03/2020', 'Corporation', '']\n",
      "['', '95', 'Karuppudar Ragupathy', '69', 'Male', '25 Post office st M.K.Kottai Trichy', '9443797910', 'J0696499', 'Dubai', 'Dubai', 'Dubai', '19/03/2020', 'Trichy', '19/03/2020', 'Corporation', '']\n",
      "['', '96', 'KIRTHIGA SURNDHAR', '', 'Female', '14/37 SOUTH ST THIRUCHURAPALLI', '9003396150', 'S1545966', 'GERMANY', 'GERMANY', 'GERMANY', '19/03/2020', 'Chennai', '19/03/2020', 'Corporation', '']\n",
      "[]\n",
      "['', '97', 'MANGAPUL HUSEN', '', 'Male', '5L MAIN ROAD TRICHY', '9655609976', 'T2460722', 'DOHA', 'DOHA', 'DOHA', '19/03/2020', 'Chennai', '19/03/2020', 'Corporation', '']\n",
      "['', '98', 'Raghunanthan Sarvanan', '', 'Male', '2/277 Gandhi Salai 4thStreet Eilakkudi Kailash Nagar Trichy', '9600429946', 'L6976312', 'Germany', 'Germany', 'Germany', '19/03/2020', 'Trichy', '19/03/2020', 'Corporation', '']\n",
      "['', '99', 'Ragupathy Gunavathi', '62', 'Female', '25 Post office st M.K.Kottai Trichy', '9443797910', 'J9696500', 'Dubai', 'Dubai', 'Dubai', '19/03/2020', 'Trichy', '19/03/2020', 'Corporation', '']\n",
      "['', '100', 'SATHISH KUMAR', '', 'Male', '4/242 DHIRAVIDAR ST TRICHY', '9786590795', 'K1663232', 'DOHA', 'DOHA', 'DOHA', '19/03/2020', 'Chennai', '19/03/2020', 'Corporation', '']\n",
      "['', '101', 'Sheik Daood', '', 'Male', 'No94 Chinnaswamy nagar Trichy', '9698911145', 'L9835152', 'Dubai', 'Dubai', 'Dubai', '19/03/2020', 'Chennai', '19/03/2020', 'Corporation', '']\n",
      "['', '102', 'Sowmiya selvam', '26', 'Female', '16 Bharathi Avenue Ramalinganagar Woraiyur', '9043060450', 'J2297072', 'Singapore', 'Singapore', 'Singapore', '18/03/2020', 'Trichy', '19/03/2020', 'Corporation', '']\n",
      "['', '103', 'Subburamani Rathinam', '53', 'Male', 'Palakkarai St Kalathur Trichy', '7867959997', 'M538757', 'Dubai', 'Dubai', 'Dubai', '18/03/2020', 'Trichy', '19/03/2020', 'Corporation', '']\n",
      "['', '104', 'SURENDHAR MURUGAN', '', 'Male', '14/37 SOUTH ST THIRUCHURAPALLI', '9003396150/9003396150', 'Z5279066', 'GERMANY', 'GERMANY', 'GERMANY', '19/03/2020', 'Chennai', '19/03/2020', 'Corporation', '']\n",
      "['', '105', 'VENKATRAMAN JAGANATHAN', '48', 'Male', '13/11 CAUVERY NAGAR SUNDARARAJ NAGAR EXTENSION TRICHY', '8754391833', 'M5607029', 'Singapore', 'Singapore', 'Singapore', '14/03/2020', 'Trichy', '19/03/2020', 'Corporation', '']\n",
      "['', '106', 'Thangammal Muruganandam', '78', 'Female', '35 3rd St Ganesh nagar K.K.Nagar Trichy', '9566305157', 'K3484238', 'Dubai', 'Dubai', 'Dubai', '18/03/2020', 'Trichy', '19/03/2020', 'Corporation', '']\n",
      "['', '107', 'THOPPU AROKIYADASS', '', 'Male', '5/159 3RD CROSS ST THIRU NAGAR TRICHY', '9489326274', 'K8407655', 'DOHA', 'DOHA', 'DOHA', '19/03/2020', 'Chennai', '19/03/2020', 'Corporation', '']\n",
      "['', '108', 'VIJAYALAKSHMI BALAJI', '44', 'Female', '19A SOUTH MUTHURAJA STREET PUTHUR TRICHY', '9653465788', 'K8351217', 'Singapore', 'Singapore', 'Singapore', '14/03/2020', 'Trichy', '19/03/2020', 'Corporation', '']\n",
      "[]\n",
      "['', '109', 'Julius', '', '', 'Alager St Trichy', '9750008719', 'Z4988303', 'OMAN', 'OMAN', 'OMAN', '19/03/2020', 'APHO', '20/03/2020', 'Corporation', '']\n",
      "['', '110', 'Subbareddy', '', '', '16/32 Main Kapuram St Malapudur Trichy', '', 'N4969942', 'BRAZIL', 'BRAZIL', 'BRAZIL', '19/03/2020', 'APHO', '20/03/2020', 'Corporation', '']\n",
      "['', '111', 'Prema', '', '', '16/32 Main Kapuram St Malapudur Trichy', '', 'L6068762`', 'BRAZIL', 'BRAZIL', 'BRAZIL', '19/03/2020', 'APHO', '20/03/2020', 'Corporation', '']\n",
      "['', '112', 'Pradeepa', '', '', '20/7 Vivekandar St Ayyappa Nagar Trichy', '', 'T6738753', 'ZAMBIA', 'ZAMBIA', 'ZAMBIA', '19/03/2020', 'APHO', '20/03/2020', 'Corporation', '']\n",
      "['', '113', 'Anjana', '', '', '20/7 Ayyappa Nagar Trichy', '', 'P4795394', 'LAMBIA', 'LAMBIA', 'LAMBIA', '19/03/2020', 'APHO', '20/03/2020', 'Corporation', '']\n",
      "['', '114', 'Azarudeen', '', '', '61 Sathya Moorthy St Trichy', '', 'R7405735', 'Dubai', 'Dubai', 'Dubai', '19/03/2020', 'APHO', '20/03/2020', 'Corporation', '']\n",
      "['', '115', 'Elavan', '', '', '9/10A V N Nagar Trichy', '9943355374', 'N7888771', 'Dubai', 'Dubai', 'Dubai', '19/03/2020', 'APHO', '20/03/2020', 'Corporation', '']\n",
      "['', '116', 'Mahalakshmi', '', '', '9/10A V N Nagar Trichy', ' 9943355374', 'N7888772', 'Dubai', 'Dubai', 'Dubai', '19/03/2020', 'APHO', '20/03/2020', 'Corporation', '']\n",
      "['', '117', 'Mohamed Brahim Amanullah', '', '', '7/2 Voc Trichy', '9750638922', 'M7394905', 'Dubai', 'Dubai', 'Dubai', '19/03/2020', 'APHO', '20/03/2020', 'Corporation', '']\n",
      "['', '118', 'Gunasekaran Suresh', '', '', 'Gunasekaran Periya Krishnapurm Tiruchi', '6385924273', 'R9018046', 'Dubai', 'Dubai', 'Dubai', '19/03/2020', 'APHO', '20/03/2020', 'Corporation', '']\n",
      "['', '119', 'Murugesan Surendar', '', '', '43 Othakadai New St Cantonment Trichy', '9940870468', 'L4674118', 'Singapore', 'Singapore', 'Singapore', '16/03/2020', 'APHO', '20/03/2020', 'Corporation', '']\n",
      "[]\n",
      "['', '120', 'Sivanadian Muthukumar', '', '', 'Plot No-1 Mariyamman Avenue New Selvanagar Trichy-1', '6384846188', 'P2935778', 'Singapore', 'Singapore', 'Singapore', '16/03/2020', 'APHO', '20/03/2020', 'Corporation', '']\n",
      "['', '121', 'Arokiasami Pavul Arulraj', '', '', 'No-01 Campion Higher Secondary School Promenade Road Tiruchirapalli', '9443246570', 'P8773380', 'Bangkok', 'Bangkok', 'Bangkok', '16/03/2020', 'APHO', '20/03/2020', 'Corporation', '']\n",
      "['', '122', 'Kajamohideen Abubakar Siddiq', '', '', '31/B Alwar Thope Tennur Trichy', '9789273657', 'M3427709', 'Malysia', 'Malysia', 'Malysia', '16/03/2020', 'APHO', '20/03/2020', 'Corporation', '']\n",
      "['', '123', 'Subramanian Kalyani', '', '', 'No 2 Shruthilaya 17Th Cross Kumaran Nagar Tiruchirappalli', '9944842365', 'Z3948991', 'Canada', 'Canada', 'Canada', '16/03/2020', 'APHO', '20/03/2020', 'Corporation', '']\n",
      "['', '124', 'Subramanian Rameshkumar', '', '', '65 Srl Illam Thiyagarajan Nagar Ellkudi Kattur City - Richy Rural', '9790261020', 'N6704848', 'France', 'France', 'France', '16/03/2020', 'APHO', '20/03/2020', 'Corporation', '']\n",
      "['', '125', 'Ravisankar Shivaranjani', '', '', 'B3 Apple Green Apts No4 Kandiya Puai Street Srirangan 620006', '8940296434', 'P5246754', 'Germany', 'Germany', 'Germany', '16/03/2020', 'APHO', '20/03/2020', 'Corporation', '']\n",
      "['', '126', 'Mohamed Aarif Mohamed Ashik', '', '', 'No.35/38 Kumaran Sreet Anna Nagar Aiport Po Trichy', '9789317163', 'M1412658', 'Dubai', 'Dubai', 'Dubai', '16/03/2020', 'APHO', '20/03/2020', 'Corporation', '']\n",
      "['', '127', 'Ismath Enoon Imran Khan', '', '', 'No27/51 Pallivasal Street Anna Nagar Airpot road Tiruchirappalli', '9566331772', 'S7504356', 'Dubai', 'Dubai', 'Dubai', '16/03/2020', 'APHO', '20/03/2020', 'Corporation', '']\n",
      "['', '128', 'Subramanian Vivekanandan', '', '', '22/42 Periyar Nagar Thiruvanaikovil', '9677259553', 'J4333726', 'Dubai', 'Dubai', 'Dubai', '16/03/2020', 'APHO', '20/03/2020', 'Corporation', '']\n",
      "['', '129', 'Hussain Mohammed Sulaiman', '', '', 'No.13/20-3 Bharathi Nagar Sriram Colony Airport Tricy', '8825546481', 'L8000610', 'Dubai', 'Dubai', 'Dubai', '16/03/2020', 'APHO', '20/03/2020', 'Corporation', '']\n",
      "['', '130', 'Kosalairaman Yujesh', '', '', '88 10Cross Arunachala Nagar Crawford Trichy', '9487600828', 'P8784907', 'Malysia', 'Malysia', 'Malysia', '16/03/2020', 'APHO', '20/03/2020', 'Corporation', '']\n",
      "[]\n",
      "['', '131', 'Jum Bin Depongan Mahadir Mohamed', '', '', '4 Nehru 1St E.Pudur Trichy', '9787697004', 'N9869259', 'Malysia', 'Malysia', 'Malysia', '16/03/2020', 'APHO', '20/03/2020', 'Corporation', '']\n",
      "['', '132', 'Peter Pascal Regis Benny Joywin', '', '', '16/8 Ckvi Apartment Thiruvnaikovil Srirangam', '945101309', 'S4356324', 'Malysia', 'Malysia', 'Malysia', '16/03/2020', 'APHO', '20/03/2020', 'Corporation', '']\n",
      "['', '133', 'Shajahan Hussain', '', '', '169/71A Mulakkottai St Thennur Trichy', '9994970760', 'M6611339', 'Malysia', 'Malysia', 'Malysia', '16/03/2020', 'APHO', '20/03/2020', 'Corporation', '']\n",
      "['', '134', 'Nachiappan Lakshmi', '', '', 'No.11/8 2Nd Cross West Extension Thillanagar Trichy', '9843055922', 'M6611013', 'London', 'London', 'London', '16/03/2020', 'APHO', '20/03/2020', 'Corporation', '']\n",
      "['', '135', 'Marimuthu Keerthana', '', '', 'No 30-B Madurai Veerasamy Koil Street Puthur Trichy', '9611483131', 'Z3181809', 'London', 'London', 'London', '16/03/2020', 'APHO', '20/03/2020', 'Corporation', '']\n",
      "['', '136', 'Mohamed Ali Jailanibasha', '', '', 'No-37 B Viswas Nagar Thanjai Road Trichy-620008', '9360286280', 'P8434196', 'Dubai', 'Dubai', 'Dubai', '16/03/2020', 'APHO', '20/03/2020', 'Corporation', '']\n",
      "['', '137', 'Jaffar Sadik Yasir Arafath', '', '', 'N011/18 New Roll Mahalaxmi Nagar Varaganery Thanjavur Road Trichy 620008', '9629866776', 'J0684232', 'Dubai', 'Dubai', 'Dubai', '16/03/2020', 'APHO', '20/03/2020', 'Corporation', '']\n",
      "['', '138', 'Gopalraj Suresh Kumar', '', '', 'D-7 5Th Main Road 15Th Cross Street Srinivasa Nagar Tennur-620017', '6381481870', 'Z5821826', 'Dubai', 'Dubai', 'Dubai', '16/03/2020', 'APHO', '20/03/2020', 'Corporation', '']\n",
      "['', '139', 'Sivakumar Sudhakar', '', '', 'Plot No. 4 2Nd Street Balaji Nagar Trichy Tamil Nadu', '7680932060', 'Z5821639', 'Dubai', 'Dubai', 'Dubai', '16/03/2020', 'APHO', '20/03/2020', 'Corporation', '']\n",
      "['', '140', 'Jailani Mohamed Shafee', '', '', '8/1 Natharsha Pallivasal Street Madurai Road Tiruchirapalli', '9087820747', 'Z5489500', 'Dubai', 'Dubai', 'Dubai', '16/03/2020', 'APHO', '20/03/2020', 'Corporation', '']\n",
      "['', '141', 'Thadumiyan Rishwan Ali', '', '', '68C Indhira Gandhi Street Jeevanagar Tiruchirapalli', '7339295535', 'T2754028', 'Dubai', 'Dubai', 'Dubai', '16/03/2020', 'APHO', '20/03/2020', 'Corporation', '']\n",
      "[]\n",
      "['', '142', 'Malaiarasu Vasanth', '', '', 'No. 46/A Nochivayalpudhur Thiruvermbur  Trichy', '9944556517', 'M4581018', 'Bahrain', 'Bahrain', 'Bahrain', '16/03/2020', 'APHO', '20/03/2020', 'Corporation', '']\n",
      "['', '143', 'Vadivel Rajalakshmi', '', '', 'No8A Anna Street Malayyappa Nagar Ariyamangalam Trichy', '9944773333', 'T9350136', 'Bahrain', 'Bahrain', 'Bahrain', '16/03/2020', 'APHO', '20/03/2020', 'Corporation', '']\n",
      "['', '144', 'Gunasekaran Ravindran', '', '', 'No28.Ambethkar Nagar Kallanai Rd.Thiruvermbur Tiruchirappalli', '9943947721', 'R1929734', 'Bahrain', 'Bahrain', 'Bahrain', '16/03/2020', 'APHO', '20/03/2020', 'Corporation', '']\n",
      "['', '145', 'Natarajan Thenmozhi', '', '', '19 13Th Cross Lauzer Avenue Bankers Colony Extn Trichy', '9840248242', 'L3668334', 'Dubai', 'Dubai', 'Dubai', '16/03/2020', 'APHO', '20/03/2020', 'Corporation', '']\n",
      "['', '146', 'Ganesan Venkatraman', '', '', '8/137 Malai Kovil Raja Veethi Thiruverumbur Trichy', '9944878301', 'L2559018', 'Dubai', 'Dubai', 'Dubai', '16/03/2020', 'APHO', '20/03/2020', 'Corporation', '']\n",
      "['', '147', 'Subramanian Annadurai', '', '', ' Gounderthope Melachinthamani Trichy', '8870060348', 'N9240900', 'Dubai', 'Dubai', 'Dubai', '16/03/2020', 'APHO', '20/03/2020', 'Corporation', '']\n",
      "['', '148', 'Duraisamy Natarajan', '', '', '19 13Th Cross Lauzer Avenue Bankers Colony Exten Trichy', '98402482425', 'L3667931', 'Dubai', 'Dubai', 'Dubai', '16/03/2020', 'APHO', '20/03/2020', 'Corporation', '']\n",
      "['', '149', 'Duraisamy Ranjini', '', '', '20B Washermenpet Thennur Po Trichy', '9994314632', 'J3938322', 'Dubai', 'Dubai', 'Dubai', '16/03/2020', 'APHO', '20/03/2020', 'Corporation', '']\n",
      "['', '150', 'Mahadeva Iyer Sathish Kumar', '', '', '77A Vallalar Salai Ayyappanagar Trichy', '7639105559', 'M1131874', 'Dubai', 'Dubai', 'Dubai', '16/03/2020', 'APHO', '20/03/2020', 'Corporation', '']\n",
      "['', '151', 'Anwar Basha Khalil Irfan', '', '', '7/1 Ammayappa Nagar 6Th Cross Vayalur Road Trichy', '8778248500', 'T6090973', 'Dubai', 'Dubai', 'Dubai', '16/03/2020', 'APHO', '20/03/2020', 'Corporation', '']\n",
      "['', '152', 'Balakrishnan Saraswathy', '', '', '7/19 Rolax Illam Chinnakadai Veethi Trichy', '7502836262', 'R9012922', 'Dubai', 'Dubai', 'Dubai', '16/03/2020', 'APHO', '20/03/2020', 'Corporation', '']\n",
      "[]\n",
      "['', '153', 'Michael Samy Salvio Charles', '', '', '190 C1 15Th St Ex Service Man Colony Ponmalai Po Trichy', '9894080574', 'T0670113', 'Dubai', 'Dubai', 'Dubai', '16/03/2020', 'APHO', '20/03/2020', 'Corporation', '']\n",
      "['', '154', 'Hajnaber Ali Khan Ashfaq Abdullah', '', '', '66/67 Aalvar Thoppu Utpuram Thennur Trichy', '9791843652', 'P0942055', 'Dubai', 'Dubai', 'Dubai', '16/03/2020', 'APHO', '20/03/2020', 'Corporation', '']\n",
      "['', '155', 'Sheik Dawood Fathaullahsha', '', '', '29 Dharga St Khajamalai Trichy', '9003577314', 'P2034397', 'Dubai', 'Dubai', 'Dubai', '16/03/2020', 'APHO', '20/03/2020', 'Corporation', '']\n",
      "['', '156', 'Subramanian Mani', '', '', '65/1 Indain Bank Colony 2Nd St Trichy', '9894112999', 'Z2500831', 'Dubai', 'Dubai', 'Dubai', '16/03/2020', 'APHO', '20/03/2020', 'Corporation', '']\n",
      "['', '157', 'Nazar Basha Mohamed Meeran', '', '', '29A/24 Pookkollai Tharanallur Thanjavur Rd Trichy', '7092226908', 'P8438866', 'Dubai', 'Dubai', 'Dubai', '16/03/2020', 'APHO', '20/03/2020', 'Corporation', '']\n",
      "['', '158', 'Paramasivam Gunasekar', '', '', '43C Sathiya Ngr Thennur Trichy', '7358908669', 'S5236498', 'Dubai', 'Dubai', 'Dubai', '16/03/2020', 'APHO', '20/03/2020', 'Corporation', '']\n",
      "['', '159', 'Munisamy Poongavanam', '', '', '5 Viswas Ngr Ukt Malai Trichy', '9751957400', 'S2803163', 'Dubai', 'Dubai', 'Dubai', '16/03/2020', 'APHO', '20/03/2020', 'Corporation', '']\n",
      "['', '160', 'Balasubramanian Naveenan', '', '', '22/2C South Vellalar St Padamangalam Woraiyur Trichy', '7558162699', 'T1085664', 'Dubai', 'Dubai', 'Dubai', '16/03/2020', 'APHO', '20/03/2020', 'Corporation', '']\n",
      "['', '161', 'Dhanapal Muthamilselvi', '', '', '24E 6Th St Cross Muthumani Town Senthaneerpuram  Trichy', '7871808715', 'J9848759', 'Dubai', 'Dubai', 'Dubai', '16/03/2020', 'APHO', '20/03/2020', 'Corporation', '']\n",
      "['', '162', 'Maria Joseph Jerome', '', '', '718 Natrajan St Kk Nagar Trichy', '9443405205', 'Z3725468', 'Dubai', 'Dubai', 'Dubai', '16/03/2020', 'APHO', '20/03/2020', 'Corporation', '']\n",
      "['', '163', 'Ganesan Sathishkumar', '', '', '19 T V K Street Subramaniyapuram Tirchy', '9894388446', 'L1456201', 'Singapore', 'Singapore', 'Singapore', '16/03/2020', 'APHO', '20/03/2020', 'Corporation', '']\n",
      "[]\n",
      "['', '164', 'Annamalai Mahasree', '', '', '19 T V K Street Subramaniyapuram Trichy', '9894388446', 'N0747910', 'Singapore', 'Singapore', 'Singapore', '16/03/2020', 'APHO', '20/03/2020', 'Corporation', '']\n",
      "['', '165', 'Sathishkumar Gurubaran', '', '', '19 T V K Street Subramaniyapuram Trichy', '9894388446', 'U0004275', 'Singapore', 'Singapore', 'Singapore', '16/03/2020', 'APHO', '20/03/2020', 'Corporation', '']\n",
      "['', '166', 'Subramanian Deivasigamani', '', '', '2/187 2Nd St Kailash Nagar Kattar Trichy', '9894363161', 'N3389230', 'Singapore', 'Singapore', 'Singapore', '16/03/2020', 'APHO', '20/03/2020', 'Corporation', '']\n",
      "['', '167', 'Samy Moorthy', '', '', '40 Malaiyappan Nagar Moolai Thoppu Srirangam Trichy', '9715443341', 'K3929311', 'Singapore', 'Singapore', 'Singapore', '16/03/2020', 'APHO', '20/03/2020', 'Corporation', '']\n",
      "['', '168', 'Sitthan Siva', '', '', 'Annamalai Stores Pallivasal Back Side Jeeva Nagar Trichy', '9600252892', 'P1540597', 'Singapore', 'Singapore', 'Singapore', '16/03/2020', 'APHO', '20/03/2020', 'Corporation', '']\n",
      "['', '169', 'Sathyamoorthi Gayathri', '', '', '58 Malaiyappan Nagar Moolai Thoppu Srirangam Trichy', '8056657649', 'K2720875', 'Singapore', 'Singapore', 'Singapore', '16/03/2020', 'APHO', '20/03/2020', 'Corporation', '']\n",
      "['', '170', 'Subramanian Venkateswaran', '', '', '13/1 Plot No 59 4Th Cross Bharathi Nagar Puthur Trichy', '8939171265', 'Z4461614', 'Kuala Lumpur', 'Kuala Lumpur', 'Kuala Lumpur', '16/03/2020', 'APHO', '20/03/2020', 'Corporation']\n",
      "['', '171', 'Thangavel Shanmugam Subash Kumar', '', '', '56 Alli Street Vivekanand Nagar M K Kottai Trichy', '9698445307', 'K1958939', 'France', 'France', 'France', '16/03/2020', 'APHO', '20/03/2020', 'Corporation', '']\n",
      "['', '172', 'Sathishkumar Aegavarnan', '', '', '19 T V K Street Subramaniyapuram Trichy', '9894388446', 'S1577665', 'Singapore', 'Singapore', 'Singapore', '16/03/2020', 'APHO', '20/03/2020', 'Corporation', '']\n",
      "['', '173', 'Howrangazeeb Mustaq Ali', '', '', '29 Velters Nagar Tanjore Road Trichy', '9443456574', 'T2756291', 'Kuala Lumpur', 'Kuala Lumpur', 'Kuala Lumpur', '16/03/2020', 'APHO', '20/03/2020', 'Corporation', '']\n",
      "['', '174', 'Dhanasamy Anthony Britto', '', '', '44/43 Thiru Vk Street Sengikulandapiram Trichy', '9487740871', 'J2115923', 'Doha', 'Doha', 'Doha', '16/03/2020', 'APHO', '20/03/2020', 'Corporation', '']\n",
      "[]\n",
      "['', '175', 'KARTHIKUMAR', '', 'Male', '1/180- 9 B JEEVAN NAGAR UYYAKONDAN TIRUTCHURAPALLI', '', 'R8221541', '', 'MONROW USA', '', '20/3/2020', 'CHENNAI', '', 'Corporation', '']\n",
      "['', '176', 'MOHAN KUMAR RAMANI', '', 'Male', '1/180- 9 B JEEVAN NAGAR UYYAKONDAN TIRUTCHURAPALLI', '', 'R8221541', '', '', '', '20/3/2020', 'CHENNAI', '', 'Corporation', '']\n",
      "['', '177', 'GANESAN AKSHAAY KRISHNAN', '23', 'Male', '1A/5 11TH CROSS WEST THILLAI NAGAR TRICHY', '9655229899', 'P2434227', '', 'London', '', '17/3/2020', 'CHENNAI', '', 'Corporation', '']\n",
      "['', '178', 'MOHAMED CAAMIL', '24', 'Male', 'NO. 23 IIND ST ALPHA NAGAR KARUMANDAPAM TRICHY', '7708054321', 'M9887341', '', 'London', '', '17/3/2020', 'CHENNAI', '', 'Corporation', '']\n",
      "['', '179', 'RAJAMANI GURUKKAL KARTHICK', '31', 'Male', 'NO10 THILLAI NAGAR TRICHY 620018 TRICHY', '9944434200', 'L2571239', '', 'London', '', '17/3/2020', 'CHENNAI', '', 'Corporation', '']\n",
      "['', '180', 'RAJA CLIFTON SAM', '19', 'Male', 'TIRUCHIRAPPALLI URBAN', '9080141142', 'S2806450', '', 'BY-ROAD', '', '17/3/2020', 'HARIDASPUR', '', 'Corporation', '']\n",
      "['', '181', 'VADIVELU RENGANATHAN', '28', 'Male', '5/ASOUTH STREET VEEREASWARN TRICHY', '985656584', 'J0697441', '', 'Dubai', '', '17/3/2020', 'MUMBAI', '', 'Corporation', '']\n",
      "['', '182', 'SOMASUNDARAM UMAYAL', '71', 'Female', '56 RAJA PLAZA 10TH CROSS WEST ST THILLAI NAGAR', '9894764600', 'U6854499', '', 'Dubai', '', '17/3/2020', 'Trichy', '', 'Corporation', '']\n",
      "['', '183', 'SHREYA LAKSHMI', '12', 'Female', '1A RAMAMURTHI NAGAR ICHIKAMALAIPATTI SATHANOOR PO TRICHY', '9741292763', 'P3455129', '', 'Dubai', '', '17/3/2020', 'Trichy', '', 'Corporation', '']\n",
      "['', '184', 'SHAJAHAN ZAHIR ABBAS', '35', 'Male', '28/D24 7TH CROSS THILLAI NAGAR CITY - TRICHY', '9443702167', 'L2556042', '', 'Dubai', '', '17/3/2020', 'Trichy', '', 'Corporation', '']\n",
      "['', '185', 'NARAYANASAMY THULASIPRABU', '31', 'Male', 'MAIN ROAD KOTTAPALAYAM  TRICHY', '7397695952', 'P2853524', '', 'Dubai', '', '17/3/2020', 'Trichy', '', 'Corporation', '']\n",
      "[]\n",
      "['', '186', 'XAVIER SRINIVASAN JOTHIKENNEDY', '58', 'Male', '81 ST MARYS THYOPPU KILETHAR STREET TEPPAKULAM TRICHY', '9443649139', 'S2806586', '', 'Dubai', '', '17/3/2020', 'Trichy', '', 'Corporation', '']\n",
      "['', '187', 'JOTHI KENNEDY ROSALINE CHITRA', '53', 'Female', '81A MARIS THOPPU KILEDHAR STREET TRTICHY', '9994370529', 'N6948505', '', 'Dubai', '', '17/3/2020', 'Trichy', '', 'Corporation', '']\n",
      "['', '188', 'ANANTHAPADMANABHA USHA', '44', 'Female', '1A RAMAMURTHI NAGAR ICHIKAMALAIPATTI SATHANOOR PO Trichy', '9741292763', 'L9520208', '', 'Dubai', '', '17/3/2020', 'Trichy', '', 'Corporation', '']\n",
      "['', '189', 'ELIAS JOEL MART', '32', 'Male', '18/112 HEEBER ROAD BEEMANAGAR TRICHY', '9894782269', 'S2805755', '', 'Dubai', '', '17/3/2020', '', 'Trichy', 'Corporation', '']\n",
      "['', '190', 'MANICKAM KAMALAM', '64', 'Female', '28 BAJANAIKUDA ST HIRUDAYAPURAM PALAKARAI - TIRUCHY', '04312302830', 'J9857470', '', 'Dubai', '', '17/3/2020', 'Trichy', '', 'Corporation', '']\n",
      "['', '191', 'RAVI GEETHA VENKATESH', '27', 'Male', '23 8TH CROSS SRIKEERTI HOUSE RAMALINGA NAGAR SOUTH EXTN TRICHY', '9791660907', 'J3936999', '', 'Dubai', '', '17/3/2020', 'Trichy', '', 'Corporation', '']\n",
      "['', '192', 'AKBAR ALI ABDUL JAPPAR', '48', 'Male', '23/1 PALAKARAI CITY - TRICHY', '9688210393', 'L3682565', '', 'Dubai', '', '17/3/2020', '', 'Trichy', 'Corporation', '']\n",
      "['', '193', 'ANANDAN KRISHNAN', '47', 'Male', '41/ A RAGAMALIA BUILDING PATTABIRAMAN ST THENNUR TRICHY', '8668058076', 'T9363033', '', 'Dubai', '', '17/3/2020', 'Trichy', '', 'Corporation', '']\n",
      "['', '194', 'SUBRAMANIAN PADMANABAN', '42', 'Male', '49/11 KEELA PADAYACHI ST PALAKARAI CITY - TRICHY', '8124383805', 'P3103506', '', 'Dubai', '', '17/3/2020', 'Trichy', '', 'Corporation', '']\n",
      "['', '195', 'MURUGAPPA SOMASUNDARAM', '75', 'Male', '56 RAJA PLAZA 10TH CROSS WEST ST THILLAI NAGAR CITY - TRICHY', '9443851982', 'J3611493', '', 'Dubai', '', '17/3/2020', 'Trichy', '', 'Corporation', '']\n",
      "['', '196', 'PERIAYASAMY MURUGESAN', '49', 'Male', '2/43-B ADHITHIRAVIDAR ST NANAI KANNAM CITY - TRICHY', '9787432483', 'S0803064', '', 'Sharjah', '', '17/3/2020', 'Trichy', '', 'Corporation', '']\n",
      "[]\n",
      "['', '197', 'MOHAMED YASIR MOHAMED SAFIULLAH', '29', 'Male', '14TH CROSS KUMARAN NAGAR TRICHY', '9500619685', 'K2726880', '', 'Sharjah', '', '17/3/2020', 'Trichy', '', 'Corporation', ' ']\n",
      "['', '198', 'ABDUL AZIZ ELIAS AHAMED', '67', 'Male', '49 GENERAL BAZAR STREET TENNUR TRICHY', '9500305662', 'T3943391', '', 'Sharjah', '', '17/3/2020', 'Trichy', '', 'Corporation', '']\n",
      "['', '199', 'SULTHAN LIYAKATHALIKHAN', '62', 'Male', 'NO10 NEW NO 26 MEENKARA STREET THENNUR TRICHY', '9842040561', 'J2279347', '', 'Sharjah', '', '17/3/2020', 'Trichy', '', 'Corporation', '']\n",
      "['', '200', 'KRISHAN KUMAR SANJANA', '6', 'Female', 'NO38 BHARATHI NAGAR 4TH CROSS CRAWFORD TRICHY', '9486031670', 'N4380639', '', 'Sharjah', '', '17/3/2020', 'Trichy', '', 'Corporation', '']\n",
      "['', '201', 'KRISHAN KUMAR ARADHANA', '8', 'Female', 'NO38 BHARATHI NAGAR 4TH CROSS CRAWFORD TRICHY', '9486031670', 'R5754440', '', 'Sharjah', '', '17/3/2020', 'Trichy', '', 'Corporation', '']\n",
      "['', '202', 'ABDUL RAHIM LALU AHAMED', '46', 'Male', 'TF4-4C EB ROAD MAHARANI THEATER TRICHY', '9994554402', 'Z4978752', '', 'Sharjah', '', '17/3/2020', 'Trichy', '', 'Corporation', '']\n",
      "['', '203', 'SHAJAUDDIN MOHAMED JAILANI MOHAMED', '28', 'Male', '69 POONTHOTTAM ST PALAKKARAI PO TRICHY', '9842438032', 'J2283582', '', 'Sharjah', '', '17/3/2020', 'Trichy', '', 'Corporation', '']\n",
      "['', '204', 'POWNRAJ SENTHIL KUMAR', '40', 'Male', 'S V S ILLAM 2ND CAUVERY NAGAR MELACHINTHAMANI TRICHY', '9790236343', 'T4594817', '', 'Sharjah', '', '17/3/2020', 'Trichy', '', 'Corporation', '']\n",
      "['', '205', 'SAHUL HAMEED RAJAMOHAMMED', '28', 'Male', '14 28 KENNADY ST ARIYAMANGALAM TRICHY', '9789583454', 'M0051427', '', 'Sharjah', '', '17/3/2020', 'Trichy', '', 'Corporation', '']\n",
      "['', '206', 'KRISHAN KUMAR SHASHIREKHA', '36', 'Female', 'NO38 BHARATHI NAGAR 4TH CROSS CRAWFORD TRICHY', '9486031670', 'J8406730', '', 'Sharjah', '', '17/3/2020', 'Trichy', '', 'Corporation', '']\n",
      "['', '207', 'LIYAKATHALIKHAN PARISHA BEGUM', '53', 'Female', '10 MEENKARA STREET THENNUR TRICHY', '9842040561', 'J2279348', '', 'Sharjah', '', '17/3/2020', 'Trichy', '', 'Corporation', '']\n",
      "[]\n",
      "['', '208', 'FARITHULLA FATHIMA RIZWANA', '32', 'Female', '27 SANKAR NAGAR SANTIYAGO NAGAR EXTN UDAYANPATTI KK KK NAGAR PO TRICHY', '8608761159', 'R397O874', '', 'Sharjah', '', '17/3/2020', 'Trichy', '', 'Corporation', '']\n",
      "['', '209', 'FARITHULLA FARSHAD MUSTHAFA', '7', 'Male', 'SANKAR NAGAR SANTIYAGO NAGAR EXTN UDAYANPATTI KK KK NAGAR PO TRICHY', '8608161159', 'N5176235', '', 'Sharjah', '', '17/3/2020', 'Trichy', '', 'Corporation', '']\n",
      "['', '210', 'KAMASHIYA SIVAKUMAR', '53', 'Male', 'NO A3 SS APARTMENT AMMAYAPPA NAGAR - TRICHY', '9443412122', 'S2802409', '', 'Singapore', '', '17/3/2020', 'Trichy', '', 'Corporation', '']\n",
      "['', '211', 'SIVAKUMAR DHANALAKSHMI', '49', 'Female', 'NO A3 SS APARTMENT AMMAYAPPA NAGAR- TRICHY', '9443412122', 'S2802785', '', 'Singapore', '', '17/3/2020', 'Trichy', '', 'Corporation', '']\n",
      "['', '212', 'SAROJA ALRAJ', '62', 'Female', '159 12TH STREET EXSERVICEMEN COLONY PONMALAI  CITY - TRICHY', '9941354822', 'K3185661', '', 'Singapore', '', '17/3/2020', 'Trichy', '', 'Corporation', '']\n",
      "['', '213', 'SELVARAJU KARTHIKEYAN', '28', 'Male', '1/440 HOSPITAL ROAD KOTTAPALAYAM CITY - TRICHY', '9443598337', 'T3871067', '', 'Singapore', '', '17/3/2020', 'Trichy', '', 'Corporation', '']\n",
      "['', '214', 'MURUGESAN DARVIN', '27', 'Male', 'NO 105/B 5TH ST PERIYAR SALAI DHEERAN NAGAR CITY - TRICHY', '8675172378', 'P1380736', '', 'Doha', '', '17/3/2020', 'CHENNAI', '', 'Corporation', '']\n",
      "['', '215', 'SAMPATH MAHESWARAN', '32', 'Male', '45/3 F TYPE PONMALAI RAILWAY COLONY CITY - TRICHY', '9790707246', 'M1394596', '', 'Singapore', '', '17/3/2020', 'Trichy', '', 'Corporation', '']\n",
      "['', '216', 'SELVARAJ ANAND', '33', 'Male', 'G5 HI TECHKAPPARTMENT MAHALASMI NAGAR CITY - TRICHY', '9994048813', 'P6310391', '', 'Singapore', '', '17/3/2020', 'Trichy', '', 'Corporation', '']\n",
      "['', '217', 'GOVINDARAJ SANJEEV KUMAR', '21', 'Male', '59A INDIRA ST KEELAMBIKAPURAM CITY - TRICHY', '9080880082', 'R3493731', '', 'Singapore', '', '17/3/2020', 'CHENNAI', '', 'Corporation', '']\n",
      "['', '218', 'MOHAMED ABDUL KADER MOHAMED MARZOOK', '49', 'Male', 'HNO-100 DNM STORE KAYITHE MILLATH ROAD PALAKKARAI - PO TIRUCHIRAPPALLI', '9944146329', 'Z3946779', '', 'Colombo', '', '17/3/2020', 'CHENNAI', '', 'Corporation', '']\n",
      "[]\n",
      "['', '219', 'ABDULKASIM MOHAMED IQBAL', '35', 'Male', '19 ABULKALAM ASATH ST KAMARAJAR NAGAR ARIYAMANGALAM CITY - TRICHY', '7448781236', 'T5526451', '', 'Colombo', '', '17/3/2020', 'Trichy', '', 'Corporation', '']\n",
      "['', '220', 'MOHAMED HUSSAIN ABDUL WAHAB', '58', 'Male', '39 ALWAR THOPPEST PALAKARAI  CITY - TRICHY', '9746066230', 'Z5487439', '', 'Colombo', '', '17/3/2020', 'Trichy', '', 'Corporation', '']\n",
      "['', '221', 'ALIAR MOHAMED YUSUF KHAJAIZUDEEN', '33', 'Male', '113 JAIL ST PALAKKARAI CITY - TRICHY', '9994647317', 'N3034109', '', 'Colombo', '', '17/3/2020', 'Trichy', '', 'Corporation', '']\n",
      "['', '222', 'JAMES SAM JOHN ASER', '31', 'Male', '11/A5 NORTH ST MANNARPURAM CITY - TRICHY', '9003333562', 'P3101725', '', 'Colombo', '', '17/3/2020', 'Trichy', '', 'Corporation', '']\n",
      "['', '223', 'RAVI SATHYAVATHY', '50', 'Female', '10/1 RAMACHANDRAPURAM TENNUR CITY - TRICHY', '9715053030', 'M4579769', '', 'Colombo', '', '17/3/2020', 'Trichy', '', 'Corporation', '']\n",
      "['', '224', 'NARAYANASAMY SENTHILKUMAR', '48', 'Male', '3/5 NEHRUJI STREET MELA AMBIKA PUARAM CITY - TRICHY\"', '9994396870', 'Z5487815', '', 'Colombo', '', '17/3/2020', 'Trichy', '', 'Corporation', '']\n",
      "['', '225', 'KANDASAMY NEHRU', '52', 'Male', '49 ANAGALAMMAN KOIL STREET SEMBATTU CITY - TRICHY', '9442671086', 'K8705396', '', 'Colombo', '', '17/3/2020', 'Trichy', '', 'Corporation', '']\n",
      "['', '226', 'KUMBAKKONAM SRINIVASAN VENKATARAMAN', '47', 'Male', '19/34 SRI SUNDARA RAJ ACOLONY 2ND STREET CONTONMENT CITY - TRICHY', '8870298555', 'Z5822081', '', 'Colombo', '', '17/3/2020', 'Trichy', '', 'Corporation', '']\n",
      "['', '227', 'RAVI AISHWARYA', '24', 'Female', '10/1 RAMACHANDRAPURAM TENNUR CITY - TRICHY', '7339288842', 'T6578478', '', 'Colombo', '', '17/3/2020', 'Trichy', '', 'Corporation', '']\n",
      "['', '228', 'KANNAN KENNETH PRADEEP', '22', 'Male', '29/53 GREENS 3RD STREET BHARTI NAGAR CRAWFORD TRICHY TAMILNADU', '9597467858', 'S4936861', '', 'Hanoi', '', '17/3/2020', 'DELHI', '', 'Corporation', '']\n",
      "['', '229', 'MURUKESAN VENKATASWARAN', '46', 'Male', 'PLOT 26 SHRINIVAS DR NO 21 A I B E A NAGAR THIAGIGAL ROAD  CITY - TRICHY', '9860842691', 'Z5184421', '', 'Muscat', '', '17/3/2020', 'MUMBAI', '', 'Corporation', '']\n",
      "[]\n",
      "['', '230', 'GOPAL KANNAN', '', 'Male', 'NETHAJI ST TIRUCHY', '8220470368', '', 'SINGAPURE', '', '20/3/2020', 'CHENNAI', '', 'Corporation', '']\n",
      "['', '231', 'PRINCEANDEEN SATHEESH', '', 'Male', 'AMMAIYAPPAN NAGAR PUTHUR TIRUCHIRAPPALLI TAMIL NADU 620017', '', 'K9335097', 'DUBAI', '', '20/3/2020', 'CHENNAI', '', 'Corporation', '']\n",
      "['', '232', 'AMEER BASHA SHAGUL HAMEED', '', 'Male', '233 CHINNASAMY NAGAR TRICHY TAMIL NADU 620017', '', 'J1270921', 'DUBAI', '', '20/3/2020', 'CHENNAI', '', 'Corporation', '']\n",
      "['', '233', 'GODWIN IMMANUEL', '', 'Male', 'G20/76 ANNAI NAGAR 4 TH STREET PALAKARAJ TRICHY TAMIL NADU 620001', '', 'L6071978', 'DUBAI', '', '20/3/2020', 'CHENNAI', '', 'Corporation', '']\n",
      "['', '234', 'ASRAP ALI', '', 'Male', 'NETHAJI ST TIRUCHY', ' 8220470368', '', '', 'QATAR', '', '20/3/2020', 'CHENNAI', '', 'Corporation', '']\n",
      "['', '235', 'Venkatachalam Renukadevi', '', '', 'As Per Ppt Adress City - Trichy', '9842917070', 'K7813261', 'Dubai', 'Dubai', 'Dubai', '16/03/2020', 'APHO', '20/03/2020', 'Corporation', '']\n",
      "['', '236', 'Venkatachalam Rajamanikandan', '', '', 'As Per Ppt City - Trichy', '9865311540', 'N9523875', 'Dubai', 'Dubai', 'Dubai', '16/03/2020', 'APHO', '20/03/2020', 'Corporation', '']\n",
      "['', '237', 'Mohamed Ali Mohamed Farook', '', '', '1/2 5Th Cross Nmk Colony Tvs Toll Gate Trichy', '9942637834', 'L1433254', 'Doha', 'Doha', 'Doha', '16/03/2020', 'APHO', '20/03/2020', 'Corporation', '']\n",
      "['', '238', 'Velladurai Kalidasan', '', '', '34 Nallathanni Keni St E Pudur Po Tiruchi City - Trichy', '7305735194', 'T5514792', 'Singapore', 'Singapore', 'Singapore', '16/03/2020', 'APHO', '20/03/2020', 'Corporation', '']\n",
      "['', '239', 'Abdul Rahman Hareaf Jasser', '', '', '47/1 Alwarthoppu Inside Tennur City - Trichy', '9095555151', 'U4359813', 'Singapore', 'Singapore', 'Singapore', '16/03/2020', 'APHO', '20/03/2020', 'Corporation', '']\n",
      "['', '240', 'Subbaiah Kanakasundaram', '', '', 'Thirumalai Samuthiram K Sathanoor Po Kk Nagar Trichy', '8754848030', 'M8985831', 'Singapore', 'Singapore', 'Singapore', '16/03/2020', 'APHO', '20/03/2020', 'Corporation', '']\n",
      "[]\n",
      "['', '241', 'Packrisamy Kani Murugan', '', '', '12B Nmk Colony 1St Cross St Tvs Tollgate Trichy', '9080198121', 'T6707798', 'Singapore', 'Singapore', 'Singapore', '16/03/2020', 'APHO', '20/03/2020', 'Corporation', '']\n",
      "['', '242', 'MOHAMED IBRAHIM BARKATH ALI', '41', 'Male', '3/B NATHARSHA PALLIVASAL STREET TIRUCHIRAPPALLI URBAN 620008 TIRUCHIRAPALLI', '9942863372', 'S8422529', 'Dubai Intl', 'Dubai Intl', 'Dubai Intl', '15/03/2020', 'APHO', '20/03/2020', 'Corporation', '']\n",
      "['', '243', 'KARIKALI SUNDARARAJU GIRIPRASANTH', '19', 'Male', 'HAOSE NO. 1/23 NORTH(VADUKAR) STREET KARIKALI MUSIRI TK TIRUCHIRAPPALLI RURAL 621210 TIRUCHIRAPPALLI RURAL', '9940833206', 'S2803382', 'Malysia', 'Malysia', 'Malysia', '15/03/2020', 'APHO', '20/03/2020', 'Corporation', '']\n",
      "['', '244', 'ABDUL WAHAB ZAKIR HUSSAIN', '52', 'Male', '13E 45 KRISHNAN KOVIL ST BEENAGAR CITY - THRICHY', '8508051016', 'U2051498', 'Malysia', 'Malysia', 'Malysia', '15/03/2020', 'APHO', '20/03/2020', 'Corporation', '']\n",
      "['', '245', 'ARIYATHAS TOMMY DENOLD', '37', 'Male', '3 NEHRU NAGAR BHARRATHINAGAR K SATHANUR TRICHY', '7708839504', 'R7405634', 'Malysia', 'Malysia', 'Malysia', '15/03/2020', 'APHO', '20/03/2020', 'Corporation', '']\n",
      "['', '246', 'Alamelumangai', '67', 'Female', '72 Crawford Colony main road e.puthur Trichy', '9524685151', 'S1569014', 'Abudhabi UAE', 'Abudhabi UAE', 'Abudhabi UAE', '20/03/2020', 'APHO', '20/03/2020', 'Corporation', '']\n",
      "['', '247', 'Malathi Jayaram', '66', 'Female', 'C1 C62A 10thcross thillai nagar Trichy', '9442026513', 'L6464413', 'Abudhabi', 'Abudhabi', 'Abudhabi', '21/03/2020', 'APHO', '20/03/2020', 'Corporation', '']\n",
      "['', '248', 'Nilakanta Jayaram', '74', 'Male', 'C1 C62A 10thcross thillai nagar Trichy', '9442026513', 'L4674667', 'Abudhabi', 'Abudhabi', 'Abudhabi', '21/03/2020', 'APHO', '20/03/2020', 'Corporation', '']\n",
      "['', '249', 'Sambandam', '70', 'Male', '72 Crawford Colony main road e.puthur Trichy', '9524685151', 'S1569295', 'Dubai', 'Dubai', 'Dubai', '21/03/2020', 'APHO', '20/03/2020', 'Corporation', '']\n",
      "['', '250', 'Razia', '61', 'Male', '10A padugai main road Ramachandra nagar e.puthur Trichy', '9965108956', 'K1948968', 'Dubai', 'Dubai', 'Dubai', '20/03/2020', 'APHO', '20/03/2020', 'Corporation', '']\n",
      "['', '251', 'Basha', '55', 'Male', '4th Muslim Street Crawford Trichy', '9787653709', 'L6620795', 'Dubai', 'Dubai', 'Dubai', '21/03/2020', 'APHO', '20/03/2020', 'Corporation', '']\n",
      "[]\n",
      "['', '252', 'Mustafa ahamed', '66', 'Male', '10A padugai main road Ramachandra nagar e.puthur Trichy', '9965108956', 'K1951794', 'Dubai', 'Dubai', 'Dubai', '20/03/2020', 'APHO', '20/03/2020', 'Corporation', '']\n",
      "['', '253', 'SHAHUPATTANI SHAHUL HAMEED', '61', 'Male', '42/59-159 KUTHBISHNAGAR TENNUR CITY - TRICHY', '9444182078', 'Z5488691', 'Singapore', 'Singapore', 'Singapore', '16/03/2020', 'APHO', '20/03/2020', 'Corporation', '']\n",
      "['', '254', 'JOHNSON GREGORY JOYNAR', '22', 'Female', 'JAYALAKSHMI NAGAR K.K.NAGAR 1ST ST CITY - TIRUCHY', '9884683052', 'M3118007', 'Singapore', 'Singapore', 'Singapore', '16/03/2020', 'APHO', '20/03/2020', 'Corporation', '']\n",
      "['', '255', 'MALLIGA KRISHNAMOORTHY', '58', 'Female', 'MALLIGAI ST EZHIL NAGAR CITY - TRICHYT', '9994561643', 'P0611629', 'Singapore', 'Singapore', 'Singapore', '16/03/2020', 'APHO', '20/03/2020', 'Corporation', '']\n",
      "['', '256', 'HOHAMED AYOOB MOHAMMED YASEER ARAFATH', '31', 'Male', '12 IBRAHIM NAGAR TRICHY CITY - TRICHY', '9443141965', 'R3507185', 'SriLankan', 'SriLankan', 'SriLankan', '16/03/2020', 'APHO', '20/03/2020', 'Corporation', '']\n",
      "['', '257', 'SARANGARAJA NEHARIKA', '4', 'Female', '25/22 3RD FLOOR G 10 A WEST CR9SS THILLAINAGAR  CITY - THIRCHY', '9176091863', 'N9640775', 'SriLankan', 'SriLankan', 'SriLankan', '16/03/2020', 'APHO', '20/03/2020', 'Corporation', '']\n",
      "['', '258', 'SYED MUSTHAFA ABDUL RASHEED', '34', 'Male', '17/6 ABDUL KALAM AZAD ST ARIYAMANGALAM CITY - TRICHY', '7502279300', 'P8442788', 'SriLankan', 'SriLankan', 'SriLankan', '16/03/2020', 'APHO', '20/03/2020', 'Corporation', '']\n",
      "['', '259', 'NARASIMHAN PRATHIBHA CHITRALAYA', '35', 'Female', '25/22 3RD FLOOR G 10 A WEST CR9SS  THILLAINAGAR  CITY - TRICHY', '9176091863', 'K7810232', 'SriLankan', 'SriLankan', 'SriLankan', '16/03/2020', 'APHO', '20/03/2020', 'Corporation', '']\n",
      "['', '260', 'KRISHNAN VENUGOPAL', '69', 'Male', '7/3 THAYUMANAVAR ST AYYAPPANAGAR K SATHANUR CITY - TRICHY', '9443837831', 'L3667760', 'SriLankan', 'SriLankan', 'SriLankan', '16/03/2020', 'APHO', '20/03/2020', 'Corporation', '']\n",
      "['', '261', 'SARANGARAJA MADHAV KRISHNA', '7', 'Male', '25/22 3RD FLOOR G 10 A WEST CROSS  THILLAINAGAR  CITY - THIRCHY', '9176091863', 'S6652262', 'SriLankan', 'SriLankan', 'SriLankan', '16/03/2020', 'APHO', '20/03/2020', 'Corporation', '']\n",
      "['', '262', 'SIVAKUMAR SAGARIKKA', '19', 'Female', 'C112 5TH CROSS OPP TO NILGIRIS THILLAINAGAR TRICKY TAMIL NADU 620018 CITY - TRICHY', '9790064242', 'S1548637', 'London Heathrow', 'London Heathrow', 'London Heathrow', '16/03/2020', 'APHO', '20/03/2020', 'Corporation', '']\n",
      "[]\n",
      "['', '263', 'RATNAM PAUL MOSES CHRISTUDOSS', '42', 'Male', '55KONAKACAI ROAD WORAIYUP  CITY - TRICHY\"', '9842450961', 'P8779930', 'Muscat ', 'Muscat ', 'Muscat ', '16/03/2020', 'APHO', '20/03/2020', 'Corporation', '']\n",
      "['', '264', 'DEJOVIDANGA GURUKKAL SIVASUBRAMANIAN', '30', 'Male', 'OLD NO.3 NEW NO.1 PERIYACHETTY STREET TRITURAPALLI.621601 CITY - TRITURAPALLI', '9443835638', 'J0691149', 'Muscat', 'Muscat', 'Muscat', '16/03/2020', 'APHO', '20/03/2020', 'Corporation', '']\n",
      "['', '265', 'MATHARSA NASAR', '38', 'Male', 'GROUND FLOOR G3 TRV ENCLAVE 25/41 PUTHUR AGRAHARAM CITY - TIRICHIRAPPALI', '9597718948', 'K2090122', 'Muscat', 'Muscat', 'Muscat', '16/03/2020', 'APHO', '20/03/2020', 'Corporation', '']\n",
      "['', '266', 'SRINIVASAN RAMANUJAM', '47', 'Male', 'GROUND FLOOR G3 T.R.V ENCLAVE 25/41 PUTHUR AGRAHARAM CITY - THIRICHIRAPPALI', '9578859233', 'Z2914051', 'Muscat', 'Muscat', 'Muscat', '16/03/2020', 'APHO', '20/03/2020', 'Corporation', '']\n",
      "['', '267', 'MICHAEL ANTONY DEVASAGAYAM RAVINDRAN', '64', 'Male', '54C MARUTHAM COLONY PUTHUR CITY - TRICHY', '9994466500', 'Z3553938', 'Muscat', 'Muscat', 'Muscat', '16/03/2020', 'APHO', '20/03/2020', 'Corporation', '']\n",
      "['', '268', 'LEO PHILOMEN NIRMAL', '66', 'Male', '3 BETHEL GARDENS JOSEPH AVENUE TSA NAGAR CRAWFORT TRICHI TAMILNADU CITY - TRICHI TAMILNADU', '9443151748', 'S8428805', 'Muscat', 'Muscat', 'Muscat', '16/03/2020', 'APHO', '20/03/2020', 'Corporation', '']\n",
      "['', '269', 'Hajumohidem', '47', 'Male', '1/228 Barathi st Trichy', '8870345699', 'K0858439', 'Sharjah', 'Sharjah', 'Sharjah', '19/03/2020', 'APHO', '20/03/2020', 'Corporation', '']\n",
      "['', '270', 'PARAMASIVAM PRAKASH', '27', 'Male', 'ANNA NAGAR SANGILIYANNDAPURAM CITY - TRICHY', '9894731270', 'J9849113', 'Singapore', 'Singapore', 'Singapore', '17/03/2020', 'APHO', '20/03/2020', 'Corporation', '']\n",
      "['', '271', 'JOSEPH SAVARIYAR VINCENTRAJ', '20', 'Male', 'NO 47KARU MARIYAMMAN KOIL STREET TRICHI RURAL TN 620022 CITY - TRICY RURAL', '9786876814', 'N6945672', 'Maldives', 'Maldives', 'Maldives', '17/03/2020', 'APHO', '20/03/2020', 'Corporation', '']\n",
      "['', '272', 'RAJU VIJAYALAKSHMI', '52', 'Female', 'NO:16 SECOND STREET GUKULNAGAR KATTUR POST THIRUVERUMBUR TK TIRUCHIRAPALLI RURAL PIN 620019', '9443179398/9443179398', 'T6079783', 'Malysia', 'Malysia', 'Malysia', '17/03/2020', 'APHO', '20/03/2020', 'Corporation', '']\n",
      "['', '273', 'KAJA MOHIDEEN SHEIK MOHAMED', '34', 'Male', '28/18 AMBARSHA PALLIVASAL ST PALAKARAI CITY - TRICHY', '9750778442', 'M1106448', 'Malysia', 'Malysia', 'Malysia', '17/03/2020', 'APHO', '20/03/2020', 'Corporation', '']\n",
      "[]\n",
      "['', '274', 'UMAPATHY JAYA SUTHA', '44', 'Female', '4/239 SAKTHI NAGAR TRICHY', '9942147313', 'U2280177', 'Malysia', 'Malysia', 'Malysia', '17/03/2020', 'APHO', '20/03/2020', 'Corporation', '']\n",
      "['', '275', 'NATARAJAN SHYAMALA', '40', 'Female', 'G1 KANNIKA NIWAS NO6 VARADHACHARY STREET TRICHY TN 6 TRICHY', '9442775228', 'L4557669', 'New Delhi', 'New Delhi', 'New Delhi', '17/03/2020', 'APHO', '20/03/2020', 'Corporation', '']\n",
      "['', '276', 'GOVINDAN ARUN', '37', 'Male', 'G1 KANNIKA NIWAS NO 6 VARADHACHARY STREET TRICHY TN 6  CITY - TRICHY', '9442775228', 'L4558884', 'New Delhi', 'New Delhi', 'New Delhi', '17/03/2020', 'APHO', '20/03/2020', 'Corporation', '']\n"
     ]
    }
   ],
   "source": [
    "#Read the corona.txt file\n",
    "fname =\"corona2.txt\"\n",
    "\n",
    "with open(fname,'r')as f:\n",
    "    data_reader =csv.reader(f, delimiter=',')\n",
    "    header =next(data_reader)\n",
    "    print(\"Header:\"+str(header)+\"\\n\")\n",
    "    \n",
    "    for line in data_reader:\n",
    "        print(line)"
   ]
  },
  {
   "cell_type": "code",
   "execution_count": 272,
   "metadata": {},
   "outputs": [],
   "source": [
    "#Create the dataframe\n",
    "df =pd.read_csv(\"corona2.txt\",index_col='SlNo')"
   ]
  },
  {
   "cell_type": "code",
   "execution_count": 273,
   "metadata": {},
   "outputs": [],
   "source": [
    "#Remove the dummy datas\n",
    "del df['Unnamed: 0']\n",
    "del df['Unnamed: 15']"
   ]
  },
  {
   "cell_type": "code",
   "execution_count": 274,
   "metadata": {},
   "outputs": [
    {
     "data": {
      "text/html": [
       "<div>\n",
       "<style scoped>\n",
       "    .dataframe tbody tr th:only-of-type {\n",
       "        vertical-align: middle;\n",
       "    }\n",
       "\n",
       "    .dataframe tbody tr th {\n",
       "        vertical-align: top;\n",
       "    }\n",
       "\n",
       "    .dataframe thead th {\n",
       "        text-align: right;\n",
       "    }\n",
       "</style>\n",
       "<table border=\"1\" class=\"dataframe\">\n",
       "  <thead>\n",
       "    <tr style=\"text-align: right;\">\n",
       "      <th></th>\n",
       "      <th>Name</th>\n",
       "      <th>Age</th>\n",
       "      <th>Sex</th>\n",
       "      <th>Address</th>\n",
       "      <th>Contact Number</th>\n",
       "      <th>Passport Number</th>\n",
       "      <th>Traceable</th>\n",
       "      <th>Country of Visit</th>\n",
       "      <th>Province</th>\n",
       "      <th>Date of Arrival from Affected Country</th>\n",
       "      <th>Airport</th>\n",
       "      <th>Date of Receipt of Information</th>\n",
       "      <th>Block Name</th>\n",
       "    </tr>\n",
       "    <tr>\n",
       "      <th>SlNo</th>\n",
       "      <th></th>\n",
       "      <th></th>\n",
       "      <th></th>\n",
       "      <th></th>\n",
       "      <th></th>\n",
       "      <th></th>\n",
       "      <th></th>\n",
       "      <th></th>\n",
       "      <th></th>\n",
       "      <th></th>\n",
       "      <th></th>\n",
       "      <th></th>\n",
       "      <th></th>\n",
       "    </tr>\n",
       "  </thead>\n",
       "  <tbody>\n",
       "    <tr>\n",
       "      <th>1</th>\n",
       "      <td>SEKAR RANGANATHAN</td>\n",
       "      <td>31.0</td>\n",
       "      <td>Male</td>\n",
       "      <td>M BLOCK SFL PRIYA SUNDARSHAN APTS SRIRANGAM TR...</td>\n",
       "      <td>9994920030</td>\n",
       "      <td>T9264570</td>\n",
       "      <td>Yes</td>\n",
       "      <td>SOUTH KOREA</td>\n",
       "      <td>South Korea</td>\n",
       "      <td>01/03/2020</td>\n",
       "      <td>Chennai</td>\n",
       "      <td>01/03/2020</td>\n",
       "      <td>Corporation</td>\n",
       "    </tr>\n",
       "    <tr>\n",
       "      <th>2</th>\n",
       "      <td>SURESH</td>\n",
       "      <td>44.0</td>\n",
       "      <td>Male</td>\n",
       "      <td>72 SANTHOSE NAGAR MK KOTTAI POST TRICHY TN-620011</td>\n",
       "      <td>9941427331/9941717052</td>\n",
       "      <td>J3722053</td>\n",
       "      <td>Yes</td>\n",
       "      <td>SOUTH KOREA</td>\n",
       "      <td>South Korea</td>\n",
       "      <td>01/03/2020</td>\n",
       "      <td>Chennai</td>\n",
       "      <td>01/03/2020</td>\n",
       "      <td>Corporation</td>\n",
       "    </tr>\n",
       "    <tr>\n",
       "      <th>3</th>\n",
       "      <td>RAMASWAMY PRAKASH</td>\n",
       "      <td>29.0</td>\n",
       "      <td>Male</td>\n",
       "      <td>S/oSathsivam 32/21 Nadu Thuvankarasi TRICHY-62...</td>\n",
       "      <td>9003757474</td>\n",
       "      <td>J9849153</td>\n",
       "      <td>Yes</td>\n",
       "      <td>NaN</td>\n",
       "      <td>CHINA</td>\n",
       "      <td>01/03/2020</td>\n",
       "      <td>Chennai</td>\n",
       "      <td>01/03/2020</td>\n",
       "      <td>Corporation</td>\n",
       "    </tr>\n",
       "    <tr>\n",
       "      <th>4</th>\n",
       "      <td>Selvam praveen kumar</td>\n",
       "      <td>20.0</td>\n",
       "      <td>Male</td>\n",
       "      <td>1 reddi st beema nagar Trichy</td>\n",
       "      <td>9443440108</td>\n",
       "      <td>P8438413</td>\n",
       "      <td>Yes</td>\n",
       "      <td>NaN</td>\n",
       "      <td>Japan</td>\n",
       "      <td>03/03/2020</td>\n",
       "      <td>Trichy</td>\n",
       "      <td>04/03/2020</td>\n",
       "      <td>Corporation</td>\n",
       "    </tr>\n",
       "    <tr>\n",
       "      <th>5</th>\n",
       "      <td>Shanthi kumari</td>\n",
       "      <td>44.0</td>\n",
       "      <td>Female</td>\n",
       "      <td>53b chinnasetty Trichy</td>\n",
       "      <td>9842131877</td>\n",
       "      <td>A40803232</td>\n",
       "      <td>Yes</td>\n",
       "      <td>NaN</td>\n",
       "      <td>South Korea</td>\n",
       "      <td>04/03/2020</td>\n",
       "      <td>Trichy</td>\n",
       "      <td>05/03/2020</td>\n",
       "      <td>Corporation</td>\n",
       "    </tr>\n",
       "  </tbody>\n",
       "</table>\n",
       "</div>"
      ],
      "text/plain": [
       "                      Name   Age     Sex  \\\n",
       "SlNo                                       \n",
       "1        SEKAR RANGANATHAN  31.0    Male   \n",
       "2                   SURESH  44.0    Male   \n",
       "3        RAMASWAMY PRAKASH  29.0    Male   \n",
       "4     Selvam praveen kumar  20.0    Male   \n",
       "5           Shanthi kumari  44.0  Female   \n",
       "\n",
       "                                                Address  \\\n",
       "SlNo                                                      \n",
       "1     M BLOCK SFL PRIYA SUNDARSHAN APTS SRIRANGAM TR...   \n",
       "2     72 SANTHOSE NAGAR MK KOTTAI POST TRICHY TN-620011   \n",
       "3     S/oSathsivam 32/21 Nadu Thuvankarasi TRICHY-62...   \n",
       "4                         1 reddi st beema nagar Trichy   \n",
       "5                                53b chinnasetty Trichy   \n",
       "\n",
       "             Contact Number Passport Number Traceable Country of Visit  \\\n",
       "SlNo                                                                     \n",
       "1                9994920030        T9264570       Yes      SOUTH KOREA   \n",
       "2     9941427331/9941717052        J3722053       Yes      SOUTH KOREA   \n",
       "3                9003757474        J9849153       Yes              NaN   \n",
       "4                9443440108        P8438413       Yes              NaN   \n",
       "5                9842131877       A40803232       Yes              NaN   \n",
       "\n",
       "         Province Date of Arrival from Affected Country  Airport  \\\n",
       "SlNo                                                               \n",
       "1     South Korea                            01/03/2020  Chennai   \n",
       "2     South Korea                            01/03/2020  Chennai   \n",
       "3           CHINA                            01/03/2020  Chennai   \n",
       "4           Japan                            03/03/2020   Trichy   \n",
       "5     South Korea                            04/03/2020   Trichy   \n",
       "\n",
       "     Date of Receipt of Information   Block Name  \n",
       "SlNo                                              \n",
       "1                        01/03/2020  Corporation  \n",
       "2                        01/03/2020  Corporation  \n",
       "3                        01/03/2020  Corporation  \n",
       "4                        04/03/2020  Corporation  \n",
       "5                        05/03/2020  Corporation  "
      ]
     },
     "execution_count": 274,
     "metadata": {},
     "output_type": "execute_result"
    }
   ],
   "source": [
    "df.head(5)"
   ]
  },
  {
   "cell_type": "code",
   "execution_count": 314,
   "metadata": {},
   "outputs": [
    {
     "data": {
      "text/plain": [
       "array(['01/03/2020', '03/03/2020', '04/03/2020', '05/03/2020',\n",
       "       '06/03/2020', '07/03/2020', '08/03/2020', '09/03/2020',\n",
       "       '10/03/2020', '26/02/2020', '27/02/2020', '02/03/2020',\n",
       "       '12/03/2020', '13/03/2020', '14/03/2020', '16/03/2020',\n",
       "       '17/03/2020', '18/03/2020', '19/03/2020', '20/3/2020', '17/3/2020',\n",
       "       'CHENNAI', '15/03/2020', '20/03/2020', '21/03/2020'], dtype=object)"
      ]
     },
     "execution_count": 314,
     "metadata": {},
     "output_type": "execute_result"
    }
   ],
   "source": [
    "df['Date of Arrival from Affected Country'].unique()"
   ]
  },
  {
   "cell_type": "code",
   "execution_count": 275,
   "metadata": {},
   "outputs": [
    {
     "data": {
      "text/plain": [
       "Name                                      object\n",
       "Age                                      float64\n",
       "Sex                                       object\n",
       "Address                                   object\n",
       "Contact Number                            object\n",
       "Passport Number                           object\n",
       "Traceable                                 object\n",
       "Country of Visit                          object\n",
       "Province                                  object\n",
       "Date of Arrival from Affected Country     object\n",
       "Airport                                   object\n",
       "Date of Receipt of Information            object\n",
       "Block Name                                object\n",
       "dtype: object"
      ]
     },
     "execution_count": 275,
     "metadata": {},
     "output_type": "execute_result"
    }
   ],
   "source": [
    "df.dtypes"
   ]
  },
  {
   "cell_type": "code",
   "execution_count": 276,
   "metadata": {},
   "outputs": [
    {
     "data": {
      "text/plain": [
       "(276, Name                                     276\n",
       " Age                                      186\n",
       " Sex                                      203\n",
       " Address                                  276\n",
       " Contact Number                           265\n",
       " Passport Number                          270\n",
       " Traceable                                220\n",
       " Country of Visit                         225\n",
       " Province                                 220\n",
       " Date of Arrival from Affected Country    276\n",
       " Airport                                  270\n",
       " Date of Receipt of Information           221\n",
       " Block Name                               272\n",
       " dtype: int64)"
      ]
     },
     "execution_count": 276,
     "metadata": {},
     "output_type": "execute_result"
    }
   ],
   "source": [
    "len(df),df.count()"
   ]
  },
  {
   "cell_type": "code",
   "execution_count": 277,
   "metadata": {},
   "outputs": [
    {
     "name": "stdout",
     "output_type": "stream",
     "text": [
      "<class 'pandas.core.frame.DataFrame'>\n",
      "Int64Index: 276 entries, 1 to 276\n",
      "Data columns (total 13 columns):\n",
      "Name                                     276 non-null object\n",
      "Age                                      186 non-null float64\n",
      "Sex                                      203 non-null object\n",
      "Address                                  276 non-null object\n",
      "Contact Number                           265 non-null object\n",
      "Passport Number                          270 non-null object\n",
      "Traceable                                220 non-null object\n",
      "Country of Visit                         225 non-null object\n",
      "Province                                 220 non-null object\n",
      "Date of Arrival from Affected Country    276 non-null object\n",
      "Airport                                  270 non-null object\n",
      "Date of Receipt of Information           221 non-null object\n",
      "Block Name                               272 non-null object\n",
      "dtypes: float64(1), object(12)\n",
      "memory usage: 30.2+ KB\n"
     ]
    }
   ],
   "source": [
    "df.info()"
   ]
  },
  {
   "cell_type": "code",
   "execution_count": 278,
   "metadata": {},
   "outputs": [
    {
     "data": {
      "text/html": [
       "<div>\n",
       "<style scoped>\n",
       "    .dataframe tbody tr th:only-of-type {\n",
       "        vertical-align: middle;\n",
       "    }\n",
       "\n",
       "    .dataframe tbody tr th {\n",
       "        vertical-align: top;\n",
       "    }\n",
       "\n",
       "    .dataframe thead th {\n",
       "        text-align: right;\n",
       "    }\n",
       "</style>\n",
       "<table border=\"1\" class=\"dataframe\">\n",
       "  <thead>\n",
       "    <tr style=\"text-align: right;\">\n",
       "      <th></th>\n",
       "      <th>Age</th>\n",
       "    </tr>\n",
       "  </thead>\n",
       "  <tbody>\n",
       "    <tr>\n",
       "      <th>count</th>\n",
       "      <td>186.000000</td>\n",
       "    </tr>\n",
       "    <tr>\n",
       "      <th>mean</th>\n",
       "      <td>37.333333</td>\n",
       "    </tr>\n",
       "    <tr>\n",
       "      <th>std</th>\n",
       "      <td>16.944318</td>\n",
       "    </tr>\n",
       "    <tr>\n",
       "      <th>min</th>\n",
       "      <td>2.000000</td>\n",
       "    </tr>\n",
       "    <tr>\n",
       "      <th>25%</th>\n",
       "      <td>26.000000</td>\n",
       "    </tr>\n",
       "    <tr>\n",
       "      <th>50%</th>\n",
       "      <td>34.000000</td>\n",
       "    </tr>\n",
       "    <tr>\n",
       "      <th>75%</th>\n",
       "      <td>49.000000</td>\n",
       "    </tr>\n",
       "    <tr>\n",
       "      <th>max</th>\n",
       "      <td>81.000000</td>\n",
       "    </tr>\n",
       "  </tbody>\n",
       "</table>\n",
       "</div>"
      ],
      "text/plain": [
       "              Age\n",
       "count  186.000000\n",
       "mean    37.333333\n",
       "std     16.944318\n",
       "min      2.000000\n",
       "25%     26.000000\n",
       "50%     34.000000\n",
       "75%     49.000000\n",
       "max     81.000000"
      ]
     },
     "execution_count": 278,
     "metadata": {},
     "output_type": "execute_result"
    }
   ],
   "source": [
    "df.describe()"
   ]
  },
  {
   "cell_type": "code",
   "execution_count": 279,
   "metadata": {},
   "outputs": [
    {
     "data": {
      "text/plain": [
       "Name                                                  ABDUL AZIZ ELIAS AHAMED\n",
       "Age                                                                         2\n",
       "Address                                   Gounderthope Melachinthamani Trichy\n",
       "Date of Arrival from Affected Country                              01/03/2020\n",
       "dtype: object"
      ]
     },
     "execution_count": 279,
     "metadata": {},
     "output_type": "execute_result"
    }
   ],
   "source": [
    "df.min()"
   ]
  },
  {
   "cell_type": "code",
   "execution_count": 280,
   "metadata": {},
   "outputs": [
    {
     "data": {
      "text/plain": [
       "Name                                                        XAVIER SRINIVASAN JOTHIKENNEDY\n",
       "Age                                                                                     81\n",
       "Address                                  no:72 anna salai 8th cross kailash nagar ARIYA...\n",
       "Date of Arrival from Affected Country                                              CHENNAI\n",
       "dtype: object"
      ]
     },
     "execution_count": 280,
     "metadata": {},
     "output_type": "execute_result"
    }
   ],
   "source": [
    "df.max()"
   ]
  },
  {
   "cell_type": "code",
   "execution_count": 285,
   "metadata": {},
   "outputs": [
    {
     "data": {
      "text/html": [
       "<div>\n",
       "<style scoped>\n",
       "    .dataframe tbody tr th:only-of-type {\n",
       "        vertical-align: middle;\n",
       "    }\n",
       "\n",
       "    .dataframe tbody tr th {\n",
       "        vertical-align: top;\n",
       "    }\n",
       "\n",
       "    .dataframe thead th {\n",
       "        text-align: right;\n",
       "    }\n",
       "</style>\n",
       "<table border=\"1\" class=\"dataframe\">\n",
       "  <thead>\n",
       "    <tr style=\"text-align: right;\">\n",
       "      <th></th>\n",
       "      <th>Age</th>\n",
       "    </tr>\n",
       "  </thead>\n",
       "  <tbody>\n",
       "    <tr>\n",
       "      <th>Age</th>\n",
       "      <td>1.0</td>\n",
       "    </tr>\n",
       "  </tbody>\n",
       "</table>\n",
       "</div>"
      ],
      "text/plain": [
       "     Age\n",
       "Age  1.0"
      ]
     },
     "execution_count": 285,
     "metadata": {},
     "output_type": "execute_result"
    }
   ],
   "source": [
    "df.corr()"
   ]
  },
  {
   "cell_type": "code",
   "execution_count": 286,
   "metadata": {
    "scrolled": true
   },
   "outputs": [
    {
     "data": {
      "text/plain": [
       "SlNo\n",
       "1      False\n",
       "2      False\n",
       "3      False\n",
       "4      False\n",
       "5      False\n",
       "6      False\n",
       "7      False\n",
       "8      False\n",
       "9      False\n",
       "10     False\n",
       "11     False\n",
       "12     False\n",
       "13     False\n",
       "14     False\n",
       "15     False\n",
       "16     False\n",
       "17     False\n",
       "18     False\n",
       "19     False\n",
       "20     False\n",
       "21     False\n",
       "22     False\n",
       "23     False\n",
       "24     False\n",
       "25     False\n",
       "26     False\n",
       "27     False\n",
       "28     False\n",
       "29     False\n",
       "30     False\n",
       "       ...  \n",
       "247    False\n",
       "248    False\n",
       "249    False\n",
       "250    False\n",
       "251    False\n",
       "252    False\n",
       "253    False\n",
       "254    False\n",
       "255    False\n",
       "256    False\n",
       "257    False\n",
       "258    False\n",
       "259    False\n",
       "260    False\n",
       "261    False\n",
       "262    False\n",
       "263    False\n",
       "264    False\n",
       "265    False\n",
       "266    False\n",
       "267    False\n",
       "268    False\n",
       "269    False\n",
       "270    False\n",
       "271    False\n",
       "272    False\n",
       "273    False\n",
       "274    False\n",
       "275    False\n",
       "276    False\n",
       "Name: Age, Length: 276, dtype: bool"
      ]
     },
     "execution_count": 286,
     "metadata": {},
     "output_type": "execute_result"
    }
   ],
   "source": [
    "df['Age'].isna()"
   ]
  },
  {
   "cell_type": "code",
   "execution_count": 287,
   "metadata": {},
   "outputs": [],
   "source": [
    "sample=df['Age'].dropna()"
   ]
  },
  {
   "cell_type": "code",
   "execution_count": 288,
   "metadata": {},
   "outputs": [],
   "source": [
    "Age=sample.astype('int')"
   ]
  },
  {
   "cell_type": "code",
   "execution_count": 289,
   "metadata": {},
   "outputs": [
    {
     "data": {
      "text/plain": [
       "dtype('int32')"
      ]
     },
     "execution_count": 289,
     "metadata": {},
     "output_type": "execute_result"
    }
   ],
   "source": [
    "Age.dtype"
   ]
  },
  {
   "cell_type": "code",
   "execution_count": 291,
   "metadata": {
    "scrolled": true
   },
   "outputs": [
    {
     "data": {
      "image/png": "[encoded data removed]",
      "text/plain": [
       "<Figure size 432x288 with 1 Axes>"
      ]
     },
     "metadata": {
      "needs_background": "light"
     },
     "output_type": "display_data"
    }
   ],
   "source": [
    "plt.hist(df['Age'],bins=30)\n",
    "plt.title('Histrogram')\n",
    "plt.show()"
   ]
  },
  {
   "cell_type": "code",
   "execution_count": 295,
   "metadata": {},
   "outputs": [
    {
     "data": {
      "text/plain": [
       "Male      149\n",
       "Female     54\n",
       "Name: Sex, dtype: int64"
      ]
     },
     "execution_count": 295,
     "metadata": {},
     "output_type": "execute_result"
    }
   ],
   "source": [
    "df['Sex'].value_counts()"
   ]
  },
  {
   "cell_type": "code",
   "execution_count": 296,
   "metadata": {},
   "outputs": [
    {
     "data": {
      "text/plain": [
       "203"
      ]
     },
     "execution_count": 296,
     "metadata": {},
     "output_type": "execute_result"
    }
   ],
   "source": [
    "df['Sex'].count()"
   ]
  },
  {
   "cell_type": "code",
   "execution_count": 292,
   "metadata": {},
   "outputs": [
    {
     "data": {
      "text/plain": [
       "<matplotlib.axes._subplots.AxesSubplot at 0x1c320547e48>"
      ]
     },
     "execution_count": 292,
     "metadata": {},
     "output_type": "execute_result"
    },
    {
     "data": {
      "image/png": "[encoded data removed]",
      "text/plain": [
       "<Figure size 432x288 with 1 Axes>"
      ]
     },
     "metadata": {
      "needs_background": "light"
     },
     "output_type": "display_data"
    }
   ],
   "source": [
    "sns.countplot('Sex',data=df)"
   ]
  },
  {
   "cell_type": "code",
   "execution_count": 297,
   "metadata": {},
   "outputs": [
    {
     "data": {
      "text/plain": [
       "<matplotlib.axes._subplots.AxesSubplot at 0x1c32187b780>"
      ]
     },
     "execution_count": 297,
     "metadata": {},
     "output_type": "execute_result"
    },
    {
     "data": {
      "image/png": "[encoded data removed]",
      "text/plain": [
       "<Figure size 432x288 with 1 Axes>"
      ]
     },
     "metadata": {
      "needs_background": "light"
     },
     "output_type": "display_data"
    }
   ],
   "source": [
    "sns.countplot(y='Sex',data=df)"
   ]
  },
  {
   "cell_type": "code",
   "execution_count": 298,
   "metadata": {
    "scrolled": true
   },
   "outputs": [
    {
     "data": {
      "text/plain": [
       "SlNo\n",
       "1      False\n",
       "2      False\n",
       "3       True\n",
       "4       True\n",
       "5       True\n",
       "6       True\n",
       "7       True\n",
       "8       True\n",
       "9       True\n",
       "10      True\n",
       "11      True\n",
       "12      True\n",
       "13      True\n",
       "14      True\n",
       "15      True\n",
       "16      True\n",
       "17      True\n",
       "18      True\n",
       "19      True\n",
       "20      True\n",
       "21      True\n",
       "22      True\n",
       "23      True\n",
       "24      True\n",
       "25      True\n",
       "26      True\n",
       "27      True\n",
       "28      True\n",
       "29      True\n",
       "30      True\n",
       "       ...  \n",
       "247    False\n",
       "248    False\n",
       "249    False\n",
       "250    False\n",
       "251    False\n",
       "252    False\n",
       "253    False\n",
       "254    False\n",
       "255    False\n",
       "256    False\n",
       "257    False\n",
       "258    False\n",
       "259    False\n",
       "260    False\n",
       "261    False\n",
       "262    False\n",
       "263    False\n",
       "264    False\n",
       "265    False\n",
       "266    False\n",
       "267    False\n",
       "268    False\n",
       "269    False\n",
       "270    False\n",
       "271    False\n",
       "272    False\n",
       "273    False\n",
       "274    False\n",
       "275    False\n",
       "276    False\n",
       "Name: Country of Visit, Length: 276, dtype: bool"
      ]
     },
     "execution_count": 298,
     "metadata": {},
     "output_type": "execute_result"
    }
   ],
   "source": [
    "df['Country of Visit'].isna()"
   ]
  },
  {
   "cell_type": "code",
   "execution_count": 299,
   "metadata": {
    "scrolled": true
   },
   "outputs": [
    {
     "data": {
      "text/plain": [
       "SlNo\n",
       "1            SOUTH KOREA\n",
       "2            SOUTH KOREA\n",
       "42                 SPAIN\n",
       "43                 PARIS\n",
       "44              MALAYSIA\n",
       "52             Singapore\n",
       "53           SOUTH KOREA\n",
       "54             Singapore\n",
       "55             Singapore\n",
       "56             Singapore\n",
       "57             Singapore\n",
       "58             Singapore\n",
       "59             Singapore\n",
       "60             Singapore\n",
       "61              Malaysia\n",
       "62                 Dubai\n",
       "63          Kuala Lumpur\n",
       "64          Kuala Lumpur\n",
       "65          Kuala Lumpur\n",
       "66                FRANCE\n",
       "67     Frankfurt/germany\n",
       "68             Singapore\n",
       "69             Singapore\n",
       "70             Singapore\n",
       "71             Singapore\n",
       "72             Singapore\n",
       "73             Singapore\n",
       "74             Singapore\n",
       "75             Singapore\n",
       "76             Singapore\n",
       "             ...        \n",
       "247             Abudhabi\n",
       "248             Abudhabi\n",
       "249                Dubai\n",
       "250                Dubai\n",
       "251                Dubai\n",
       "252                Dubai\n",
       "253            Singapore\n",
       "254            Singapore\n",
       "255            Singapore\n",
       "256            SriLankan\n",
       "257            SriLankan\n",
       "258            SriLankan\n",
       "259            SriLankan\n",
       "260            SriLankan\n",
       "261            SriLankan\n",
       "262      London Heathrow\n",
       "263              Muscat \n",
       "264               Muscat\n",
       "265               Muscat\n",
       "266               Muscat\n",
       "267               Muscat\n",
       "268               Muscat\n",
       "269              Sharjah\n",
       "270            Singapore\n",
       "271             Maldives\n",
       "272              Malysia\n",
       "273              Malysia\n",
       "274              Malysia\n",
       "275            New Delhi\n",
       "276            New Delhi\n",
       "Name: Country of Visit, Length: 225, dtype: object"
      ]
     },
     "execution_count": 299,
     "metadata": {},
     "output_type": "execute_result"
    }
   ],
   "source": [
    "df['Country of Visit'].dropna()"
   ]
  },
  {
   "cell_type": "code",
   "execution_count": 300,
   "metadata": {
    "scrolled": true
   },
   "outputs": [
    {
     "data": {
      "text/plain": [
       "SlNo\n",
       "1          SOUTH KOREA\n",
       "2          SOUTH KOREA\n",
       "3              Missing\n",
       "4              Missing\n",
       "5              Missing\n",
       "6              Missing\n",
       "7              Missing\n",
       "8              Missing\n",
       "9              Missing\n",
       "10             Missing\n",
       "11             Missing\n",
       "12             Missing\n",
       "13             Missing\n",
       "14             Missing\n",
       "15             Missing\n",
       "16             Missing\n",
       "17             Missing\n",
       "18             Missing\n",
       "19             Missing\n",
       "20             Missing\n",
       "21             Missing\n",
       "22             Missing\n",
       "23             Missing\n",
       "24             Missing\n",
       "25             Missing\n",
       "26             Missing\n",
       "27             Missing\n",
       "28             Missing\n",
       "29             Missing\n",
       "30             Missing\n",
       "            ...       \n",
       "247           Abudhabi\n",
       "248           Abudhabi\n",
       "249              Dubai\n",
       "250              Dubai\n",
       "251              Dubai\n",
       "252              Dubai\n",
       "253          Singapore\n",
       "254          Singapore\n",
       "255          Singapore\n",
       "256          SriLankan\n",
       "257          SriLankan\n",
       "258          SriLankan\n",
       "259          SriLankan\n",
       "260          SriLankan\n",
       "261          SriLankan\n",
       "262    London Heathrow\n",
       "263            Muscat \n",
       "264             Muscat\n",
       "265             Muscat\n",
       "266             Muscat\n",
       "267             Muscat\n",
       "268             Muscat\n",
       "269            Sharjah\n",
       "270          Singapore\n",
       "271           Maldives\n",
       "272            Malysia\n",
       "273            Malysia\n",
       "274            Malysia\n",
       "275          New Delhi\n",
       "276          New Delhi\n",
       "Name: Country of Visit, Length: 276, dtype: object"
      ]
     },
     "execution_count": 300,
     "metadata": {},
     "output_type": "execute_result"
    }
   ],
   "source": [
    "df['Country of Visit'].fillna('Missing')"
   ]
  },
  {
   "cell_type": "code",
   "execution_count": 301,
   "metadata": {},
   "outputs": [
    {
     "data": {
      "text/plain": [
       "225"
      ]
     },
     "execution_count": 301,
     "metadata": {},
     "output_type": "execute_result"
    }
   ],
   "source": [
    "df['Country of Visit'].count()"
   ]
  },
  {
   "cell_type": "code",
   "execution_count": 302,
   "metadata": {
    "scrolled": true
   },
   "outputs": [
    {
     "data": {
      "text/plain": [
       "Dubai                61\n",
       "Singapore            56\n",
       "Malysia              16\n",
       "Sharjah              15\n",
       "Colombo              10\n",
       "SriLankan             6\n",
       "Muscat                6\n",
       "London                5\n",
       "Kuala Lumpur          5\n",
       "Doha                  3\n",
       "Bahrain               3\n",
       "GERMANY               3\n",
       "SOUTH KOREA           3\n",
       "DOHA                  3\n",
       "Abudhabi              2\n",
       "New Delhi             2\n",
       "BRAZIL                2\n",
       "France                2\n",
       "Germany               2\n",
       "Maldives              1\n",
       "LAMBIA                1\n",
       "SPAIN                 1\n",
       "OMAN                  1\n",
       "Malaysia              1\n",
       "FRANCE                1\n",
       "PARIS                 1\n",
       "QATAR                 1\n",
       "ZAMBIA                1\n",
       "Hanoi                 1\n",
       "Frankfurt/germany     1\n",
       "BY-ROAD               1\n",
       "MONROW USA            1\n",
       "MALAYSIA              1\n",
       "Bangkok               1\n",
       "London Heathrow       1\n",
       "Muscat                1\n",
       "Canada                1\n",
       "Abudhabi UAE          1\n",
       "Dubai Intl            1\n",
       "Name: Country of Visit, dtype: int64"
      ]
     },
     "execution_count": 302,
     "metadata": {},
     "output_type": "execute_result"
    }
   ],
   "source": [
    "df['Country of Visit'].value_counts()"
   ]
  },
  {
   "cell_type": "code",
   "execution_count": 307,
   "metadata": {},
   "outputs": [
    {
     "data": {
      "text/plain": [
       "Trichy        122\n",
       "APHO          108\n",
       "Chennai        19\n",
       "CHENNAI         9\n",
       "Delhi           6\n",
       "MUMBAI          2\n",
       "BANGALORE       1\n",
       "TRIVANDRUM      1\n",
       "HARIDASPUR      1\n",
       "DELHI           1\n",
       "Name: Airport, dtype: int64"
      ]
     },
     "execution_count": 307,
     "metadata": {},
     "output_type": "execute_result"
    }
   ],
   "source": [
    "df['Airport'].value_counts()"
   ]
  },
  {
   "cell_type": "code",
   "execution_count": 318,
   "metadata": {},
   "outputs": [
    {
     "data": {
      "image/png": "[encoded data removed]",
      "text/plain": [
       "<Figure size 432x288 with 1 Axes>"
      ]
     },
     "metadata": {},
     "output_type": "display_data"
    }
   ],
   "source": [
    "#This pie chart under the traceable person's connectivity with cities.\n",
    "#Airport Health Organization\n",
    "labels = \"Trichy\",\"APHO\",\"Chennai\",\"Delhi\",\"MUMABAI\"\n",
    "sizes = [122,108,19,6,3]\n",
    "colors = [\"lightskyblue\",\"lightcoral\",\"gold\",\"red\",\"Green\"]\n",
    "explode =(0,0,0.4,0.4,0.4)\n",
    "plt.pie(sizes,labels=labels,explode=explode,colors=colors,\n",
    "       autopct=\"%1.1f%%\",shadow=False)\n",
    "\n",
    "plt.axis('equal')\n",
    "plt.show()"
   ]
  },
  {
   "cell_type": "code",
   "execution_count": null,
   "metadata": {},
   "outputs": [],
   "source": []
  },
  {
   "cell_type": "code",
   "execution_count": null,
   "metadata": {},
   "outputs": [],
   "source": []
  }
 ],
 "metadata": {
  "kernelspec": {
   "display_name": "Python 3",
   "language": "python",
   "name": "python3"
  },
  "language_info": {
   "codemirror_mode": {
    "name": "ipython",
    "version": 3
   },
   "file_extension": ".py",
   "mimetype": "text/x-python",
   "name": "python",
   "nbconvert_exporter": "python",
   "pygments_lexer": "ipython3",
   "version": "3.7.3"
  }
 },
 "nbformat": 4,
 "nbformat_minor": 2
}
